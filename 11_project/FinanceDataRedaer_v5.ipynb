{
 "cells": [
  {
   "cell_type": "code",
   "execution_count": 1,
   "metadata": {},
   "outputs": [],
   "source": [
    "import matplotlib.pyplot as plt\n",
    "import seaborn as sns\n",
    "import sklearn\n",
    "from sklearn.linear_model import LinearRegression\n",
    "import matplotlib.pyplot as plt\n",
    "import numpy as np\n",
    "import sklearn.linear_model\n",
    "import FinanceDataReader as fdr\n",
    "from datetime import datetime, timedelta\n",
    "%matplotlib inline"
   ]
  },
  {
   "cell_type": "code",
   "execution_count": 2,
   "metadata": {},
   "outputs": [
    {
     "data": {
      "text/html": [
       "<div>\n",
       "<style scoped>\n",
       "    .dataframe tbody tr th:only-of-type {\n",
       "        vertical-align: middle;\n",
       "    }\n",
       "\n",
       "    .dataframe tbody tr th {\n",
       "        vertical-align: top;\n",
       "    }\n",
       "\n",
       "    .dataframe thead th {\n",
       "        text-align: right;\n",
       "    }\n",
       "</style>\n",
       "<table border=\"1\" class=\"dataframe\">\n",
       "  <thead>\n",
       "    <tr style=\"text-align: right;\">\n",
       "      <th></th>\n",
       "      <th>Industry</th>\n",
       "      <th>IndustryCode</th>\n",
       "    </tr>\n",
       "  </thead>\n",
       "  <tbody>\n",
       "    <tr>\n",
       "      <th>0</th>\n",
       "      <td>건설 장비 및대형차, 기차, 배</td>\n",
       "      <td>521020</td>\n",
       "    </tr>\n",
       "    <tr>\n",
       "      <th>1</th>\n",
       "      <td>다양한 소매업</td>\n",
       "      <td>533010</td>\n",
       "    </tr>\n",
       "    <tr>\n",
       "      <th>2</th>\n",
       "      <td>레저 상품</td>\n",
       "      <td>532050</td>\n",
       "    </tr>\n",
       "    <tr>\n",
       "      <th>3</th>\n",
       "      <td>미디어 및 출판</td>\n",
       "      <td>533020</td>\n",
       "    </tr>\n",
       "    <tr>\n",
       "      <th>4</th>\n",
       "      <td>반도체 및 반도체 장비</td>\n",
       "      <td>571010</td>\n",
       "    </tr>\n",
       "  </tbody>\n",
       "</table>\n",
       "</div>"
      ],
      "text/plain": [
       "            Industry  IndustryCode\n",
       "0  건설 장비 및대형차, 기차, 배        521020\n",
       "1            다양한 소매업        533010\n",
       "2              레저 상품        532050\n",
       "3           미디어 및 출판        533020\n",
       "4       반도체 및 반도체 장비        571010"
      ]
     },
     "execution_count": 2,
     "metadata": {},
     "output_type": "execute_result"
    }
   ],
   "source": [
    "industry = pd.read_csv(\"./datas/SYMB_Industry.csv\")\n",
    "industry.head()"
   ]
  },
  {
   "cell_type": "markdown",
   "metadata": {},
   "source": [
    "# Symbol 리스트"
   ]
  },
  {
   "cell_type": "code",
   "execution_count": 3,
   "metadata": {},
   "outputs": [
    {
     "data": {
      "text/html": [
       "<div>\n",
       "<style scoped>\n",
       "    .dataframe tbody tr th:only-of-type {\n",
       "        vertical-align: middle;\n",
       "    }\n",
       "\n",
       "    .dataframe tbody tr th {\n",
       "        vertical-align: top;\n",
       "    }\n",
       "\n",
       "    .dataframe thead th {\n",
       "        text-align: right;\n",
       "    }\n",
       "</style>\n",
       "<table border=\"1\" class=\"dataframe\">\n",
       "  <thead>\n",
       "    <tr style=\"text-align: right;\">\n",
       "      <th></th>\n",
       "      <th>Symbol</th>\n",
       "      <th>Name</th>\n",
       "      <th>Industry</th>\n",
       "      <th>IndustryCode</th>\n",
       "    </tr>\n",
       "  </thead>\n",
       "  <tbody>\n",
       "    <tr>\n",
       "      <th>7210</th>\n",
       "      <td>RHE</td>\n",
       "      <td>Regional Health Properties Inc</td>\n",
       "      <td>부동산 운영 관리</td>\n",
       "      <td>601010.0</td>\n",
       "    </tr>\n",
       "    <tr>\n",
       "      <th>7211</th>\n",
       "      <td>BTX</td>\n",
       "      <td>Brooklyn Immunotherapeutics Inc</td>\n",
       "      <td>미디어 및 출판</td>\n",
       "      <td>533020.0</td>\n",
       "    </tr>\n",
       "    <tr>\n",
       "      <th>7212</th>\n",
       "      <td>PW PR A</td>\n",
       "      <td>Power REIT PRF</td>\n",
       "      <td>주택 및 상업용 리츠</td>\n",
       "      <td>601020.0</td>\n",
       "    </tr>\n",
       "    <tr>\n",
       "      <th>7213</th>\n",
       "      <td>IPB</td>\n",
       "      <td>Merrill LYNCH Depositor Inc Indexplus Trust Se...</td>\n",
       "      <td>은행</td>\n",
       "      <td>551010.0</td>\n",
       "    </tr>\n",
       "    <tr>\n",
       "      <th>7214</th>\n",
       "      <td>VHAQ RT</td>\n",
       "      <td>Viveon Health Acquisition Corp</td>\n",
       "      <td>기타 금융업</td>\n",
       "      <td>556010.0</td>\n",
       "    </tr>\n",
       "  </tbody>\n",
       "</table>\n",
       "</div>"
      ],
      "text/plain": [
       "       Symbol                                               Name     Industry  \\\n",
       "7210      RHE                     Regional Health Properties Inc    부동산 운영 관리   \n",
       "7211      BTX                    Brooklyn Immunotherapeutics Inc     미디어 및 출판   \n",
       "7212  PW PR A                                     Power REIT PRF  주택 및 상업용 리츠   \n",
       "7213      IPB  Merrill LYNCH Depositor Inc Indexplus Trust Se...           은행   \n",
       "7214  VHAQ RT                     Viveon Health Acquisition Corp       기타 금융업   \n",
       "\n",
       "      IndustryCode  \n",
       "7210      601010.0  \n",
       "7211      533020.0  \n",
       "7212      601020.0  \n",
       "7213      551010.0  \n",
       "7214      556010.0  "
      ]
     },
     "execution_count": 3,
     "metadata": {},
     "output_type": "execute_result"
    }
   ],
   "source": [
    "indX = pd.read_csv(\"datas/industry_code.csv\")\n",
    "df_3 = indX.drop(['Unnamed: 0'], axis=1)\n",
    "df_3.tail()"
   ]
  },
  {
   "cell_type": "markdown",
   "metadata": {},
   "source": [
    "# 전쟁 리스트"
   ]
  },
  {
   "cell_type": "code",
   "execution_count": 4,
   "metadata": {
    "collapsed": true
   },
   "outputs": [
    {
     "data": {
      "text/html": [
       "<div>\n",
       "<style scoped>\n",
       "    .dataframe tbody tr th:only-of-type {\n",
       "        vertical-align: middle;\n",
       "    }\n",
       "\n",
       "    .dataframe tbody tr th {\n",
       "        vertical-align: top;\n",
       "    }\n",
       "\n",
       "    .dataframe thead th {\n",
       "        text-align: right;\n",
       "    }\n",
       "</style>\n",
       "<table border=\"1\" class=\"dataframe\">\n",
       "  <thead>\n",
       "    <tr style=\"text-align: right;\">\n",
       "      <th></th>\n",
       "      <th>발발시점</th>\n",
       "      <th>갈등이름</th>\n",
       "      <th>갈등종류</th>\n",
       "      <th>전쟁규모</th>\n",
       "      <th>참전국수</th>\n",
       "    </tr>\n",
       "  </thead>\n",
       "  <tbody>\n",
       "    <tr>\n",
       "      <th>0</th>\n",
       "      <td>2001-09-11</td>\n",
       "      <td>테러와의전쟁</td>\n",
       "      <td>테러</td>\n",
       "      <td>1000000</td>\n",
       "      <td>48</td>\n",
       "    </tr>\n",
       "    <tr>\n",
       "      <th>1</th>\n",
       "      <td>2002-01-15</td>\n",
       "      <td>영원한자유작전-필리핀</td>\n",
       "      <td>테러</td>\n",
       "      <td>115800</td>\n",
       "      <td>2</td>\n",
       "    </tr>\n",
       "    <tr>\n",
       "      <th>2</th>\n",
       "      <td>2002-10-07</td>\n",
       "      <td>영원한자유작전-아프리카의뿔</td>\n",
       "      <td>테러</td>\n",
       "      <td>500000</td>\n",
       "      <td>38</td>\n",
       "    </tr>\n",
       "    <tr>\n",
       "      <th>3</th>\n",
       "      <td>2003-03-20</td>\n",
       "      <td>이라크전쟁</td>\n",
       "      <td>테러</td>\n",
       "      <td>1000000</td>\n",
       "      <td>41</td>\n",
       "    </tr>\n",
       "    <tr>\n",
       "      <th>4</th>\n",
       "      <td>2004-04-01</td>\n",
       "      <td>이란-PJAK충돌</td>\n",
       "      <td>민족</td>\n",
       "      <td>17000</td>\n",
       "      <td>3</td>\n",
       "    </tr>\n",
       "    <tr>\n",
       "      <th>5</th>\n",
       "      <td>2004-04-18</td>\n",
       "      <td>예멘의 Houthi 반란</td>\n",
       "      <td>내란</td>\n",
       "      <td>32000</td>\n",
       "      <td>7</td>\n",
       "    </tr>\n",
       "    <tr>\n",
       "      <th>6</th>\n",
       "      <td>2005-08-27</td>\n",
       "      <td>파라과이인민군반란</td>\n",
       "      <td>내란</td>\n",
       "      <td>3650</td>\n",
       "      <td>3</td>\n",
       "    </tr>\n",
       "    <tr>\n",
       "      <th>7</th>\n",
       "      <td>2006-01-25</td>\n",
       "      <td>파타-하마스 분쟁</td>\n",
       "      <td>테러</td>\n",
       "      <td>55000</td>\n",
       "      <td>3</td>\n",
       "    </tr>\n",
       "    <tr>\n",
       "      <th>8</th>\n",
       "      <td>2006-06-12</td>\n",
       "      <td>2006년레바논전쟁</td>\n",
       "      <td>테러</td>\n",
       "      <td>10500</td>\n",
       "      <td>2</td>\n",
       "    </tr>\n",
       "    <tr>\n",
       "      <th>9</th>\n",
       "      <td>2006-02-22</td>\n",
       "      <td>이라크내전</td>\n",
       "      <td>내란</td>\n",
       "      <td>748000</td>\n",
       "      <td>5</td>\n",
       "    </tr>\n",
       "    <tr>\n",
       "      <th>10</th>\n",
       "      <td>2006-12-11</td>\n",
       "      <td>멕시코마약전쟁</td>\n",
       "      <td>마약</td>\n",
       "      <td>360000</td>\n",
       "      <td>4</td>\n",
       "    </tr>\n",
       "    <tr>\n",
       "      <th>11</th>\n",
       "      <td>2006-12-30</td>\n",
       "      <td>소말리아전쟁</td>\n",
       "      <td>해적</td>\n",
       "      <td>35250</td>\n",
       "      <td>8</td>\n",
       "    </tr>\n",
       "    <tr>\n",
       "      <th>12</th>\n",
       "      <td>2007-02-06</td>\n",
       "      <td>영원한자유작전-트랜스사하라</td>\n",
       "      <td>테러</td>\n",
       "      <td>5325</td>\n",
       "      <td>17</td>\n",
       "    </tr>\n",
       "    <tr>\n",
       "      <th>13</th>\n",
       "      <td>2008-03-25</td>\n",
       "      <td>2008 안주안침공</td>\n",
       "      <td>내란</td>\n",
       "      <td>2500</td>\n",
       "      <td>7</td>\n",
       "    </tr>\n",
       "    <tr>\n",
       "      <th>14</th>\n",
       "      <td>2009-07-26</td>\n",
       "      <td>보코하람반란</td>\n",
       "      <td>내란</td>\n",
       "      <td>10000</td>\n",
       "      <td>19</td>\n",
       "    </tr>\n",
       "    <tr>\n",
       "      <th>15</th>\n",
       "      <td>2009-01-31</td>\n",
       "      <td>소말리아내전</td>\n",
       "      <td>해적</td>\n",
       "      <td>41600</td>\n",
       "      <td>11</td>\n",
       "    </tr>\n",
       "    <tr>\n",
       "      <th>16</th>\n",
       "      <td>2010-05-23</td>\n",
       "      <td>킹스톤불안</td>\n",
       "      <td>마약</td>\n",
       "      <td>1500</td>\n",
       "      <td>2</td>\n",
       "    </tr>\n",
       "    <tr>\n",
       "      <th>17</th>\n",
       "      <td>2011-02-15</td>\n",
       "      <td>리비아내전</td>\n",
       "      <td>내란</td>\n",
       "      <td>37000</td>\n",
       "      <td>21</td>\n",
       "    </tr>\n",
       "    <tr>\n",
       "      <th>18</th>\n",
       "      <td>2011-03-15</td>\n",
       "      <td>시리아내전</td>\n",
       "      <td>내란</td>\n",
       "      <td>144600</td>\n",
       "      <td>13</td>\n",
       "    </tr>\n",
       "    <tr>\n",
       "      <th>19</th>\n",
       "      <td>2011-06-17</td>\n",
       "      <td>레바논에서의시리아내전파급</td>\n",
       "      <td>내란</td>\n",
       "      <td>13500</td>\n",
       "      <td>19</td>\n",
       "    </tr>\n",
       "    <tr>\n",
       "      <th>20</th>\n",
       "      <td>2012-01-16</td>\n",
       "      <td>북부말리전쟁</td>\n",
       "      <td>테러</td>\n",
       "      <td>24764</td>\n",
       "      <td>57</td>\n",
       "    </tr>\n",
       "    <tr>\n",
       "      <th>21</th>\n",
       "      <td>2013-12-30</td>\n",
       "      <td>이라크 내전</td>\n",
       "      <td>내란</td>\n",
       "      <td>770000</td>\n",
       "      <td>22</td>\n",
       "    </tr>\n",
       "    <tr>\n",
       "      <th>22</th>\n",
       "      <td>2014-05-16</td>\n",
       "      <td>리비아 내전</td>\n",
       "      <td>내란</td>\n",
       "      <td>400000</td>\n",
       "      <td>19</td>\n",
       "    </tr>\n",
       "    <tr>\n",
       "      <th>23</th>\n",
       "      <td>2014-06-13</td>\n",
       "      <td>ISIL에대한국제군사개입</td>\n",
       "      <td>테러</td>\n",
       "      <td>472260</td>\n",
       "      <td>41</td>\n",
       "    </tr>\n",
       "    <tr>\n",
       "      <th>24</th>\n",
       "      <td>2014-09-16</td>\n",
       "      <td>예멘내전</td>\n",
       "      <td>내란</td>\n",
       "      <td>156000</td>\n",
       "      <td>19</td>\n",
       "    </tr>\n",
       "    <tr>\n",
       "      <th>25</th>\n",
       "      <td>2017-05-23</td>\n",
       "      <td>마라위위기</td>\n",
       "      <td>테러</td>\n",
       "      <td>7500</td>\n",
       "      <td>5</td>\n",
       "    </tr>\n",
       "    <tr>\n",
       "      <th>26</th>\n",
       "      <td>2017-12-09</td>\n",
       "      <td>이라크반란</td>\n",
       "      <td>내란</td>\n",
       "      <td>188900</td>\n",
       "      <td>13</td>\n",
       "    </tr>\n",
       "    <tr>\n",
       "      <th>27</th>\n",
       "      <td>2019-05-05</td>\n",
       "      <td>2019-20 페르시아만위기</td>\n",
       "      <td>민족</td>\n",
       "      <td>10000</td>\n",
       "      <td>13</td>\n",
       "    </tr>\n",
       "  </tbody>\n",
       "</table>\n",
       "</div>"
      ],
      "text/plain": [
       "         발발시점             갈등이름 갈등종류     전쟁규모  참전국수\n",
       "0  2001-09-11           테러와의전쟁   테러  1000000    48\n",
       "1  2002-01-15      영원한자유작전-필리핀   테러   115800     2\n",
       "2  2002-10-07   영원한자유작전-아프리카의뿔   테러   500000    38\n",
       "3  2003-03-20            이라크전쟁   테러  1000000    41\n",
       "4  2004-04-01        이란-PJAK충돌   민족    17000     3\n",
       "5  2004-04-18    예멘의 Houthi 반란   내란    32000     7\n",
       "6  2005-08-27        파라과이인민군반란   내란     3650     3\n",
       "7  2006-01-25        파타-하마스 분쟁   테러    55000     3\n",
       "8  2006-06-12       2006년레바논전쟁   테러    10500     2\n",
       "9  2006-02-22            이라크내전   내란   748000     5\n",
       "10 2006-12-11          멕시코마약전쟁   마약   360000     4\n",
       "11 2006-12-30           소말리아전쟁   해적    35250     8\n",
       "12 2007-02-06   영원한자유작전-트랜스사하라   테러     5325    17\n",
       "13 2008-03-25       2008 안주안침공   내란     2500     7\n",
       "14 2009-07-26           보코하람반란   내란    10000    19\n",
       "15 2009-01-31           소말리아내전   해적    41600    11\n",
       "16 2010-05-23            킹스톤불안   마약     1500     2\n",
       "17 2011-02-15            리비아내전   내란    37000    21\n",
       "18 2011-03-15            시리아내전   내란   144600    13\n",
       "19 2011-06-17    레바논에서의시리아내전파급   내란    13500    19\n",
       "20 2012-01-16           북부말리전쟁   테러    24764    57\n",
       "21 2013-12-30           이라크 내전   내란   770000    22\n",
       "22 2014-05-16           리비아 내전   내란   400000    19\n",
       "23 2014-06-13    ISIL에대한국제군사개입   테러   472260    41\n",
       "24 2014-09-16             예멘내전   내란   156000    19\n",
       "25 2017-05-23            마라위위기   테러     7500     5\n",
       "26 2017-12-09            이라크반란   내란   188900    13\n",
       "27 2019-05-05  2019-20 페르시아만위기   민족    10000    13"
      ]
     },
     "execution_count": 4,
     "metadata": {},
     "output_type": "execute_result"
    }
   ],
   "source": [
    "ls_war = pd.read_excel(\"datas/ls_war.xls\", \"sheet\")\n",
    "ls_war = ls_war.drop([\"Unnamed: 0\",\"전쟁수\"], axis=1)\n",
    "ls_war\n",
    "#ls_war = ls_war.drop([\"Unnamed: 0\", \"종료시점\", \"위치\"], axis=1)"
   ]
  },
  {
   "cell_type": "code",
   "execution_count": 6,
   "metadata": {},
   "outputs": [
    {
     "data": {
      "text/plain": [
       "(Timestamp('2001-09-11 00:00:00'), '테러와의전쟁')"
      ]
     },
     "execution_count": 6,
     "metadata": {},
     "output_type": "execute_result"
    }
   ],
   "source": [
    "index = 0\n",
    "start_date = ls_war.loc[index,\"발발시점\"]\n",
    "war_name = ls_war.loc[index, \"갈등이름\"]\n",
    "start_date, war_name"
   ]
  },
  {
   "cell_type": "code",
   "execution_count": 7,
   "metadata": {},
   "outputs": [],
   "source": [
    "# 발발시점 데이터 뽑기\n",
    "index = 0\n",
    "ls = len(ls_war[\"발발시점\"])"
   ]
  },
  {
   "cell_type": "markdown",
   "metadata": {},
   "source": [
    "# 심볼별 Historical price"
   ]
  },
  {
   "cell_type": "code",
   "execution_count": 8,
   "metadata": {},
   "outputs": [],
   "source": [
    "real_df = pd.read_excel(\"datas/real_df.xls\", \"sheet\")"
   ]
  },
  {
   "cell_type": "code",
   "execution_count": 9,
   "metadata": {},
   "outputs": [
    {
     "data": {
      "text/html": [
       "<div>\n",
       "<style scoped>\n",
       "    .dataframe tbody tr th:only-of-type {\n",
       "        vertical-align: middle;\n",
       "    }\n",
       "\n",
       "    .dataframe tbody tr th {\n",
       "        vertical-align: top;\n",
       "    }\n",
       "\n",
       "    .dataframe thead th {\n",
       "        text-align: right;\n",
       "    }\n",
       "</style>\n",
       "<table border=\"1\" class=\"dataframe\">\n",
       "  <thead>\n",
       "    <tr style=\"text-align: right;\">\n",
       "      <th></th>\n",
       "      <th>Unnamed: 0</th>\n",
       "      <th>Unnamed: 0.1</th>\n",
       "      <th>Date</th>\n",
       "      <th>Close</th>\n",
       "      <th>Open</th>\n",
       "      <th>High</th>\n",
       "      <th>Low</th>\n",
       "      <th>Volume</th>\n",
       "      <th>Change</th>\n",
       "      <th>Symbol</th>\n",
       "    </tr>\n",
       "  </thead>\n",
       "  <tbody>\n",
       "    <tr>\n",
       "      <th>0</th>\n",
       "      <td>0</td>\n",
       "      <td>0</td>\n",
       "      <td>2000-01-03</td>\n",
       "      <td>1.00</td>\n",
       "      <td>0.94</td>\n",
       "      <td>1.00</td>\n",
       "      <td>0.91</td>\n",
       "      <td>535820000.0</td>\n",
       "      <td>0.0870</td>\n",
       "      <td>AAPL</td>\n",
       "    </tr>\n",
       "    <tr>\n",
       "      <th>1</th>\n",
       "      <td>1</td>\n",
       "      <td>1</td>\n",
       "      <td>2000-01-04</td>\n",
       "      <td>0.92</td>\n",
       "      <td>0.97</td>\n",
       "      <td>0.99</td>\n",
       "      <td>0.90</td>\n",
       "      <td>511730000.0</td>\n",
       "      <td>-0.0800</td>\n",
       "      <td>AAPL</td>\n",
       "    </tr>\n",
       "    <tr>\n",
       "      <th>2</th>\n",
       "      <td>2</td>\n",
       "      <td>2</td>\n",
       "      <td>2000-01-05</td>\n",
       "      <td>0.93</td>\n",
       "      <td>0.93</td>\n",
       "      <td>0.99</td>\n",
       "      <td>0.92</td>\n",
       "      <td>778320000.0</td>\n",
       "      <td>0.0109</td>\n",
       "      <td>AAPL</td>\n",
       "    </tr>\n",
       "    <tr>\n",
       "      <th>3</th>\n",
       "      <td>3</td>\n",
       "      <td>3</td>\n",
       "      <td>2000-01-06</td>\n",
       "      <td>0.85</td>\n",
       "      <td>0.95</td>\n",
       "      <td>0.96</td>\n",
       "      <td>0.85</td>\n",
       "      <td>767980000.0</td>\n",
       "      <td>-0.0860</td>\n",
       "      <td>AAPL</td>\n",
       "    </tr>\n",
       "    <tr>\n",
       "      <th>4</th>\n",
       "      <td>4</td>\n",
       "      <td>4</td>\n",
       "      <td>2000-01-07</td>\n",
       "      <td>0.89</td>\n",
       "      <td>0.86</td>\n",
       "      <td>0.90</td>\n",
       "      <td>0.85</td>\n",
       "      <td>460730000.0</td>\n",
       "      <td>0.0471</td>\n",
       "      <td>AAPL</td>\n",
       "    </tr>\n",
       "    <tr>\n",
       "      <th>...</th>\n",
       "      <td>...</td>\n",
       "      <td>...</td>\n",
       "      <td>...</td>\n",
       "      <td>...</td>\n",
       "      <td>...</td>\n",
       "      <td>...</td>\n",
       "      <td>...</td>\n",
       "      <td>...</td>\n",
       "      <td>...</td>\n",
       "      <td>...</td>\n",
       "    </tr>\n",
       "    <tr>\n",
       "      <th>358741</th>\n",
       "      <td>358741</td>\n",
       "      <td>358741</td>\n",
       "      <td>2021-03-19</td>\n",
       "      <td>1516.34</td>\n",
       "      <td>1502.63</td>\n",
       "      <td>1516.34</td>\n",
       "      <td>1502.53</td>\n",
       "      <td>22010.0</td>\n",
       "      <td>0.0225</td>\n",
       "      <td>DHR_pa</td>\n",
       "    </tr>\n",
       "    <tr>\n",
       "      <th>358742</th>\n",
       "      <td>358742</td>\n",
       "      <td>358742</td>\n",
       "      <td>2021-03-22</td>\n",
       "      <td>1530.53</td>\n",
       "      <td>1510.10</td>\n",
       "      <td>1530.54</td>\n",
       "      <td>1510.10</td>\n",
       "      <td>960.0</td>\n",
       "      <td>0.0094</td>\n",
       "      <td>DHR_pa</td>\n",
       "    </tr>\n",
       "    <tr>\n",
       "      <th>358743</th>\n",
       "      <td>358743</td>\n",
       "      <td>358743</td>\n",
       "      <td>2021-03-23</td>\n",
       "      <td>1533.00</td>\n",
       "      <td>1533.00</td>\n",
       "      <td>1533.00</td>\n",
       "      <td>1533.00</td>\n",
       "      <td>3480.0</td>\n",
       "      <td>0.0016</td>\n",
       "      <td>DHR_pa</td>\n",
       "    </tr>\n",
       "    <tr>\n",
       "      <th>358744</th>\n",
       "      <td>358744</td>\n",
       "      <td>358744</td>\n",
       "      <td>2021-03-24</td>\n",
       "      <td>1512.42</td>\n",
       "      <td>1512.45</td>\n",
       "      <td>1512.45</td>\n",
       "      <td>1512.42</td>\n",
       "      <td>1230.0</td>\n",
       "      <td>-0.0134</td>\n",
       "      <td>DHR_pa</td>\n",
       "    </tr>\n",
       "    <tr>\n",
       "      <th>358745</th>\n",
       "      <td>358745</td>\n",
       "      <td>358745</td>\n",
       "      <td>2021-03-25</td>\n",
       "      <td>1496.00</td>\n",
       "      <td>1492.90</td>\n",
       "      <td>1496.00</td>\n",
       "      <td>1492.90</td>\n",
       "      <td>650.0</td>\n",
       "      <td>-0.0109</td>\n",
       "      <td>DHR_pa</td>\n",
       "    </tr>\n",
       "  </tbody>\n",
       "</table>\n",
       "<p>358746 rows × 10 columns</p>\n",
       "</div>"
      ],
      "text/plain": [
       "        Unnamed: 0  Unnamed: 0.1       Date    Close     Open     High  \\\n",
       "0                0             0 2000-01-03     1.00     0.94     1.00   \n",
       "1                1             1 2000-01-04     0.92     0.97     0.99   \n",
       "2                2             2 2000-01-05     0.93     0.93     0.99   \n",
       "3                3             3 2000-01-06     0.85     0.95     0.96   \n",
       "4                4             4 2000-01-07     0.89     0.86     0.90   \n",
       "...            ...           ...        ...      ...      ...      ...   \n",
       "358741      358741        358741 2021-03-19  1516.34  1502.63  1516.34   \n",
       "358742      358742        358742 2021-03-22  1530.53  1510.10  1530.54   \n",
       "358743      358743        358743 2021-03-23  1533.00  1533.00  1533.00   \n",
       "358744      358744        358744 2021-03-24  1512.42  1512.45  1512.45   \n",
       "358745      358745        358745 2021-03-25  1496.00  1492.90  1496.00   \n",
       "\n",
       "            Low       Volume  Change  Symbol  \n",
       "0          0.91  535820000.0  0.0870    AAPL  \n",
       "1          0.90  511730000.0 -0.0800    AAPL  \n",
       "2          0.92  778320000.0  0.0109    AAPL  \n",
       "3          0.85  767980000.0 -0.0860    AAPL  \n",
       "4          0.85  460730000.0  0.0471    AAPL  \n",
       "...         ...          ...     ...     ...  \n",
       "358741  1502.53      22010.0  0.0225  DHR_pa  \n",
       "358742  1510.10        960.0  0.0094  DHR_pa  \n",
       "358743  1533.00       3480.0  0.0016  DHR_pa  \n",
       "358744  1512.42       1230.0 -0.0134  DHR_pa  \n",
       "358745  1492.90        650.0 -0.0109  DHR_pa  \n",
       "\n",
       "[358746 rows x 10 columns]"
      ]
     },
     "execution_count": 9,
     "metadata": {},
     "output_type": "execute_result"
    }
   ],
   "source": [
    "# 미국상장기업 100대 기업의 historical price\n",
    "real_df "
   ]
  },
  {
   "cell_type": "code",
   "execution_count": 10,
   "metadata": {},
   "outputs": [],
   "source": [
    "# 원데이터의 Date 컬럼을 Date 형으로 변환"
   ]
  },
  {
   "cell_type": "code",
   "execution_count": 11,
   "metadata": {
    "collapsed": true
   },
   "outputs": [
    {
     "name": "stdout",
     "output_type": "stream",
     "text": [
      "<class 'pandas.core.frame.DataFrame'>\n",
      "RangeIndex: 358746 entries, 0 to 358745\n",
      "Data columns (total 10 columns):\n",
      " #   Column        Non-Null Count   Dtype         \n",
      "---  ------        --------------   -----         \n",
      " 0   Unnamed: 0    358746 non-null  int64         \n",
      " 1   Unnamed: 0.1  358746 non-null  int64         \n",
      " 2   Date          358746 non-null  datetime64[ns]\n",
      " 3   Close         358746 non-null  float64       \n",
      " 4   Open          358746 non-null  float64       \n",
      " 5   High          358746 non-null  float64       \n",
      " 6   Low           358746 non-null  float64       \n",
      " 7   Volume        358746 non-null  float64       \n",
      " 8   Change        358746 non-null  float64       \n",
      " 9   Symbol        358746 non-null  object        \n",
      "dtypes: datetime64[ns](1), float64(6), int64(2), object(1)\n",
      "memory usage: 27.4+ MB\n"
     ]
    }
   ],
   "source": [
    "real_df['Date'] = pd.to_datetime(real_df['Date'], format='%Y-%m-%d')\n",
    "real_df.info()"
   ]
  },
  {
   "cell_type": "code",
   "execution_count": null,
   "metadata": {},
   "outputs": [],
   "source": [
    "#test = start_date+timedelta(days=-1)\n",
    "#test"
   ]
  },
  {
   "cell_type": "code",
   "execution_count": null,
   "metadata": {},
   "outputs": [],
   "source": [
    "#real_df.loc[425, \"Date\"]"
   ]
  },
  {
   "cell_type": "code",
   "execution_count": null,
   "metadata": {},
   "outputs": [],
   "source": [
    "# 리스트에서 심볼을 을 출력하는 코딩 테스트"
   ]
  },
  {
   "cell_type": "code",
   "execution_count": 12,
   "metadata": {},
   "outputs": [
    {
     "data": {
      "text/plain": [
       "'AVGO'"
      ]
     },
     "execution_count": 12,
     "metadata": {},
     "output_type": "execute_result"
    }
   ],
   "source": [
    "symbol = real_df.groupby('Symbol').size()\n",
    "symbol = pd.DataFrame(symbol).reset_index()\n",
    "symbol.loc[10, \"Symbol\"]"
   ]
  },
  {
   "cell_type": "code",
   "execution_count": 13,
   "metadata": {},
   "outputs": [],
   "source": [
    "# 전쟁ID 0과 전쟁ID 1 사이의 특정 종목의 historical price 추출하는 코드\n",
    "# 출력결과 index 0 row 값이 전쟁ID 0번을 전쟁발발시점으로 간주\n",
    "# 전쟁ID 0번의 'Unnamed: 0' 번의 값으로 이후 코딩에서 직전 5일, 이후2일에 대한 값 탐색"
   ]
  },
  {
   "cell_type": "code",
   "execution_count": 143,
   "metadata": {},
   "outputs": [],
   "source": [
    "index=1 # 전쟁ID 0~26\n",
    "s_i=82 # Symbol ID 0~99\n",
    "\n",
    "symbol = real_df.groupby('Symbol').size()\n",
    "symbol = pd.DataFrame(symbol).reset_index()\n",
    "ticker = symbol.loc[s_i, \"Symbol\"]\n",
    "\n",
    "\n",
    "start_date = ls_war.loc[index,\"발발시점\"]\n",
    "and_date = ls_war.loc[index+1,\"발발시점\"]\n",
    "test1 = real_df[real_df['Symbol']==ticker]\n",
    "\n",
    "# 조건설정\n",
    "a = test1['Date']>=start_date\n",
    "b = test1['Date']<and_date\n",
    "\n",
    "test2 = test1.loc[a & b].reset_index()\n",
    "#test2.loc[0, \"Date\"] # 날짜확인\n",
    "num = test2.loc[0, \"Unnamed: 0\"] #row id 추출"
   ]
  },
  {
   "cell_type": "code",
   "execution_count": 144,
   "metadata": {},
   "outputs": [
    {
     "data": {
      "text/html": [
       "<div>\n",
       "<style scoped>\n",
       "    .dataframe tbody tr th:only-of-type {\n",
       "        vertical-align: middle;\n",
       "    }\n",
       "\n",
       "    .dataframe tbody tr th {\n",
       "        vertical-align: top;\n",
       "    }\n",
       "\n",
       "    .dataframe thead th {\n",
       "        text-align: right;\n",
       "    }\n",
       "</style>\n",
       "<table border=\"1\" class=\"dataframe\">\n",
       "  <thead>\n",
       "    <tr style=\"text-align: right;\">\n",
       "      <th></th>\n",
       "      <th>index</th>\n",
       "      <th>Unnamed: 0</th>\n",
       "      <th>Unnamed: 0.1</th>\n",
       "      <th>Date</th>\n",
       "      <th>Close</th>\n",
       "      <th>Open</th>\n",
       "      <th>High</th>\n",
       "      <th>Low</th>\n",
       "      <th>Volume</th>\n",
       "      <th>Change</th>\n",
       "      <th>Symbol</th>\n",
       "    </tr>\n",
       "  </thead>\n",
       "  <tbody>\n",
       "    <tr>\n",
       "      <th>0</th>\n",
       "      <td>47226</td>\n",
       "      <td>47226</td>\n",
       "      <td>47226</td>\n",
       "      <td>2002-01-15</td>\n",
       "      <td>12.19</td>\n",
       "      <td>12.33</td>\n",
       "      <td>12.57</td>\n",
       "      <td>12.10</td>\n",
       "      <td>6650000.0</td>\n",
       "      <td>-0.0041</td>\n",
       "      <td>TSM</td>\n",
       "    </tr>\n",
       "    <tr>\n",
       "      <th>1</th>\n",
       "      <td>47227</td>\n",
       "      <td>47227</td>\n",
       "      <td>47227</td>\n",
       "      <td>2002-01-16</td>\n",
       "      <td>11.67</td>\n",
       "      <td>11.86</td>\n",
       "      <td>11.90</td>\n",
       "      <td>11.63</td>\n",
       "      <td>10110000.0</td>\n",
       "      <td>-0.0427</td>\n",
       "      <td>TSM</td>\n",
       "    </tr>\n",
       "    <tr>\n",
       "      <th>2</th>\n",
       "      <td>47228</td>\n",
       "      <td>47228</td>\n",
       "      <td>47228</td>\n",
       "      <td>2002-01-17</td>\n",
       "      <td>12.16</td>\n",
       "      <td>11.93</td>\n",
       "      <td>12.25</td>\n",
       "      <td>11.79</td>\n",
       "      <td>7850000.0</td>\n",
       "      <td>0.0420</td>\n",
       "      <td>TSM</td>\n",
       "    </tr>\n",
       "    <tr>\n",
       "      <th>3</th>\n",
       "      <td>47229</td>\n",
       "      <td>47229</td>\n",
       "      <td>47229</td>\n",
       "      <td>2002-01-18</td>\n",
       "      <td>11.82</td>\n",
       "      <td>11.90</td>\n",
       "      <td>12.08</td>\n",
       "      <td>11.73</td>\n",
       "      <td>7910000.0</td>\n",
       "      <td>-0.0280</td>\n",
       "      <td>TSM</td>\n",
       "    </tr>\n",
       "    <tr>\n",
       "      <th>4</th>\n",
       "      <td>47230</td>\n",
       "      <td>47230</td>\n",
       "      <td>47230</td>\n",
       "      <td>2002-01-22</td>\n",
       "      <td>11.88</td>\n",
       "      <td>12.10</td>\n",
       "      <td>12.20</td>\n",
       "      <td>11.82</td>\n",
       "      <td>8680000.0</td>\n",
       "      <td>0.0051</td>\n",
       "      <td>TSM</td>\n",
       "    </tr>\n",
       "    <tr>\n",
       "      <th>...</th>\n",
       "      <td>...</td>\n",
       "      <td>...</td>\n",
       "      <td>...</td>\n",
       "      <td>...</td>\n",
       "      <td>...</td>\n",
       "      <td>...</td>\n",
       "      <td>...</td>\n",
       "      <td>...</td>\n",
       "      <td>...</td>\n",
       "      <td>...</td>\n",
       "      <td>...</td>\n",
       "    </tr>\n",
       "    <tr>\n",
       "      <th>178</th>\n",
       "      <td>47404</td>\n",
       "      <td>47404</td>\n",
       "      <td>47404</td>\n",
       "      <td>2002-09-30</td>\n",
       "      <td>4.69</td>\n",
       "      <td>4.59</td>\n",
       "      <td>4.69</td>\n",
       "      <td>4.50</td>\n",
       "      <td>10760000.0</td>\n",
       "      <td>-0.0021</td>\n",
       "      <td>TSM</td>\n",
       "    </tr>\n",
       "    <tr>\n",
       "      <th>179</th>\n",
       "      <td>47405</td>\n",
       "      <td>47405</td>\n",
       "      <td>47405</td>\n",
       "      <td>2002-10-01</td>\n",
       "      <td>4.82</td>\n",
       "      <td>4.69</td>\n",
       "      <td>4.86</td>\n",
       "      <td>4.58</td>\n",
       "      <td>7710000.0</td>\n",
       "      <td>0.0277</td>\n",
       "      <td>TSM</td>\n",
       "    </tr>\n",
       "    <tr>\n",
       "      <th>180</th>\n",
       "      <td>47406</td>\n",
       "      <td>47406</td>\n",
       "      <td>47406</td>\n",
       "      <td>2002-10-02</td>\n",
       "      <td>4.61</td>\n",
       "      <td>4.62</td>\n",
       "      <td>4.72</td>\n",
       "      <td>4.53</td>\n",
       "      <td>13910000.0</td>\n",
       "      <td>-0.0436</td>\n",
       "      <td>TSM</td>\n",
       "    </tr>\n",
       "    <tr>\n",
       "      <th>181</th>\n",
       "      <td>47407</td>\n",
       "      <td>47407</td>\n",
       "      <td>47407</td>\n",
       "      <td>2002-10-03</td>\n",
       "      <td>4.35</td>\n",
       "      <td>4.45</td>\n",
       "      <td>4.45</td>\n",
       "      <td>4.25</td>\n",
       "      <td>7190000.0</td>\n",
       "      <td>-0.0564</td>\n",
       "      <td>TSM</td>\n",
       "    </tr>\n",
       "    <tr>\n",
       "      <th>182</th>\n",
       "      <td>47408</td>\n",
       "      <td>47408</td>\n",
       "      <td>47408</td>\n",
       "      <td>2002-10-04</td>\n",
       "      <td>4.27</td>\n",
       "      <td>4.38</td>\n",
       "      <td>4.41</td>\n",
       "      <td>4.24</td>\n",
       "      <td>4870000.0</td>\n",
       "      <td>-0.0184</td>\n",
       "      <td>TSM</td>\n",
       "    </tr>\n",
       "  </tbody>\n",
       "</table>\n",
       "<p>183 rows × 11 columns</p>\n",
       "</div>"
      ],
      "text/plain": [
       "     index  Unnamed: 0  Unnamed: 0.1       Date  Close   Open   High    Low  \\\n",
       "0    47226       47226         47226 2002-01-15  12.19  12.33  12.57  12.10   \n",
       "1    47227       47227         47227 2002-01-16  11.67  11.86  11.90  11.63   \n",
       "2    47228       47228         47228 2002-01-17  12.16  11.93  12.25  11.79   \n",
       "3    47229       47229         47229 2002-01-18  11.82  11.90  12.08  11.73   \n",
       "4    47230       47230         47230 2002-01-22  11.88  12.10  12.20  11.82   \n",
       "..     ...         ...           ...        ...    ...    ...    ...    ...   \n",
       "178  47404       47404         47404 2002-09-30   4.69   4.59   4.69   4.50   \n",
       "179  47405       47405         47405 2002-10-01   4.82   4.69   4.86   4.58   \n",
       "180  47406       47406         47406 2002-10-02   4.61   4.62   4.72   4.53   \n",
       "181  47407       47407         47407 2002-10-03   4.35   4.45   4.45   4.25   \n",
       "182  47408       47408         47408 2002-10-04   4.27   4.38   4.41   4.24   \n",
       "\n",
       "         Volume  Change Symbol  \n",
       "0     6650000.0 -0.0041    TSM  \n",
       "1    10110000.0 -0.0427    TSM  \n",
       "2     7850000.0  0.0420    TSM  \n",
       "3     7910000.0 -0.0280    TSM  \n",
       "4     8680000.0  0.0051    TSM  \n",
       "..          ...     ...    ...  \n",
       "178  10760000.0 -0.0021    TSM  \n",
       "179   7710000.0  0.0277    TSM  \n",
       "180  13910000.0 -0.0436    TSM  \n",
       "181   7190000.0 -0.0564    TSM  \n",
       "182   4870000.0 -0.0184    TSM  \n",
       "\n",
       "[183 rows x 11 columns]"
      ]
     },
     "execution_count": 144,
     "metadata": {},
     "output_type": "execute_result"
    }
   ],
   "source": [
    "test2"
   ]
  },
  {
   "cell_type": "code",
   "execution_count": 145,
   "metadata": {},
   "outputs": [
    {
     "data": {
      "text/plain": [
       "47226"
      ]
     },
     "execution_count": 145,
     "metadata": {},
     "output_type": "execute_result"
    }
   ],
   "source": [
    "# 전쟁발발기점에서의 'Unnamed: 0'의 값\n",
    "num"
   ]
  },
  {
   "cell_type": "code",
   "execution_count": 146,
   "metadata": {},
   "outputs": [
    {
     "data": {
      "text/html": [
       "<div>\n",
       "<style scoped>\n",
       "    .dataframe tbody tr th:only-of-type {\n",
       "        vertical-align: middle;\n",
       "    }\n",
       "\n",
       "    .dataframe tbody tr th {\n",
       "        vertical-align: top;\n",
       "    }\n",
       "\n",
       "    .dataframe thead th {\n",
       "        text-align: right;\n",
       "    }\n",
       "</style>\n",
       "<table border=\"1\" class=\"dataframe\">\n",
       "  <thead>\n",
       "    <tr style=\"text-align: right;\">\n",
       "      <th></th>\n",
       "      <th>index</th>\n",
       "      <th>Unnamed: 0</th>\n",
       "      <th>Unnamed: 0.1</th>\n",
       "      <th>Date</th>\n",
       "      <th>Close</th>\n",
       "      <th>Open</th>\n",
       "      <th>High</th>\n",
       "      <th>Low</th>\n",
       "      <th>Volume</th>\n",
       "      <th>Change</th>\n",
       "      <th>Symbol</th>\n",
       "    </tr>\n",
       "  </thead>\n",
       "  <tbody>\n",
       "    <tr>\n",
       "      <th>0</th>\n",
       "      <td>47226</td>\n",
       "      <td>47226</td>\n",
       "      <td>47226</td>\n",
       "      <td>2002-01-15</td>\n",
       "      <td>12.19</td>\n",
       "      <td>12.33</td>\n",
       "      <td>12.57</td>\n",
       "      <td>12.1</td>\n",
       "      <td>6650000.0</td>\n",
       "      <td>-0.0041</td>\n",
       "      <td>TSM</td>\n",
       "    </tr>\n",
       "  </tbody>\n",
       "</table>\n",
       "</div>"
      ],
      "text/plain": [
       "   index  Unnamed: 0  Unnamed: 0.1       Date  Close   Open   High   Low  \\\n",
       "0  47226       47226         47226 2002-01-15  12.19  12.33  12.57  12.1   \n",
       "\n",
       "      Volume  Change Symbol  \n",
       "0  6650000.0 -0.0041    TSM  "
      ]
     },
     "execution_count": 146,
     "metadata": {},
     "output_type": "execute_result"
    }
   ],
   "source": [
    "# 해당값을 출력해보면 전쟁 특정종목의 N번째 전쟁발발시점의 값이 출력됨\n",
    "test2[test2[\"Unnamed: 0\"] == num]"
   ]
  },
  {
   "cell_type": "code",
   "execution_count": 147,
   "metadata": {},
   "outputs": [],
   "source": [
    "# num값을 기준으로 이전 5번째, 이후 2번째 범위내의 historical price 출력"
   ]
  },
  {
   "cell_type": "code",
   "execution_count": 148,
   "metadata": {},
   "outputs": [
    {
     "data": {
      "text/html": [
       "<div>\n",
       "<style scoped>\n",
       "    .dataframe tbody tr th:only-of-type {\n",
       "        vertical-align: middle;\n",
       "    }\n",
       "\n",
       "    .dataframe tbody tr th {\n",
       "        vertical-align: top;\n",
       "    }\n",
       "\n",
       "    .dataframe thead th {\n",
       "        text-align: right;\n",
       "    }\n",
       "</style>\n",
       "<table border=\"1\" class=\"dataframe\">\n",
       "  <thead>\n",
       "    <tr style=\"text-align: right;\">\n",
       "      <th></th>\n",
       "      <th>Unnamed: 0</th>\n",
       "      <th>Unnamed: 0.1</th>\n",
       "      <th>Date</th>\n",
       "      <th>Close</th>\n",
       "      <th>Open</th>\n",
       "      <th>High</th>\n",
       "      <th>Low</th>\n",
       "      <th>Volume</th>\n",
       "      <th>Change</th>\n",
       "      <th>Symbol</th>\n",
       "    </tr>\n",
       "  </thead>\n",
       "  <tbody>\n",
       "    <tr>\n",
       "      <th>47221</th>\n",
       "      <td>47221</td>\n",
       "      <td>47221</td>\n",
       "      <td>2002-01-08</td>\n",
       "      <td>13.10</td>\n",
       "      <td>12.69</td>\n",
       "      <td>13.11</td>\n",
       "      <td>12.52</td>\n",
       "      <td>9280000.0</td>\n",
       "      <td>0.0339</td>\n",
       "      <td>TSM</td>\n",
       "    </tr>\n",
       "    <tr>\n",
       "      <th>47222</th>\n",
       "      <td>47222</td>\n",
       "      <td>47222</td>\n",
       "      <td>2002-01-09</td>\n",
       "      <td>13.11</td>\n",
       "      <td>13.24</td>\n",
       "      <td>13.54</td>\n",
       "      <td>12.77</td>\n",
       "      <td>10370000.0</td>\n",
       "      <td>0.0008</td>\n",
       "      <td>TSM</td>\n",
       "    </tr>\n",
       "    <tr>\n",
       "      <th>47223</th>\n",
       "      <td>47223</td>\n",
       "      <td>47223</td>\n",
       "      <td>2002-01-10</td>\n",
       "      <td>12.50</td>\n",
       "      <td>13.00</td>\n",
       "      <td>13.00</td>\n",
       "      <td>12.50</td>\n",
       "      <td>7210000.0</td>\n",
       "      <td>-0.0465</td>\n",
       "      <td>TSM</td>\n",
       "    </tr>\n",
       "    <tr>\n",
       "      <th>47224</th>\n",
       "      <td>47224</td>\n",
       "      <td>47224</td>\n",
       "      <td>2002-01-11</td>\n",
       "      <td>12.46</td>\n",
       "      <td>12.37</td>\n",
       "      <td>12.70</td>\n",
       "      <td>12.35</td>\n",
       "      <td>6110000.0</td>\n",
       "      <td>-0.0032</td>\n",
       "      <td>TSM</td>\n",
       "    </tr>\n",
       "    <tr>\n",
       "      <th>47225</th>\n",
       "      <td>47225</td>\n",
       "      <td>47225</td>\n",
       "      <td>2002-01-14</td>\n",
       "      <td>12.24</td>\n",
       "      <td>12.46</td>\n",
       "      <td>12.57</td>\n",
       "      <td>12.24</td>\n",
       "      <td>4240000.0</td>\n",
       "      <td>-0.0177</td>\n",
       "      <td>TSM</td>\n",
       "    </tr>\n",
       "    <tr>\n",
       "      <th>47226</th>\n",
       "      <td>47226</td>\n",
       "      <td>47226</td>\n",
       "      <td>2002-01-15</td>\n",
       "      <td>12.19</td>\n",
       "      <td>12.33</td>\n",
       "      <td>12.57</td>\n",
       "      <td>12.10</td>\n",
       "      <td>6650000.0</td>\n",
       "      <td>-0.0041</td>\n",
       "      <td>TSM</td>\n",
       "    </tr>\n",
       "    <tr>\n",
       "      <th>47227</th>\n",
       "      <td>47227</td>\n",
       "      <td>47227</td>\n",
       "      <td>2002-01-16</td>\n",
       "      <td>11.67</td>\n",
       "      <td>11.86</td>\n",
       "      <td>11.90</td>\n",
       "      <td>11.63</td>\n",
       "      <td>10110000.0</td>\n",
       "      <td>-0.0427</td>\n",
       "      <td>TSM</td>\n",
       "    </tr>\n",
       "    <tr>\n",
       "      <th>47228</th>\n",
       "      <td>47228</td>\n",
       "      <td>47228</td>\n",
       "      <td>2002-01-17</td>\n",
       "      <td>12.16</td>\n",
       "      <td>11.93</td>\n",
       "      <td>12.25</td>\n",
       "      <td>11.79</td>\n",
       "      <td>7850000.0</td>\n",
       "      <td>0.0420</td>\n",
       "      <td>TSM</td>\n",
       "    </tr>\n",
       "  </tbody>\n",
       "</table>\n",
       "</div>"
      ],
      "text/plain": [
       "       Unnamed: 0  Unnamed: 0.1       Date  Close   Open   High    Low  \\\n",
       "47221       47221         47221 2002-01-08  13.10  12.69  13.11  12.52   \n",
       "47222       47222         47222 2002-01-09  13.11  13.24  13.54  12.77   \n",
       "47223       47223         47223 2002-01-10  12.50  13.00  13.00  12.50   \n",
       "47224       47224         47224 2002-01-11  12.46  12.37  12.70  12.35   \n",
       "47225       47225         47225 2002-01-14  12.24  12.46  12.57  12.24   \n",
       "47226       47226         47226 2002-01-15  12.19  12.33  12.57  12.10   \n",
       "47227       47227         47227 2002-01-16  11.67  11.86  11.90  11.63   \n",
       "47228       47228         47228 2002-01-17  12.16  11.93  12.25  11.79   \n",
       "\n",
       "           Volume  Change Symbol  \n",
       "47221   9280000.0  0.0339    TSM  \n",
       "47222  10370000.0  0.0008    TSM  \n",
       "47223   7210000.0 -0.0465    TSM  \n",
       "47224   6110000.0 -0.0032    TSM  \n",
       "47225   4240000.0 -0.0177    TSM  \n",
       "47226   6650000.0 -0.0041    TSM  \n",
       "47227  10110000.0 -0.0427    TSM  \n",
       "47228   7850000.0  0.0420    TSM  "
      ]
     },
     "execution_count": 148,
     "metadata": {},
     "output_type": "execute_result"
    }
   ],
   "source": [
    "real_df.loc[num-5:num+2]"
   ]
  },
  {
   "cell_type": "code",
   "execution_count": 175,
   "metadata": {},
   "outputs": [],
   "source": [
    "new_df = pd.DataFrame(real_df.loc[num]).transpose()\n"
   ]
  },
  {
   "cell_type": "code",
   "execution_count": 176,
   "metadata": {},
   "outputs": [],
   "source": [
    "# new_df에서 Unnamed:0.1, Close, Open, High, Low,Volume Drop"
   ]
  },
  {
   "cell_type": "code",
   "execution_count": 177,
   "metadata": {},
   "outputs": [],
   "source": [
    "new_df = new_df.drop([\"Unnamed: 0.1\", \"Close\", \"Open\", 'High', 'Low', 'Volume'], axis=1)"
   ]
  },
  {
   "cell_type": "code",
   "execution_count": 178,
   "metadata": {},
   "outputs": [],
   "source": [
    "# 지난 5일간 Average change 구하기"
   ]
  },
  {
   "cell_type": "code",
   "execution_count": 179,
   "metadata": {},
   "outputs": [
    {
     "data": {
      "text/plain": [
       "-0.007"
      ]
     },
     "execution_count": 179,
     "metadata": {},
     "output_type": "execute_result"
    }
   ],
   "source": [
    "avg_change = real_df.loc[num-5:num-1, 'Change']\n",
    "avg_change = round(np.mean(avg_change), 3)\n",
    "avg_change"
   ]
  },
  {
   "cell_type": "code",
   "execution_count": 180,
   "metadata": {},
   "outputs": [],
   "source": [
    "# Average change 컬럼추가"
   ]
  },
  {
   "cell_type": "code",
   "execution_count": 181,
   "metadata": {},
   "outputs": [],
   "source": [
    "new_df[\"Avg_change\"] = avg_change"
   ]
  },
  {
   "cell_type": "code",
   "execution_count": 182,
   "metadata": {},
   "outputs": [
    {
     "data": {
      "text/html": [
       "<div>\n",
       "<style scoped>\n",
       "    .dataframe tbody tr th:only-of-type {\n",
       "        vertical-align: middle;\n",
       "    }\n",
       "\n",
       "    .dataframe tbody tr th {\n",
       "        vertical-align: top;\n",
       "    }\n",
       "\n",
       "    .dataframe thead th {\n",
       "        text-align: right;\n",
       "    }\n",
       "</style>\n",
       "<table border=\"1\" class=\"dataframe\">\n",
       "  <thead>\n",
       "    <tr style=\"text-align: right;\">\n",
       "      <th></th>\n",
       "      <th>Unnamed: 0</th>\n",
       "      <th>Date</th>\n",
       "      <th>Change</th>\n",
       "      <th>Symbol</th>\n",
       "      <th>Avg_change</th>\n",
       "    </tr>\n",
       "  </thead>\n",
       "  <tbody>\n",
       "    <tr>\n",
       "      <th>47226</th>\n",
       "      <td>47226</td>\n",
       "      <td>2002-01-15</td>\n",
       "      <td>-0.0041</td>\n",
       "      <td>TSM</td>\n",
       "      <td>-0.007</td>\n",
       "    </tr>\n",
       "  </tbody>\n",
       "</table>\n",
       "</div>"
      ],
      "text/plain": [
       "      Unnamed: 0       Date  Change Symbol  Avg_change\n",
       "47226      47226 2002-01-15 -0.0041    TSM      -0.007"
      ]
     },
     "execution_count": 182,
     "metadata": {},
     "output_type": "execute_result"
    }
   ],
   "source": [
    "new_df"
   ]
  },
  {
   "cell_type": "code",
   "execution_count": 183,
   "metadata": {},
   "outputs": [],
   "source": [
    "# Change index 컬럼추가"
   ]
  },
  {
   "cell_type": "code",
   "execution_count": 184,
   "metadata": {},
   "outputs": [
    {
     "data": {
      "text/plain": [
       "47226    59.0\n",
       "dtype: float64"
      ]
     },
     "execution_count": 184,
     "metadata": {},
     "output_type": "execute_result"
    }
   ],
   "source": [
    "Change_idx = (new_df[\"Change\"] / new_df[\"Avg_change\"]) * 100\n",
    "Change_idx = round(Change_idx.astype(float),0)\n",
    "Change_idx"
   ]
  },
  {
   "cell_type": "code",
   "execution_count": 185,
   "metadata": {},
   "outputs": [
    {
     "data": {
      "text/html": [
       "<div>\n",
       "<style scoped>\n",
       "    .dataframe tbody tr th:only-of-type {\n",
       "        vertical-align: middle;\n",
       "    }\n",
       "\n",
       "    .dataframe tbody tr th {\n",
       "        vertical-align: top;\n",
       "    }\n",
       "\n",
       "    .dataframe thead th {\n",
       "        text-align: right;\n",
       "    }\n",
       "</style>\n",
       "<table border=\"1\" class=\"dataframe\">\n",
       "  <thead>\n",
       "    <tr style=\"text-align: right;\">\n",
       "      <th></th>\n",
       "      <th>Unnamed: 0</th>\n",
       "      <th>Date</th>\n",
       "      <th>Change</th>\n",
       "      <th>Symbol</th>\n",
       "      <th>Avg_change</th>\n",
       "      <th>Change_idx</th>\n",
       "    </tr>\n",
       "  </thead>\n",
       "  <tbody>\n",
       "    <tr>\n",
       "      <th>47226</th>\n",
       "      <td>47226</td>\n",
       "      <td>2002-01-15</td>\n",
       "      <td>-0.0041</td>\n",
       "      <td>TSM</td>\n",
       "      <td>-0.007</td>\n",
       "      <td>59.0</td>\n",
       "    </tr>\n",
       "  </tbody>\n",
       "</table>\n",
       "</div>"
      ],
      "text/plain": [
       "      Unnamed: 0       Date  Change Symbol  Avg_change  Change_idx\n",
       "47226      47226 2002-01-15 -0.0041    TSM      -0.007        59.0"
      ]
     },
     "execution_count": 185,
     "metadata": {},
     "output_type": "execute_result"
    }
   ],
   "source": [
    "new_df['Change_idx'] = Change_idx\n",
    "new_df"
   ]
  },
  {
   "cell_type": "code",
   "execution_count": 186,
   "metadata": {},
   "outputs": [],
   "source": [
    "# Change index의 절대값 컬럼 추가"
   ]
  },
  {
   "cell_type": "code",
   "execution_count": 188,
   "metadata": {},
   "outputs": [
    {
     "data": {
      "text/plain": [
       "47226    59.0\n",
       "dtype: float64"
      ]
     },
     "execution_count": 188,
     "metadata": {},
     "output_type": "execute_result"
    }
   ],
   "source": [
    "Abs_idx = abs(Change_idx)\n",
    "Abs_idx"
   ]
  },
  {
   "cell_type": "code",
   "execution_count": 190,
   "metadata": {},
   "outputs": [
    {
     "data": {
      "text/plain": [
       "47226    59.0\n",
       "dtype: float64"
      ]
     },
     "execution_count": 190,
     "metadata": {},
     "output_type": "execute_result"
    }
   ],
   "source": [
    "Abs_idx = abs(Change_idx)\n",
    "Abs_idx = round(Abs_idx.astype(float),0)\n",
    "#Abs_idx = Abs_idx.values\n",
    "Abs_idx"
   ]
  },
  {
   "cell_type": "code",
   "execution_count": 191,
   "metadata": {},
   "outputs": [
    {
     "data": {
      "text/html": [
       "<div>\n",
       "<style scoped>\n",
       "    .dataframe tbody tr th:only-of-type {\n",
       "        vertical-align: middle;\n",
       "    }\n",
       "\n",
       "    .dataframe tbody tr th {\n",
       "        vertical-align: top;\n",
       "    }\n",
       "\n",
       "    .dataframe thead th {\n",
       "        text-align: right;\n",
       "    }\n",
       "</style>\n",
       "<table border=\"1\" class=\"dataframe\">\n",
       "  <thead>\n",
       "    <tr style=\"text-align: right;\">\n",
       "      <th></th>\n",
       "      <th>Unnamed: 0</th>\n",
       "      <th>Date</th>\n",
       "      <th>Change</th>\n",
       "      <th>Symbol</th>\n",
       "      <th>Avg_change</th>\n",
       "      <th>Change_idx</th>\n",
       "      <th>Abs_idx</th>\n",
       "    </tr>\n",
       "  </thead>\n",
       "  <tbody>\n",
       "    <tr>\n",
       "      <th>47226</th>\n",
       "      <td>47226</td>\n",
       "      <td>2002-01-15</td>\n",
       "      <td>-0.0041</td>\n",
       "      <td>TSM</td>\n",
       "      <td>-0.007</td>\n",
       "      <td>59.0</td>\n",
       "      <td>59.0</td>\n",
       "    </tr>\n",
       "  </tbody>\n",
       "</table>\n",
       "</div>"
      ],
      "text/plain": [
       "      Unnamed: 0       Date  Change Symbol  Avg_change  Change_idx  Abs_idx\n",
       "47226      47226 2002-01-15 -0.0041    TSM      -0.007        59.0     59.0"
      ]
     },
     "execution_count": 191,
     "metadata": {},
     "output_type": "execute_result"
    }
   ],
   "source": [
    "new_df['Abs_idx'] = Abs_idx\n",
    "new_df"
   ]
  },
  {
   "cell_type": "code",
   "execution_count": 192,
   "metadata": {},
   "outputs": [],
   "source": [
    "# 발발시점, 전쟁이름, 참전국수, "
   ]
  },
  {
   "cell_type": "code",
   "execution_count": 193,
   "metadata": {},
   "outputs": [
    {
     "data": {
      "text/plain": [
       "(Timestamp('2002-01-15 00:00:00'), '영원한자유작전-필리핀', 2)"
      ]
     },
     "execution_count": 193,
     "metadata": {},
     "output_type": "execute_result"
    }
   ],
   "source": [
    "start_date = ls_war.loc[index,\"발발시점\"]\n",
    "war_name = ls_war.loc[index, \"갈등이름\"]\n",
    "count_country = ls_war.loc[index, \"참전국수\"]\n",
    "\n",
    "start_date, war_name, count_country"
   ]
  },
  {
   "cell_type": "code",
   "execution_count": 194,
   "metadata": {},
   "outputs": [
    {
     "data": {
      "text/plain": [
       "array(['반도체 및 반도체 장비'], dtype=object)"
      ]
     },
     "execution_count": 194,
     "metadata": {},
     "output_type": "execute_result"
    }
   ],
   "source": [
    "industry = df_3[df_3[\"Symbol\"] == ticker] # ticker는 위에 정의되어 있음\n",
    "industry = industry[\"Industry\"]\n",
    "industry = industry.values\n",
    "industry"
   ]
  },
  {
   "cell_type": "code",
   "execution_count": 195,
   "metadata": {},
   "outputs": [],
   "source": [
    "new_df['Start_date'] = start_date\n",
    "new_df['War_name'] = war_name\n",
    "new_df['Count_country'] = count_country\n",
    "new_df['Industry'] = industry"
   ]
  },
  {
   "cell_type": "code",
   "execution_count": 196,
   "metadata": {},
   "outputs": [
    {
     "data": {
      "text/html": [
       "<div>\n",
       "<style scoped>\n",
       "    .dataframe tbody tr th:only-of-type {\n",
       "        vertical-align: middle;\n",
       "    }\n",
       "\n",
       "    .dataframe tbody tr th {\n",
       "        vertical-align: top;\n",
       "    }\n",
       "\n",
       "    .dataframe thead th {\n",
       "        text-align: right;\n",
       "    }\n",
       "</style>\n",
       "<table border=\"1\" class=\"dataframe\">\n",
       "  <thead>\n",
       "    <tr style=\"text-align: right;\">\n",
       "      <th></th>\n",
       "      <th>Unnamed: 0</th>\n",
       "      <th>Date</th>\n",
       "      <th>Change</th>\n",
       "      <th>Symbol</th>\n",
       "      <th>Avg_change</th>\n",
       "      <th>Change_idx</th>\n",
       "      <th>Abs_idx</th>\n",
       "      <th>Start_date</th>\n",
       "      <th>War_name</th>\n",
       "      <th>Count_country</th>\n",
       "      <th>Industry</th>\n",
       "    </tr>\n",
       "  </thead>\n",
       "  <tbody>\n",
       "    <tr>\n",
       "      <th>47226</th>\n",
       "      <td>47226</td>\n",
       "      <td>2002-01-15</td>\n",
       "      <td>-0.0041</td>\n",
       "      <td>TSM</td>\n",
       "      <td>-0.007</td>\n",
       "      <td>59.0</td>\n",
       "      <td>59.0</td>\n",
       "      <td>2002-01-15</td>\n",
       "      <td>영원한자유작전-필리핀</td>\n",
       "      <td>2</td>\n",
       "      <td>반도체 및 반도체 장비</td>\n",
       "    </tr>\n",
       "  </tbody>\n",
       "</table>\n",
       "</div>"
      ],
      "text/plain": [
       "      Unnamed: 0       Date  Change Symbol  Avg_change  Change_idx  Abs_idx  \\\n",
       "47226      47226 2002-01-15 -0.0041    TSM      -0.007        59.0     59.0   \n",
       "\n",
       "      Start_date     War_name  Count_country      Industry  \n",
       "47226 2002-01-15  영원한자유작전-필리핀              2  반도체 및 반도체 장비  "
      ]
     },
     "execution_count": 196,
     "metadata": {},
     "output_type": "execute_result"
    }
   ],
   "source": [
    "new_df"
   ]
  },
  {
   "cell_type": "code",
   "execution_count": null,
   "metadata": {},
   "outputs": [],
   "source": []
  },
  {
   "cell_type": "code",
   "execution_count": null,
   "metadata": {},
   "outputs": [],
   "source": [
    "# 이제 for문 돌려서 하나의 100개의 데이터를 하나의 data로 만들어야함 row 2700개 예상"
   ]
  },
  {
   "cell_type": "code",
   "execution_count": null,
   "metadata": {},
   "outputs": [],
   "source": []
  },
  {
   "cell_type": "code",
   "execution_count": null,
   "metadata": {},
   "outputs": [],
   "source": [
    "#### 값이 없는 간 해당연도,월,일범위 내에서 종목의 historical price 정보가 없는 거라고 보면 되구요."
   ]
  },
  {
   "cell_type": "code",
   "execution_count": null,
   "metadata": {},
   "outputs": [],
   "source": []
  },
  {
   "cell_type": "code",
   "execution_count": null,
   "metadata": {},
   "outputs": [],
   "source": [
    "# 이후 분석해볼 거는,"
   ]
  },
  {
   "cell_type": "code",
   "execution_count": null,
   "metadata": {},
   "outputs": [],
   "source": [
    "# 1. 단순히 항목을 넣어서 전쟁규모, 참전국수 등에 따른 평가지표절대값의 상관관계"
   ]
  },
  {
   "cell_type": "code",
   "execution_count": null,
   "metadata": {},
   "outputs": [],
   "source": [
    "# 2. 전쟁종류 등에 따라 100대 기업 중 절대값 200이상되는 symbol의 기준 등"
   ]
  },
  {
   "cell_type": "code",
   "execution_count": null,
   "metadata": {},
   "outputs": [],
   "source": []
  },
  {
   "cell_type": "markdown",
   "metadata": {},
   "source": [
    "----------------------------"
   ]
  }
 ],
 "metadata": {
  "kernelspec": {
   "display_name": "Python 3",
   "language": "python",
   "name": "python3"
  },
  "language_info": {
   "codemirror_mode": {
    "name": "ipython",
    "version": 3
   },
   "file_extension": ".py",
   "mimetype": "text/x-python",
   "name": "python",
   "nbconvert_exporter": "python",
   "pygments_lexer": "ipython3",
   "version": "3.7.10"
  }
 },
 "nbformat": 4,
 "nbformat_minor": 4
}
