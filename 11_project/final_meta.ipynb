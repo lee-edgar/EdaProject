{
 "cells": [
  {
   "cell_type": "code",
   "execution_count": 1,
   "metadata": {},
   "outputs": [],
   "source": [
    "import xlsxwriter\n",
    "import openpyxl\n",
    "import matplotlib.pyplot as plt\n",
    "import matplotlib as mpl\n",
    "import numpy as np\n",
    "import matplotlib as mpl\n",
    "import seaborn as sns\n",
    "import plotly.express as px\n",
    "import plotly.graph_objects as go\n",
    "%matplotlib inline\n",
    "%config linelineBacked.figure_format = {'png', 'retina'}\n",
    "import pandas as pd\n",
    "import matplotlib.pyplot as plt\n",
    "import seaborn as sns\n",
    "import sklearn\n",
    "from sklearn.linear_model import LinearRegression\n",
    "import numpy as np\n",
    "import sklearn.linear_model\n",
    "import FinanceDataReader as fdr\n",
    "from datetime import datetime, timedelta\n",
    "import xlsxwriter\n",
    "import openpyxl\n",
    "import matplotlib.pyplot as plt\n",
    "import pandas as pd\n",
    "import plotly.express as px\n",
    "import plotly.graph_objects as go\n",
    "#pip install plotly==3.8.1\n",
    "import cufflinks as cf\n",
    "import pandas as pd\n",
    "from matplotlib import rc\n",
    "rc('font', family='Malgun Gothic')\n",
    "\n",
    "plt.rcParams['axes.unicode_minus'] = False\n",
    "%matplotlib inline\n",
    "\n",
    "from matplotlib import rc\n",
    "rc('font', family='Malgun Gothic')\n",
    "\n",
    "plt.rcParams['axes.unicode_minus'] = False"
   ]
  },
  {
   "cell_type": "code",
   "execution_count": 12,
   "metadata": {},
   "outputs": [
    {
     "data": {
      "text/html": [
       "<div>\n",
       "<style scoped>\n",
       "    .dataframe tbody tr th:only-of-type {\n",
       "        vertical-align: middle;\n",
       "    }\n",
       "\n",
       "    .dataframe tbody tr th {\n",
       "        vertical-align: top;\n",
       "    }\n",
       "\n",
       "    .dataframe thead th {\n",
       "        text-align: right;\n",
       "    }\n",
       "</style>\n",
       "<table border=\"1\" class=\"dataframe\">\n",
       "  <thead>\n",
       "    <tr style=\"text-align: right;\">\n",
       "      <th></th>\n",
       "      <th>Change</th>\n",
       "      <th>Symbol</th>\n",
       "      <th>Industry</th>\n",
       "      <th>Change_idx</th>\n",
       "      <th>ABS_idx</th>\n",
       "      <th>Avg_change</th>\n",
       "      <th>Start_date</th>\n",
       "      <th>War_genre</th>\n",
       "      <th>War_name</th>\n",
       "      <th>War_volume</th>\n",
       "      <th>Count_country</th>\n",
       "    </tr>\n",
       "  </thead>\n",
       "  <tbody>\n",
       "    <tr>\n",
       "      <th>0</th>\n",
       "      <td>-0.0323</td>\n",
       "      <td>AAPL</td>\n",
       "      <td>컴퓨터, 전화 및 가전제품</td>\n",
       "      <td>269.0</td>\n",
       "      <td>269.0</td>\n",
       "      <td>-0.012</td>\n",
       "      <td>2001-09-11</td>\n",
       "      <td>테러</td>\n",
       "      <td>테러와의전쟁</td>\n",
       "      <td>1000000</td>\n",
       "      <td>48</td>\n",
       "    </tr>\n",
       "    <tr>\n",
       "      <th>1</th>\n",
       "      <td>0.0263</td>\n",
       "      <td>AAPL</td>\n",
       "      <td>컴퓨터, 전화 및 가전제품</td>\n",
       "      <td>-175.0</td>\n",
       "      <td>175.0</td>\n",
       "      <td>-0.015</td>\n",
       "      <td>2002-01-15</td>\n",
       "      <td>테러</td>\n",
       "      <td>영원한자유작전-필리핀</td>\n",
       "      <td>115800</td>\n",
       "      <td>2</td>\n",
       "    </tr>\n",
       "    <tr>\n",
       "      <th>2</th>\n",
       "      <td>0.0000</td>\n",
       "      <td>AAPL</td>\n",
       "      <td>컴퓨터, 전화 및 가전제품</td>\n",
       "      <td>0.0</td>\n",
       "      <td>0.0</td>\n",
       "      <td>-0.007</td>\n",
       "      <td>2002-10-07</td>\n",
       "      <td>테러</td>\n",
       "      <td>영원한자유작전-아프리카의뿔</td>\n",
       "      <td>500000</td>\n",
       "      <td>38</td>\n",
       "    </tr>\n",
       "    <tr>\n",
       "      <th>3</th>\n",
       "      <td>0.0000</td>\n",
       "      <td>AAPL</td>\n",
       "      <td>컴퓨터, 전화 및 가전제품</td>\n",
       "      <td>0.0</td>\n",
       "      <td>0.0</td>\n",
       "      <td>0.016</td>\n",
       "      <td>2003-03-20</td>\n",
       "      <td>테러</td>\n",
       "      <td>이라크전쟁</td>\n",
       "      <td>1000000</td>\n",
       "      <td>41</td>\n",
       "    </tr>\n",
       "    <tr>\n",
       "      <th>4</th>\n",
       "      <td>0.0000</td>\n",
       "      <td>AAPL</td>\n",
       "      <td>컴퓨터, 전화 및 가전제품</td>\n",
       "      <td>0.0</td>\n",
       "      <td>0.0</td>\n",
       "      <td>0.009</td>\n",
       "      <td>2004-04-01</td>\n",
       "      <td>민족</td>\n",
       "      <td>이란-PJAK충돌</td>\n",
       "      <td>17000</td>\n",
       "      <td>3</td>\n",
       "    </tr>\n",
       "  </tbody>\n",
       "</table>\n",
       "</div>"
      ],
      "text/plain": [
       "   Change Symbol        Industry  Change_idx  ABS_idx  Avg_change Start_date  \\\n",
       "0 -0.0323   AAPL  컴퓨터, 전화 및 가전제품       269.0    269.0      -0.012 2001-09-11   \n",
       "1  0.0263   AAPL  컴퓨터, 전화 및 가전제품      -175.0    175.0      -0.015 2002-01-15   \n",
       "2  0.0000   AAPL  컴퓨터, 전화 및 가전제품         0.0      0.0      -0.007 2002-10-07   \n",
       "3  0.0000   AAPL  컴퓨터, 전화 및 가전제품         0.0      0.0       0.016 2003-03-20   \n",
       "4  0.0000   AAPL  컴퓨터, 전화 및 가전제품         0.0      0.0       0.009 2004-04-01   \n",
       "\n",
       "  War_genre        War_name  War_volume  Count_country  \n",
       "0        테러          테러와의전쟁     1000000             48  \n",
       "1        테러     영원한자유작전-필리핀      115800              2  \n",
       "2        테러  영원한자유작전-아프리카의뿔      500000             38  \n",
       "3        테러           이라크전쟁     1000000             41  \n",
       "4        민족       이란-PJAK충돌       17000              3  "
      ]
     },
     "execution_count": 12,
     "metadata": {},
     "output_type": "execute_result"
    }
   ],
   "source": [
    "df_final = pd.read_excel(\"./datas/final_X.xls\",'final_X')\n",
    "df_final = df_final.drop([\"Unnamed: 0\"], axis=1)\n",
    "df_final.head()"
   ]
  },
  {
   "cell_type": "code",
   "execution_count": 13,
   "metadata": {
    "scrolled": true
   },
   "outputs": [
    {
     "data": {
      "text/html": [
       "<div>\n",
       "<style scoped>\n",
       "    .dataframe tbody tr th:only-of-type {\n",
       "        vertical-align: middle;\n",
       "    }\n",
       "\n",
       "    .dataframe tbody tr th {\n",
       "        vertical-align: top;\n",
       "    }\n",
       "\n",
       "    .dataframe thead th {\n",
       "        text-align: right;\n",
       "    }\n",
       "</style>\n",
       "<table border=\"1\" class=\"dataframe\">\n",
       "  <thead>\n",
       "    <tr style=\"text-align: right;\">\n",
       "      <th></th>\n",
       "      <th>Start_date</th>\n",
       "      <th>War_name</th>\n",
       "      <th>War_kind</th>\n",
       "      <th>Abs_sum</th>\n",
       "      <th>Count</th>\n",
       "      <th>Count_country</th>\n",
       "      <th>War_volume</th>\n",
       "      <th>War_id</th>\n",
       "    </tr>\n",
       "  </thead>\n",
       "  <tbody>\n",
       "    <tr>\n",
       "      <th>0</th>\n",
       "      <td>2001-09-11</td>\n",
       "      <td>테러와의전쟁</td>\n",
       "      <td>테러</td>\n",
       "      <td>45139</td>\n",
       "      <td>1</td>\n",
       "      <td>48</td>\n",
       "      <td>1000000</td>\n",
       "      <td>w1</td>\n",
       "    </tr>\n",
       "  </tbody>\n",
       "</table>\n",
       "</div>"
      ],
      "text/plain": [
       "  Start_date War_name War_kind  Abs_sum  Count  Count_country  War_volume  \\\n",
       "0 2001-09-11   테러와의전쟁       테러    45139      1             48     1000000   \n",
       "\n",
       "  War_id  \n",
       "0     w1  "
      ]
     },
     "execution_count": 13,
     "metadata": {},
     "output_type": "execute_result"
    }
   ],
   "source": [
    "ls_war_X2 = pd.read_excel('datas/ls_war_X2.xls', sheet_name='sheet')\n",
    "ls_war_X2.head(1)"
   ]
  },
  {
   "cell_type": "markdown",
   "metadata": {},
   "source": [
    "## 전쟁은 전쟁규모 순위와 주식변동점수 순위와 동일하지 않다.\n",
    " - 전쟁 규모가 크다고 해서, 그 전쟁의 주식평균 변동의 폭이 크다고 할 수 없다."
   ]
  },
  {
   "cell_type": "code",
   "execution_count": 14,
   "metadata": {},
   "outputs": [
    {
     "data": {
      "application/vnd.plotly.v1+json": {
       "config": {
        "plotlyServerURL": "https://plot.ly"
       },
       "data": [
        {
         "name": "전쟁규모",
         "type": "bar",
         "x": [
          "테러와의전쟁",
          "영원한자유작전-필리핀",
          "영원한자유작전-아프리카의뿔",
          "이라크전쟁",
          "이란-PJAK충돌",
          "예멘의 Houthi 반란",
          "파라과이인민군반란",
          "파타-하마스 분쟁",
          "이라크내전",
          "2006년레바논전쟁",
          "멕시코마약전쟁",
          "소말리아전쟁",
          "영원한자유작전-트랜스사하라",
          "2008 안주안침공",
          "소말리아내전",
          "보코하람반란",
          "킹스톤불안",
          "리비아내전",
          "시리아내전",
          "레바논에서의시리아내전파급",
          "북부말리전쟁",
          "이라크 내전",
          "리비아 내전",
          "ISIL에대한국제군사개입",
          "예멘내전",
          "마라위위기",
          "이라크반란",
          "2019-20 페르시아만위기"
         ],
         "y": [
          1000000,
          115800,
          500000,
          1000000,
          17000,
          32000,
          3650,
          55000,
          748000,
          10500,
          360000,
          35250,
          5325,
          2500,
          41600,
          10000,
          1500,
          37000,
          144600,
          13500,
          24764,
          770000,
          400000,
          472260,
          156000,
          7500,
          188900,
          10000
         ]
        },
        {
         "name": "주식변동점수(X10)",
         "type": "bar",
         "x": [
          "테러와의전쟁",
          "영원한자유작전-필리핀",
          "영원한자유작전-아프리카의뿔",
          "이라크전쟁",
          "이란-PJAK충돌",
          "예멘의 Houthi 반란",
          "파라과이인민군반란",
          "파타-하마스 분쟁",
          "이라크내전",
          "2006년레바논전쟁",
          "멕시코마약전쟁",
          "소말리아전쟁",
          "영원한자유작전-트랜스사하라",
          "2008 안주안침공",
          "소말리아내전",
          "보코하람반란",
          "킹스톤불안",
          "리비아내전",
          "시리아내전",
          "레바논에서의시리아내전파급",
          "북부말리전쟁",
          "이라크 내전",
          "리비아 내전",
          "ISIL에대한국제군사개입",
          "예멘내전",
          "마라위위기",
          "이라크반란",
          "2019-20 페르시아만위기"
         ],
         "y": [
          451390,
          145160,
          269920,
          94180,
          170260,
          870290,
          172720,
          330240,
          281360,
          197320,
          207380,
          383220,
          225920,
          280040,
          488180,
          0,
          294880,
          246950,
          516820,
          225420,
          527650,
          200010,
          316660,
          183420,
          529340,
          0,
          0,
          0
         ]
        }
       ],
       "layout": {
        "template": {
         "data": {
          "bar": [
           {
            "error_x": {
             "color": "#2a3f5f"
            },
            "error_y": {
             "color": "#2a3f5f"
            },
            "marker": {
             "line": {
              "color": "#E5ECF6",
              "width": 0.5
             }
            },
            "type": "bar"
           }
          ],
          "barpolar": [
           {
            "marker": {
             "line": {
              "color": "#E5ECF6",
              "width": 0.5
             }
            },
            "type": "barpolar"
           }
          ],
          "carpet": [
           {
            "aaxis": {
             "endlinecolor": "#2a3f5f",
             "gridcolor": "white",
             "linecolor": "white",
             "minorgridcolor": "white",
             "startlinecolor": "#2a3f5f"
            },
            "baxis": {
             "endlinecolor": "#2a3f5f",
             "gridcolor": "white",
             "linecolor": "white",
             "minorgridcolor": "white",
             "startlinecolor": "#2a3f5f"
            },
            "type": "carpet"
           }
          ],
          "choropleth": [
           {
            "colorbar": {
             "outlinewidth": 0,
             "ticks": ""
            },
            "type": "choropleth"
           }
          ],
          "contour": [
           {
            "colorbar": {
             "outlinewidth": 0,
             "ticks": ""
            },
            "colorscale": [
             [
              0,
              "#0d0887"
             ],
             [
              0.1111111111111111,
              "#46039f"
             ],
             [
              0.2222222222222222,
              "#7201a8"
             ],
             [
              0.3333333333333333,
              "#9c179e"
             ],
             [
              0.4444444444444444,
              "#bd3786"
             ],
             [
              0.5555555555555556,
              "#d8576b"
             ],
             [
              0.6666666666666666,
              "#ed7953"
             ],
             [
              0.7777777777777778,
              "#fb9f3a"
             ],
             [
              0.8888888888888888,
              "#fdca26"
             ],
             [
              1,
              "#f0f921"
             ]
            ],
            "type": "contour"
           }
          ],
          "contourcarpet": [
           {
            "colorbar": {
             "outlinewidth": 0,
             "ticks": ""
            },
            "type": "contourcarpet"
           }
          ],
          "heatmap": [
           {
            "colorbar": {
             "outlinewidth": 0,
             "ticks": ""
            },
            "colorscale": [
             [
              0,
              "#0d0887"
             ],
             [
              0.1111111111111111,
              "#46039f"
             ],
             [
              0.2222222222222222,
              "#7201a8"
             ],
             [
              0.3333333333333333,
              "#9c179e"
             ],
             [
              0.4444444444444444,
              "#bd3786"
             ],
             [
              0.5555555555555556,
              "#d8576b"
             ],
             [
              0.6666666666666666,
              "#ed7953"
             ],
             [
              0.7777777777777778,
              "#fb9f3a"
             ],
             [
              0.8888888888888888,
              "#fdca26"
             ],
             [
              1,
              "#f0f921"
             ]
            ],
            "type": "heatmap"
           }
          ],
          "heatmapgl": [
           {
            "colorbar": {
             "outlinewidth": 0,
             "ticks": ""
            },
            "colorscale": [
             [
              0,
              "#0d0887"
             ],
             [
              0.1111111111111111,
              "#46039f"
             ],
             [
              0.2222222222222222,
              "#7201a8"
             ],
             [
              0.3333333333333333,
              "#9c179e"
             ],
             [
              0.4444444444444444,
              "#bd3786"
             ],
             [
              0.5555555555555556,
              "#d8576b"
             ],
             [
              0.6666666666666666,
              "#ed7953"
             ],
             [
              0.7777777777777778,
              "#fb9f3a"
             ],
             [
              0.8888888888888888,
              "#fdca26"
             ],
             [
              1,
              "#f0f921"
             ]
            ],
            "type": "heatmapgl"
           }
          ],
          "histogram": [
           {
            "marker": {
             "colorbar": {
              "outlinewidth": 0,
              "ticks": ""
             }
            },
            "type": "histogram"
           }
          ],
          "histogram2d": [
           {
            "colorbar": {
             "outlinewidth": 0,
             "ticks": ""
            },
            "colorscale": [
             [
              0,
              "#0d0887"
             ],
             [
              0.1111111111111111,
              "#46039f"
             ],
             [
              0.2222222222222222,
              "#7201a8"
             ],
             [
              0.3333333333333333,
              "#9c179e"
             ],
             [
              0.4444444444444444,
              "#bd3786"
             ],
             [
              0.5555555555555556,
              "#d8576b"
             ],
             [
              0.6666666666666666,
              "#ed7953"
             ],
             [
              0.7777777777777778,
              "#fb9f3a"
             ],
             [
              0.8888888888888888,
              "#fdca26"
             ],
             [
              1,
              "#f0f921"
             ]
            ],
            "type": "histogram2d"
           }
          ],
          "histogram2dcontour": [
           {
            "colorbar": {
             "outlinewidth": 0,
             "ticks": ""
            },
            "colorscale": [
             [
              0,
              "#0d0887"
             ],
             [
              0.1111111111111111,
              "#46039f"
             ],
             [
              0.2222222222222222,
              "#7201a8"
             ],
             [
              0.3333333333333333,
              "#9c179e"
             ],
             [
              0.4444444444444444,
              "#bd3786"
             ],
             [
              0.5555555555555556,
              "#d8576b"
             ],
             [
              0.6666666666666666,
              "#ed7953"
             ],
             [
              0.7777777777777778,
              "#fb9f3a"
             ],
             [
              0.8888888888888888,
              "#fdca26"
             ],
             [
              1,
              "#f0f921"
             ]
            ],
            "type": "histogram2dcontour"
           }
          ],
          "mesh3d": [
           {
            "colorbar": {
             "outlinewidth": 0,
             "ticks": ""
            },
            "type": "mesh3d"
           }
          ],
          "parcoords": [
           {
            "line": {
             "colorbar": {
              "outlinewidth": 0,
              "ticks": ""
             }
            },
            "type": "parcoords"
           }
          ],
          "pie": [
           {
            "automargin": true,
            "type": "pie"
           }
          ],
          "scatter": [
           {
            "marker": {
             "colorbar": {
              "outlinewidth": 0,
              "ticks": ""
             }
            },
            "type": "scatter"
           }
          ],
          "scatter3d": [
           {
            "line": {
             "colorbar": {
              "outlinewidth": 0,
              "ticks": ""
             }
            },
            "marker": {
             "colorbar": {
              "outlinewidth": 0,
              "ticks": ""
             }
            },
            "type": "scatter3d"
           }
          ],
          "scattercarpet": [
           {
            "marker": {
             "colorbar": {
              "outlinewidth": 0,
              "ticks": ""
             }
            },
            "type": "scattercarpet"
           }
          ],
          "scattergeo": [
           {
            "marker": {
             "colorbar": {
              "outlinewidth": 0,
              "ticks": ""
             }
            },
            "type": "scattergeo"
           }
          ],
          "scattergl": [
           {
            "marker": {
             "colorbar": {
              "outlinewidth": 0,
              "ticks": ""
             }
            },
            "type": "scattergl"
           }
          ],
          "scattermapbox": [
           {
            "marker": {
             "colorbar": {
              "outlinewidth": 0,
              "ticks": ""
             }
            },
            "type": "scattermapbox"
           }
          ],
          "scatterpolar": [
           {
            "marker": {
             "colorbar": {
              "outlinewidth": 0,
              "ticks": ""
             }
            },
            "type": "scatterpolar"
           }
          ],
          "scatterpolargl": [
           {
            "marker": {
             "colorbar": {
              "outlinewidth": 0,
              "ticks": ""
             }
            },
            "type": "scatterpolargl"
           }
          ],
          "scatterternary": [
           {
            "marker": {
             "colorbar": {
              "outlinewidth": 0,
              "ticks": ""
             }
            },
            "type": "scatterternary"
           }
          ],
          "surface": [
           {
            "colorbar": {
             "outlinewidth": 0,
             "ticks": ""
            },
            "colorscale": [
             [
              0,
              "#0d0887"
             ],
             [
              0.1111111111111111,
              "#46039f"
             ],
             [
              0.2222222222222222,
              "#7201a8"
             ],
             [
              0.3333333333333333,
              "#9c179e"
             ],
             [
              0.4444444444444444,
              "#bd3786"
             ],
             [
              0.5555555555555556,
              "#d8576b"
             ],
             [
              0.6666666666666666,
              "#ed7953"
             ],
             [
              0.7777777777777778,
              "#fb9f3a"
             ],
             [
              0.8888888888888888,
              "#fdca26"
             ],
             [
              1,
              "#f0f921"
             ]
            ],
            "type": "surface"
           }
          ],
          "table": [
           {
            "cells": {
             "fill": {
              "color": "#EBF0F8"
             },
             "line": {
              "color": "white"
             }
            },
            "header": {
             "fill": {
              "color": "#C8D4E3"
             },
             "line": {
              "color": "white"
             }
            },
            "type": "table"
           }
          ]
         },
         "layout": {
          "annotationdefaults": {
           "arrowcolor": "#2a3f5f",
           "arrowhead": 0,
           "arrowwidth": 1
          },
          "autotypenumbers": "strict",
          "coloraxis": {
           "colorbar": {
            "outlinewidth": 0,
            "ticks": ""
           }
          },
          "colorscale": {
           "diverging": [
            [
             0,
             "#8e0152"
            ],
            [
             0.1,
             "#c51b7d"
            ],
            [
             0.2,
             "#de77ae"
            ],
            [
             0.3,
             "#f1b6da"
            ],
            [
             0.4,
             "#fde0ef"
            ],
            [
             0.5,
             "#f7f7f7"
            ],
            [
             0.6,
             "#e6f5d0"
            ],
            [
             0.7,
             "#b8e186"
            ],
            [
             0.8,
             "#7fbc41"
            ],
            [
             0.9,
             "#4d9221"
            ],
            [
             1,
             "#276419"
            ]
           ],
           "sequential": [
            [
             0,
             "#0d0887"
            ],
            [
             0.1111111111111111,
             "#46039f"
            ],
            [
             0.2222222222222222,
             "#7201a8"
            ],
            [
             0.3333333333333333,
             "#9c179e"
            ],
            [
             0.4444444444444444,
             "#bd3786"
            ],
            [
             0.5555555555555556,
             "#d8576b"
            ],
            [
             0.6666666666666666,
             "#ed7953"
            ],
            [
             0.7777777777777778,
             "#fb9f3a"
            ],
            [
             0.8888888888888888,
             "#fdca26"
            ],
            [
             1,
             "#f0f921"
            ]
           ],
           "sequentialminus": [
            [
             0,
             "#0d0887"
            ],
            [
             0.1111111111111111,
             "#46039f"
            ],
            [
             0.2222222222222222,
             "#7201a8"
            ],
            [
             0.3333333333333333,
             "#9c179e"
            ],
            [
             0.4444444444444444,
             "#bd3786"
            ],
            [
             0.5555555555555556,
             "#d8576b"
            ],
            [
             0.6666666666666666,
             "#ed7953"
            ],
            [
             0.7777777777777778,
             "#fb9f3a"
            ],
            [
             0.8888888888888888,
             "#fdca26"
            ],
            [
             1,
             "#f0f921"
            ]
           ]
          },
          "colorway": [
           "#636efa",
           "#EF553B",
           "#00cc96",
           "#ab63fa",
           "#FFA15A",
           "#19d3f3",
           "#FF6692",
           "#B6E880",
           "#FF97FF",
           "#FECB52"
          ],
          "font": {
           "color": "#2a3f5f"
          },
          "geo": {
           "bgcolor": "white",
           "lakecolor": "white",
           "landcolor": "#E5ECF6",
           "showlakes": true,
           "showland": true,
           "subunitcolor": "white"
          },
          "hoverlabel": {
           "align": "left"
          },
          "hovermode": "closest",
          "mapbox": {
           "style": "light"
          },
          "paper_bgcolor": "white",
          "plot_bgcolor": "#E5ECF6",
          "polar": {
           "angularaxis": {
            "gridcolor": "white",
            "linecolor": "white",
            "ticks": ""
           },
           "bgcolor": "#E5ECF6",
           "radialaxis": {
            "gridcolor": "white",
            "linecolor": "white",
            "ticks": ""
           }
          },
          "scene": {
           "xaxis": {
            "backgroundcolor": "#E5ECF6",
            "gridcolor": "white",
            "gridwidth": 2,
            "linecolor": "white",
            "showbackground": true,
            "ticks": "",
            "zerolinecolor": "white"
           },
           "yaxis": {
            "backgroundcolor": "#E5ECF6",
            "gridcolor": "white",
            "gridwidth": 2,
            "linecolor": "white",
            "showbackground": true,
            "ticks": "",
            "zerolinecolor": "white"
           },
           "zaxis": {
            "backgroundcolor": "#E5ECF6",
            "gridcolor": "white",
            "gridwidth": 2,
            "linecolor": "white",
            "showbackground": true,
            "ticks": "",
            "zerolinecolor": "white"
           }
          },
          "shapedefaults": {
           "line": {
            "color": "#2a3f5f"
           }
          },
          "ternary": {
           "aaxis": {
            "gridcolor": "white",
            "linecolor": "white",
            "ticks": ""
           },
           "baxis": {
            "gridcolor": "white",
            "linecolor": "white",
            "ticks": ""
           },
           "bgcolor": "#E5ECF6",
           "caxis": {
            "gridcolor": "white",
            "linecolor": "white",
            "ticks": ""
           }
          },
          "title": {
           "x": 0.05
          },
          "xaxis": {
           "automargin": true,
           "gridcolor": "white",
           "linecolor": "white",
           "ticks": "",
           "title": {
            "standoff": 15
           },
           "zerolinecolor": "white",
           "zerolinewidth": 2
          },
          "yaxis": {
           "automargin": true,
           "gridcolor": "white",
           "linecolor": "white",
           "ticks": "",
           "title": {
            "standoff": 15
           },
           "zerolinecolor": "white",
           "zerolinewidth": 2
          }
         }
        },
        "title": {
         "text": "<b> 27번의 전쟁의 전쟁규모와 주식변동점수"
        }
       }
      },
      "text/html": [
       "<div>                            <div id=\"6524513d-19b2-498b-bfb6-7021782a24d4\" class=\"plotly-graph-div\" style=\"height:525px; width:100%;\"></div>            <script type=\"text/javascript\">                require([\"plotly\"], function(Plotly) {                    window.PLOTLYENV=window.PLOTLYENV || {};                                    if (document.getElementById(\"6524513d-19b2-498b-bfb6-7021782a24d4\")) {                    Plotly.newPlot(                        \"6524513d-19b2-498b-bfb6-7021782a24d4\",                        [{\"name\": \"\\uc804\\uc7c1\\uaddc\\ubaa8\", \"type\": \"bar\", \"x\": [\"\\ud14c\\ub7ec\\uc640\\uc758\\uc804\\uc7c1\", \"\\uc601\\uc6d0\\ud55c\\uc790\\uc720\\uc791\\uc804-\\ud544\\ub9ac\\ud540\", \"\\uc601\\uc6d0\\ud55c\\uc790\\uc720\\uc791\\uc804-\\uc544\\ud504\\ub9ac\\uce74\\uc758\\ubfd4\", \"\\uc774\\ub77c\\ud06c\\uc804\\uc7c1\", \"\\uc774\\ub780-PJAK\\ucda9\\ub3cc\", \"\\uc608\\uba58\\uc758 Houthi \\ubc18\\ub780\", \"\\ud30c\\ub77c\\uacfc\\uc774\\uc778\\ubbfc\\uad70\\ubc18\\ub780\", \"\\ud30c\\ud0c0-\\ud558\\ub9c8\\uc2a4 \\ubd84\\uc7c1\", \"\\uc774\\ub77c\\ud06c\\ub0b4\\uc804\", \"2006\\ub144\\ub808\\ubc14\\ub17c\\uc804\\uc7c1\", \"\\uba55\\uc2dc\\ucf54\\ub9c8\\uc57d\\uc804\\uc7c1\", \"\\uc18c\\ub9d0\\ub9ac\\uc544\\uc804\\uc7c1\", \"\\uc601\\uc6d0\\ud55c\\uc790\\uc720\\uc791\\uc804-\\ud2b8\\ub79c\\uc2a4\\uc0ac\\ud558\\ub77c\", \"2008 \\uc548\\uc8fc\\uc548\\uce68\\uacf5\", \"\\uc18c\\ub9d0\\ub9ac\\uc544\\ub0b4\\uc804\", \"\\ubcf4\\ucf54\\ud558\\ub78c\\ubc18\\ub780\", \"\\ud0b9\\uc2a4\\ud1a4\\ubd88\\uc548\", \"\\ub9ac\\ube44\\uc544\\ub0b4\\uc804\", \"\\uc2dc\\ub9ac\\uc544\\ub0b4\\uc804\", \"\\ub808\\ubc14\\ub17c\\uc5d0\\uc11c\\uc758\\uc2dc\\ub9ac\\uc544\\ub0b4\\uc804\\ud30c\\uae09\", \"\\ubd81\\ubd80\\ub9d0\\ub9ac\\uc804\\uc7c1\", \"\\uc774\\ub77c\\ud06c \\ub0b4\\uc804\", \"\\ub9ac\\ube44\\uc544 \\ub0b4\\uc804\", \"ISIL\\uc5d0\\ub300\\ud55c\\uad6d\\uc81c\\uad70\\uc0ac\\uac1c\\uc785\", \"\\uc608\\uba58\\ub0b4\\uc804\", \"\\ub9c8\\ub77c\\uc704\\uc704\\uae30\", \"\\uc774\\ub77c\\ud06c\\ubc18\\ub780\", \"2019-20 \\ud398\\ub974\\uc2dc\\uc544\\ub9cc\\uc704\\uae30\"], \"y\": [1000000, 115800, 500000, 1000000, 17000, 32000, 3650, 55000, 748000, 10500, 360000, 35250, 5325, 2500, 41600, 10000, 1500, 37000, 144600, 13500, 24764, 770000, 400000, 472260, 156000, 7500, 188900, 10000]}, {\"name\": \"\\uc8fc\\uc2dd\\ubcc0\\ub3d9\\uc810\\uc218(X10)\", \"type\": \"bar\", \"x\": [\"\\ud14c\\ub7ec\\uc640\\uc758\\uc804\\uc7c1\", \"\\uc601\\uc6d0\\ud55c\\uc790\\uc720\\uc791\\uc804-\\ud544\\ub9ac\\ud540\", \"\\uc601\\uc6d0\\ud55c\\uc790\\uc720\\uc791\\uc804-\\uc544\\ud504\\ub9ac\\uce74\\uc758\\ubfd4\", \"\\uc774\\ub77c\\ud06c\\uc804\\uc7c1\", \"\\uc774\\ub780-PJAK\\ucda9\\ub3cc\", \"\\uc608\\uba58\\uc758 Houthi \\ubc18\\ub780\", \"\\ud30c\\ub77c\\uacfc\\uc774\\uc778\\ubbfc\\uad70\\ubc18\\ub780\", \"\\ud30c\\ud0c0-\\ud558\\ub9c8\\uc2a4 \\ubd84\\uc7c1\", \"\\uc774\\ub77c\\ud06c\\ub0b4\\uc804\", \"2006\\ub144\\ub808\\ubc14\\ub17c\\uc804\\uc7c1\", \"\\uba55\\uc2dc\\ucf54\\ub9c8\\uc57d\\uc804\\uc7c1\", \"\\uc18c\\ub9d0\\ub9ac\\uc544\\uc804\\uc7c1\", \"\\uc601\\uc6d0\\ud55c\\uc790\\uc720\\uc791\\uc804-\\ud2b8\\ub79c\\uc2a4\\uc0ac\\ud558\\ub77c\", \"2008 \\uc548\\uc8fc\\uc548\\uce68\\uacf5\", \"\\uc18c\\ub9d0\\ub9ac\\uc544\\ub0b4\\uc804\", \"\\ubcf4\\ucf54\\ud558\\ub78c\\ubc18\\ub780\", \"\\ud0b9\\uc2a4\\ud1a4\\ubd88\\uc548\", \"\\ub9ac\\ube44\\uc544\\ub0b4\\uc804\", \"\\uc2dc\\ub9ac\\uc544\\ub0b4\\uc804\", \"\\ub808\\ubc14\\ub17c\\uc5d0\\uc11c\\uc758\\uc2dc\\ub9ac\\uc544\\ub0b4\\uc804\\ud30c\\uae09\", \"\\ubd81\\ubd80\\ub9d0\\ub9ac\\uc804\\uc7c1\", \"\\uc774\\ub77c\\ud06c \\ub0b4\\uc804\", \"\\ub9ac\\ube44\\uc544 \\ub0b4\\uc804\", \"ISIL\\uc5d0\\ub300\\ud55c\\uad6d\\uc81c\\uad70\\uc0ac\\uac1c\\uc785\", \"\\uc608\\uba58\\ub0b4\\uc804\", \"\\ub9c8\\ub77c\\uc704\\uc704\\uae30\", \"\\uc774\\ub77c\\ud06c\\ubc18\\ub780\", \"2019-20 \\ud398\\ub974\\uc2dc\\uc544\\ub9cc\\uc704\\uae30\"], \"y\": [451390, 145160, 269920, 94180, 170260, 870290, 172720, 330240, 281360, 197320, 207380, 383220, 225920, 280040, 488180, 0, 294880, 246950, 516820, 225420, 527650, 200010, 316660, 183420, 529340, 0, 0, 0]}],                        {\"template\": {\"data\": {\"bar\": [{\"error_x\": {\"color\": \"#2a3f5f\"}, \"error_y\": {\"color\": \"#2a3f5f\"}, \"marker\": {\"line\": {\"color\": \"#E5ECF6\", \"width\": 0.5}}, \"type\": \"bar\"}], \"barpolar\": [{\"marker\": {\"line\": {\"color\": \"#E5ECF6\", \"width\": 0.5}}, \"type\": \"barpolar\"}], \"carpet\": [{\"aaxis\": {\"endlinecolor\": \"#2a3f5f\", \"gridcolor\": \"white\", \"linecolor\": \"white\", \"minorgridcolor\": \"white\", \"startlinecolor\": \"#2a3f5f\"}, \"baxis\": {\"endlinecolor\": \"#2a3f5f\", \"gridcolor\": \"white\", \"linecolor\": \"white\", \"minorgridcolor\": \"white\", \"startlinecolor\": \"#2a3f5f\"}, \"type\": \"carpet\"}], \"choropleth\": [{\"colorbar\": {\"outlinewidth\": 0, \"ticks\": \"\"}, \"type\": \"choropleth\"}], \"contour\": [{\"colorbar\": {\"outlinewidth\": 0, \"ticks\": \"\"}, \"colorscale\": [[0.0, \"#0d0887\"], [0.1111111111111111, \"#46039f\"], [0.2222222222222222, \"#7201a8\"], [0.3333333333333333, \"#9c179e\"], [0.4444444444444444, \"#bd3786\"], [0.5555555555555556, \"#d8576b\"], [0.6666666666666666, \"#ed7953\"], [0.7777777777777778, \"#fb9f3a\"], [0.8888888888888888, \"#fdca26\"], [1.0, \"#f0f921\"]], \"type\": \"contour\"}], \"contourcarpet\": [{\"colorbar\": {\"outlinewidth\": 0, \"ticks\": \"\"}, \"type\": \"contourcarpet\"}], \"heatmap\": [{\"colorbar\": {\"outlinewidth\": 0, \"ticks\": \"\"}, \"colorscale\": [[0.0, \"#0d0887\"], [0.1111111111111111, \"#46039f\"], [0.2222222222222222, \"#7201a8\"], [0.3333333333333333, \"#9c179e\"], [0.4444444444444444, \"#bd3786\"], [0.5555555555555556, \"#d8576b\"], [0.6666666666666666, \"#ed7953\"], [0.7777777777777778, \"#fb9f3a\"], [0.8888888888888888, \"#fdca26\"], [1.0, \"#f0f921\"]], \"type\": \"heatmap\"}], \"heatmapgl\": [{\"colorbar\": {\"outlinewidth\": 0, \"ticks\": \"\"}, \"colorscale\": [[0.0, \"#0d0887\"], [0.1111111111111111, \"#46039f\"], [0.2222222222222222, \"#7201a8\"], [0.3333333333333333, \"#9c179e\"], [0.4444444444444444, \"#bd3786\"], [0.5555555555555556, \"#d8576b\"], [0.6666666666666666, \"#ed7953\"], [0.7777777777777778, \"#fb9f3a\"], [0.8888888888888888, \"#fdca26\"], [1.0, \"#f0f921\"]], \"type\": \"heatmapgl\"}], \"histogram\": [{\"marker\": {\"colorbar\": {\"outlinewidth\": 0, \"ticks\": \"\"}}, \"type\": \"histogram\"}], \"histogram2d\": [{\"colorbar\": {\"outlinewidth\": 0, \"ticks\": \"\"}, \"colorscale\": [[0.0, \"#0d0887\"], [0.1111111111111111, \"#46039f\"], [0.2222222222222222, \"#7201a8\"], [0.3333333333333333, \"#9c179e\"], [0.4444444444444444, \"#bd3786\"], [0.5555555555555556, \"#d8576b\"], [0.6666666666666666, \"#ed7953\"], [0.7777777777777778, \"#fb9f3a\"], [0.8888888888888888, \"#fdca26\"], [1.0, \"#f0f921\"]], \"type\": \"histogram2d\"}], \"histogram2dcontour\": [{\"colorbar\": {\"outlinewidth\": 0, \"ticks\": \"\"}, \"colorscale\": [[0.0, \"#0d0887\"], [0.1111111111111111, \"#46039f\"], [0.2222222222222222, \"#7201a8\"], [0.3333333333333333, \"#9c179e\"], [0.4444444444444444, \"#bd3786\"], [0.5555555555555556, \"#d8576b\"], [0.6666666666666666, \"#ed7953\"], [0.7777777777777778, \"#fb9f3a\"], [0.8888888888888888, \"#fdca26\"], [1.0, \"#f0f921\"]], \"type\": \"histogram2dcontour\"}], \"mesh3d\": [{\"colorbar\": {\"outlinewidth\": 0, \"ticks\": \"\"}, \"type\": \"mesh3d\"}], \"parcoords\": [{\"line\": {\"colorbar\": {\"outlinewidth\": 0, \"ticks\": \"\"}}, \"type\": \"parcoords\"}], \"pie\": [{\"automargin\": true, \"type\": \"pie\"}], \"scatter\": [{\"marker\": {\"colorbar\": {\"outlinewidth\": 0, \"ticks\": \"\"}}, \"type\": \"scatter\"}], \"scatter3d\": [{\"line\": {\"colorbar\": {\"outlinewidth\": 0, \"ticks\": \"\"}}, \"marker\": {\"colorbar\": {\"outlinewidth\": 0, \"ticks\": \"\"}}, \"type\": \"scatter3d\"}], \"scattercarpet\": [{\"marker\": {\"colorbar\": {\"outlinewidth\": 0, \"ticks\": \"\"}}, \"type\": \"scattercarpet\"}], \"scattergeo\": [{\"marker\": {\"colorbar\": {\"outlinewidth\": 0, \"ticks\": \"\"}}, \"type\": \"scattergeo\"}], \"scattergl\": [{\"marker\": {\"colorbar\": {\"outlinewidth\": 0, \"ticks\": \"\"}}, \"type\": \"scattergl\"}], \"scattermapbox\": [{\"marker\": {\"colorbar\": {\"outlinewidth\": 0, \"ticks\": \"\"}}, \"type\": \"scattermapbox\"}], \"scatterpolar\": [{\"marker\": {\"colorbar\": {\"outlinewidth\": 0, \"ticks\": \"\"}}, \"type\": \"scatterpolar\"}], \"scatterpolargl\": [{\"marker\": {\"colorbar\": {\"outlinewidth\": 0, \"ticks\": \"\"}}, \"type\": \"scatterpolargl\"}], \"scatterternary\": [{\"marker\": {\"colorbar\": {\"outlinewidth\": 0, \"ticks\": \"\"}}, \"type\": \"scatterternary\"}], \"surface\": [{\"colorbar\": {\"outlinewidth\": 0, \"ticks\": \"\"}, \"colorscale\": [[0.0, \"#0d0887\"], [0.1111111111111111, \"#46039f\"], [0.2222222222222222, \"#7201a8\"], [0.3333333333333333, \"#9c179e\"], [0.4444444444444444, \"#bd3786\"], [0.5555555555555556, \"#d8576b\"], [0.6666666666666666, \"#ed7953\"], [0.7777777777777778, \"#fb9f3a\"], [0.8888888888888888, \"#fdca26\"], [1.0, \"#f0f921\"]], \"type\": \"surface\"}], \"table\": [{\"cells\": {\"fill\": {\"color\": \"#EBF0F8\"}, \"line\": {\"color\": \"white\"}}, \"header\": {\"fill\": {\"color\": \"#C8D4E3\"}, \"line\": {\"color\": \"white\"}}, \"type\": \"table\"}]}, \"layout\": {\"annotationdefaults\": {\"arrowcolor\": \"#2a3f5f\", \"arrowhead\": 0, \"arrowwidth\": 1}, \"autotypenumbers\": \"strict\", \"coloraxis\": {\"colorbar\": {\"outlinewidth\": 0, \"ticks\": \"\"}}, \"colorscale\": {\"diverging\": [[0, \"#8e0152\"], [0.1, \"#c51b7d\"], [0.2, \"#de77ae\"], [0.3, \"#f1b6da\"], [0.4, \"#fde0ef\"], [0.5, \"#f7f7f7\"], [0.6, \"#e6f5d0\"], [0.7, \"#b8e186\"], [0.8, \"#7fbc41\"], [0.9, \"#4d9221\"], [1, \"#276419\"]], \"sequential\": [[0.0, \"#0d0887\"], [0.1111111111111111, \"#46039f\"], [0.2222222222222222, \"#7201a8\"], [0.3333333333333333, \"#9c179e\"], [0.4444444444444444, \"#bd3786\"], [0.5555555555555556, \"#d8576b\"], [0.6666666666666666, \"#ed7953\"], [0.7777777777777778, \"#fb9f3a\"], [0.8888888888888888, \"#fdca26\"], [1.0, \"#f0f921\"]], \"sequentialminus\": [[0.0, \"#0d0887\"], [0.1111111111111111, \"#46039f\"], [0.2222222222222222, \"#7201a8\"], [0.3333333333333333, \"#9c179e\"], [0.4444444444444444, \"#bd3786\"], [0.5555555555555556, \"#d8576b\"], [0.6666666666666666, \"#ed7953\"], [0.7777777777777778, \"#fb9f3a\"], [0.8888888888888888, \"#fdca26\"], [1.0, \"#f0f921\"]]}, \"colorway\": [\"#636efa\", \"#EF553B\", \"#00cc96\", \"#ab63fa\", \"#FFA15A\", \"#19d3f3\", \"#FF6692\", \"#B6E880\", \"#FF97FF\", \"#FECB52\"], \"font\": {\"color\": \"#2a3f5f\"}, \"geo\": {\"bgcolor\": \"white\", \"lakecolor\": \"white\", \"landcolor\": \"#E5ECF6\", \"showlakes\": true, \"showland\": true, \"subunitcolor\": \"white\"}, \"hoverlabel\": {\"align\": \"left\"}, \"hovermode\": \"closest\", \"mapbox\": {\"style\": \"light\"}, \"paper_bgcolor\": \"white\", \"plot_bgcolor\": \"#E5ECF6\", \"polar\": {\"angularaxis\": {\"gridcolor\": \"white\", \"linecolor\": \"white\", \"ticks\": \"\"}, \"bgcolor\": \"#E5ECF6\", \"radialaxis\": {\"gridcolor\": \"white\", \"linecolor\": \"white\", \"ticks\": \"\"}}, \"scene\": {\"xaxis\": {\"backgroundcolor\": \"#E5ECF6\", \"gridcolor\": \"white\", \"gridwidth\": 2, \"linecolor\": \"white\", \"showbackground\": true, \"ticks\": \"\", \"zerolinecolor\": \"white\"}, \"yaxis\": {\"backgroundcolor\": \"#E5ECF6\", \"gridcolor\": \"white\", \"gridwidth\": 2, \"linecolor\": \"white\", \"showbackground\": true, \"ticks\": \"\", \"zerolinecolor\": \"white\"}, \"zaxis\": {\"backgroundcolor\": \"#E5ECF6\", \"gridcolor\": \"white\", \"gridwidth\": 2, \"linecolor\": \"white\", \"showbackground\": true, \"ticks\": \"\", \"zerolinecolor\": \"white\"}}, \"shapedefaults\": {\"line\": {\"color\": \"#2a3f5f\"}}, \"ternary\": {\"aaxis\": {\"gridcolor\": \"white\", \"linecolor\": \"white\", \"ticks\": \"\"}, \"baxis\": {\"gridcolor\": \"white\", \"linecolor\": \"white\", \"ticks\": \"\"}, \"bgcolor\": \"#E5ECF6\", \"caxis\": {\"gridcolor\": \"white\", \"linecolor\": \"white\", \"ticks\": \"\"}}, \"title\": {\"x\": 0.05}, \"xaxis\": {\"automargin\": true, \"gridcolor\": \"white\", \"linecolor\": \"white\", \"ticks\": \"\", \"title\": {\"standoff\": 15}, \"zerolinecolor\": \"white\", \"zerolinewidth\": 2}, \"yaxis\": {\"automargin\": true, \"gridcolor\": \"white\", \"linecolor\": \"white\", \"ticks\": \"\", \"title\": {\"standoff\": 15}, \"zerolinecolor\": \"white\", \"zerolinewidth\": 2}}}, \"title\": {\"text\": \"<b> 27\\ubc88\\uc758 \\uc804\\uc7c1\\uc758 \\uc804\\uc7c1\\uaddc\\ubaa8\\uc640 \\uc8fc\\uc2dd\\ubcc0\\ub3d9\\uc810\\uc218\"}},                        {\"responsive\": true}                    ).then(function(){\n",
       "                            \n",
       "var gd = document.getElementById('6524513d-19b2-498b-bfb6-7021782a24d4');\n",
       "var x = new MutationObserver(function (mutations, observer) {{\n",
       "        var display = window.getComputedStyle(gd).display;\n",
       "        if (!display || display === 'none') {{\n",
       "            console.log([gd, 'removed!']);\n",
       "            Plotly.purge(gd);\n",
       "            observer.disconnect();\n",
       "        }}\n",
       "}});\n",
       "\n",
       "// Listen for the removal of the full notebook cells\n",
       "var notebookContainer = gd.closest('#notebook-container');\n",
       "if (notebookContainer) {{\n",
       "    x.observe(notebookContainer, {childList: true});\n",
       "}}\n",
       "\n",
       "// Listen for the clearing of the current output cell\n",
       "var outputEl = gd.closest('.output');\n",
       "if (outputEl) {{\n",
       "    x.observe(outputEl, {childList: true});\n",
       "}}\n",
       "\n",
       "                        })                };                });            </script>        </div>"
      ]
     },
     "metadata": {},
     "output_type": "display_data"
    }
   ],
   "source": [
    "fig = go.Figure()\n",
    "fig.add_trace(go.Bar(y=ls_war_X2['War_volume'], name='전쟁규모', x = ls_war_X2['War_name']))\n",
    "fig.add_trace(go.Bar(y=ls_war_X2['Abs_sum']*10, name='주식변동점수(X10)', x = ls_war_X2['War_name']))\n",
    "fig.update_layout(title='<b> 27번의 전쟁의 전쟁규모와 주식변동점수')\n",
    "fig.show();"
   ]
  },
  {
   "cell_type": "markdown",
   "metadata": {},
   "source": [
    "## 전쟁 종류에 따라서 전쟁규모순위와  주식변동점수의 순위 또한 다르다."
   ]
  },
  {
   "cell_type": "code",
   "execution_count": 15,
   "metadata": {},
   "outputs": [
    {
     "data": {
      "application/vnd.plotly.v1+json": {
       "config": {
        "plotlyServerURL": "https://plot.ly"
       },
       "data": [
        {
         "name": "전쟁규모",
         "type": "bar",
         "x": [
          "테러",
          "테러",
          "테러",
          "테러",
          "민족",
          "내란",
          "내란",
          "테러",
          "테러",
          "내란",
          "마약",
          "해적",
          "테러",
          "내란",
          "내란",
          "해적",
          "마약",
          "내란",
          "내란",
          "내란",
          "테러",
          "내란",
          "내란",
          "테러",
          "내란",
          "테러",
          "내란",
          "민족"
         ],
         "y": [
          1000000,
          115800,
          500000,
          1000000,
          17000,
          32000,
          3650,
          55000,
          748000,
          10500,
          360000,
          35250,
          5325,
          2500,
          41600,
          10000,
          1500,
          37000,
          144600,
          13500,
          24764,
          770000,
          400000,
          472260,
          156000,
          7500,
          188900,
          10000
         ]
        },
        {
         "name": "평균변화율(X10)",
         "type": "bar",
         "x": [
          "테러",
          "테러",
          "테러",
          "테러",
          "민족",
          "내란",
          "내란",
          "테러",
          "테러",
          "내란",
          "마약",
          "해적",
          "테러",
          "내란",
          "내란",
          "해적",
          "마약",
          "내란",
          "내란",
          "내란",
          "테러",
          "내란",
          "내란",
          "테러",
          "내란",
          "테러",
          "내란",
          "민족"
         ],
         "y": [
          451390,
          145160,
          269920,
          94180,
          170260,
          870290,
          172720,
          330240,
          281360,
          197320,
          207380,
          383220,
          225920,
          280040,
          488180,
          0,
          294880,
          246950,
          516820,
          225420,
          527650,
          200010,
          316660,
          183420,
          529340,
          0,
          0,
          0
         ]
        }
       ],
       "layout": {
        "template": {
         "data": {
          "bar": [
           {
            "error_x": {
             "color": "#2a3f5f"
            },
            "error_y": {
             "color": "#2a3f5f"
            },
            "marker": {
             "line": {
              "color": "#E5ECF6",
              "width": 0.5
             }
            },
            "type": "bar"
           }
          ],
          "barpolar": [
           {
            "marker": {
             "line": {
              "color": "#E5ECF6",
              "width": 0.5
             }
            },
            "type": "barpolar"
           }
          ],
          "carpet": [
           {
            "aaxis": {
             "endlinecolor": "#2a3f5f",
             "gridcolor": "white",
             "linecolor": "white",
             "minorgridcolor": "white",
             "startlinecolor": "#2a3f5f"
            },
            "baxis": {
             "endlinecolor": "#2a3f5f",
             "gridcolor": "white",
             "linecolor": "white",
             "minorgridcolor": "white",
             "startlinecolor": "#2a3f5f"
            },
            "type": "carpet"
           }
          ],
          "choropleth": [
           {
            "colorbar": {
             "outlinewidth": 0,
             "ticks": ""
            },
            "type": "choropleth"
           }
          ],
          "contour": [
           {
            "colorbar": {
             "outlinewidth": 0,
             "ticks": ""
            },
            "colorscale": [
             [
              0,
              "#0d0887"
             ],
             [
              0.1111111111111111,
              "#46039f"
             ],
             [
              0.2222222222222222,
              "#7201a8"
             ],
             [
              0.3333333333333333,
              "#9c179e"
             ],
             [
              0.4444444444444444,
              "#bd3786"
             ],
             [
              0.5555555555555556,
              "#d8576b"
             ],
             [
              0.6666666666666666,
              "#ed7953"
             ],
             [
              0.7777777777777778,
              "#fb9f3a"
             ],
             [
              0.8888888888888888,
              "#fdca26"
             ],
             [
              1,
              "#f0f921"
             ]
            ],
            "type": "contour"
           }
          ],
          "contourcarpet": [
           {
            "colorbar": {
             "outlinewidth": 0,
             "ticks": ""
            },
            "type": "contourcarpet"
           }
          ],
          "heatmap": [
           {
            "colorbar": {
             "outlinewidth": 0,
             "ticks": ""
            },
            "colorscale": [
             [
              0,
              "#0d0887"
             ],
             [
              0.1111111111111111,
              "#46039f"
             ],
             [
              0.2222222222222222,
              "#7201a8"
             ],
             [
              0.3333333333333333,
              "#9c179e"
             ],
             [
              0.4444444444444444,
              "#bd3786"
             ],
             [
              0.5555555555555556,
              "#d8576b"
             ],
             [
              0.6666666666666666,
              "#ed7953"
             ],
             [
              0.7777777777777778,
              "#fb9f3a"
             ],
             [
              0.8888888888888888,
              "#fdca26"
             ],
             [
              1,
              "#f0f921"
             ]
            ],
            "type": "heatmap"
           }
          ],
          "heatmapgl": [
           {
            "colorbar": {
             "outlinewidth": 0,
             "ticks": ""
            },
            "colorscale": [
             [
              0,
              "#0d0887"
             ],
             [
              0.1111111111111111,
              "#46039f"
             ],
             [
              0.2222222222222222,
              "#7201a8"
             ],
             [
              0.3333333333333333,
              "#9c179e"
             ],
             [
              0.4444444444444444,
              "#bd3786"
             ],
             [
              0.5555555555555556,
              "#d8576b"
             ],
             [
              0.6666666666666666,
              "#ed7953"
             ],
             [
              0.7777777777777778,
              "#fb9f3a"
             ],
             [
              0.8888888888888888,
              "#fdca26"
             ],
             [
              1,
              "#f0f921"
             ]
            ],
            "type": "heatmapgl"
           }
          ],
          "histogram": [
           {
            "marker": {
             "colorbar": {
              "outlinewidth": 0,
              "ticks": ""
             }
            },
            "type": "histogram"
           }
          ],
          "histogram2d": [
           {
            "colorbar": {
             "outlinewidth": 0,
             "ticks": ""
            },
            "colorscale": [
             [
              0,
              "#0d0887"
             ],
             [
              0.1111111111111111,
              "#46039f"
             ],
             [
              0.2222222222222222,
              "#7201a8"
             ],
             [
              0.3333333333333333,
              "#9c179e"
             ],
             [
              0.4444444444444444,
              "#bd3786"
             ],
             [
              0.5555555555555556,
              "#d8576b"
             ],
             [
              0.6666666666666666,
              "#ed7953"
             ],
             [
              0.7777777777777778,
              "#fb9f3a"
             ],
             [
              0.8888888888888888,
              "#fdca26"
             ],
             [
              1,
              "#f0f921"
             ]
            ],
            "type": "histogram2d"
           }
          ],
          "histogram2dcontour": [
           {
            "colorbar": {
             "outlinewidth": 0,
             "ticks": ""
            },
            "colorscale": [
             [
              0,
              "#0d0887"
             ],
             [
              0.1111111111111111,
              "#46039f"
             ],
             [
              0.2222222222222222,
              "#7201a8"
             ],
             [
              0.3333333333333333,
              "#9c179e"
             ],
             [
              0.4444444444444444,
              "#bd3786"
             ],
             [
              0.5555555555555556,
              "#d8576b"
             ],
             [
              0.6666666666666666,
              "#ed7953"
             ],
             [
              0.7777777777777778,
              "#fb9f3a"
             ],
             [
              0.8888888888888888,
              "#fdca26"
             ],
             [
              1,
              "#f0f921"
             ]
            ],
            "type": "histogram2dcontour"
           }
          ],
          "mesh3d": [
           {
            "colorbar": {
             "outlinewidth": 0,
             "ticks": ""
            },
            "type": "mesh3d"
           }
          ],
          "parcoords": [
           {
            "line": {
             "colorbar": {
              "outlinewidth": 0,
              "ticks": ""
             }
            },
            "type": "parcoords"
           }
          ],
          "pie": [
           {
            "automargin": true,
            "type": "pie"
           }
          ],
          "scatter": [
           {
            "marker": {
             "colorbar": {
              "outlinewidth": 0,
              "ticks": ""
             }
            },
            "type": "scatter"
           }
          ],
          "scatter3d": [
           {
            "line": {
             "colorbar": {
              "outlinewidth": 0,
              "ticks": ""
             }
            },
            "marker": {
             "colorbar": {
              "outlinewidth": 0,
              "ticks": ""
             }
            },
            "type": "scatter3d"
           }
          ],
          "scattercarpet": [
           {
            "marker": {
             "colorbar": {
              "outlinewidth": 0,
              "ticks": ""
             }
            },
            "type": "scattercarpet"
           }
          ],
          "scattergeo": [
           {
            "marker": {
             "colorbar": {
              "outlinewidth": 0,
              "ticks": ""
             }
            },
            "type": "scattergeo"
           }
          ],
          "scattergl": [
           {
            "marker": {
             "colorbar": {
              "outlinewidth": 0,
              "ticks": ""
             }
            },
            "type": "scattergl"
           }
          ],
          "scattermapbox": [
           {
            "marker": {
             "colorbar": {
              "outlinewidth": 0,
              "ticks": ""
             }
            },
            "type": "scattermapbox"
           }
          ],
          "scatterpolar": [
           {
            "marker": {
             "colorbar": {
              "outlinewidth": 0,
              "ticks": ""
             }
            },
            "type": "scatterpolar"
           }
          ],
          "scatterpolargl": [
           {
            "marker": {
             "colorbar": {
              "outlinewidth": 0,
              "ticks": ""
             }
            },
            "type": "scatterpolargl"
           }
          ],
          "scatterternary": [
           {
            "marker": {
             "colorbar": {
              "outlinewidth": 0,
              "ticks": ""
             }
            },
            "type": "scatterternary"
           }
          ],
          "surface": [
           {
            "colorbar": {
             "outlinewidth": 0,
             "ticks": ""
            },
            "colorscale": [
             [
              0,
              "#0d0887"
             ],
             [
              0.1111111111111111,
              "#46039f"
             ],
             [
              0.2222222222222222,
              "#7201a8"
             ],
             [
              0.3333333333333333,
              "#9c179e"
             ],
             [
              0.4444444444444444,
              "#bd3786"
             ],
             [
              0.5555555555555556,
              "#d8576b"
             ],
             [
              0.6666666666666666,
              "#ed7953"
             ],
             [
              0.7777777777777778,
              "#fb9f3a"
             ],
             [
              0.8888888888888888,
              "#fdca26"
             ],
             [
              1,
              "#f0f921"
             ]
            ],
            "type": "surface"
           }
          ],
          "table": [
           {
            "cells": {
             "fill": {
              "color": "#EBF0F8"
             },
             "line": {
              "color": "white"
             }
            },
            "header": {
             "fill": {
              "color": "#C8D4E3"
             },
             "line": {
              "color": "white"
             }
            },
            "type": "table"
           }
          ]
         },
         "layout": {
          "annotationdefaults": {
           "arrowcolor": "#2a3f5f",
           "arrowhead": 0,
           "arrowwidth": 1
          },
          "autotypenumbers": "strict",
          "coloraxis": {
           "colorbar": {
            "outlinewidth": 0,
            "ticks": ""
           }
          },
          "colorscale": {
           "diverging": [
            [
             0,
             "#8e0152"
            ],
            [
             0.1,
             "#c51b7d"
            ],
            [
             0.2,
             "#de77ae"
            ],
            [
             0.3,
             "#f1b6da"
            ],
            [
             0.4,
             "#fde0ef"
            ],
            [
             0.5,
             "#f7f7f7"
            ],
            [
             0.6,
             "#e6f5d0"
            ],
            [
             0.7,
             "#b8e186"
            ],
            [
             0.8,
             "#7fbc41"
            ],
            [
             0.9,
             "#4d9221"
            ],
            [
             1,
             "#276419"
            ]
           ],
           "sequential": [
            [
             0,
             "#0d0887"
            ],
            [
             0.1111111111111111,
             "#46039f"
            ],
            [
             0.2222222222222222,
             "#7201a8"
            ],
            [
             0.3333333333333333,
             "#9c179e"
            ],
            [
             0.4444444444444444,
             "#bd3786"
            ],
            [
             0.5555555555555556,
             "#d8576b"
            ],
            [
             0.6666666666666666,
             "#ed7953"
            ],
            [
             0.7777777777777778,
             "#fb9f3a"
            ],
            [
             0.8888888888888888,
             "#fdca26"
            ],
            [
             1,
             "#f0f921"
            ]
           ],
           "sequentialminus": [
            [
             0,
             "#0d0887"
            ],
            [
             0.1111111111111111,
             "#46039f"
            ],
            [
             0.2222222222222222,
             "#7201a8"
            ],
            [
             0.3333333333333333,
             "#9c179e"
            ],
            [
             0.4444444444444444,
             "#bd3786"
            ],
            [
             0.5555555555555556,
             "#d8576b"
            ],
            [
             0.6666666666666666,
             "#ed7953"
            ],
            [
             0.7777777777777778,
             "#fb9f3a"
            ],
            [
             0.8888888888888888,
             "#fdca26"
            ],
            [
             1,
             "#f0f921"
            ]
           ]
          },
          "colorway": [
           "#636efa",
           "#EF553B",
           "#00cc96",
           "#ab63fa",
           "#FFA15A",
           "#19d3f3",
           "#FF6692",
           "#B6E880",
           "#FF97FF",
           "#FECB52"
          ],
          "font": {
           "color": "#2a3f5f"
          },
          "geo": {
           "bgcolor": "white",
           "lakecolor": "white",
           "landcolor": "#E5ECF6",
           "showlakes": true,
           "showland": true,
           "subunitcolor": "white"
          },
          "hoverlabel": {
           "align": "left"
          },
          "hovermode": "closest",
          "mapbox": {
           "style": "light"
          },
          "paper_bgcolor": "white",
          "plot_bgcolor": "#E5ECF6",
          "polar": {
           "angularaxis": {
            "gridcolor": "white",
            "linecolor": "white",
            "ticks": ""
           },
           "bgcolor": "#E5ECF6",
           "radialaxis": {
            "gridcolor": "white",
            "linecolor": "white",
            "ticks": ""
           }
          },
          "scene": {
           "xaxis": {
            "backgroundcolor": "#E5ECF6",
            "gridcolor": "white",
            "gridwidth": 2,
            "linecolor": "white",
            "showbackground": true,
            "ticks": "",
            "zerolinecolor": "white"
           },
           "yaxis": {
            "backgroundcolor": "#E5ECF6",
            "gridcolor": "white",
            "gridwidth": 2,
            "linecolor": "white",
            "showbackground": true,
            "ticks": "",
            "zerolinecolor": "white"
           },
           "zaxis": {
            "backgroundcolor": "#E5ECF6",
            "gridcolor": "white",
            "gridwidth": 2,
            "linecolor": "white",
            "showbackground": true,
            "ticks": "",
            "zerolinecolor": "white"
           }
          },
          "shapedefaults": {
           "line": {
            "color": "#2a3f5f"
           }
          },
          "ternary": {
           "aaxis": {
            "gridcolor": "white",
            "linecolor": "white",
            "ticks": ""
           },
           "baxis": {
            "gridcolor": "white",
            "linecolor": "white",
            "ticks": ""
           },
           "bgcolor": "#E5ECF6",
           "caxis": {
            "gridcolor": "white",
            "linecolor": "white",
            "ticks": ""
           }
          },
          "title": {
           "x": 0.05
          },
          "xaxis": {
           "automargin": true,
           "gridcolor": "white",
           "linecolor": "white",
           "ticks": "",
           "title": {
            "standoff": 15
           },
           "zerolinecolor": "white",
           "zerolinewidth": 2
          },
          "yaxis": {
           "automargin": true,
           "gridcolor": "white",
           "linecolor": "white",
           "ticks": "",
           "title": {
            "standoff": 15
           },
           "zerolinecolor": "white",
           "zerolinewidth": 2
          }
         }
        },
        "title": {
         "text": "<b> 5가지 갈등종류 : 테러, 민족, 내란, 마약, 해적"
        }
       }
      },
      "text/html": [
       "<div>                            <div id=\"2074e151-a47f-4f32-9833-cc94c20c8b48\" class=\"plotly-graph-div\" style=\"height:525px; width:100%;\"></div>            <script type=\"text/javascript\">                require([\"plotly\"], function(Plotly) {                    window.PLOTLYENV=window.PLOTLYENV || {};                                    if (document.getElementById(\"2074e151-a47f-4f32-9833-cc94c20c8b48\")) {                    Plotly.newPlot(                        \"2074e151-a47f-4f32-9833-cc94c20c8b48\",                        [{\"name\": \"\\uc804\\uc7c1\\uaddc\\ubaa8\", \"type\": \"bar\", \"x\": [\"\\ud14c\\ub7ec\", \"\\ud14c\\ub7ec\", \"\\ud14c\\ub7ec\", \"\\ud14c\\ub7ec\", \"\\ubbfc\\uc871\", \"\\ub0b4\\ub780\", \"\\ub0b4\\ub780\", \"\\ud14c\\ub7ec\", \"\\ud14c\\ub7ec\", \"\\ub0b4\\ub780\", \"\\ub9c8\\uc57d\", \"\\ud574\\uc801\", \"\\ud14c\\ub7ec\", \"\\ub0b4\\ub780\", \"\\ub0b4\\ub780\", \"\\ud574\\uc801\", \"\\ub9c8\\uc57d\", \"\\ub0b4\\ub780\", \"\\ub0b4\\ub780\", \"\\ub0b4\\ub780\", \"\\ud14c\\ub7ec\", \"\\ub0b4\\ub780\", \"\\ub0b4\\ub780\", \"\\ud14c\\ub7ec\", \"\\ub0b4\\ub780\", \"\\ud14c\\ub7ec\", \"\\ub0b4\\ub780\", \"\\ubbfc\\uc871\"], \"y\": [1000000, 115800, 500000, 1000000, 17000, 32000, 3650, 55000, 748000, 10500, 360000, 35250, 5325, 2500, 41600, 10000, 1500, 37000, 144600, 13500, 24764, 770000, 400000, 472260, 156000, 7500, 188900, 10000]}, {\"name\": \"\\ud3c9\\uade0\\ubcc0\\ud654\\uc728(X10)\", \"type\": \"bar\", \"x\": [\"\\ud14c\\ub7ec\", \"\\ud14c\\ub7ec\", \"\\ud14c\\ub7ec\", \"\\ud14c\\ub7ec\", \"\\ubbfc\\uc871\", \"\\ub0b4\\ub780\", \"\\ub0b4\\ub780\", \"\\ud14c\\ub7ec\", \"\\ud14c\\ub7ec\", \"\\ub0b4\\ub780\", \"\\ub9c8\\uc57d\", \"\\ud574\\uc801\", \"\\ud14c\\ub7ec\", \"\\ub0b4\\ub780\", \"\\ub0b4\\ub780\", \"\\ud574\\uc801\", \"\\ub9c8\\uc57d\", \"\\ub0b4\\ub780\", \"\\ub0b4\\ub780\", \"\\ub0b4\\ub780\", \"\\ud14c\\ub7ec\", \"\\ub0b4\\ub780\", \"\\ub0b4\\ub780\", \"\\ud14c\\ub7ec\", \"\\ub0b4\\ub780\", \"\\ud14c\\ub7ec\", \"\\ub0b4\\ub780\", \"\\ubbfc\\uc871\"], \"y\": [451390, 145160, 269920, 94180, 170260, 870290, 172720, 330240, 281360, 197320, 207380, 383220, 225920, 280040, 488180, 0, 294880, 246950, 516820, 225420, 527650, 200010, 316660, 183420, 529340, 0, 0, 0]}],                        {\"template\": {\"data\": {\"bar\": [{\"error_x\": {\"color\": \"#2a3f5f\"}, \"error_y\": {\"color\": \"#2a3f5f\"}, \"marker\": {\"line\": {\"color\": \"#E5ECF6\", \"width\": 0.5}}, \"type\": \"bar\"}], \"barpolar\": [{\"marker\": {\"line\": {\"color\": \"#E5ECF6\", \"width\": 0.5}}, \"type\": \"barpolar\"}], \"carpet\": [{\"aaxis\": {\"endlinecolor\": \"#2a3f5f\", \"gridcolor\": \"white\", \"linecolor\": \"white\", \"minorgridcolor\": \"white\", \"startlinecolor\": \"#2a3f5f\"}, \"baxis\": {\"endlinecolor\": \"#2a3f5f\", \"gridcolor\": \"white\", \"linecolor\": \"white\", \"minorgridcolor\": \"white\", \"startlinecolor\": \"#2a3f5f\"}, \"type\": \"carpet\"}], \"choropleth\": [{\"colorbar\": {\"outlinewidth\": 0, \"ticks\": \"\"}, \"type\": \"choropleth\"}], \"contour\": [{\"colorbar\": {\"outlinewidth\": 0, \"ticks\": \"\"}, \"colorscale\": [[0.0, \"#0d0887\"], [0.1111111111111111, \"#46039f\"], [0.2222222222222222, \"#7201a8\"], [0.3333333333333333, \"#9c179e\"], [0.4444444444444444, \"#bd3786\"], [0.5555555555555556, \"#d8576b\"], [0.6666666666666666, \"#ed7953\"], [0.7777777777777778, \"#fb9f3a\"], [0.8888888888888888, \"#fdca26\"], [1.0, \"#f0f921\"]], \"type\": \"contour\"}], \"contourcarpet\": [{\"colorbar\": {\"outlinewidth\": 0, \"ticks\": \"\"}, \"type\": \"contourcarpet\"}], \"heatmap\": [{\"colorbar\": {\"outlinewidth\": 0, \"ticks\": \"\"}, \"colorscale\": [[0.0, \"#0d0887\"], [0.1111111111111111, \"#46039f\"], [0.2222222222222222, \"#7201a8\"], [0.3333333333333333, \"#9c179e\"], [0.4444444444444444, \"#bd3786\"], [0.5555555555555556, \"#d8576b\"], [0.6666666666666666, \"#ed7953\"], [0.7777777777777778, \"#fb9f3a\"], [0.8888888888888888, \"#fdca26\"], [1.0, \"#f0f921\"]], \"type\": \"heatmap\"}], \"heatmapgl\": [{\"colorbar\": {\"outlinewidth\": 0, \"ticks\": \"\"}, \"colorscale\": [[0.0, \"#0d0887\"], [0.1111111111111111, \"#46039f\"], [0.2222222222222222, \"#7201a8\"], [0.3333333333333333, \"#9c179e\"], [0.4444444444444444, \"#bd3786\"], [0.5555555555555556, \"#d8576b\"], [0.6666666666666666, \"#ed7953\"], [0.7777777777777778, \"#fb9f3a\"], [0.8888888888888888, \"#fdca26\"], [1.0, \"#f0f921\"]], \"type\": \"heatmapgl\"}], \"histogram\": [{\"marker\": {\"colorbar\": {\"outlinewidth\": 0, \"ticks\": \"\"}}, \"type\": \"histogram\"}], \"histogram2d\": [{\"colorbar\": {\"outlinewidth\": 0, \"ticks\": \"\"}, \"colorscale\": [[0.0, \"#0d0887\"], [0.1111111111111111, \"#46039f\"], [0.2222222222222222, \"#7201a8\"], [0.3333333333333333, \"#9c179e\"], [0.4444444444444444, \"#bd3786\"], [0.5555555555555556, \"#d8576b\"], [0.6666666666666666, \"#ed7953\"], [0.7777777777777778, \"#fb9f3a\"], [0.8888888888888888, \"#fdca26\"], [1.0, \"#f0f921\"]], \"type\": \"histogram2d\"}], \"histogram2dcontour\": [{\"colorbar\": {\"outlinewidth\": 0, \"ticks\": \"\"}, \"colorscale\": [[0.0, \"#0d0887\"], [0.1111111111111111, \"#46039f\"], [0.2222222222222222, \"#7201a8\"], [0.3333333333333333, \"#9c179e\"], [0.4444444444444444, \"#bd3786\"], [0.5555555555555556, \"#d8576b\"], [0.6666666666666666, \"#ed7953\"], [0.7777777777777778, \"#fb9f3a\"], [0.8888888888888888, \"#fdca26\"], [1.0, \"#f0f921\"]], \"type\": \"histogram2dcontour\"}], \"mesh3d\": [{\"colorbar\": {\"outlinewidth\": 0, \"ticks\": \"\"}, \"type\": \"mesh3d\"}], \"parcoords\": [{\"line\": {\"colorbar\": {\"outlinewidth\": 0, \"ticks\": \"\"}}, \"type\": \"parcoords\"}], \"pie\": [{\"automargin\": true, \"type\": \"pie\"}], \"scatter\": [{\"marker\": {\"colorbar\": {\"outlinewidth\": 0, \"ticks\": \"\"}}, \"type\": \"scatter\"}], \"scatter3d\": [{\"line\": {\"colorbar\": {\"outlinewidth\": 0, \"ticks\": \"\"}}, \"marker\": {\"colorbar\": {\"outlinewidth\": 0, \"ticks\": \"\"}}, \"type\": \"scatter3d\"}], \"scattercarpet\": [{\"marker\": {\"colorbar\": {\"outlinewidth\": 0, \"ticks\": \"\"}}, \"type\": \"scattercarpet\"}], \"scattergeo\": [{\"marker\": {\"colorbar\": {\"outlinewidth\": 0, \"ticks\": \"\"}}, \"type\": \"scattergeo\"}], \"scattergl\": [{\"marker\": {\"colorbar\": {\"outlinewidth\": 0, \"ticks\": \"\"}}, \"type\": \"scattergl\"}], \"scattermapbox\": [{\"marker\": {\"colorbar\": {\"outlinewidth\": 0, \"ticks\": \"\"}}, \"type\": \"scattermapbox\"}], \"scatterpolar\": [{\"marker\": {\"colorbar\": {\"outlinewidth\": 0, \"ticks\": \"\"}}, \"type\": \"scatterpolar\"}], \"scatterpolargl\": [{\"marker\": {\"colorbar\": {\"outlinewidth\": 0, \"ticks\": \"\"}}, \"type\": \"scatterpolargl\"}], \"scatterternary\": [{\"marker\": {\"colorbar\": {\"outlinewidth\": 0, \"ticks\": \"\"}}, \"type\": \"scatterternary\"}], \"surface\": [{\"colorbar\": {\"outlinewidth\": 0, \"ticks\": \"\"}, \"colorscale\": [[0.0, \"#0d0887\"], [0.1111111111111111, \"#46039f\"], [0.2222222222222222, \"#7201a8\"], [0.3333333333333333, \"#9c179e\"], [0.4444444444444444, \"#bd3786\"], [0.5555555555555556, \"#d8576b\"], [0.6666666666666666, \"#ed7953\"], [0.7777777777777778, \"#fb9f3a\"], [0.8888888888888888, \"#fdca26\"], [1.0, \"#f0f921\"]], \"type\": \"surface\"}], \"table\": [{\"cells\": {\"fill\": {\"color\": \"#EBF0F8\"}, \"line\": {\"color\": \"white\"}}, \"header\": {\"fill\": {\"color\": \"#C8D4E3\"}, \"line\": {\"color\": \"white\"}}, \"type\": \"table\"}]}, \"layout\": {\"annotationdefaults\": {\"arrowcolor\": \"#2a3f5f\", \"arrowhead\": 0, \"arrowwidth\": 1}, \"autotypenumbers\": \"strict\", \"coloraxis\": {\"colorbar\": {\"outlinewidth\": 0, \"ticks\": \"\"}}, \"colorscale\": {\"diverging\": [[0, \"#8e0152\"], [0.1, \"#c51b7d\"], [0.2, \"#de77ae\"], [0.3, \"#f1b6da\"], [0.4, \"#fde0ef\"], [0.5, \"#f7f7f7\"], [0.6, \"#e6f5d0\"], [0.7, \"#b8e186\"], [0.8, \"#7fbc41\"], [0.9, \"#4d9221\"], [1, \"#276419\"]], \"sequential\": [[0.0, \"#0d0887\"], [0.1111111111111111, \"#46039f\"], [0.2222222222222222, \"#7201a8\"], [0.3333333333333333, \"#9c179e\"], [0.4444444444444444, \"#bd3786\"], [0.5555555555555556, \"#d8576b\"], [0.6666666666666666, \"#ed7953\"], [0.7777777777777778, \"#fb9f3a\"], [0.8888888888888888, \"#fdca26\"], [1.0, \"#f0f921\"]], \"sequentialminus\": [[0.0, \"#0d0887\"], [0.1111111111111111, \"#46039f\"], [0.2222222222222222, \"#7201a8\"], [0.3333333333333333, \"#9c179e\"], [0.4444444444444444, \"#bd3786\"], [0.5555555555555556, \"#d8576b\"], [0.6666666666666666, \"#ed7953\"], [0.7777777777777778, \"#fb9f3a\"], [0.8888888888888888, \"#fdca26\"], [1.0, \"#f0f921\"]]}, \"colorway\": [\"#636efa\", \"#EF553B\", \"#00cc96\", \"#ab63fa\", \"#FFA15A\", \"#19d3f3\", \"#FF6692\", \"#B6E880\", \"#FF97FF\", \"#FECB52\"], \"font\": {\"color\": \"#2a3f5f\"}, \"geo\": {\"bgcolor\": \"white\", \"lakecolor\": \"white\", \"landcolor\": \"#E5ECF6\", \"showlakes\": true, \"showland\": true, \"subunitcolor\": \"white\"}, \"hoverlabel\": {\"align\": \"left\"}, \"hovermode\": \"closest\", \"mapbox\": {\"style\": \"light\"}, \"paper_bgcolor\": \"white\", \"plot_bgcolor\": \"#E5ECF6\", \"polar\": {\"angularaxis\": {\"gridcolor\": \"white\", \"linecolor\": \"white\", \"ticks\": \"\"}, \"bgcolor\": \"#E5ECF6\", \"radialaxis\": {\"gridcolor\": \"white\", \"linecolor\": \"white\", \"ticks\": \"\"}}, \"scene\": {\"xaxis\": {\"backgroundcolor\": \"#E5ECF6\", \"gridcolor\": \"white\", \"gridwidth\": 2, \"linecolor\": \"white\", \"showbackground\": true, \"ticks\": \"\", \"zerolinecolor\": \"white\"}, \"yaxis\": {\"backgroundcolor\": \"#E5ECF6\", \"gridcolor\": \"white\", \"gridwidth\": 2, \"linecolor\": \"white\", \"showbackground\": true, \"ticks\": \"\", \"zerolinecolor\": \"white\"}, \"zaxis\": {\"backgroundcolor\": \"#E5ECF6\", \"gridcolor\": \"white\", \"gridwidth\": 2, \"linecolor\": \"white\", \"showbackground\": true, \"ticks\": \"\", \"zerolinecolor\": \"white\"}}, \"shapedefaults\": {\"line\": {\"color\": \"#2a3f5f\"}}, \"ternary\": {\"aaxis\": {\"gridcolor\": \"white\", \"linecolor\": \"white\", \"ticks\": \"\"}, \"baxis\": {\"gridcolor\": \"white\", \"linecolor\": \"white\", \"ticks\": \"\"}, \"bgcolor\": \"#E5ECF6\", \"caxis\": {\"gridcolor\": \"white\", \"linecolor\": \"white\", \"ticks\": \"\"}}, \"title\": {\"x\": 0.05}, \"xaxis\": {\"automargin\": true, \"gridcolor\": \"white\", \"linecolor\": \"white\", \"ticks\": \"\", \"title\": {\"standoff\": 15}, \"zerolinecolor\": \"white\", \"zerolinewidth\": 2}, \"yaxis\": {\"automargin\": true, \"gridcolor\": \"white\", \"linecolor\": \"white\", \"ticks\": \"\", \"title\": {\"standoff\": 15}, \"zerolinecolor\": \"white\", \"zerolinewidth\": 2}}}, \"title\": {\"text\": \"<b> 5\\uac00\\uc9c0 \\uac08\\ub4f1\\uc885\\ub958 : \\ud14c\\ub7ec, \\ubbfc\\uc871, \\ub0b4\\ub780, \\ub9c8\\uc57d, \\ud574\\uc801\"}},                        {\"responsive\": true}                    ).then(function(){\n",
       "                            \n",
       "var gd = document.getElementById('2074e151-a47f-4f32-9833-cc94c20c8b48');\n",
       "var x = new MutationObserver(function (mutations, observer) {{\n",
       "        var display = window.getComputedStyle(gd).display;\n",
       "        if (!display || display === 'none') {{\n",
       "            console.log([gd, 'removed!']);\n",
       "            Plotly.purge(gd);\n",
       "            observer.disconnect();\n",
       "        }}\n",
       "}});\n",
       "\n",
       "// Listen for the removal of the full notebook cells\n",
       "var notebookContainer = gd.closest('#notebook-container');\n",
       "if (notebookContainer) {{\n",
       "    x.observe(notebookContainer, {childList: true});\n",
       "}}\n",
       "\n",
       "// Listen for the clearing of the current output cell\n",
       "var outputEl = gd.closest('.output');\n",
       "if (outputEl) {{\n",
       "    x.observe(outputEl, {childList: true});\n",
       "}}\n",
       "\n",
       "                        })                };                });            </script>        </div>"
      ]
     },
     "metadata": {},
     "output_type": "display_data"
    }
   ],
   "source": [
    "fig = go.Figure()\n",
    "fig.add_trace(go.Bar(y=ls_war_X2['War_volume'], x = ls_war_X2['War_kind'], name='전쟁규모'))\n",
    "fig.add_trace(go.Bar(y=ls_war_X2['Abs_sum']*10, x = ls_war_X2['War_kind'], name='평균변화율(X10)'))\n",
    "fig.update_layout(title='<b> 5가지 갈등종류 : 테러, 민족, 내란, 마약, 해적')\n",
    "fig.show();"
   ]
  },
  {
   "cell_type": "markdown",
   "metadata": {},
   "source": [
    "## 갈등종류에 따른 전쟁규모 TOP2"
   ]
  },
  {
   "cell_type": "code",
   "execution_count": 16,
   "metadata": {},
   "outputs": [
    {
     "data": {
      "application/vnd.plotly.v1+json": {
       "config": {
        "plotlyServerURL": "https://plot.ly"
       },
       "data": [
        {
         "name": "테러",
         "type": "bar",
         "x": [
          "테러와의전쟁",
          "영원한자유작전-필리핀",
          "영원한자유작전-아프리카의뿔",
          "이라크전쟁",
          "파타-하마스 분쟁",
          "이라크내전",
          "영원한자유작전-트랜스사하라",
          "북부말리전쟁",
          "ISIL에대한국제군사개입",
          "마라위위기"
         ],
         "y": [
          1000000,
          115800,
          500000,
          1000000,
          17000,
          32000,
          3650,
          55000,
          748000,
          10500,
          360000,
          35250,
          5325,
          2500,
          41600,
          10000,
          1500,
          37000,
          144600,
          13500,
          24764,
          770000,
          400000,
          472260,
          156000,
          7500,
          188900,
          10000
         ]
        },
        {
         "name": "내란",
         "type": "bar",
         "x": [
          "예멘의 Houthi 반란",
          "파라과이인민군반란",
          "2006년레바논전쟁",
          "2008 안주안침공",
          "소말리아내전",
          "리비아내전",
          "시리아내전",
          "레바논에서의시리아내전파급",
          "이라크 내전",
          "리비아 내전",
          "예멘내전",
          "이라크반란"
         ],
         "y": [
          1000000,
          115800,
          500000,
          1000000,
          17000,
          32000,
          3650,
          55000,
          748000,
          10500,
          360000,
          35250,
          5325,
          2500,
          41600,
          10000,
          1500,
          37000,
          144600,
          13500,
          24764,
          770000,
          400000,
          472260,
          156000,
          7500,
          188900,
          10000
         ]
        }
       ],
       "layout": {
        "template": {
         "data": {
          "bar": [
           {
            "error_x": {
             "color": "#2a3f5f"
            },
            "error_y": {
             "color": "#2a3f5f"
            },
            "marker": {
             "line": {
              "color": "#E5ECF6",
              "width": 0.5
             }
            },
            "type": "bar"
           }
          ],
          "barpolar": [
           {
            "marker": {
             "line": {
              "color": "#E5ECF6",
              "width": 0.5
             }
            },
            "type": "barpolar"
           }
          ],
          "carpet": [
           {
            "aaxis": {
             "endlinecolor": "#2a3f5f",
             "gridcolor": "white",
             "linecolor": "white",
             "minorgridcolor": "white",
             "startlinecolor": "#2a3f5f"
            },
            "baxis": {
             "endlinecolor": "#2a3f5f",
             "gridcolor": "white",
             "linecolor": "white",
             "minorgridcolor": "white",
             "startlinecolor": "#2a3f5f"
            },
            "type": "carpet"
           }
          ],
          "choropleth": [
           {
            "colorbar": {
             "outlinewidth": 0,
             "ticks": ""
            },
            "type": "choropleth"
           }
          ],
          "contour": [
           {
            "colorbar": {
             "outlinewidth": 0,
             "ticks": ""
            },
            "colorscale": [
             [
              0,
              "#0d0887"
             ],
             [
              0.1111111111111111,
              "#46039f"
             ],
             [
              0.2222222222222222,
              "#7201a8"
             ],
             [
              0.3333333333333333,
              "#9c179e"
             ],
             [
              0.4444444444444444,
              "#bd3786"
             ],
             [
              0.5555555555555556,
              "#d8576b"
             ],
             [
              0.6666666666666666,
              "#ed7953"
             ],
             [
              0.7777777777777778,
              "#fb9f3a"
             ],
             [
              0.8888888888888888,
              "#fdca26"
             ],
             [
              1,
              "#f0f921"
             ]
            ],
            "type": "contour"
           }
          ],
          "contourcarpet": [
           {
            "colorbar": {
             "outlinewidth": 0,
             "ticks": ""
            },
            "type": "contourcarpet"
           }
          ],
          "heatmap": [
           {
            "colorbar": {
             "outlinewidth": 0,
             "ticks": ""
            },
            "colorscale": [
             [
              0,
              "#0d0887"
             ],
             [
              0.1111111111111111,
              "#46039f"
             ],
             [
              0.2222222222222222,
              "#7201a8"
             ],
             [
              0.3333333333333333,
              "#9c179e"
             ],
             [
              0.4444444444444444,
              "#bd3786"
             ],
             [
              0.5555555555555556,
              "#d8576b"
             ],
             [
              0.6666666666666666,
              "#ed7953"
             ],
             [
              0.7777777777777778,
              "#fb9f3a"
             ],
             [
              0.8888888888888888,
              "#fdca26"
             ],
             [
              1,
              "#f0f921"
             ]
            ],
            "type": "heatmap"
           }
          ],
          "heatmapgl": [
           {
            "colorbar": {
             "outlinewidth": 0,
             "ticks": ""
            },
            "colorscale": [
             [
              0,
              "#0d0887"
             ],
             [
              0.1111111111111111,
              "#46039f"
             ],
             [
              0.2222222222222222,
              "#7201a8"
             ],
             [
              0.3333333333333333,
              "#9c179e"
             ],
             [
              0.4444444444444444,
              "#bd3786"
             ],
             [
              0.5555555555555556,
              "#d8576b"
             ],
             [
              0.6666666666666666,
              "#ed7953"
             ],
             [
              0.7777777777777778,
              "#fb9f3a"
             ],
             [
              0.8888888888888888,
              "#fdca26"
             ],
             [
              1,
              "#f0f921"
             ]
            ],
            "type": "heatmapgl"
           }
          ],
          "histogram": [
           {
            "marker": {
             "colorbar": {
              "outlinewidth": 0,
              "ticks": ""
             }
            },
            "type": "histogram"
           }
          ],
          "histogram2d": [
           {
            "colorbar": {
             "outlinewidth": 0,
             "ticks": ""
            },
            "colorscale": [
             [
              0,
              "#0d0887"
             ],
             [
              0.1111111111111111,
              "#46039f"
             ],
             [
              0.2222222222222222,
              "#7201a8"
             ],
             [
              0.3333333333333333,
              "#9c179e"
             ],
             [
              0.4444444444444444,
              "#bd3786"
             ],
             [
              0.5555555555555556,
              "#d8576b"
             ],
             [
              0.6666666666666666,
              "#ed7953"
             ],
             [
              0.7777777777777778,
              "#fb9f3a"
             ],
             [
              0.8888888888888888,
              "#fdca26"
             ],
             [
              1,
              "#f0f921"
             ]
            ],
            "type": "histogram2d"
           }
          ],
          "histogram2dcontour": [
           {
            "colorbar": {
             "outlinewidth": 0,
             "ticks": ""
            },
            "colorscale": [
             [
              0,
              "#0d0887"
             ],
             [
              0.1111111111111111,
              "#46039f"
             ],
             [
              0.2222222222222222,
              "#7201a8"
             ],
             [
              0.3333333333333333,
              "#9c179e"
             ],
             [
              0.4444444444444444,
              "#bd3786"
             ],
             [
              0.5555555555555556,
              "#d8576b"
             ],
             [
              0.6666666666666666,
              "#ed7953"
             ],
             [
              0.7777777777777778,
              "#fb9f3a"
             ],
             [
              0.8888888888888888,
              "#fdca26"
             ],
             [
              1,
              "#f0f921"
             ]
            ],
            "type": "histogram2dcontour"
           }
          ],
          "mesh3d": [
           {
            "colorbar": {
             "outlinewidth": 0,
             "ticks": ""
            },
            "type": "mesh3d"
           }
          ],
          "parcoords": [
           {
            "line": {
             "colorbar": {
              "outlinewidth": 0,
              "ticks": ""
             }
            },
            "type": "parcoords"
           }
          ],
          "pie": [
           {
            "automargin": true,
            "type": "pie"
           }
          ],
          "scatter": [
           {
            "marker": {
             "colorbar": {
              "outlinewidth": 0,
              "ticks": ""
             }
            },
            "type": "scatter"
           }
          ],
          "scatter3d": [
           {
            "line": {
             "colorbar": {
              "outlinewidth": 0,
              "ticks": ""
             }
            },
            "marker": {
             "colorbar": {
              "outlinewidth": 0,
              "ticks": ""
             }
            },
            "type": "scatter3d"
           }
          ],
          "scattercarpet": [
           {
            "marker": {
             "colorbar": {
              "outlinewidth": 0,
              "ticks": ""
             }
            },
            "type": "scattercarpet"
           }
          ],
          "scattergeo": [
           {
            "marker": {
             "colorbar": {
              "outlinewidth": 0,
              "ticks": ""
             }
            },
            "type": "scattergeo"
           }
          ],
          "scattergl": [
           {
            "marker": {
             "colorbar": {
              "outlinewidth": 0,
              "ticks": ""
             }
            },
            "type": "scattergl"
           }
          ],
          "scattermapbox": [
           {
            "marker": {
             "colorbar": {
              "outlinewidth": 0,
              "ticks": ""
             }
            },
            "type": "scattermapbox"
           }
          ],
          "scatterpolar": [
           {
            "marker": {
             "colorbar": {
              "outlinewidth": 0,
              "ticks": ""
             }
            },
            "type": "scatterpolar"
           }
          ],
          "scatterpolargl": [
           {
            "marker": {
             "colorbar": {
              "outlinewidth": 0,
              "ticks": ""
             }
            },
            "type": "scatterpolargl"
           }
          ],
          "scatterternary": [
           {
            "marker": {
             "colorbar": {
              "outlinewidth": 0,
              "ticks": ""
             }
            },
            "type": "scatterternary"
           }
          ],
          "surface": [
           {
            "colorbar": {
             "outlinewidth": 0,
             "ticks": ""
            },
            "colorscale": [
             [
              0,
              "#0d0887"
             ],
             [
              0.1111111111111111,
              "#46039f"
             ],
             [
              0.2222222222222222,
              "#7201a8"
             ],
             [
              0.3333333333333333,
              "#9c179e"
             ],
             [
              0.4444444444444444,
              "#bd3786"
             ],
             [
              0.5555555555555556,
              "#d8576b"
             ],
             [
              0.6666666666666666,
              "#ed7953"
             ],
             [
              0.7777777777777778,
              "#fb9f3a"
             ],
             [
              0.8888888888888888,
              "#fdca26"
             ],
             [
              1,
              "#f0f921"
             ]
            ],
            "type": "surface"
           }
          ],
          "table": [
           {
            "cells": {
             "fill": {
              "color": "#EBF0F8"
             },
             "line": {
              "color": "white"
             }
            },
            "header": {
             "fill": {
              "color": "#C8D4E3"
             },
             "line": {
              "color": "white"
             }
            },
            "type": "table"
           }
          ]
         },
         "layout": {
          "annotationdefaults": {
           "arrowcolor": "#2a3f5f",
           "arrowhead": 0,
           "arrowwidth": 1
          },
          "autotypenumbers": "strict",
          "coloraxis": {
           "colorbar": {
            "outlinewidth": 0,
            "ticks": ""
           }
          },
          "colorscale": {
           "diverging": [
            [
             0,
             "#8e0152"
            ],
            [
             0.1,
             "#c51b7d"
            ],
            [
             0.2,
             "#de77ae"
            ],
            [
             0.3,
             "#f1b6da"
            ],
            [
             0.4,
             "#fde0ef"
            ],
            [
             0.5,
             "#f7f7f7"
            ],
            [
             0.6,
             "#e6f5d0"
            ],
            [
             0.7,
             "#b8e186"
            ],
            [
             0.8,
             "#7fbc41"
            ],
            [
             0.9,
             "#4d9221"
            ],
            [
             1,
             "#276419"
            ]
           ],
           "sequential": [
            [
             0,
             "#0d0887"
            ],
            [
             0.1111111111111111,
             "#46039f"
            ],
            [
             0.2222222222222222,
             "#7201a8"
            ],
            [
             0.3333333333333333,
             "#9c179e"
            ],
            [
             0.4444444444444444,
             "#bd3786"
            ],
            [
             0.5555555555555556,
             "#d8576b"
            ],
            [
             0.6666666666666666,
             "#ed7953"
            ],
            [
             0.7777777777777778,
             "#fb9f3a"
            ],
            [
             0.8888888888888888,
             "#fdca26"
            ],
            [
             1,
             "#f0f921"
            ]
           ],
           "sequentialminus": [
            [
             0,
             "#0d0887"
            ],
            [
             0.1111111111111111,
             "#46039f"
            ],
            [
             0.2222222222222222,
             "#7201a8"
            ],
            [
             0.3333333333333333,
             "#9c179e"
            ],
            [
             0.4444444444444444,
             "#bd3786"
            ],
            [
             0.5555555555555556,
             "#d8576b"
            ],
            [
             0.6666666666666666,
             "#ed7953"
            ],
            [
             0.7777777777777778,
             "#fb9f3a"
            ],
            [
             0.8888888888888888,
             "#fdca26"
            ],
            [
             1,
             "#f0f921"
            ]
           ]
          },
          "colorway": [
           "#636efa",
           "#EF553B",
           "#00cc96",
           "#ab63fa",
           "#FFA15A",
           "#19d3f3",
           "#FF6692",
           "#B6E880",
           "#FF97FF",
           "#FECB52"
          ],
          "font": {
           "color": "#2a3f5f"
          },
          "geo": {
           "bgcolor": "white",
           "lakecolor": "white",
           "landcolor": "#E5ECF6",
           "showlakes": true,
           "showland": true,
           "subunitcolor": "white"
          },
          "hoverlabel": {
           "align": "left"
          },
          "hovermode": "closest",
          "mapbox": {
           "style": "light"
          },
          "paper_bgcolor": "white",
          "plot_bgcolor": "#E5ECF6",
          "polar": {
           "angularaxis": {
            "gridcolor": "white",
            "linecolor": "white",
            "ticks": ""
           },
           "bgcolor": "#E5ECF6",
           "radialaxis": {
            "gridcolor": "white",
            "linecolor": "white",
            "ticks": ""
           }
          },
          "scene": {
           "xaxis": {
            "backgroundcolor": "#E5ECF6",
            "gridcolor": "white",
            "gridwidth": 2,
            "linecolor": "white",
            "showbackground": true,
            "ticks": "",
            "zerolinecolor": "white"
           },
           "yaxis": {
            "backgroundcolor": "#E5ECF6",
            "gridcolor": "white",
            "gridwidth": 2,
            "linecolor": "white",
            "showbackground": true,
            "ticks": "",
            "zerolinecolor": "white"
           },
           "zaxis": {
            "backgroundcolor": "#E5ECF6",
            "gridcolor": "white",
            "gridwidth": 2,
            "linecolor": "white",
            "showbackground": true,
            "ticks": "",
            "zerolinecolor": "white"
           }
          },
          "shapedefaults": {
           "line": {
            "color": "#2a3f5f"
           }
          },
          "ternary": {
           "aaxis": {
            "gridcolor": "white",
            "linecolor": "white",
            "ticks": ""
           },
           "baxis": {
            "gridcolor": "white",
            "linecolor": "white",
            "ticks": ""
           },
           "bgcolor": "#E5ECF6",
           "caxis": {
            "gridcolor": "white",
            "linecolor": "white",
            "ticks": ""
           }
          },
          "title": {
           "x": 0.05
          },
          "xaxis": {
           "automargin": true,
           "gridcolor": "white",
           "linecolor": "white",
           "ticks": "",
           "title": {
            "standoff": 15
           },
           "zerolinecolor": "white",
           "zerolinewidth": 2
          },
          "yaxis": {
           "automargin": true,
           "gridcolor": "white",
           "linecolor": "white",
           "ticks": "",
           "title": {
            "standoff": 15
           },
           "zerolinecolor": "white",
           "zerolinewidth": 2
          }
         }
        },
        "title": {
         "text": "<b> 갈등종류에 따른 전쟁규모 TOP2"
        }
       }
      },
      "text/html": [
       "<div>                            <div id=\"eba352f6-b3c3-4b42-9221-2191391e2919\" class=\"plotly-graph-div\" style=\"height:525px; width:100%;\"></div>            <script type=\"text/javascript\">                require([\"plotly\"], function(Plotly) {                    window.PLOTLYENV=window.PLOTLYENV || {};                                    if (document.getElementById(\"eba352f6-b3c3-4b42-9221-2191391e2919\")) {                    Plotly.newPlot(                        \"eba352f6-b3c3-4b42-9221-2191391e2919\",                        [{\"name\": \"\\ud14c\\ub7ec\", \"type\": \"bar\", \"x\": [\"\\ud14c\\ub7ec\\uc640\\uc758\\uc804\\uc7c1\", \"\\uc601\\uc6d0\\ud55c\\uc790\\uc720\\uc791\\uc804-\\ud544\\ub9ac\\ud540\", \"\\uc601\\uc6d0\\ud55c\\uc790\\uc720\\uc791\\uc804-\\uc544\\ud504\\ub9ac\\uce74\\uc758\\ubfd4\", \"\\uc774\\ub77c\\ud06c\\uc804\\uc7c1\", \"\\ud30c\\ud0c0-\\ud558\\ub9c8\\uc2a4 \\ubd84\\uc7c1\", \"\\uc774\\ub77c\\ud06c\\ub0b4\\uc804\", \"\\uc601\\uc6d0\\ud55c\\uc790\\uc720\\uc791\\uc804-\\ud2b8\\ub79c\\uc2a4\\uc0ac\\ud558\\ub77c\", \"\\ubd81\\ubd80\\ub9d0\\ub9ac\\uc804\\uc7c1\", \"ISIL\\uc5d0\\ub300\\ud55c\\uad6d\\uc81c\\uad70\\uc0ac\\uac1c\\uc785\", \"\\ub9c8\\ub77c\\uc704\\uc704\\uae30\"], \"y\": [1000000, 115800, 500000, 1000000, 17000, 32000, 3650, 55000, 748000, 10500, 360000, 35250, 5325, 2500, 41600, 10000, 1500, 37000, 144600, 13500, 24764, 770000, 400000, 472260, 156000, 7500, 188900, 10000]}, {\"name\": \"\\ub0b4\\ub780\", \"type\": \"bar\", \"x\": [\"\\uc608\\uba58\\uc758 Houthi \\ubc18\\ub780\", \"\\ud30c\\ub77c\\uacfc\\uc774\\uc778\\ubbfc\\uad70\\ubc18\\ub780\", \"2006\\ub144\\ub808\\ubc14\\ub17c\\uc804\\uc7c1\", \"2008 \\uc548\\uc8fc\\uc548\\uce68\\uacf5\", \"\\uc18c\\ub9d0\\ub9ac\\uc544\\ub0b4\\uc804\", \"\\ub9ac\\ube44\\uc544\\ub0b4\\uc804\", \"\\uc2dc\\ub9ac\\uc544\\ub0b4\\uc804\", \"\\ub808\\ubc14\\ub17c\\uc5d0\\uc11c\\uc758\\uc2dc\\ub9ac\\uc544\\ub0b4\\uc804\\ud30c\\uae09\", \"\\uc774\\ub77c\\ud06c \\ub0b4\\uc804\", \"\\ub9ac\\ube44\\uc544 \\ub0b4\\uc804\", \"\\uc608\\uba58\\ub0b4\\uc804\", \"\\uc774\\ub77c\\ud06c\\ubc18\\ub780\"], \"y\": [1000000, 115800, 500000, 1000000, 17000, 32000, 3650, 55000, 748000, 10500, 360000, 35250, 5325, 2500, 41600, 10000, 1500, 37000, 144600, 13500, 24764, 770000, 400000, 472260, 156000, 7500, 188900, 10000]}],                        {\"template\": {\"data\": {\"bar\": [{\"error_x\": {\"color\": \"#2a3f5f\"}, \"error_y\": {\"color\": \"#2a3f5f\"}, \"marker\": {\"line\": {\"color\": \"#E5ECF6\", \"width\": 0.5}}, \"type\": \"bar\"}], \"barpolar\": [{\"marker\": {\"line\": {\"color\": \"#E5ECF6\", \"width\": 0.5}}, \"type\": \"barpolar\"}], \"carpet\": [{\"aaxis\": {\"endlinecolor\": \"#2a3f5f\", \"gridcolor\": \"white\", \"linecolor\": \"white\", \"minorgridcolor\": \"white\", \"startlinecolor\": \"#2a3f5f\"}, \"baxis\": {\"endlinecolor\": \"#2a3f5f\", \"gridcolor\": \"white\", \"linecolor\": \"white\", \"minorgridcolor\": \"white\", \"startlinecolor\": \"#2a3f5f\"}, \"type\": \"carpet\"}], \"choropleth\": [{\"colorbar\": {\"outlinewidth\": 0, \"ticks\": \"\"}, \"type\": \"choropleth\"}], \"contour\": [{\"colorbar\": {\"outlinewidth\": 0, \"ticks\": \"\"}, \"colorscale\": [[0.0, \"#0d0887\"], [0.1111111111111111, \"#46039f\"], [0.2222222222222222, \"#7201a8\"], [0.3333333333333333, \"#9c179e\"], [0.4444444444444444, \"#bd3786\"], [0.5555555555555556, \"#d8576b\"], [0.6666666666666666, \"#ed7953\"], [0.7777777777777778, \"#fb9f3a\"], [0.8888888888888888, \"#fdca26\"], [1.0, \"#f0f921\"]], \"type\": \"contour\"}], \"contourcarpet\": [{\"colorbar\": {\"outlinewidth\": 0, \"ticks\": \"\"}, \"type\": \"contourcarpet\"}], \"heatmap\": [{\"colorbar\": {\"outlinewidth\": 0, \"ticks\": \"\"}, \"colorscale\": [[0.0, \"#0d0887\"], [0.1111111111111111, \"#46039f\"], [0.2222222222222222, \"#7201a8\"], [0.3333333333333333, \"#9c179e\"], [0.4444444444444444, \"#bd3786\"], [0.5555555555555556, \"#d8576b\"], [0.6666666666666666, \"#ed7953\"], [0.7777777777777778, \"#fb9f3a\"], [0.8888888888888888, \"#fdca26\"], [1.0, \"#f0f921\"]], \"type\": \"heatmap\"}], \"heatmapgl\": [{\"colorbar\": {\"outlinewidth\": 0, \"ticks\": \"\"}, \"colorscale\": [[0.0, \"#0d0887\"], [0.1111111111111111, \"#46039f\"], [0.2222222222222222, \"#7201a8\"], [0.3333333333333333, \"#9c179e\"], [0.4444444444444444, \"#bd3786\"], [0.5555555555555556, \"#d8576b\"], [0.6666666666666666, \"#ed7953\"], [0.7777777777777778, \"#fb9f3a\"], [0.8888888888888888, \"#fdca26\"], [1.0, \"#f0f921\"]], \"type\": \"heatmapgl\"}], \"histogram\": [{\"marker\": {\"colorbar\": {\"outlinewidth\": 0, \"ticks\": \"\"}}, \"type\": \"histogram\"}], \"histogram2d\": [{\"colorbar\": {\"outlinewidth\": 0, \"ticks\": \"\"}, \"colorscale\": [[0.0, \"#0d0887\"], [0.1111111111111111, \"#46039f\"], [0.2222222222222222, \"#7201a8\"], [0.3333333333333333, \"#9c179e\"], [0.4444444444444444, \"#bd3786\"], [0.5555555555555556, \"#d8576b\"], [0.6666666666666666, \"#ed7953\"], [0.7777777777777778, \"#fb9f3a\"], [0.8888888888888888, \"#fdca26\"], [1.0, \"#f0f921\"]], \"type\": \"histogram2d\"}], \"histogram2dcontour\": [{\"colorbar\": {\"outlinewidth\": 0, \"ticks\": \"\"}, \"colorscale\": [[0.0, \"#0d0887\"], [0.1111111111111111, \"#46039f\"], [0.2222222222222222, \"#7201a8\"], [0.3333333333333333, \"#9c179e\"], [0.4444444444444444, \"#bd3786\"], [0.5555555555555556, \"#d8576b\"], [0.6666666666666666, \"#ed7953\"], [0.7777777777777778, \"#fb9f3a\"], [0.8888888888888888, \"#fdca26\"], [1.0, \"#f0f921\"]], \"type\": \"histogram2dcontour\"}], \"mesh3d\": [{\"colorbar\": {\"outlinewidth\": 0, \"ticks\": \"\"}, \"type\": \"mesh3d\"}], \"parcoords\": [{\"line\": {\"colorbar\": {\"outlinewidth\": 0, \"ticks\": \"\"}}, \"type\": \"parcoords\"}], \"pie\": [{\"automargin\": true, \"type\": \"pie\"}], \"scatter\": [{\"marker\": {\"colorbar\": {\"outlinewidth\": 0, \"ticks\": \"\"}}, \"type\": \"scatter\"}], \"scatter3d\": [{\"line\": {\"colorbar\": {\"outlinewidth\": 0, \"ticks\": \"\"}}, \"marker\": {\"colorbar\": {\"outlinewidth\": 0, \"ticks\": \"\"}}, \"type\": \"scatter3d\"}], \"scattercarpet\": [{\"marker\": {\"colorbar\": {\"outlinewidth\": 0, \"ticks\": \"\"}}, \"type\": \"scattercarpet\"}], \"scattergeo\": [{\"marker\": {\"colorbar\": {\"outlinewidth\": 0, \"ticks\": \"\"}}, \"type\": \"scattergeo\"}], \"scattergl\": [{\"marker\": {\"colorbar\": {\"outlinewidth\": 0, \"ticks\": \"\"}}, \"type\": \"scattergl\"}], \"scattermapbox\": [{\"marker\": {\"colorbar\": {\"outlinewidth\": 0, \"ticks\": \"\"}}, \"type\": \"scattermapbox\"}], \"scatterpolar\": [{\"marker\": {\"colorbar\": {\"outlinewidth\": 0, \"ticks\": \"\"}}, \"type\": \"scatterpolar\"}], \"scatterpolargl\": [{\"marker\": {\"colorbar\": {\"outlinewidth\": 0, \"ticks\": \"\"}}, \"type\": \"scatterpolargl\"}], \"scatterternary\": [{\"marker\": {\"colorbar\": {\"outlinewidth\": 0, \"ticks\": \"\"}}, \"type\": \"scatterternary\"}], \"surface\": [{\"colorbar\": {\"outlinewidth\": 0, \"ticks\": \"\"}, \"colorscale\": [[0.0, \"#0d0887\"], [0.1111111111111111, \"#46039f\"], [0.2222222222222222, \"#7201a8\"], [0.3333333333333333, \"#9c179e\"], [0.4444444444444444, \"#bd3786\"], [0.5555555555555556, \"#d8576b\"], [0.6666666666666666, \"#ed7953\"], [0.7777777777777778, \"#fb9f3a\"], [0.8888888888888888, \"#fdca26\"], [1.0, \"#f0f921\"]], \"type\": \"surface\"}], \"table\": [{\"cells\": {\"fill\": {\"color\": \"#EBF0F8\"}, \"line\": {\"color\": \"white\"}}, \"header\": {\"fill\": {\"color\": \"#C8D4E3\"}, \"line\": {\"color\": \"white\"}}, \"type\": \"table\"}]}, \"layout\": {\"annotationdefaults\": {\"arrowcolor\": \"#2a3f5f\", \"arrowhead\": 0, \"arrowwidth\": 1}, \"autotypenumbers\": \"strict\", \"coloraxis\": {\"colorbar\": {\"outlinewidth\": 0, \"ticks\": \"\"}}, \"colorscale\": {\"diverging\": [[0, \"#8e0152\"], [0.1, \"#c51b7d\"], [0.2, \"#de77ae\"], [0.3, \"#f1b6da\"], [0.4, \"#fde0ef\"], [0.5, \"#f7f7f7\"], [0.6, \"#e6f5d0\"], [0.7, \"#b8e186\"], [0.8, \"#7fbc41\"], [0.9, \"#4d9221\"], [1, \"#276419\"]], \"sequential\": [[0.0, \"#0d0887\"], [0.1111111111111111, \"#46039f\"], [0.2222222222222222, \"#7201a8\"], [0.3333333333333333, \"#9c179e\"], [0.4444444444444444, \"#bd3786\"], [0.5555555555555556, \"#d8576b\"], [0.6666666666666666, \"#ed7953\"], [0.7777777777777778, \"#fb9f3a\"], [0.8888888888888888, \"#fdca26\"], [1.0, \"#f0f921\"]], \"sequentialminus\": [[0.0, \"#0d0887\"], [0.1111111111111111, \"#46039f\"], [0.2222222222222222, \"#7201a8\"], [0.3333333333333333, \"#9c179e\"], [0.4444444444444444, \"#bd3786\"], [0.5555555555555556, \"#d8576b\"], [0.6666666666666666, \"#ed7953\"], [0.7777777777777778, \"#fb9f3a\"], [0.8888888888888888, \"#fdca26\"], [1.0, \"#f0f921\"]]}, \"colorway\": [\"#636efa\", \"#EF553B\", \"#00cc96\", \"#ab63fa\", \"#FFA15A\", \"#19d3f3\", \"#FF6692\", \"#B6E880\", \"#FF97FF\", \"#FECB52\"], \"font\": {\"color\": \"#2a3f5f\"}, \"geo\": {\"bgcolor\": \"white\", \"lakecolor\": \"white\", \"landcolor\": \"#E5ECF6\", \"showlakes\": true, \"showland\": true, \"subunitcolor\": \"white\"}, \"hoverlabel\": {\"align\": \"left\"}, \"hovermode\": \"closest\", \"mapbox\": {\"style\": \"light\"}, \"paper_bgcolor\": \"white\", \"plot_bgcolor\": \"#E5ECF6\", \"polar\": {\"angularaxis\": {\"gridcolor\": \"white\", \"linecolor\": \"white\", \"ticks\": \"\"}, \"bgcolor\": \"#E5ECF6\", \"radialaxis\": {\"gridcolor\": \"white\", \"linecolor\": \"white\", \"ticks\": \"\"}}, \"scene\": {\"xaxis\": {\"backgroundcolor\": \"#E5ECF6\", \"gridcolor\": \"white\", \"gridwidth\": 2, \"linecolor\": \"white\", \"showbackground\": true, \"ticks\": \"\", \"zerolinecolor\": \"white\"}, \"yaxis\": {\"backgroundcolor\": \"#E5ECF6\", \"gridcolor\": \"white\", \"gridwidth\": 2, \"linecolor\": \"white\", \"showbackground\": true, \"ticks\": \"\", \"zerolinecolor\": \"white\"}, \"zaxis\": {\"backgroundcolor\": \"#E5ECF6\", \"gridcolor\": \"white\", \"gridwidth\": 2, \"linecolor\": \"white\", \"showbackground\": true, \"ticks\": \"\", \"zerolinecolor\": \"white\"}}, \"shapedefaults\": {\"line\": {\"color\": \"#2a3f5f\"}}, \"ternary\": {\"aaxis\": {\"gridcolor\": \"white\", \"linecolor\": \"white\", \"ticks\": \"\"}, \"baxis\": {\"gridcolor\": \"white\", \"linecolor\": \"white\", \"ticks\": \"\"}, \"bgcolor\": \"#E5ECF6\", \"caxis\": {\"gridcolor\": \"white\", \"linecolor\": \"white\", \"ticks\": \"\"}}, \"title\": {\"x\": 0.05}, \"xaxis\": {\"automargin\": true, \"gridcolor\": \"white\", \"linecolor\": \"white\", \"ticks\": \"\", \"title\": {\"standoff\": 15}, \"zerolinecolor\": \"white\", \"zerolinewidth\": 2}, \"yaxis\": {\"automargin\": true, \"gridcolor\": \"white\", \"linecolor\": \"white\", \"ticks\": \"\", \"title\": {\"standoff\": 15}, \"zerolinecolor\": \"white\", \"zerolinewidth\": 2}}}, \"title\": {\"text\": \"<b> \\uac08\\ub4f1\\uc885\\ub958\\uc5d0 \\ub530\\ub978 \\uc804\\uc7c1\\uaddc\\ubaa8 TOP2\"}},                        {\"responsive\": true}                    ).then(function(){\n",
       "                            \n",
       "var gd = document.getElementById('eba352f6-b3c3-4b42-9221-2191391e2919');\n",
       "var x = new MutationObserver(function (mutations, observer) {{\n",
       "        var display = window.getComputedStyle(gd).display;\n",
       "        if (!display || display === 'none') {{\n",
       "            console.log([gd, 'removed!']);\n",
       "            Plotly.purge(gd);\n",
       "            observer.disconnect();\n",
       "        }}\n",
       "}});\n",
       "\n",
       "// Listen for the removal of the full notebook cells\n",
       "var notebookContainer = gd.closest('#notebook-container');\n",
       "if (notebookContainer) {{\n",
       "    x.observe(notebookContainer, {childList: true});\n",
       "}}\n",
       "\n",
       "// Listen for the clearing of the current output cell\n",
       "var outputEl = gd.closest('.output');\n",
       "if (outputEl) {{\n",
       "    x.observe(outputEl, {childList: true});\n",
       "}}\n",
       "\n",
       "                        })                };                });            </script>        </div>"
      ]
     },
     "metadata": {},
     "output_type": "display_data"
    }
   ],
   "source": [
    "fig = go.Figure()\n",
    "fig.add_trace(go.Bar(y=ls_war_X2['War_volume'], x = ls_war_X2[ls_war_X2['War_kind'] =='테러']['War_name'], name='테러'))\n",
    "fig.add_trace(go.Bar(y=ls_war_X2['War_volume'], x = ls_war_X2[ls_war_X2['War_kind'] =='내란']['War_name'], name='내란'))\n",
    "fig.update_layout(title='<b> 갈등종류에 따른 전쟁규모 TOP2')\n",
    "fig.show();"
   ]
  },
  {
   "cell_type": "markdown",
   "metadata": {},
   "source": [
    "## 참전국가수는 전쟁규모 및 평균변화율의 순위에 영향은 미치지 못한다."
   ]
  },
  {
   "cell_type": "code",
   "execution_count": 17,
   "metadata": {},
   "outputs": [
    {
     "data": {
      "application/vnd.plotly.v1+json": {
       "config": {
        "plotlyServerURL": "https://plot.ly"
       },
       "data": [
        {
         "type": "bar",
         "x": [
          48,
          2,
          38,
          41,
          3,
          7,
          3,
          3,
          5,
          2,
          4,
          8,
          17,
          7,
          11,
          19,
          2,
          21,
          13,
          19,
          57,
          22,
          19,
          41,
          19,
          5,
          13,
          13
         ],
         "y": [
          451390,
          145160,
          269920,
          94180,
          170260,
          870290,
          172720,
          330240,
          281360,
          197320,
          207380,
          383220,
          225920,
          280040,
          488180,
          0,
          294880,
          246950,
          516820,
          225420,
          527650,
          200010,
          316660,
          183420,
          529340,
          0,
          0,
          0
         ]
        },
        {
         "type": "bar",
         "x": [
          48,
          2,
          38,
          41,
          3,
          7,
          3,
          3,
          5,
          2,
          4,
          8,
          17,
          7,
          11,
          19,
          2,
          21,
          13,
          19,
          57,
          22,
          19,
          41,
          19,
          5,
          13,
          13
         ],
         "y": [
          1000000,
          115800,
          500000,
          1000000,
          17000,
          32000,
          3650,
          55000,
          748000,
          10500,
          360000,
          35250,
          5325,
          2500,
          41600,
          10000,
          1500,
          37000,
          144600,
          13500,
          24764,
          770000,
          400000,
          472260,
          156000,
          7500,
          188900,
          10000
         ]
        }
       ],
       "layout": {
        "template": {
         "data": {
          "bar": [
           {
            "error_x": {
             "color": "#2a3f5f"
            },
            "error_y": {
             "color": "#2a3f5f"
            },
            "marker": {
             "line": {
              "color": "#E5ECF6",
              "width": 0.5
             }
            },
            "type": "bar"
           }
          ],
          "barpolar": [
           {
            "marker": {
             "line": {
              "color": "#E5ECF6",
              "width": 0.5
             }
            },
            "type": "barpolar"
           }
          ],
          "carpet": [
           {
            "aaxis": {
             "endlinecolor": "#2a3f5f",
             "gridcolor": "white",
             "linecolor": "white",
             "minorgridcolor": "white",
             "startlinecolor": "#2a3f5f"
            },
            "baxis": {
             "endlinecolor": "#2a3f5f",
             "gridcolor": "white",
             "linecolor": "white",
             "minorgridcolor": "white",
             "startlinecolor": "#2a3f5f"
            },
            "type": "carpet"
           }
          ],
          "choropleth": [
           {
            "colorbar": {
             "outlinewidth": 0,
             "ticks": ""
            },
            "type": "choropleth"
           }
          ],
          "contour": [
           {
            "colorbar": {
             "outlinewidth": 0,
             "ticks": ""
            },
            "colorscale": [
             [
              0,
              "#0d0887"
             ],
             [
              0.1111111111111111,
              "#46039f"
             ],
             [
              0.2222222222222222,
              "#7201a8"
             ],
             [
              0.3333333333333333,
              "#9c179e"
             ],
             [
              0.4444444444444444,
              "#bd3786"
             ],
             [
              0.5555555555555556,
              "#d8576b"
             ],
             [
              0.6666666666666666,
              "#ed7953"
             ],
             [
              0.7777777777777778,
              "#fb9f3a"
             ],
             [
              0.8888888888888888,
              "#fdca26"
             ],
             [
              1,
              "#f0f921"
             ]
            ],
            "type": "contour"
           }
          ],
          "contourcarpet": [
           {
            "colorbar": {
             "outlinewidth": 0,
             "ticks": ""
            },
            "type": "contourcarpet"
           }
          ],
          "heatmap": [
           {
            "colorbar": {
             "outlinewidth": 0,
             "ticks": ""
            },
            "colorscale": [
             [
              0,
              "#0d0887"
             ],
             [
              0.1111111111111111,
              "#46039f"
             ],
             [
              0.2222222222222222,
              "#7201a8"
             ],
             [
              0.3333333333333333,
              "#9c179e"
             ],
             [
              0.4444444444444444,
              "#bd3786"
             ],
             [
              0.5555555555555556,
              "#d8576b"
             ],
             [
              0.6666666666666666,
              "#ed7953"
             ],
             [
              0.7777777777777778,
              "#fb9f3a"
             ],
             [
              0.8888888888888888,
              "#fdca26"
             ],
             [
              1,
              "#f0f921"
             ]
            ],
            "type": "heatmap"
           }
          ],
          "heatmapgl": [
           {
            "colorbar": {
             "outlinewidth": 0,
             "ticks": ""
            },
            "colorscale": [
             [
              0,
              "#0d0887"
             ],
             [
              0.1111111111111111,
              "#46039f"
             ],
             [
              0.2222222222222222,
              "#7201a8"
             ],
             [
              0.3333333333333333,
              "#9c179e"
             ],
             [
              0.4444444444444444,
              "#bd3786"
             ],
             [
              0.5555555555555556,
              "#d8576b"
             ],
             [
              0.6666666666666666,
              "#ed7953"
             ],
             [
              0.7777777777777778,
              "#fb9f3a"
             ],
             [
              0.8888888888888888,
              "#fdca26"
             ],
             [
              1,
              "#f0f921"
             ]
            ],
            "type": "heatmapgl"
           }
          ],
          "histogram": [
           {
            "marker": {
             "colorbar": {
              "outlinewidth": 0,
              "ticks": ""
             }
            },
            "type": "histogram"
           }
          ],
          "histogram2d": [
           {
            "colorbar": {
             "outlinewidth": 0,
             "ticks": ""
            },
            "colorscale": [
             [
              0,
              "#0d0887"
             ],
             [
              0.1111111111111111,
              "#46039f"
             ],
             [
              0.2222222222222222,
              "#7201a8"
             ],
             [
              0.3333333333333333,
              "#9c179e"
             ],
             [
              0.4444444444444444,
              "#bd3786"
             ],
             [
              0.5555555555555556,
              "#d8576b"
             ],
             [
              0.6666666666666666,
              "#ed7953"
             ],
             [
              0.7777777777777778,
              "#fb9f3a"
             ],
             [
              0.8888888888888888,
              "#fdca26"
             ],
             [
              1,
              "#f0f921"
             ]
            ],
            "type": "histogram2d"
           }
          ],
          "histogram2dcontour": [
           {
            "colorbar": {
             "outlinewidth": 0,
             "ticks": ""
            },
            "colorscale": [
             [
              0,
              "#0d0887"
             ],
             [
              0.1111111111111111,
              "#46039f"
             ],
             [
              0.2222222222222222,
              "#7201a8"
             ],
             [
              0.3333333333333333,
              "#9c179e"
             ],
             [
              0.4444444444444444,
              "#bd3786"
             ],
             [
              0.5555555555555556,
              "#d8576b"
             ],
             [
              0.6666666666666666,
              "#ed7953"
             ],
             [
              0.7777777777777778,
              "#fb9f3a"
             ],
             [
              0.8888888888888888,
              "#fdca26"
             ],
             [
              1,
              "#f0f921"
             ]
            ],
            "type": "histogram2dcontour"
           }
          ],
          "mesh3d": [
           {
            "colorbar": {
             "outlinewidth": 0,
             "ticks": ""
            },
            "type": "mesh3d"
           }
          ],
          "parcoords": [
           {
            "line": {
             "colorbar": {
              "outlinewidth": 0,
              "ticks": ""
             }
            },
            "type": "parcoords"
           }
          ],
          "pie": [
           {
            "automargin": true,
            "type": "pie"
           }
          ],
          "scatter": [
           {
            "marker": {
             "colorbar": {
              "outlinewidth": 0,
              "ticks": ""
             }
            },
            "type": "scatter"
           }
          ],
          "scatter3d": [
           {
            "line": {
             "colorbar": {
              "outlinewidth": 0,
              "ticks": ""
             }
            },
            "marker": {
             "colorbar": {
              "outlinewidth": 0,
              "ticks": ""
             }
            },
            "type": "scatter3d"
           }
          ],
          "scattercarpet": [
           {
            "marker": {
             "colorbar": {
              "outlinewidth": 0,
              "ticks": ""
             }
            },
            "type": "scattercarpet"
           }
          ],
          "scattergeo": [
           {
            "marker": {
             "colorbar": {
              "outlinewidth": 0,
              "ticks": ""
             }
            },
            "type": "scattergeo"
           }
          ],
          "scattergl": [
           {
            "marker": {
             "colorbar": {
              "outlinewidth": 0,
              "ticks": ""
             }
            },
            "type": "scattergl"
           }
          ],
          "scattermapbox": [
           {
            "marker": {
             "colorbar": {
              "outlinewidth": 0,
              "ticks": ""
             }
            },
            "type": "scattermapbox"
           }
          ],
          "scatterpolar": [
           {
            "marker": {
             "colorbar": {
              "outlinewidth": 0,
              "ticks": ""
             }
            },
            "type": "scatterpolar"
           }
          ],
          "scatterpolargl": [
           {
            "marker": {
             "colorbar": {
              "outlinewidth": 0,
              "ticks": ""
             }
            },
            "type": "scatterpolargl"
           }
          ],
          "scatterternary": [
           {
            "marker": {
             "colorbar": {
              "outlinewidth": 0,
              "ticks": ""
             }
            },
            "type": "scatterternary"
           }
          ],
          "surface": [
           {
            "colorbar": {
             "outlinewidth": 0,
             "ticks": ""
            },
            "colorscale": [
             [
              0,
              "#0d0887"
             ],
             [
              0.1111111111111111,
              "#46039f"
             ],
             [
              0.2222222222222222,
              "#7201a8"
             ],
             [
              0.3333333333333333,
              "#9c179e"
             ],
             [
              0.4444444444444444,
              "#bd3786"
             ],
             [
              0.5555555555555556,
              "#d8576b"
             ],
             [
              0.6666666666666666,
              "#ed7953"
             ],
             [
              0.7777777777777778,
              "#fb9f3a"
             ],
             [
              0.8888888888888888,
              "#fdca26"
             ],
             [
              1,
              "#f0f921"
             ]
            ],
            "type": "surface"
           }
          ],
          "table": [
           {
            "cells": {
             "fill": {
              "color": "#EBF0F8"
             },
             "line": {
              "color": "white"
             }
            },
            "header": {
             "fill": {
              "color": "#C8D4E3"
             },
             "line": {
              "color": "white"
             }
            },
            "type": "table"
           }
          ]
         },
         "layout": {
          "annotationdefaults": {
           "arrowcolor": "#2a3f5f",
           "arrowhead": 0,
           "arrowwidth": 1
          },
          "autotypenumbers": "strict",
          "coloraxis": {
           "colorbar": {
            "outlinewidth": 0,
            "ticks": ""
           }
          },
          "colorscale": {
           "diverging": [
            [
             0,
             "#8e0152"
            ],
            [
             0.1,
             "#c51b7d"
            ],
            [
             0.2,
             "#de77ae"
            ],
            [
             0.3,
             "#f1b6da"
            ],
            [
             0.4,
             "#fde0ef"
            ],
            [
             0.5,
             "#f7f7f7"
            ],
            [
             0.6,
             "#e6f5d0"
            ],
            [
             0.7,
             "#b8e186"
            ],
            [
             0.8,
             "#7fbc41"
            ],
            [
             0.9,
             "#4d9221"
            ],
            [
             1,
             "#276419"
            ]
           ],
           "sequential": [
            [
             0,
             "#0d0887"
            ],
            [
             0.1111111111111111,
             "#46039f"
            ],
            [
             0.2222222222222222,
             "#7201a8"
            ],
            [
             0.3333333333333333,
             "#9c179e"
            ],
            [
             0.4444444444444444,
             "#bd3786"
            ],
            [
             0.5555555555555556,
             "#d8576b"
            ],
            [
             0.6666666666666666,
             "#ed7953"
            ],
            [
             0.7777777777777778,
             "#fb9f3a"
            ],
            [
             0.8888888888888888,
             "#fdca26"
            ],
            [
             1,
             "#f0f921"
            ]
           ],
           "sequentialminus": [
            [
             0,
             "#0d0887"
            ],
            [
             0.1111111111111111,
             "#46039f"
            ],
            [
             0.2222222222222222,
             "#7201a8"
            ],
            [
             0.3333333333333333,
             "#9c179e"
            ],
            [
             0.4444444444444444,
             "#bd3786"
            ],
            [
             0.5555555555555556,
             "#d8576b"
            ],
            [
             0.6666666666666666,
             "#ed7953"
            ],
            [
             0.7777777777777778,
             "#fb9f3a"
            ],
            [
             0.8888888888888888,
             "#fdca26"
            ],
            [
             1,
             "#f0f921"
            ]
           ]
          },
          "colorway": [
           "#636efa",
           "#EF553B",
           "#00cc96",
           "#ab63fa",
           "#FFA15A",
           "#19d3f3",
           "#FF6692",
           "#B6E880",
           "#FF97FF",
           "#FECB52"
          ],
          "font": {
           "color": "#2a3f5f"
          },
          "geo": {
           "bgcolor": "white",
           "lakecolor": "white",
           "landcolor": "#E5ECF6",
           "showlakes": true,
           "showland": true,
           "subunitcolor": "white"
          },
          "hoverlabel": {
           "align": "left"
          },
          "hovermode": "closest",
          "mapbox": {
           "style": "light"
          },
          "paper_bgcolor": "white",
          "plot_bgcolor": "#E5ECF6",
          "polar": {
           "angularaxis": {
            "gridcolor": "white",
            "linecolor": "white",
            "ticks": ""
           },
           "bgcolor": "#E5ECF6",
           "radialaxis": {
            "gridcolor": "white",
            "linecolor": "white",
            "ticks": ""
           }
          },
          "scene": {
           "xaxis": {
            "backgroundcolor": "#E5ECF6",
            "gridcolor": "white",
            "gridwidth": 2,
            "linecolor": "white",
            "showbackground": true,
            "ticks": "",
            "zerolinecolor": "white"
           },
           "yaxis": {
            "backgroundcolor": "#E5ECF6",
            "gridcolor": "white",
            "gridwidth": 2,
            "linecolor": "white",
            "showbackground": true,
            "ticks": "",
            "zerolinecolor": "white"
           },
           "zaxis": {
            "backgroundcolor": "#E5ECF6",
            "gridcolor": "white",
            "gridwidth": 2,
            "linecolor": "white",
            "showbackground": true,
            "ticks": "",
            "zerolinecolor": "white"
           }
          },
          "shapedefaults": {
           "line": {
            "color": "#2a3f5f"
           }
          },
          "ternary": {
           "aaxis": {
            "gridcolor": "white",
            "linecolor": "white",
            "ticks": ""
           },
           "baxis": {
            "gridcolor": "white",
            "linecolor": "white",
            "ticks": ""
           },
           "bgcolor": "#E5ECF6",
           "caxis": {
            "gridcolor": "white",
            "linecolor": "white",
            "ticks": ""
           }
          },
          "title": {
           "x": 0.05
          },
          "xaxis": {
           "automargin": true,
           "gridcolor": "white",
           "linecolor": "white",
           "ticks": "",
           "title": {
            "standoff": 15
           },
           "zerolinecolor": "white",
           "zerolinewidth": 2
          },
          "yaxis": {
           "automargin": true,
           "gridcolor": "white",
           "linecolor": "white",
           "ticks": "",
           "title": {
            "standoff": 15
           },
           "zerolinecolor": "white",
           "zerolinewidth": 2
          }
         }
        },
        "title": {
         "text": "<b> 참여 국가수에 대한 평균변화율"
        }
       }
      },
      "text/html": [
       "<div>                            <div id=\"27c68861-d881-411d-9e95-4c5ea2d8981e\" class=\"plotly-graph-div\" style=\"height:525px; width:100%;\"></div>            <script type=\"text/javascript\">                require([\"plotly\"], function(Plotly) {                    window.PLOTLYENV=window.PLOTLYENV || {};                                    if (document.getElementById(\"27c68861-d881-411d-9e95-4c5ea2d8981e\")) {                    Plotly.newPlot(                        \"27c68861-d881-411d-9e95-4c5ea2d8981e\",                        [{\"type\": \"bar\", \"x\": [48, 2, 38, 41, 3, 7, 3, 3, 5, 2, 4, 8, 17, 7, 11, 19, 2, 21, 13, 19, 57, 22, 19, 41, 19, 5, 13, 13], \"y\": [451390, 145160, 269920, 94180, 170260, 870290, 172720, 330240, 281360, 197320, 207380, 383220, 225920, 280040, 488180, 0, 294880, 246950, 516820, 225420, 527650, 200010, 316660, 183420, 529340, 0, 0, 0]}, {\"type\": \"bar\", \"x\": [48, 2, 38, 41, 3, 7, 3, 3, 5, 2, 4, 8, 17, 7, 11, 19, 2, 21, 13, 19, 57, 22, 19, 41, 19, 5, 13, 13], \"y\": [1000000, 115800, 500000, 1000000, 17000, 32000, 3650, 55000, 748000, 10500, 360000, 35250, 5325, 2500, 41600, 10000, 1500, 37000, 144600, 13500, 24764, 770000, 400000, 472260, 156000, 7500, 188900, 10000]}],                        {\"template\": {\"data\": {\"bar\": [{\"error_x\": {\"color\": \"#2a3f5f\"}, \"error_y\": {\"color\": \"#2a3f5f\"}, \"marker\": {\"line\": {\"color\": \"#E5ECF6\", \"width\": 0.5}}, \"type\": \"bar\"}], \"barpolar\": [{\"marker\": {\"line\": {\"color\": \"#E5ECF6\", \"width\": 0.5}}, \"type\": \"barpolar\"}], \"carpet\": [{\"aaxis\": {\"endlinecolor\": \"#2a3f5f\", \"gridcolor\": \"white\", \"linecolor\": \"white\", \"minorgridcolor\": \"white\", \"startlinecolor\": \"#2a3f5f\"}, \"baxis\": {\"endlinecolor\": \"#2a3f5f\", \"gridcolor\": \"white\", \"linecolor\": \"white\", \"minorgridcolor\": \"white\", \"startlinecolor\": \"#2a3f5f\"}, \"type\": \"carpet\"}], \"choropleth\": [{\"colorbar\": {\"outlinewidth\": 0, \"ticks\": \"\"}, \"type\": \"choropleth\"}], \"contour\": [{\"colorbar\": {\"outlinewidth\": 0, \"ticks\": \"\"}, \"colorscale\": [[0.0, \"#0d0887\"], [0.1111111111111111, \"#46039f\"], [0.2222222222222222, \"#7201a8\"], [0.3333333333333333, \"#9c179e\"], [0.4444444444444444, \"#bd3786\"], [0.5555555555555556, \"#d8576b\"], [0.6666666666666666, \"#ed7953\"], [0.7777777777777778, \"#fb9f3a\"], [0.8888888888888888, \"#fdca26\"], [1.0, \"#f0f921\"]], \"type\": \"contour\"}], \"contourcarpet\": [{\"colorbar\": {\"outlinewidth\": 0, \"ticks\": \"\"}, \"type\": \"contourcarpet\"}], \"heatmap\": [{\"colorbar\": {\"outlinewidth\": 0, \"ticks\": \"\"}, \"colorscale\": [[0.0, \"#0d0887\"], [0.1111111111111111, \"#46039f\"], [0.2222222222222222, \"#7201a8\"], [0.3333333333333333, \"#9c179e\"], [0.4444444444444444, \"#bd3786\"], [0.5555555555555556, \"#d8576b\"], [0.6666666666666666, \"#ed7953\"], [0.7777777777777778, \"#fb9f3a\"], [0.8888888888888888, \"#fdca26\"], [1.0, \"#f0f921\"]], \"type\": \"heatmap\"}], \"heatmapgl\": [{\"colorbar\": {\"outlinewidth\": 0, \"ticks\": \"\"}, \"colorscale\": [[0.0, \"#0d0887\"], [0.1111111111111111, \"#46039f\"], [0.2222222222222222, \"#7201a8\"], [0.3333333333333333, \"#9c179e\"], [0.4444444444444444, \"#bd3786\"], [0.5555555555555556, \"#d8576b\"], [0.6666666666666666, \"#ed7953\"], [0.7777777777777778, \"#fb9f3a\"], [0.8888888888888888, \"#fdca26\"], [1.0, \"#f0f921\"]], \"type\": \"heatmapgl\"}], \"histogram\": [{\"marker\": {\"colorbar\": {\"outlinewidth\": 0, \"ticks\": \"\"}}, \"type\": \"histogram\"}], \"histogram2d\": [{\"colorbar\": {\"outlinewidth\": 0, \"ticks\": \"\"}, \"colorscale\": [[0.0, \"#0d0887\"], [0.1111111111111111, \"#46039f\"], [0.2222222222222222, \"#7201a8\"], [0.3333333333333333, \"#9c179e\"], [0.4444444444444444, \"#bd3786\"], [0.5555555555555556, \"#d8576b\"], [0.6666666666666666, \"#ed7953\"], [0.7777777777777778, \"#fb9f3a\"], [0.8888888888888888, \"#fdca26\"], [1.0, \"#f0f921\"]], \"type\": \"histogram2d\"}], \"histogram2dcontour\": [{\"colorbar\": {\"outlinewidth\": 0, \"ticks\": \"\"}, \"colorscale\": [[0.0, \"#0d0887\"], [0.1111111111111111, \"#46039f\"], [0.2222222222222222, \"#7201a8\"], [0.3333333333333333, \"#9c179e\"], [0.4444444444444444, \"#bd3786\"], [0.5555555555555556, \"#d8576b\"], [0.6666666666666666, \"#ed7953\"], [0.7777777777777778, \"#fb9f3a\"], [0.8888888888888888, \"#fdca26\"], [1.0, \"#f0f921\"]], \"type\": \"histogram2dcontour\"}], \"mesh3d\": [{\"colorbar\": {\"outlinewidth\": 0, \"ticks\": \"\"}, \"type\": \"mesh3d\"}], \"parcoords\": [{\"line\": {\"colorbar\": {\"outlinewidth\": 0, \"ticks\": \"\"}}, \"type\": \"parcoords\"}], \"pie\": [{\"automargin\": true, \"type\": \"pie\"}], \"scatter\": [{\"marker\": {\"colorbar\": {\"outlinewidth\": 0, \"ticks\": \"\"}}, \"type\": \"scatter\"}], \"scatter3d\": [{\"line\": {\"colorbar\": {\"outlinewidth\": 0, \"ticks\": \"\"}}, \"marker\": {\"colorbar\": {\"outlinewidth\": 0, \"ticks\": \"\"}}, \"type\": \"scatter3d\"}], \"scattercarpet\": [{\"marker\": {\"colorbar\": {\"outlinewidth\": 0, \"ticks\": \"\"}}, \"type\": \"scattercarpet\"}], \"scattergeo\": [{\"marker\": {\"colorbar\": {\"outlinewidth\": 0, \"ticks\": \"\"}}, \"type\": \"scattergeo\"}], \"scattergl\": [{\"marker\": {\"colorbar\": {\"outlinewidth\": 0, \"ticks\": \"\"}}, \"type\": \"scattergl\"}], \"scattermapbox\": [{\"marker\": {\"colorbar\": {\"outlinewidth\": 0, \"ticks\": \"\"}}, \"type\": \"scattermapbox\"}], \"scatterpolar\": [{\"marker\": {\"colorbar\": {\"outlinewidth\": 0, \"ticks\": \"\"}}, \"type\": \"scatterpolar\"}], \"scatterpolargl\": [{\"marker\": {\"colorbar\": {\"outlinewidth\": 0, \"ticks\": \"\"}}, \"type\": \"scatterpolargl\"}], \"scatterternary\": [{\"marker\": {\"colorbar\": {\"outlinewidth\": 0, \"ticks\": \"\"}}, \"type\": \"scatterternary\"}], \"surface\": [{\"colorbar\": {\"outlinewidth\": 0, \"ticks\": \"\"}, \"colorscale\": [[0.0, \"#0d0887\"], [0.1111111111111111, \"#46039f\"], [0.2222222222222222, \"#7201a8\"], [0.3333333333333333, \"#9c179e\"], [0.4444444444444444, \"#bd3786\"], [0.5555555555555556, \"#d8576b\"], [0.6666666666666666, \"#ed7953\"], [0.7777777777777778, \"#fb9f3a\"], [0.8888888888888888, \"#fdca26\"], [1.0, \"#f0f921\"]], \"type\": \"surface\"}], \"table\": [{\"cells\": {\"fill\": {\"color\": \"#EBF0F8\"}, \"line\": {\"color\": \"white\"}}, \"header\": {\"fill\": {\"color\": \"#C8D4E3\"}, \"line\": {\"color\": \"white\"}}, \"type\": \"table\"}]}, \"layout\": {\"annotationdefaults\": {\"arrowcolor\": \"#2a3f5f\", \"arrowhead\": 0, \"arrowwidth\": 1}, \"autotypenumbers\": \"strict\", \"coloraxis\": {\"colorbar\": {\"outlinewidth\": 0, \"ticks\": \"\"}}, \"colorscale\": {\"diverging\": [[0, \"#8e0152\"], [0.1, \"#c51b7d\"], [0.2, \"#de77ae\"], [0.3, \"#f1b6da\"], [0.4, \"#fde0ef\"], [0.5, \"#f7f7f7\"], [0.6, \"#e6f5d0\"], [0.7, \"#b8e186\"], [0.8, \"#7fbc41\"], [0.9, \"#4d9221\"], [1, \"#276419\"]], \"sequential\": [[0.0, \"#0d0887\"], [0.1111111111111111, \"#46039f\"], [0.2222222222222222, \"#7201a8\"], [0.3333333333333333, \"#9c179e\"], [0.4444444444444444, \"#bd3786\"], [0.5555555555555556, \"#d8576b\"], [0.6666666666666666, \"#ed7953\"], [0.7777777777777778, \"#fb9f3a\"], [0.8888888888888888, \"#fdca26\"], [1.0, \"#f0f921\"]], \"sequentialminus\": [[0.0, \"#0d0887\"], [0.1111111111111111, \"#46039f\"], [0.2222222222222222, \"#7201a8\"], [0.3333333333333333, \"#9c179e\"], [0.4444444444444444, \"#bd3786\"], [0.5555555555555556, \"#d8576b\"], [0.6666666666666666, \"#ed7953\"], [0.7777777777777778, \"#fb9f3a\"], [0.8888888888888888, \"#fdca26\"], [1.0, \"#f0f921\"]]}, \"colorway\": [\"#636efa\", \"#EF553B\", \"#00cc96\", \"#ab63fa\", \"#FFA15A\", \"#19d3f3\", \"#FF6692\", \"#B6E880\", \"#FF97FF\", \"#FECB52\"], \"font\": {\"color\": \"#2a3f5f\"}, \"geo\": {\"bgcolor\": \"white\", \"lakecolor\": \"white\", \"landcolor\": \"#E5ECF6\", \"showlakes\": true, \"showland\": true, \"subunitcolor\": \"white\"}, \"hoverlabel\": {\"align\": \"left\"}, \"hovermode\": \"closest\", \"mapbox\": {\"style\": \"light\"}, \"paper_bgcolor\": \"white\", \"plot_bgcolor\": \"#E5ECF6\", \"polar\": {\"angularaxis\": {\"gridcolor\": \"white\", \"linecolor\": \"white\", \"ticks\": \"\"}, \"bgcolor\": \"#E5ECF6\", \"radialaxis\": {\"gridcolor\": \"white\", \"linecolor\": \"white\", \"ticks\": \"\"}}, \"scene\": {\"xaxis\": {\"backgroundcolor\": \"#E5ECF6\", \"gridcolor\": \"white\", \"gridwidth\": 2, \"linecolor\": \"white\", \"showbackground\": true, \"ticks\": \"\", \"zerolinecolor\": \"white\"}, \"yaxis\": {\"backgroundcolor\": \"#E5ECF6\", \"gridcolor\": \"white\", \"gridwidth\": 2, \"linecolor\": \"white\", \"showbackground\": true, \"ticks\": \"\", \"zerolinecolor\": \"white\"}, \"zaxis\": {\"backgroundcolor\": \"#E5ECF6\", \"gridcolor\": \"white\", \"gridwidth\": 2, \"linecolor\": \"white\", \"showbackground\": true, \"ticks\": \"\", \"zerolinecolor\": \"white\"}}, \"shapedefaults\": {\"line\": {\"color\": \"#2a3f5f\"}}, \"ternary\": {\"aaxis\": {\"gridcolor\": \"white\", \"linecolor\": \"white\", \"ticks\": \"\"}, \"baxis\": {\"gridcolor\": \"white\", \"linecolor\": \"white\", \"ticks\": \"\"}, \"bgcolor\": \"#E5ECF6\", \"caxis\": {\"gridcolor\": \"white\", \"linecolor\": \"white\", \"ticks\": \"\"}}, \"title\": {\"x\": 0.05}, \"xaxis\": {\"automargin\": true, \"gridcolor\": \"white\", \"linecolor\": \"white\", \"ticks\": \"\", \"title\": {\"standoff\": 15}, \"zerolinecolor\": \"white\", \"zerolinewidth\": 2}, \"yaxis\": {\"automargin\": true, \"gridcolor\": \"white\", \"linecolor\": \"white\", \"ticks\": \"\", \"title\": {\"standoff\": 15}, \"zerolinecolor\": \"white\", \"zerolinewidth\": 2}}}, \"title\": {\"text\": \"<b> \\ucc38\\uc5ec \\uad6d\\uac00\\uc218\\uc5d0 \\ub300\\ud55c \\ud3c9\\uade0\\ubcc0\\ud654\\uc728\"}},                        {\"responsive\": true}                    ).then(function(){\n",
       "                            \n",
       "var gd = document.getElementById('27c68861-d881-411d-9e95-4c5ea2d8981e');\n",
       "var x = new MutationObserver(function (mutations, observer) {{\n",
       "        var display = window.getComputedStyle(gd).display;\n",
       "        if (!display || display === 'none') {{\n",
       "            console.log([gd, 'removed!']);\n",
       "            Plotly.purge(gd);\n",
       "            observer.disconnect();\n",
       "        }}\n",
       "}});\n",
       "\n",
       "// Listen for the removal of the full notebook cells\n",
       "var notebookContainer = gd.closest('#notebook-container');\n",
       "if (notebookContainer) {{\n",
       "    x.observe(notebookContainer, {childList: true});\n",
       "}}\n",
       "\n",
       "// Listen for the clearing of the current output cell\n",
       "var outputEl = gd.closest('.output');\n",
       "if (outputEl) {{\n",
       "    x.observe(outputEl, {childList: true});\n",
       "}}\n",
       "\n",
       "                        })                };                });            </script>        </div>"
      ]
     },
     "metadata": {},
     "output_type": "display_data"
    }
   ],
   "source": [
    "fig = go.Figure()\n",
    "fig.add_trace(go.Bar(y=ls_war_X2['Abs_sum']*10, x = ls_war_X2['Count_country']))\n",
    "fig.add_trace(go.Bar(y=ls_war_X2['War_volume'], x = ls_war_X2['Count_country']))\n",
    "fig.update_layout(title='<b> 참여 국가수에 대한 평균변화율')\n",
    "fig.show();"
   ]
  },
  {
   "cell_type": "markdown",
   "metadata": {},
   "source": [
    "## Symblo industry 전체 리스트 정보"
   ]
  },
  {
   "cell_type": "code",
   "execution_count": 18,
   "metadata": {},
   "outputs": [
    {
     "data": {
      "text/html": [
       "<div>\n",
       "<style scoped>\n",
       "    .dataframe tbody tr th:only-of-type {\n",
       "        vertical-align: middle;\n",
       "    }\n",
       "\n",
       "    .dataframe tbody tr th {\n",
       "        vertical-align: top;\n",
       "    }\n",
       "\n",
       "    .dataframe thead th {\n",
       "        text-align: right;\n",
       "    }\n",
       "</style>\n",
       "<table border=\"1\" class=\"dataframe\">\n",
       "  <thead>\n",
       "    <tr style=\"text-align: right;\">\n",
       "      <th></th>\n",
       "      <th>Industry</th>\n",
       "      <th>IndustryCode</th>\n",
       "    </tr>\n",
       "  </thead>\n",
       "  <tbody>\n",
       "    <tr>\n",
       "      <th>0</th>\n",
       "      <td>건설 장비 및대형차, 기차, 배</td>\n",
       "      <td>521020</td>\n",
       "    </tr>\n",
       "    <tr>\n",
       "      <th>1</th>\n",
       "      <td>다양한 소매업</td>\n",
       "      <td>533010</td>\n",
       "    </tr>\n",
       "    <tr>\n",
       "      <th>2</th>\n",
       "      <td>레저 상품</td>\n",
       "      <td>532050</td>\n",
       "    </tr>\n",
       "    <tr>\n",
       "      <th>3</th>\n",
       "      <td>미디어 및 출판</td>\n",
       "      <td>533020</td>\n",
       "    </tr>\n",
       "    <tr>\n",
       "      <th>4</th>\n",
       "      <td>반도체 및 반도체 장비</td>\n",
       "      <td>571010</td>\n",
       "    </tr>\n",
       "    <tr>\n",
       "      <th>5</th>\n",
       "      <td>생명과학 및 메디컬 리서치</td>\n",
       "      <td>562020</td>\n",
       "    </tr>\n",
       "    <tr>\n",
       "      <th>6</th>\n",
       "      <td>섬유 및 의류</td>\n",
       "      <td>532020</td>\n",
       "    </tr>\n",
       "    <tr>\n",
       "      <th>7</th>\n",
       "      <td>소프트웨어 및 IT 서비스</td>\n",
       "      <td>572010</td>\n",
       "    </tr>\n",
       "    <tr>\n",
       "      <th>8</th>\n",
       "      <td>식품 및 담배</td>\n",
       "      <td>541020</td>\n",
       "    </tr>\n",
       "    <tr>\n",
       "      <th>9</th>\n",
       "      <td>식품 및 약품소매</td>\n",
       "      <td>543010</td>\n",
       "    </tr>\n",
       "    <tr>\n",
       "      <th>10</th>\n",
       "      <td>은행</td>\n",
       "      <td>551010</td>\n",
       "    </tr>\n",
       "    <tr>\n",
       "      <th>11</th>\n",
       "      <td>음료</td>\n",
       "      <td>541010</td>\n",
       "    </tr>\n",
       "    <tr>\n",
       "      <th>12</th>\n",
       "      <td>자동차 및 자동차 부품</td>\n",
       "      <td>531010</td>\n",
       "    </tr>\n",
       "    <tr>\n",
       "      <th>13</th>\n",
       "      <td>전기 유틸리티</td>\n",
       "      <td>591010</td>\n",
       "    </tr>\n",
       "    <tr>\n",
       "      <th>14</th>\n",
       "      <td>전문 및 상업 서비스</td>\n",
       "      <td>522030</td>\n",
       "    </tr>\n",
       "    <tr>\n",
       "      <th>15</th>\n",
       "      <td>전문품 상점</td>\n",
       "      <td>534030</td>\n",
       "    </tr>\n",
       "    <tr>\n",
       "      <th>16</th>\n",
       "      <td>제약</td>\n",
       "      <td>562010</td>\n",
       "    </tr>\n",
       "    <tr>\n",
       "      <th>17</th>\n",
       "      <td>주택 및 상업용 리츠</td>\n",
       "      <td>601020</td>\n",
       "    </tr>\n",
       "    <tr>\n",
       "      <th>18</th>\n",
       "      <td>커뮤니케이션 및 네트워킹</td>\n",
       "      <td>571020</td>\n",
       "    </tr>\n",
       "    <tr>\n",
       "      <th>19</th>\n",
       "      <td>컴퓨터, 전화 및 가전제품</td>\n",
       "      <td>571060</td>\n",
       "    </tr>\n",
       "    <tr>\n",
       "      <th>20</th>\n",
       "      <td>통신 서비스</td>\n",
       "      <td>574010</td>\n",
       "    </tr>\n",
       "    <tr>\n",
       "      <th>21</th>\n",
       "      <td>투자은행 및 서비스</td>\n",
       "      <td>551020</td>\n",
       "    </tr>\n",
       "    <tr>\n",
       "      <th>22</th>\n",
       "      <td>헬스케어 장비 및 용품</td>\n",
       "      <td>561010</td>\n",
       "    </tr>\n",
       "    <tr>\n",
       "      <th>23</th>\n",
       "      <td>호텔 및 엔터테인먼트</td>\n",
       "      <td>533010</td>\n",
       "    </tr>\n",
       "    <tr>\n",
       "      <th>24</th>\n",
       "      <td>화물 및 물류 서비스</td>\n",
       "      <td>524050</td>\n",
       "    </tr>\n",
       "  </tbody>\n",
       "</table>\n",
       "</div>"
      ],
      "text/plain": [
       "             Industry  IndustryCode\n",
       "0   건설 장비 및대형차, 기차, 배        521020\n",
       "1             다양한 소매업        533010\n",
       "2               레저 상품        532050\n",
       "3            미디어 및 출판        533020\n",
       "4        반도체 및 반도체 장비        571010\n",
       "5      생명과학 및 메디컬 리서치        562020\n",
       "6             섬유 및 의류        532020\n",
       "7      소프트웨어 및 IT 서비스        572010\n",
       "8             식품 및 담배        541020\n",
       "9           식품 및 약품소매        543010\n",
       "10                 은행        551010\n",
       "11                 음료        541010\n",
       "12       자동차 및 자동차 부품        531010\n",
       "13            전기 유틸리티        591010\n",
       "14        전문 및 상업 서비스        522030\n",
       "15             전문품 상점        534030\n",
       "16                제약         562010\n",
       "17        주택 및 상업용 리츠        601020\n",
       "18      커뮤니케이션 및 네트워킹        571020\n",
       "19     컴퓨터, 전화 및 가전제품        571060\n",
       "20             통신 서비스        574010\n",
       "21         투자은행 및 서비스        551020\n",
       "22       헬스케어 장비 및 용품        561010\n",
       "23        호텔 및 엔터테인먼트        533010\n",
       "24        화물 및 물류 서비스        524050"
      ]
     },
     "execution_count": 18,
     "metadata": {},
     "output_type": "execute_result"
    }
   ],
   "source": [
    "industry = pd.read_csv(\"./datas/SYMB_Industry.csv\")\n",
    "industry"
   ]
  },
  {
   "cell_type": "code",
   "execution_count": 19,
   "metadata": {},
   "outputs": [
    {
     "data": {
      "text/html": [
       "<div>\n",
       "<style scoped>\n",
       "    .dataframe tbody tr th:only-of-type {\n",
       "        vertical-align: middle;\n",
       "    }\n",
       "\n",
       "    .dataframe tbody tr th {\n",
       "        vertical-align: top;\n",
       "    }\n",
       "\n",
       "    .dataframe thead th {\n",
       "        text-align: right;\n",
       "    }\n",
       "</style>\n",
       "<table border=\"1\" class=\"dataframe\">\n",
       "  <thead>\n",
       "    <tr style=\"text-align: right;\">\n",
       "      <th></th>\n",
       "      <th>Change</th>\n",
       "      <th>Symbol</th>\n",
       "      <th>Industry</th>\n",
       "      <th>Change_idx</th>\n",
       "      <th>ABS_idx</th>\n",
       "      <th>Avg_change</th>\n",
       "      <th>Start_date</th>\n",
       "      <th>War_genre</th>\n",
       "      <th>War_name</th>\n",
       "      <th>War_volume</th>\n",
       "      <th>Count_country</th>\n",
       "    </tr>\n",
       "  </thead>\n",
       "  <tbody>\n",
       "    <tr>\n",
       "      <th>0</th>\n",
       "      <td>-0.0323</td>\n",
       "      <td>AAPL</td>\n",
       "      <td>컴퓨터, 전화 및 가전제품</td>\n",
       "      <td>269.0</td>\n",
       "      <td>269.0</td>\n",
       "      <td>-0.012</td>\n",
       "      <td>2001-09-11</td>\n",
       "      <td>테러</td>\n",
       "      <td>테러와의전쟁</td>\n",
       "      <td>1000000</td>\n",
       "      <td>48</td>\n",
       "    </tr>\n",
       "    <tr>\n",
       "      <th>1</th>\n",
       "      <td>0.0263</td>\n",
       "      <td>AAPL</td>\n",
       "      <td>컴퓨터, 전화 및 가전제품</td>\n",
       "      <td>-175.0</td>\n",
       "      <td>175.0</td>\n",
       "      <td>-0.015</td>\n",
       "      <td>2002-01-15</td>\n",
       "      <td>테러</td>\n",
       "      <td>영원한자유작전-필리핀</td>\n",
       "      <td>115800</td>\n",
       "      <td>2</td>\n",
       "    </tr>\n",
       "    <tr>\n",
       "      <th>2</th>\n",
       "      <td>0.0000</td>\n",
       "      <td>AAPL</td>\n",
       "      <td>컴퓨터, 전화 및 가전제품</td>\n",
       "      <td>0.0</td>\n",
       "      <td>0.0</td>\n",
       "      <td>-0.007</td>\n",
       "      <td>2002-10-07</td>\n",
       "      <td>테러</td>\n",
       "      <td>영원한자유작전-아프리카의뿔</td>\n",
       "      <td>500000</td>\n",
       "      <td>38</td>\n",
       "    </tr>\n",
       "    <tr>\n",
       "      <th>3</th>\n",
       "      <td>0.0000</td>\n",
       "      <td>AAPL</td>\n",
       "      <td>컴퓨터, 전화 및 가전제품</td>\n",
       "      <td>0.0</td>\n",
       "      <td>0.0</td>\n",
       "      <td>0.016</td>\n",
       "      <td>2003-03-20</td>\n",
       "      <td>테러</td>\n",
       "      <td>이라크전쟁</td>\n",
       "      <td>1000000</td>\n",
       "      <td>41</td>\n",
       "    </tr>\n",
       "    <tr>\n",
       "      <th>4</th>\n",
       "      <td>0.0000</td>\n",
       "      <td>AAPL</td>\n",
       "      <td>컴퓨터, 전화 및 가전제품</td>\n",
       "      <td>0.0</td>\n",
       "      <td>0.0</td>\n",
       "      <td>0.009</td>\n",
       "      <td>2004-04-01</td>\n",
       "      <td>민족</td>\n",
       "      <td>이란-PJAK충돌</td>\n",
       "      <td>17000</td>\n",
       "      <td>3</td>\n",
       "    </tr>\n",
       "    <tr>\n",
       "      <th>...</th>\n",
       "      <td>...</td>\n",
       "      <td>...</td>\n",
       "      <td>...</td>\n",
       "      <td>...</td>\n",
       "      <td>...</td>\n",
       "      <td>...</td>\n",
       "      <td>...</td>\n",
       "      <td>...</td>\n",
       "      <td>...</td>\n",
       "      <td>...</td>\n",
       "      <td>...</td>\n",
       "    </tr>\n",
       "    <tr>\n",
       "      <th>1013</th>\n",
       "      <td>0.0012</td>\n",
       "      <td>GOOG</td>\n",
       "      <td>소프트웨어 및 IT서비스</td>\n",
       "      <td>30.0</td>\n",
       "      <td>30.0</td>\n",
       "      <td>0.004</td>\n",
       "      <td>2014-05-16</td>\n",
       "      <td>내란</td>\n",
       "      <td>리비아 내전</td>\n",
       "      <td>400000</td>\n",
       "      <td>19</td>\n",
       "    </tr>\n",
       "    <tr>\n",
       "      <th>1014</th>\n",
       "      <td>0.0007</td>\n",
       "      <td>GOOG</td>\n",
       "      <td>소프트웨어 및 IT서비스</td>\n",
       "      <td>-70.0</td>\n",
       "      <td>70.0</td>\n",
       "      <td>-0.001</td>\n",
       "      <td>2014-06-13</td>\n",
       "      <td>테러</td>\n",
       "      <td>ISIL에대한국제군사개입</td>\n",
       "      <td>472260</td>\n",
       "      <td>41</td>\n",
       "    </tr>\n",
       "    <tr>\n",
       "      <th>1015</th>\n",
       "      <td>0.0120</td>\n",
       "      <td>GOOG</td>\n",
       "      <td>소프트웨어 및 IT서비스</td>\n",
       "      <td>-200.0</td>\n",
       "      <td>200.0</td>\n",
       "      <td>-0.006</td>\n",
       "      <td>2014-09-16</td>\n",
       "      <td>내란</td>\n",
       "      <td>예멘내전</td>\n",
       "      <td>156000</td>\n",
       "      <td>19</td>\n",
       "    </tr>\n",
       "    <tr>\n",
       "      <th>1016</th>\n",
       "      <td>-0.0426</td>\n",
       "      <td>BABA</td>\n",
       "      <td>소프트웨어 및 IT서비스</td>\n",
       "      <td>1065.0</td>\n",
       "      <td>1065.0</td>\n",
       "      <td>-0.004</td>\n",
       "      <td>2014-09-16</td>\n",
       "      <td>내란</td>\n",
       "      <td>예멘내전</td>\n",
       "      <td>156000</td>\n",
       "      <td>19</td>\n",
       "    </tr>\n",
       "    <tr>\n",
       "      <th>1017</th>\n",
       "      <td>-0.0025</td>\n",
       "      <td>PYPL</td>\n",
       "      <td>소프트웨어 및 IT서비스</td>\n",
       "      <td>62.0</td>\n",
       "      <td>62.0</td>\n",
       "      <td>-0.004</td>\n",
       "      <td>2014-09-16</td>\n",
       "      <td>내란</td>\n",
       "      <td>예멘내전</td>\n",
       "      <td>156000</td>\n",
       "      <td>19</td>\n",
       "    </tr>\n",
       "  </tbody>\n",
       "</table>\n",
       "<p>1018 rows × 11 columns</p>\n",
       "</div>"
      ],
      "text/plain": [
       "      Change Symbol        Industry  Change_idx  ABS_idx  Avg_change  \\\n",
       "0    -0.0323   AAPL  컴퓨터, 전화 및 가전제품       269.0    269.0      -0.012   \n",
       "1     0.0263   AAPL  컴퓨터, 전화 및 가전제품      -175.0    175.0      -0.015   \n",
       "2     0.0000   AAPL  컴퓨터, 전화 및 가전제품         0.0      0.0      -0.007   \n",
       "3     0.0000   AAPL  컴퓨터, 전화 및 가전제품         0.0      0.0       0.016   \n",
       "4     0.0000   AAPL  컴퓨터, 전화 및 가전제품         0.0      0.0       0.009   \n",
       "...      ...    ...             ...         ...      ...         ...   \n",
       "1013  0.0012   GOOG   소프트웨어 및 IT서비스        30.0     30.0       0.004   \n",
       "1014  0.0007   GOOG   소프트웨어 및 IT서비스       -70.0     70.0      -0.001   \n",
       "1015  0.0120   GOOG   소프트웨어 및 IT서비스      -200.0    200.0      -0.006   \n",
       "1016 -0.0426   BABA   소프트웨어 및 IT서비스      1065.0   1065.0      -0.004   \n",
       "1017 -0.0025   PYPL   소프트웨어 및 IT서비스        62.0     62.0      -0.004   \n",
       "\n",
       "     Start_date War_genre        War_name  War_volume  Count_country  \n",
       "0    2001-09-11        테러          테러와의전쟁     1000000             48  \n",
       "1    2002-01-15        테러     영원한자유작전-필리핀      115800              2  \n",
       "2    2002-10-07        테러  영원한자유작전-아프리카의뿔      500000             38  \n",
       "3    2003-03-20        테러           이라크전쟁     1000000             41  \n",
       "4    2004-04-01        민족       이란-PJAK충돌       17000              3  \n",
       "...         ...       ...             ...         ...            ...  \n",
       "1013 2014-05-16        내란          리비아 내전      400000             19  \n",
       "1014 2014-06-13        테러   ISIL에대한국제군사개입      472260             41  \n",
       "1015 2014-09-16        내란            예멘내전      156000             19  \n",
       "1016 2014-09-16        내란            예멘내전      156000             19  \n",
       "1017 2014-09-16        내란            예멘내전      156000             19  \n",
       "\n",
       "[1018 rows x 11 columns]"
      ]
     },
     "execution_count": 19,
     "metadata": {},
     "output_type": "execute_result"
    }
   ],
   "source": [
    "df_final = pd.read_excel(\"./datas/final_X.xls\",'final_X')\n",
    "df_final = df_final.drop([\"Unnamed: 0\"], axis=1)\n",
    "df_final"
   ]
  },
  {
   "cell_type": "code",
   "execution_count": 20,
   "metadata": {},
   "outputs": [],
   "source": [
    "#### (그래프)전쟁별 참전국수"
   ]
  },
  {
   "cell_type": "code",
   "execution_count": 21,
   "metadata": {},
   "outputs": [
    {
     "data": {
      "image/png": "[encoded data removed]",
      "text/plain": [
       "<Figure size 1440x360 with 1 Axes>"
      ]
     },
     "metadata": {
      "needs_background": "light"
     },
     "output_type": "display_data"
    }
   ],
   "source": [
    "plt.figure(figsize=(20,5))\n",
    "X = ls_war_X2[\"War_id\"]\n",
    "y_1 = ls_war_X2[\"Count_country\"]\n",
    "plt.plot(X, y_1)\n",
    "plt.show()"
   ]
  },
  {
   "cell_type": "code",
   "execution_count": 22,
   "metadata": {},
   "outputs": [],
   "source": [
    "#### (그래프)전쟁별 전쟁규모"
   ]
  },
  {
   "cell_type": "code",
   "execution_count": 23,
   "metadata": {},
   "outputs": [
    {
     "data": {
      "image/png": "[encoded data removed]",
      "text/plain": [
       "<Figure size 1440x360 with 1 Axes>"
      ]
     },
     "metadata": {
      "needs_background": "light"
     },
     "output_type": "display_data"
    }
   ],
   "source": [
    "plt.figure(figsize=(20,5))\n",
    "X = ls_war_X2[\"War_id\"]\n",
    "y_2 = ls_war_X2[\"War_volume\"]\n",
    "plt.plot(X, y_2)\n",
    "plt.show()"
   ]
  },
  {
   "cell_type": "code",
   "execution_count": 24,
   "metadata": {},
   "outputs": [],
   "source": [
    "### (1)-1 전쟁종류(민족간전쟁/해적/마약/테러)별 전쟁수 count"
   ]
  },
  {
   "cell_type": "code",
   "execution_count": 53,
   "metadata": {},
   "outputs": [
    {
     "data": {
      "text/html": [
       "<div>\n",
       "<style scoped>\n",
       "    .dataframe tbody tr th:only-of-type {\n",
       "        vertical-align: middle;\n",
       "    }\n",
       "\n",
       "    .dataframe tbody tr th {\n",
       "        vertical-align: top;\n",
       "    }\n",
       "\n",
       "    .dataframe thead th {\n",
       "        text-align: right;\n",
       "    }\n",
       "</style>\n",
       "<table border=\"1\" class=\"dataframe\">\n",
       "  <thead>\n",
       "    <tr style=\"text-align: right;\">\n",
       "      <th></th>\n",
       "      <th>발발시점</th>\n",
       "      <th>갈등이름</th>\n",
       "      <th>갈등종류</th>\n",
       "      <th>전쟁규모</th>\n",
       "      <th>참전국수</th>\n",
       "      <th>Count</th>\n",
       "      <th>War_volume</th>\n",
       "    </tr>\n",
       "  </thead>\n",
       "  <tbody>\n",
       "    <tr>\n",
       "      <th>0</th>\n",
       "      <td>2001-09-11</td>\n",
       "      <td>테러와의전쟁</td>\n",
       "      <td>테러</td>\n",
       "      <td>1000000</td>\n",
       "      <td>48</td>\n",
       "      <td>1</td>\n",
       "      <td>48</td>\n",
       "    </tr>\n",
       "    <tr>\n",
       "      <th>1</th>\n",
       "      <td>2002-01-15</td>\n",
       "      <td>영원한자유작전-필리핀</td>\n",
       "      <td>테러</td>\n",
       "      <td>115800</td>\n",
       "      <td>2</td>\n",
       "      <td>1</td>\n",
       "      <td>2</td>\n",
       "    </tr>\n",
       "    <tr>\n",
       "      <th>2</th>\n",
       "      <td>2002-10-07</td>\n",
       "      <td>영원한자유작전-아프리카의뿔</td>\n",
       "      <td>테러</td>\n",
       "      <td>500000</td>\n",
       "      <td>38</td>\n",
       "      <td>1</td>\n",
       "      <td>38</td>\n",
       "    </tr>\n",
       "    <tr>\n",
       "      <th>3</th>\n",
       "      <td>2003-03-20</td>\n",
       "      <td>이라크전쟁</td>\n",
       "      <td>테러</td>\n",
       "      <td>1000000</td>\n",
       "      <td>41</td>\n",
       "      <td>1</td>\n",
       "      <td>41</td>\n",
       "    </tr>\n",
       "    <tr>\n",
       "      <th>4</th>\n",
       "      <td>2004-04-01</td>\n",
       "      <td>이란-PJAK충돌</td>\n",
       "      <td>민족</td>\n",
       "      <td>17000</td>\n",
       "      <td>3</td>\n",
       "      <td>1</td>\n",
       "      <td>3</td>\n",
       "    </tr>\n",
       "  </tbody>\n",
       "</table>\n",
       "</div>"
      ],
      "text/plain": [
       "        발발시점            갈등이름 갈등종류     전쟁규모  참전국수  Count  War_volume\n",
       "0 2001-09-11          테러와의전쟁   테러  1000000    48      1          48\n",
       "1 2002-01-15     영원한자유작전-필리핀   테러   115800     2      1           2\n",
       "2 2002-10-07  영원한자유작전-아프리카의뿔   테러   500000    38      1          38\n",
       "3 2003-03-20           이라크전쟁   테러  1000000    41      1          41\n",
       "4 2004-04-01       이란-PJAK충돌   민족    17000     3      1           3"
      ]
     },
     "execution_count": 53,
     "metadata": {},
     "output_type": "execute_result"
    }
   ],
   "source": [
    "ls_war_X2 = pd.read_excel(\"datas/ls_war.xls\", \"sheet\")\n",
    "ls_war_X2 = ls_war_X2.drop([\"Unnamed: 0\",\"전쟁수\"], axis=1)\n",
    "ls_war_X2[\"Count\"] = 1\n",
    "ls_war_X2[\"War_volume\"] = ls_war_X2[\"참전국수\"]\n",
    "ls_war_X2.head()"
   ]
  },
  {
   "cell_type": "code",
   "execution_count": 54,
   "metadata": {},
   "outputs": [
    {
     "data": {
      "text/html": [
       "<div>\n",
       "<style scoped>\n",
       "    .dataframe tbody tr th:only-of-type {\n",
       "        vertical-align: middle;\n",
       "    }\n",
       "\n",
       "    .dataframe tbody tr th {\n",
       "        vertical-align: top;\n",
       "    }\n",
       "\n",
       "    .dataframe thead th {\n",
       "        text-align: right;\n",
       "    }\n",
       "</style>\n",
       "<table border=\"1\" class=\"dataframe\">\n",
       "  <thead>\n",
       "    <tr style=\"text-align: right;\">\n",
       "      <th></th>\n",
       "      <th>Count</th>\n",
       "      <th>War_genre</th>\n",
       "    </tr>\n",
       "    <tr>\n",
       "      <th>갈등종류</th>\n",
       "      <th></th>\n",
       "      <th></th>\n",
       "    </tr>\n",
       "  </thead>\n",
       "  <tbody>\n",
       "    <tr>\n",
       "      <th>내란</th>\n",
       "      <td>12</td>\n",
       "      <td>내란</td>\n",
       "    </tr>\n",
       "    <tr>\n",
       "      <th>마약</th>\n",
       "      <td>2</td>\n",
       "      <td>마약</td>\n",
       "    </tr>\n",
       "    <tr>\n",
       "      <th>민족</th>\n",
       "      <td>2</td>\n",
       "      <td>민족</td>\n",
       "    </tr>\n",
       "    <tr>\n",
       "      <th>테러</th>\n",
       "      <td>10</td>\n",
       "      <td>테러</td>\n",
       "    </tr>\n",
       "    <tr>\n",
       "      <th>해적</th>\n",
       "      <td>2</td>\n",
       "      <td>해적</td>\n",
       "    </tr>\n",
       "  </tbody>\n",
       "</table>\n",
       "</div>"
      ],
      "text/plain": [
       "      Count War_genre\n",
       "갈등종류                 \n",
       "내란       12        내란\n",
       "마약        2        마약\n",
       "민족        2        민족\n",
       "테러       10        테러\n",
       "해적        2        해적"
      ]
     },
     "execution_count": 54,
     "metadata": {},
     "output_type": "execute_result"
    }
   ],
   "source": [
    "war_genre = ls_war_X2.pivot_table(\"Count\",\"갈등종류\", aggfunc=np.sum, fill_value=0)\n",
    "war_genre[\"War_genre\"]= war_genre.index\n",
    "war_genre"
   ]
  },
  {
   "cell_type": "code",
   "execution_count": 26,
   "metadata": {},
   "outputs": [],
   "source": [
    "#### (그래프) 2000년이후 갈등종류별 전쟁수"
   ]
  },
  {
   "cell_type": "code",
   "execution_count": 55,
   "metadata": {},
   "outputs": [
    {
     "data": {
      "image/png": "[encoded data removed]",
      "text/plain": [
       "<Figure size 1440x360 with 1 Axes>"
      ]
     },
     "metadata": {
      "needs_background": "light"
     },
     "output_type": "display_data"
    }
   ],
   "source": [
    "plt.figure(figsize=(20,5))\n",
    "X = war_genre[\"War_genre\"]\n",
    "y = war_genre[\"Count\"]\n",
    "plt.bar(X, y, width=0.4)\n",
    "plt.show()"
   ]
  },
  {
   "cell_type": "code",
   "execution_count": 28,
   "metadata": {},
   "outputs": [],
   "source": [
    "### (1)-2 전쟁참전국수별 (0~20, 21~40, 41개국이상) 전쟁수 count"
   ]
  },
  {
   "cell_type": "code",
   "execution_count": 73,
   "metadata": {},
   "outputs": [
    {
     "data": {
      "text/html": [
       "<div>\n",
       "<style scoped>\n",
       "    .dataframe tbody tr th:only-of-type {\n",
       "        vertical-align: middle;\n",
       "    }\n",
       "\n",
       "    .dataframe tbody tr th {\n",
       "        vertical-align: top;\n",
       "    }\n",
       "\n",
       "    .dataframe thead th {\n",
       "        text-align: right;\n",
       "    }\n",
       "</style>\n",
       "<table border=\"1\" class=\"dataframe\">\n",
       "  <thead>\n",
       "    <tr style=\"text-align: right;\">\n",
       "      <th></th>\n",
       "      <th>발발시점</th>\n",
       "      <th>갈등이름</th>\n",
       "      <th>갈등종류</th>\n",
       "      <th>전쟁규모</th>\n",
       "      <th>참전국수</th>\n",
       "      <th>Count</th>\n",
       "      <th>War_volume</th>\n",
       "    </tr>\n",
       "  </thead>\n",
       "  <tbody>\n",
       "    <tr>\n",
       "      <th>1</th>\n",
       "      <td>2002-01-15</td>\n",
       "      <td>영원한자유작전-필리핀</td>\n",
       "      <td>테러</td>\n",
       "      <td>115800</td>\n",
       "      <td>2</td>\n",
       "      <td>1</td>\n",
       "      <td>2</td>\n",
       "    </tr>\n",
       "  </tbody>\n",
       "</table>\n",
       "</div>"
      ],
      "text/plain": [
       "        발발시점         갈등이름 갈등종류    전쟁규모  참전국수  Count  War_volume\n",
       "1 2002-01-15  영원한자유작전-필리핀   테러  115800     2      1           2"
      ]
     },
     "execution_count": 73,
     "metadata": {},
     "output_type": "execute_result"
    }
   ],
   "source": [
    " # 10개국 미만 참전 \"소규모\"\n",
    "a_1= ls_war_X2[ls_war_X2[\"참전국수\"]<=10]\n",
    "a_1.head(1)"
   ]
  },
  {
   "cell_type": "code",
   "execution_count": 74,
   "metadata": {},
   "outputs": [
    {
     "data": {
      "text/html": [
       "<div>\n",
       "<style scoped>\n",
       "    .dataframe tbody tr th:only-of-type {\n",
       "        vertical-align: middle;\n",
       "    }\n",
       "\n",
       "    .dataframe tbody tr th {\n",
       "        vertical-align: top;\n",
       "    }\n",
       "\n",
       "    .dataframe thead th {\n",
       "        text-align: right;\n",
       "    }\n",
       "</style>\n",
       "<table border=\"1\" class=\"dataframe\">\n",
       "  <thead>\n",
       "    <tr style=\"text-align: right;\">\n",
       "      <th></th>\n",
       "      <th>발발시점</th>\n",
       "      <th>갈등이름</th>\n",
       "      <th>갈등종류</th>\n",
       "      <th>전쟁규모</th>\n",
       "      <th>참전국수</th>\n",
       "      <th>Count</th>\n",
       "      <th>War_volume</th>\n",
       "    </tr>\n",
       "  </thead>\n",
       "  <tbody>\n",
       "    <tr>\n",
       "      <th>12</th>\n",
       "      <td>2007-02-06</td>\n",
       "      <td>영원한자유작전-트랜스사하라</td>\n",
       "      <td>테러</td>\n",
       "      <td>5325</td>\n",
       "      <td>17</td>\n",
       "      <td>1</td>\n",
       "      <td>17</td>\n",
       "    </tr>\n",
       "  </tbody>\n",
       "</table>\n",
       "</div>"
      ],
      "text/plain": [
       "         발발시점            갈등이름 갈등종류  전쟁규모  참전국수  Count  War_volume\n",
       "12 2007-02-06  영원한자유작전-트랜스사하라   테러  5325    17      1          17"
      ]
     },
     "execution_count": 74,
     "metadata": {},
     "output_type": "execute_result"
    }
   ],
   "source": [
    "# 11~20개국 참전 \"중간규모\"\n",
    "b_1= ls_war_X2[(ls_war_X2[\"참전국수\"] > 10)&(ls_war_X2[\"참전국수\"] <= 20)] \n",
    "b_1.head(1)"
   ]
  },
  {
   "cell_type": "code",
   "execution_count": 75,
   "metadata": {},
   "outputs": [
    {
     "data": {
      "text/html": [
       "<div>\n",
       "<style scoped>\n",
       "    .dataframe tbody tr th:only-of-type {\n",
       "        vertical-align: middle;\n",
       "    }\n",
       "\n",
       "    .dataframe tbody tr th {\n",
       "        vertical-align: top;\n",
       "    }\n",
       "\n",
       "    .dataframe thead th {\n",
       "        text-align: right;\n",
       "    }\n",
       "</style>\n",
       "<table border=\"1\" class=\"dataframe\">\n",
       "  <thead>\n",
       "    <tr style=\"text-align: right;\">\n",
       "      <th></th>\n",
       "      <th>발발시점</th>\n",
       "      <th>갈등이름</th>\n",
       "      <th>갈등종류</th>\n",
       "      <th>전쟁규모</th>\n",
       "      <th>참전국수</th>\n",
       "      <th>Count</th>\n",
       "      <th>War_volume</th>\n",
       "    </tr>\n",
       "  </thead>\n",
       "  <tbody>\n",
       "    <tr>\n",
       "      <th>0</th>\n",
       "      <td>2001-09-11</td>\n",
       "      <td>테러와의전쟁</td>\n",
       "      <td>테러</td>\n",
       "      <td>1000000</td>\n",
       "      <td>48</td>\n",
       "      <td>1</td>\n",
       "      <td>48</td>\n",
       "    </tr>\n",
       "  </tbody>\n",
       "</table>\n",
       "</div>"
      ],
      "text/plain": [
       "        발발시점    갈등이름 갈등종류     전쟁규모  참전국수  Count  War_volume\n",
       "0 2001-09-11  테러와의전쟁   테러  1000000    48      1          48"
      ]
     },
     "execution_count": 75,
     "metadata": {},
     "output_type": "execute_result"
    }
   ],
   "source": [
    " # 20개국 초과 참전 \"대규모\"\n",
    "c_1= ls_war_X2[(ls_war_X2[\"참전국수\"] > 20)]\n",
    "c_1.head(1)"
   ]
  },
  {
   "cell_type": "markdown",
   "metadata": {},
   "source": [
    "##### 코멘트\n",
    "- 2000년대 이후 10개국 미만 참전한 소규모 전쟁 12개\n",
    "- 11~20개국이 참전한 중간규모의 전쟁이 9개\n",
    "- 20개국이상의 국가가 참전한 대규모 전쟁이 7개\n",
    "- 여러국가가 참전하는 대규모 전쟁은 2001년 9.11 테러와의 전쟁을 기점으로 중동지역 집중"
   ]
  },
  {
   "cell_type": "code",
   "execution_count": 76,
   "metadata": {},
   "outputs": [
    {
     "data": {
      "text/plain": [
       "(12, 9, 7)"
      ]
     },
     "execution_count": 76,
     "metadata": {},
     "output_type": "execute_result"
    }
   ],
   "source": [
    "len(a_1), len(b_1), len(c_1)"
   ]
  },
  {
   "cell_type": "code",
   "execution_count": 77,
   "metadata": {},
   "outputs": [
    {
     "data": {
      "text/html": [
       "<div>\n",
       "<style scoped>\n",
       "    .dataframe tbody tr th:only-of-type {\n",
       "        vertical-align: middle;\n",
       "    }\n",
       "\n",
       "    .dataframe tbody tr th {\n",
       "        vertical-align: top;\n",
       "    }\n",
       "\n",
       "    .dataframe thead th {\n",
       "        text-align: right;\n",
       "    }\n",
       "</style>\n",
       "<table border=\"1\" class=\"dataframe\">\n",
       "  <thead>\n",
       "    <tr style=\"text-align: right;\">\n",
       "      <th></th>\n",
       "      <th>발발시점</th>\n",
       "      <th>갈등이름</th>\n",
       "      <th>갈등종류</th>\n",
       "      <th>전쟁규모</th>\n",
       "      <th>참전국수</th>\n",
       "      <th>Count</th>\n",
       "      <th>War_volume</th>\n",
       "    </tr>\n",
       "  </thead>\n",
       "  <tbody>\n",
       "    <tr>\n",
       "      <th>0</th>\n",
       "      <td>2001-09-11</td>\n",
       "      <td>테러와의전쟁</td>\n",
       "      <td>테러</td>\n",
       "      <td>1000000</td>\n",
       "      <td>48</td>\n",
       "      <td>1</td>\n",
       "      <td>48</td>\n",
       "    </tr>\n",
       "    <tr>\n",
       "      <th>2</th>\n",
       "      <td>2002-10-07</td>\n",
       "      <td>영원한자유작전-아프리카의뿔</td>\n",
       "      <td>테러</td>\n",
       "      <td>500000</td>\n",
       "      <td>38</td>\n",
       "      <td>1</td>\n",
       "      <td>38</td>\n",
       "    </tr>\n",
       "    <tr>\n",
       "      <th>3</th>\n",
       "      <td>2003-03-20</td>\n",
       "      <td>이라크전쟁</td>\n",
       "      <td>테러</td>\n",
       "      <td>1000000</td>\n",
       "      <td>41</td>\n",
       "      <td>1</td>\n",
       "      <td>41</td>\n",
       "    </tr>\n",
       "    <tr>\n",
       "      <th>17</th>\n",
       "      <td>2011-02-15</td>\n",
       "      <td>리비아내전</td>\n",
       "      <td>내란</td>\n",
       "      <td>37000</td>\n",
       "      <td>21</td>\n",
       "      <td>1</td>\n",
       "      <td>21</td>\n",
       "    </tr>\n",
       "    <tr>\n",
       "      <th>20</th>\n",
       "      <td>2012-01-16</td>\n",
       "      <td>북부말리전쟁</td>\n",
       "      <td>테러</td>\n",
       "      <td>24764</td>\n",
       "      <td>57</td>\n",
       "      <td>1</td>\n",
       "      <td>57</td>\n",
       "    </tr>\n",
       "    <tr>\n",
       "      <th>21</th>\n",
       "      <td>2013-12-30</td>\n",
       "      <td>이라크 내전</td>\n",
       "      <td>내란</td>\n",
       "      <td>770000</td>\n",
       "      <td>22</td>\n",
       "      <td>1</td>\n",
       "      <td>22</td>\n",
       "    </tr>\n",
       "    <tr>\n",
       "      <th>23</th>\n",
       "      <td>2014-06-13</td>\n",
       "      <td>ISIL에대한국제군사개입</td>\n",
       "      <td>테러</td>\n",
       "      <td>472260</td>\n",
       "      <td>41</td>\n",
       "      <td>1</td>\n",
       "      <td>41</td>\n",
       "    </tr>\n",
       "  </tbody>\n",
       "</table>\n",
       "</div>"
      ],
      "text/plain": [
       "         발발시점            갈등이름 갈등종류     전쟁규모  참전국수  Count  War_volume\n",
       "0  2001-09-11          테러와의전쟁   테러  1000000    48      1          48\n",
       "2  2002-10-07  영원한자유작전-아프리카의뿔   테러   500000    38      1          38\n",
       "3  2003-03-20           이라크전쟁   테러  1000000    41      1          41\n",
       "17 2011-02-15           리비아내전   내란    37000    21      1          21\n",
       "20 2012-01-16          북부말리전쟁   테러    24764    57      1          57\n",
       "21 2013-12-30          이라크 내전   내란   770000    22      1          22\n",
       "23 2014-06-13   ISIL에대한국제군사개입   테러   472260    41      1          41"
      ]
     },
     "execution_count": 77,
     "metadata": {},
     "output_type": "execute_result"
    }
   ],
   "source": [
    "c_1"
   ]
  },
  {
   "cell_type": "code",
   "execution_count": 32,
   "metadata": {},
   "outputs": [],
   "source": [
    "#### (그래프) 2000년이후 전쟁의 참전국 규모에 따른 전쟁수(소,중,대)"
   ]
  },
  {
   "cell_type": "code",
   "execution_count": null,
   "metadata": {},
   "outputs": [],
   "source": []
  },
  {
   "cell_type": "code",
   "execution_count": 33,
   "metadata": {},
   "outputs": [],
   "source": [
    "### (1)-3 전쟁규모별 (병력수 1k이하, 10k미만, 10k이상) 전쟁수 count"
   ]
  },
  {
   "cell_type": "code",
   "execution_count": 78,
   "metadata": {},
   "outputs": [
    {
     "data": {
      "text/html": [
       "<div>\n",
       "<style scoped>\n",
       "    .dataframe tbody tr th:only-of-type {\n",
       "        vertical-align: middle;\n",
       "    }\n",
       "\n",
       "    .dataframe tbody tr th {\n",
       "        vertical-align: top;\n",
       "    }\n",
       "\n",
       "    .dataframe thead th {\n",
       "        text-align: right;\n",
       "    }\n",
       "</style>\n",
       "<table border=\"1\" class=\"dataframe\">\n",
       "  <thead>\n",
       "    <tr style=\"text-align: right;\">\n",
       "      <th></th>\n",
       "      <th>발발시점</th>\n",
       "      <th>갈등이름</th>\n",
       "      <th>갈등종류</th>\n",
       "      <th>전쟁규모</th>\n",
       "      <th>참전국수</th>\n",
       "      <th>Count</th>\n",
       "      <th>War_volume</th>\n",
       "    </tr>\n",
       "  </thead>\n",
       "  <tbody>\n",
       "    <tr>\n",
       "      <th>4</th>\n",
       "      <td>2004-04-01</td>\n",
       "      <td>이란-PJAK충돌</td>\n",
       "      <td>민족</td>\n",
       "      <td>17000</td>\n",
       "      <td>3</td>\n",
       "      <td>1</td>\n",
       "      <td>3</td>\n",
       "    </tr>\n",
       "  </tbody>\n",
       "</table>\n",
       "</div>"
      ],
      "text/plain": [
       "        발발시점       갈등이름 갈등종류   전쟁규모  참전국수  Count  War_volume\n",
       "4 2004-04-01  이란-PJAK충돌   민족  17000     3      1           3"
      ]
     },
     "execution_count": 78,
     "metadata": {},
     "output_type": "execute_result"
    }
   ],
   "source": [
    "# 병력 3만미만 참전 \"S1\"\n",
    "a_2= ls_war_X2[ls_war_X2[\"전쟁규모\"]<30*1000]\n",
    "a_2.head(1)"
   ]
  },
  {
   "cell_type": "code",
   "execution_count": 79,
   "metadata": {},
   "outputs": [
    {
     "data": {
      "text/html": [
       "<div>\n",
       "<style scoped>\n",
       "    .dataframe tbody tr th:only-of-type {\n",
       "        vertical-align: middle;\n",
       "    }\n",
       "\n",
       "    .dataframe tbody tr th {\n",
       "        vertical-align: top;\n",
       "    }\n",
       "\n",
       "    .dataframe thead th {\n",
       "        text-align: right;\n",
       "    }\n",
       "</style>\n",
       "<table border=\"1\" class=\"dataframe\">\n",
       "  <thead>\n",
       "    <tr style=\"text-align: right;\">\n",
       "      <th></th>\n",
       "      <th>발발시점</th>\n",
       "      <th>갈등이름</th>\n",
       "      <th>갈등종류</th>\n",
       "      <th>전쟁규모</th>\n",
       "      <th>참전국수</th>\n",
       "      <th>Count</th>\n",
       "      <th>War_volume</th>\n",
       "    </tr>\n",
       "  </thead>\n",
       "  <tbody>\n",
       "    <tr>\n",
       "      <th>1</th>\n",
       "      <td>2002-01-15</td>\n",
       "      <td>영원한자유작전-필리핀</td>\n",
       "      <td>테러</td>\n",
       "      <td>115800</td>\n",
       "      <td>2</td>\n",
       "      <td>1</td>\n",
       "      <td>2</td>\n",
       "    </tr>\n",
       "  </tbody>\n",
       "</table>\n",
       "</div>"
      ],
      "text/plain": [
       "        발발시점         갈등이름 갈등종류    전쟁규모  참전국수  Count  War_volume\n",
       "1 2002-01-15  영원한자유작전-필리핀   테러  115800     2      1           2"
      ]
     },
     "execution_count": 79,
     "metadata": {},
     "output_type": "execute_result"
    }
   ],
   "source": [
    "# 3~50만병력 참전 \"S2\"\n",
    "b_2= ls_war_X2[(ls_war_X2[\"전쟁규모\"] >= 30*1000)&(ls_war_X2[\"전쟁규모\"] < 500*1000)] \n",
    "b_2.head(1)"
   ]
  },
  {
   "cell_type": "code",
   "execution_count": 80,
   "metadata": {},
   "outputs": [
    {
     "data": {
      "text/html": [
       "<div>\n",
       "<style scoped>\n",
       "    .dataframe tbody tr th:only-of-type {\n",
       "        vertical-align: middle;\n",
       "    }\n",
       "\n",
       "    .dataframe tbody tr th {\n",
       "        vertical-align: top;\n",
       "    }\n",
       "\n",
       "    .dataframe thead th {\n",
       "        text-align: right;\n",
       "    }\n",
       "</style>\n",
       "<table border=\"1\" class=\"dataframe\">\n",
       "  <thead>\n",
       "    <tr style=\"text-align: right;\">\n",
       "      <th></th>\n",
       "      <th>발발시점</th>\n",
       "      <th>갈등이름</th>\n",
       "      <th>갈등종류</th>\n",
       "      <th>전쟁규모</th>\n",
       "      <th>참전국수</th>\n",
       "      <th>Count</th>\n",
       "      <th>War_volume</th>\n",
       "    </tr>\n",
       "  </thead>\n",
       "  <tbody>\n",
       "    <tr>\n",
       "      <th>0</th>\n",
       "      <td>2001-09-11</td>\n",
       "      <td>테러와의전쟁</td>\n",
       "      <td>테러</td>\n",
       "      <td>1000000</td>\n",
       "      <td>48</td>\n",
       "      <td>1</td>\n",
       "      <td>48</td>\n",
       "    </tr>\n",
       "  </tbody>\n",
       "</table>\n",
       "</div>"
      ],
      "text/plain": [
       "        발발시점    갈등이름 갈등종류     전쟁규모  참전국수  Count  War_volume\n",
       "0 2001-09-11  테러와의전쟁   테러  1000000    48      1          48"
      ]
     },
     "execution_count": 80,
     "metadata": {},
     "output_type": "execute_result"
    }
   ],
   "source": [
    "# 50만이상 병력투입\n",
    "c_2= ls_war_X2[(ls_war_X2[\"전쟁규모\"] >= 500*1000)] \n",
    "c_2.head(1)"
   ]
  },
  {
   "cell_type": "markdown",
   "metadata": {},
   "source": [
    "##### 코멘트\n",
    "- 병력 연인원 투입규모 50만명 이상인 전쟁이 5개\n",
    "- 테러와의 전쟁을 시작으로 테러와의 후속전쟁에 지속적인 병력이 투입되고 있음\n",
    "- 이들 전쟁의 참전국가들도 대규모급\n",
    "- 의견->여러국가들에 의해 대규모 병력이 투입된 전쟁은 해당국가의 이해관계가 좀더 집중되어 있다고 판단할 수 있을까? "
   ]
  },
  {
   "cell_type": "code",
   "execution_count": 81,
   "metadata": {},
   "outputs": [
    {
     "data": {
      "text/plain": [
       "(11, 12, 5)"
      ]
     },
     "execution_count": 81,
     "metadata": {},
     "output_type": "execute_result"
    }
   ],
   "source": [
    "len(a_2), len(b_2), len(c_2)"
   ]
  },
  {
   "cell_type": "code",
   "execution_count": 82,
   "metadata": {},
   "outputs": [
    {
     "data": {
      "text/html": [
       "<div>\n",
       "<style scoped>\n",
       "    .dataframe tbody tr th:only-of-type {\n",
       "        vertical-align: middle;\n",
       "    }\n",
       "\n",
       "    .dataframe tbody tr th {\n",
       "        vertical-align: top;\n",
       "    }\n",
       "\n",
       "    .dataframe thead th {\n",
       "        text-align: right;\n",
       "    }\n",
       "</style>\n",
       "<table border=\"1\" class=\"dataframe\">\n",
       "  <thead>\n",
       "    <tr style=\"text-align: right;\">\n",
       "      <th></th>\n",
       "      <th>발발시점</th>\n",
       "      <th>갈등이름</th>\n",
       "      <th>갈등종류</th>\n",
       "      <th>전쟁규모</th>\n",
       "      <th>참전국수</th>\n",
       "      <th>Count</th>\n",
       "      <th>War_volume</th>\n",
       "    </tr>\n",
       "  </thead>\n",
       "  <tbody>\n",
       "    <tr>\n",
       "      <th>0</th>\n",
       "      <td>2001-09-11</td>\n",
       "      <td>테러와의전쟁</td>\n",
       "      <td>테러</td>\n",
       "      <td>1000000</td>\n",
       "      <td>48</td>\n",
       "      <td>1</td>\n",
       "      <td>48</td>\n",
       "    </tr>\n",
       "    <tr>\n",
       "      <th>2</th>\n",
       "      <td>2002-10-07</td>\n",
       "      <td>영원한자유작전-아프리카의뿔</td>\n",
       "      <td>테러</td>\n",
       "      <td>500000</td>\n",
       "      <td>38</td>\n",
       "      <td>1</td>\n",
       "      <td>38</td>\n",
       "    </tr>\n",
       "    <tr>\n",
       "      <th>3</th>\n",
       "      <td>2003-03-20</td>\n",
       "      <td>이라크전쟁</td>\n",
       "      <td>테러</td>\n",
       "      <td>1000000</td>\n",
       "      <td>41</td>\n",
       "      <td>1</td>\n",
       "      <td>41</td>\n",
       "    </tr>\n",
       "    <tr>\n",
       "      <th>9</th>\n",
       "      <td>2006-02-22</td>\n",
       "      <td>이라크내전</td>\n",
       "      <td>내란</td>\n",
       "      <td>748000</td>\n",
       "      <td>5</td>\n",
       "      <td>1</td>\n",
       "      <td>5</td>\n",
       "    </tr>\n",
       "    <tr>\n",
       "      <th>21</th>\n",
       "      <td>2013-12-30</td>\n",
       "      <td>이라크 내전</td>\n",
       "      <td>내란</td>\n",
       "      <td>770000</td>\n",
       "      <td>22</td>\n",
       "      <td>1</td>\n",
       "      <td>22</td>\n",
       "    </tr>\n",
       "  </tbody>\n",
       "</table>\n",
       "</div>"
      ],
      "text/plain": [
       "         발발시점            갈등이름 갈등종류     전쟁규모  참전국수  Count  War_volume\n",
       "0  2001-09-11          테러와의전쟁   테러  1000000    48      1          48\n",
       "2  2002-10-07  영원한자유작전-아프리카의뿔   테러   500000    38      1          38\n",
       "3  2003-03-20           이라크전쟁   테러  1000000    41      1          41\n",
       "9  2006-02-22           이라크내전   내란   748000     5      1           5\n",
       "21 2013-12-30          이라크 내전   내란   770000    22      1          22"
      ]
     },
     "execution_count": 82,
     "metadata": {},
     "output_type": "execute_result"
    }
   ],
   "source": [
    "c_2"
   ]
  },
  {
   "cell_type": "code",
   "execution_count": 37,
   "metadata": {},
   "outputs": [],
   "source": [
    "#### (그래프) 2000년이후 전쟁병력규모에 따른 전쟁수"
   ]
  },
  {
   "cell_type": "code",
   "execution_count": null,
   "metadata": {},
   "outputs": [],
   "source": []
  },
  {
   "cell_type": "code",
   "execution_count": 38,
   "metadata": {},
   "outputs": [],
   "source": [
    "## (2) Symbol별 ABS_idx"
   ]
  },
  {
   "cell_type": "code",
   "execution_count": 84,
   "metadata": {},
   "outputs": [
    {
     "name": "stdout",
     "output_type": "stream",
     "text": [
      "<class 'pandas.core.frame.DataFrame'>\n",
      "RangeIndex: 1018 entries, 0 to 1017\n",
      "Data columns (total 12 columns):\n",
      " #   Column         Non-Null Count  Dtype         \n",
      "---  ------         --------------  -----         \n",
      " 0   Change         1018 non-null   float64       \n",
      " 1   Symbol         1018 non-null   object        \n",
      " 2   Industry       1018 non-null   object        \n",
      " 3   Change_idx     1017 non-null   float64       \n",
      " 4   ABS_idx        1017 non-null   float64       \n",
      " 5   Avg_change     1018 non-null   float64       \n",
      " 6   Start_date     1018 non-null   datetime64[ns]\n",
      " 7   War_genre      1018 non-null   object        \n",
      " 8   War_name       1018 non-null   object        \n",
      " 9   War_volume     1018 non-null   int64         \n",
      " 10  Count_country  1018 non-null   int64         \n",
      " 11  Count          1018 non-null   int64         \n",
      "dtypes: datetime64[ns](1), float64(4), int64(3), object(4)\n",
      "memory usage: 95.6+ KB\n"
     ]
    }
   ],
   "source": [
    "\n",
    "df_final = pd.read_excel(\"./datas/final_X.xls\",'final_X')\n",
    "\n",
    "df_final = df_final.drop([\"Unnamed: 0\"], axis=1)\n",
    "df_final[\"Count\"] = 1\n",
    "df_final.info()"
   ]
  },
  {
   "cell_type": "code",
   "execution_count": 85,
   "metadata": {},
   "outputs": [
    {
     "data": {
      "text/html": [
       "<div>\n",
       "<style scoped>\n",
       "    .dataframe tbody tr th:only-of-type {\n",
       "        vertical-align: middle;\n",
       "    }\n",
       "\n",
       "    .dataframe tbody tr th {\n",
       "        vertical-align: top;\n",
       "    }\n",
       "\n",
       "    .dataframe thead th {\n",
       "        text-align: right;\n",
       "    }\n",
       "</style>\n",
       "<table border=\"1\" class=\"dataframe\">\n",
       "  <thead>\n",
       "    <tr style=\"text-align: right;\">\n",
       "      <th></th>\n",
       "      <th>Change</th>\n",
       "      <th>Symbol</th>\n",
       "      <th>Industry</th>\n",
       "      <th>Change_idx</th>\n",
       "      <th>ABS_idx</th>\n",
       "      <th>Avg_change</th>\n",
       "      <th>Start_date</th>\n",
       "      <th>War_genre</th>\n",
       "      <th>War_name</th>\n",
       "      <th>War_volume</th>\n",
       "      <th>Count_country</th>\n",
       "      <th>Count</th>\n",
       "    </tr>\n",
       "  </thead>\n",
       "  <tbody>\n",
       "    <tr>\n",
       "      <th>1016</th>\n",
       "      <td>-0.0426</td>\n",
       "      <td>BABA</td>\n",
       "      <td>소프트웨어 및 IT서비스</td>\n",
       "      <td>1065.0</td>\n",
       "      <td>1065.0</td>\n",
       "      <td>-0.004</td>\n",
       "      <td>2014-09-16</td>\n",
       "      <td>내란</td>\n",
       "      <td>예멘내전</td>\n",
       "      <td>156000</td>\n",
       "      <td>19</td>\n",
       "      <td>1</td>\n",
       "    </tr>\n",
       "    <tr>\n",
       "      <th>1017</th>\n",
       "      <td>-0.0025</td>\n",
       "      <td>PYPL</td>\n",
       "      <td>소프트웨어 및 IT서비스</td>\n",
       "      <td>62.0</td>\n",
       "      <td>62.0</td>\n",
       "      <td>-0.004</td>\n",
       "      <td>2014-09-16</td>\n",
       "      <td>내란</td>\n",
       "      <td>예멘내전</td>\n",
       "      <td>156000</td>\n",
       "      <td>19</td>\n",
       "      <td>1</td>\n",
       "    </tr>\n",
       "  </tbody>\n",
       "</table>\n",
       "</div>"
      ],
      "text/plain": [
       "      Change Symbol       Industry  Change_idx  ABS_idx  Avg_change  \\\n",
       "1016 -0.0426   BABA  소프트웨어 및 IT서비스      1065.0   1065.0      -0.004   \n",
       "1017 -0.0025   PYPL  소프트웨어 및 IT서비스        62.0     62.0      -0.004   \n",
       "\n",
       "     Start_date War_genre War_name  War_volume  Count_country  Count  \n",
       "1016 2014-09-16        내란     예멘내전      156000             19      1  \n",
       "1017 2014-09-16        내란     예멘내전      156000             19      1  "
      ]
     },
     "execution_count": 85,
     "metadata": {},
     "output_type": "execute_result"
    }
   ],
   "source": [
    "df_final.tail(2)"
   ]
  },
  {
   "cell_type": "markdown",
   "metadata": {},
   "source": [
    "##### 코멘트\n",
    "- 2000년대 이후 총 23개의 전쟁\n",
    "- 미국 시총 상위 100대 기업 중 51개\n",
    "- 20개의 카테고리(인더스트리)\n",
    "- 총 1018개의 ABS_idx 분석"
   ]
  },
  {
   "cell_type": "code",
   "execution_count": 97,
   "metadata": {},
   "outputs": [
    {
     "name": "stdout",
     "output_type": "stream",
     "text": [
      "23 51 20 1018\n"
     ]
    }
   ],
   "source": [
    "print(len(df_final.groupby(\"Start_date\").size().reset_index()),\n",
    "     len(df_final.groupby(\"Symbol\").size().reset_index()),\n",
    "     len(df_final.groupby(\"Industry\").size().reset_index()),\n",
    "     len(df_final))"
   ]
  },
  {
   "cell_type": "code",
   "execution_count": 98,
   "metadata": {},
   "outputs": [],
   "source": [
    "### (2)-1 ABS_idx 0~199 / 200이상 Sympbol 수 -> 비율도 보기"
   ]
  },
  {
   "cell_type": "code",
   "execution_count": 40,
   "metadata": {},
   "outputs": [
    {
     "data": {
      "text/plain": [
       "(523, 494)"
      ]
     },
     "execution_count": 40,
     "metadata": {},
     "output_type": "execute_result"
    }
   ],
   "source": [
    "s_count_1 = df_final[(df_final[\"ABS_idx\"] < 200)] # \n",
    "s_count_2 = df_final[(df_final[\"ABS_idx\"] >= 200)]\n",
    "len(s_count_1), len(s_count_2)"
   ]
  },
  {
   "cell_type": "code",
   "execution_count": 100,
   "metadata": {},
   "outputs": [],
   "source": [
    "import matplotlib as mpl\n",
    "import seaborn as sns\n",
    "import plotly.express as px\n",
    "import plotly.graph_objects as go"
   ]
  },
  {
   "cell_type": "markdown",
   "metadata": {},
   "source": [
    "##### 코멘트\n",
    "- ABS_idx box plot으로 분석\n",
    "- 중앙값 170\n",
    "- upper fence 950\n",
    "- q1 point 67\n",
    "- q3 point 421\n",
    "- 향후 비교를 위한 기준 중앙값 170보다 큰 200을 구간으로 전쟁영향여부 판단"
   ]
  },
  {
   "cell_type": "code",
   "execution_count": 104,
   "metadata": {},
   "outputs": [
    {
     "data": {
      "application/vnd.plotly.v1+json": {
       "config": {
        "plotlyServerURL": "https://plot.ly"
       },
       "data": [
        {
         "name": "ABS IDX",
         "type": "box",
         "y": [
          269,
          175,
          0,
          0,
          0,
          148,
          610,
          122,
          231,
          90,
          264,
          66,
          50,
          388,
          206,
          40,
          2300,
          365,
          1200,
          167,
          null,
          null,
          113,
          null,
          100,
          1093,
          56,
          206,
          17,
          178,
          1054,
          48,
          52,
          170,
          80,
          108,
          23,
          223,
          1680,
          1170,
          730,
          265,
          50,
          153,
          25,
          null,
          907,
          164,
          47,
          3,
          13,
          594,
          203,
          620,
          310,
          260,
          1490,
          29,
          151,
          790,
          130,
          800,
          695,
          8,
          90,
          79,
          1420,
          127,
          210,
          1992,
          637,
          247,
          84,
          830,
          435,
          84,
          430,
          null,
          1415,
          2920,
          10,
          55,
          350,
          190,
          120,
          762,
          119,
          655,
          14,
          598,
          130,
          72,
          2642,
          46,
          108,
          132,
          187,
          322,
          165,
          null,
          560,
          120,
          965,
          2990,
          47,
          120,
          54,
          49,
          330,
          247,
          364,
          590,
          170,
          55,
          108,
          313,
          113,
          2758,
          57,
          126,
          186,
          219,
          213,
          552,
          103,
          216,
          135,
          77,
          174,
          505,
          990,
          190,
          2,
          1585,
          96,
          null,
          15,
          276,
          438,
          152,
          218,
          3,
          84,
          470,
          302,
          176,
          297,
          246,
          null,
          124,
          97,
          629,
          922,
          270,
          633,
          750,
          141,
          830,
          54,
          null,
          36,
          3643,
          118,
          null,
          116,
          129,
          83,
          23,
          960,
          28,
          570,
          558,
          256,
          55,
          420,
          150,
          1130,
          193,
          15,
          256,
          70,
          255,
          110,
          330,
          134,
          11,
          272,
          7,
          292,
          199,
          50,
          205,
          null,
          199,
          390,
          84,
          125,
          85,
          255,
          403,
          193,
          129,
          105,
          38,
          80,
          null,
          92,
          135,
          28,
          122,
          55,
          90,
          121,
          276,
          328,
          null,
          240,
          null,
          84,
          39,
          206,
          32,
          26,
          645,
          177,
          630,
          116,
          79,
          null,
          640,
          805,
          412,
          null,
          3,
          52,
          38,
          110,
          1270,
          228,
          1190,
          3480,
          93,
          210,
          330,
          156,
          630,
          108,
          87,
          148,
          267,
          255,
          228,
          193,
          1153,
          1670,
          null,
          39,
          43,
          125,
          46,
          730,
          175,
          null,
          1080,
          0,
          70,
          34,
          121,
          2,
          327,
          150,
          74,
          300,
          94,
          85,
          1230,
          1225,
          32,
          3030,
          44,
          710,
          24,
          8,
          430,
          187,
          48,
          105,
          67,
          15,
          2320,
          170,
          32,
          368,
          11,
          26,
          632,
          75,
          0,
          210,
          447,
          85,
          880,
          72,
          94,
          null,
          610,
          232,
          2,
          30,
          378,
          97,
          66,
          190,
          51,
          58,
          1060,
          90,
          530,
          92,
          735,
          92,
          333,
          679,
          230,
          67,
          73,
          132,
          124,
          630,
          9,
          456,
          50,
          490,
          35,
          45,
          1887,
          128,
          560,
          1057,
          357,
          400,
          245,
          365,
          3415,
          282,
          33,
          105,
          63,
          16,
          98,
          30,
          346,
          242,
          95,
          null,
          null,
          null,
          74,
          0,
          51,
          130,
          275,
          50,
          210,
          50,
          null,
          0,
          1110,
          490,
          188,
          73,
          36,
          123,
          28,
          154,
          121,
          348,
          563,
          480,
          13,
          21,
          102,
          3570,
          120,
          1520,
          363,
          937,
          110,
          123,
          0,
          null,
          96,
          103,
          149,
          35,
          80,
          693,
          240,
          590,
          106,
          16,
          350,
          290,
          30,
          373,
          39,
          30,
          352,
          210,
          90,
          265,
          910,
          60,
          340,
          530,
          null,
          2530,
          30,
          1050,
          131,
          393,
          110,
          1080,
          20,
          290,
          7,
          16,
          407,
          84,
          37,
          null,
          100,
          null,
          40,
          55,
          15,
          940,
          267,
          77,
          32,
          39,
          198,
          324,
          930,
          274,
          202,
          51,
          520,
          90,
          192,
          null,
          58,
          15,
          365,
          870,
          null,
          25,
          620,
          146,
          150,
          533,
          113,
          32,
          81,
          272,
          27,
          553,
          417,
          133,
          36,
          480,
          32,
          59,
          140,
          112,
          90,
          537,
          120,
          1300,
          75,
          10,
          100,
          158,
          4065,
          null,
          98,
          11,
          150,
          735,
          335,
          92,
          680,
          240,
          0,
          57,
          11,
          4270,
          141,
          141,
          null,
          null,
          0,
          0,
          null,
          533,
          1120,
          1874,
          520,
          509,
          699,
          617,
          265,
          150,
          97,
          515,
          410,
          457,
          295,
          36,
          885,
          10,
          115,
          170,
          1050,
          980,
          null,
          null,
          63,
          245,
          490,
          389,
          533,
          34,
          65,
          5,
          105,
          98,
          17,
          null,
          502,
          255,
          72,
          773,
          970,
          202,
          129,
          172,
          139,
          266,
          44,
          17,
          148,
          335,
          100,
          285,
          196,
          440,
          287,
          117,
          230,
          70,
          null,
          1220,
          630,
          334,
          51,
          71,
          13,
          141,
          130,
          172,
          14,
          10,
          50,
          105,
          328,
          305,
          1525,
          240,
          302,
          458,
          467,
          635,
          565,
          138,
          null,
          820,
          115,
          420,
          39,
          795,
          443,
          246,
          390,
          4,
          114,
          null,
          null,
          null,
          730,
          1650,
          55,
          47,
          null,
          460,
          690,
          68,
          202,
          90,
          680,
          14,
          200,
          51,
          1590,
          880,
          125,
          130,
          80,
          465,
          30,
          1500,
          null,
          68,
          null,
          3,
          308,
          10,
          168,
          327,
          null,
          4,
          1510,
          32,
          null,
          61,
          117,
          null,
          125,
          20,
          137,
          null,
          210,
          135,
          108,
          null,
          400,
          470,
          6,
          262,
          60,
          620,
          347,
          348,
          8,
          420,
          860,
          61,
          532,
          365,
          null,
          1120,
          335,
          340,
          null,
          62,
          150,
          250,
          167,
          58,
          182,
          10,
          110,
          495,
          128,
          2230,
          90,
          100,
          747,
          106,
          5,
          199,
          422,
          192,
          675,
          1120,
          200,
          15,
          600,
          285,
          375,
          4675,
          795,
          439,
          null,
          151,
          23,
          119,
          588,
          145,
          187,
          123,
          1240,
          69,
          145,
          null,
          9,
          25,
          8,
          910,
          86,
          33,
          20,
          185,
          1158,
          39,
          222,
          0,
          75,
          18,
          445,
          39,
          null,
          196,
          260,
          73,
          176,
          31,
          37,
          232,
          157,
          282,
          147,
          14,
          null,
          580,
          55,
          4195,
          59,
          345,
          55,
          300,
          0,
          380,
          2190,
          623,
          77,
          123,
          560,
          54,
          100,
          1940,
          49,
          null,
          269,
          234,
          925,
          530,
          90,
          149,
          194,
          157,
          293,
          6,
          194,
          244,
          233,
          261,
          1210,
          170,
          null,
          292,
          127,
          null,
          670,
          130,
          382,
          26,
          49,
          88,
          44,
          130,
          172,
          566,
          28,
          67,
          41,
          101,
          173,
          230,
          63,
          2360,
          90,
          2160,
          1280,
          171,
          1445,
          41,
          337,
          430,
          150,
          null,
          20,
          220,
          330,
          328,
          587,
          null,
          96,
          36,
          327,
          363,
          193,
          398,
          130,
          275,
          520,
          null,
          11,
          800,
          420,
          1560,
          176,
          385,
          87,
          13,
          1155,
          290,
          205,
          209,
          1783,
          196,
          36,
          null,
          107,
          142,
          217,
          237,
          110,
          255,
          590,
          4,
          39,
          388,
          187,
          177,
          495,
          142,
          0,
          100,
          null,
          355,
          602,
          332,
          1355,
          5,
          560,
          20,
          28,
          183,
          570,
          380,
          1485,
          30,
          72,
          234,
          240,
          54,
          500,
          7,
          260,
          67,
          46,
          148,
          335,
          528,
          342,
          195,
          0,
          24,
          43,
          20,
          615,
          205,
          48,
          1645,
          40,
          null,
          68,
          126,
          1140,
          240,
          50,
          950,
          295,
          13,
          485,
          393,
          92,
          158,
          45,
          95,
          6,
          3300,
          2226,
          490,
          234,
          426,
          1240,
          98,
          65,
          2180,
          104,
          1586,
          143,
          18,
          26,
          118,
          413,
          20,
          null,
          0,
          220,
          595,
          100,
          495,
          0,
          316,
          50,
          417,
          25,
          102,
          272,
          77,
          264,
          148,
          398,
          8,
          7950,
          570,
          251,
          25,
          40,
          770,
          92,
          193,
          67,
          77,
          160,
          10,
          512,
          71,
          133,
          38,
          75,
          176,
          478,
          478,
          500,
          355,
          180,
          491,
          52,
          960,
          108,
          1690,
          55,
          1015,
          108,
          307,
          97,
          597,
          15323,
          35,
          53,
          70,
          32,
          148,
          148,
          null,
          187,
          380,
          null,
          1250,
          7262,
          530,
          48,
          38,
          522,
          11,
          30,
          null,
          null,
          467,
          70,
          1080,
          92,
          0,
          575,
          59,
          142,
          477,
          136,
          16923,
          null,
          230,
          155,
          145,
          2198,
          1560,
          42,
          82,
          223,
          270,
          30,
          70,
          200,
          1065,
          62
         ]
        }
       ],
       "layout": {
        "template": {
         "data": {
          "bar": [
           {
            "error_x": {
             "color": "#2a3f5f"
            },
            "error_y": {
             "color": "#2a3f5f"
            },
            "marker": {
             "line": {
              "color": "#E5ECF6",
              "width": 0.5
             }
            },
            "type": "bar"
           }
          ],
          "barpolar": [
           {
            "marker": {
             "line": {
              "color": "#E5ECF6",
              "width": 0.5
             }
            },
            "type": "barpolar"
           }
          ],
          "carpet": [
           {
            "aaxis": {
             "endlinecolor": "#2a3f5f",
             "gridcolor": "white",
             "linecolor": "white",
             "minorgridcolor": "white",
             "startlinecolor": "#2a3f5f"
            },
            "baxis": {
             "endlinecolor": "#2a3f5f",
             "gridcolor": "white",
             "linecolor": "white",
             "minorgridcolor": "white",
             "startlinecolor": "#2a3f5f"
            },
            "type": "carpet"
           }
          ],
          "choropleth": [
           {
            "colorbar": {
             "outlinewidth": 0,
             "ticks": ""
            },
            "type": "choropleth"
           }
          ],
          "contour": [
           {
            "colorbar": {
             "outlinewidth": 0,
             "ticks": ""
            },
            "colorscale": [
             [
              0,
              "#0d0887"
             ],
             [
              0.1111111111111111,
              "#46039f"
             ],
             [
              0.2222222222222222,
              "#7201a8"
             ],
             [
              0.3333333333333333,
              "#9c179e"
             ],
             [
              0.4444444444444444,
              "#bd3786"
             ],
             [
              0.5555555555555556,
              "#d8576b"
             ],
             [
              0.6666666666666666,
              "#ed7953"
             ],
             [
              0.7777777777777778,
              "#fb9f3a"
             ],
             [
              0.8888888888888888,
              "#fdca26"
             ],
             [
              1,
              "#f0f921"
             ]
            ],
            "type": "contour"
           }
          ],
          "contourcarpet": [
           {
            "colorbar": {
             "outlinewidth": 0,
             "ticks": ""
            },
            "type": "contourcarpet"
           }
          ],
          "heatmap": [
           {
            "colorbar": {
             "outlinewidth": 0,
             "ticks": ""
            },
            "colorscale": [
             [
              0,
              "#0d0887"
             ],
             [
              0.1111111111111111,
              "#46039f"
             ],
             [
              0.2222222222222222,
              "#7201a8"
             ],
             [
              0.3333333333333333,
              "#9c179e"
             ],
             [
              0.4444444444444444,
              "#bd3786"
             ],
             [
              0.5555555555555556,
              "#d8576b"
             ],
             [
              0.6666666666666666,
              "#ed7953"
             ],
             [
              0.7777777777777778,
              "#fb9f3a"
             ],
             [
              0.8888888888888888,
              "#fdca26"
             ],
             [
              1,
              "#f0f921"
             ]
            ],
            "type": "heatmap"
           }
          ],
          "heatmapgl": [
           {
            "colorbar": {
             "outlinewidth": 0,
             "ticks": ""
            },
            "colorscale": [
             [
              0,
              "#0d0887"
             ],
             [
              0.1111111111111111,
              "#46039f"
             ],
             [
              0.2222222222222222,
              "#7201a8"
             ],
             [
              0.3333333333333333,
              "#9c179e"
             ],
             [
              0.4444444444444444,
              "#bd3786"
             ],
             [
              0.5555555555555556,
              "#d8576b"
             ],
             [
              0.6666666666666666,
              "#ed7953"
             ],
             [
              0.7777777777777778,
              "#fb9f3a"
             ],
             [
              0.8888888888888888,
              "#fdca26"
             ],
             [
              1,
              "#f0f921"
             ]
            ],
            "type": "heatmapgl"
           }
          ],
          "histogram": [
           {
            "marker": {
             "colorbar": {
              "outlinewidth": 0,
              "ticks": ""
             }
            },
            "type": "histogram"
           }
          ],
          "histogram2d": [
           {
            "colorbar": {
             "outlinewidth": 0,
             "ticks": ""
            },
            "colorscale": [
             [
              0,
              "#0d0887"
             ],
             [
              0.1111111111111111,
              "#46039f"
             ],
             [
              0.2222222222222222,
              "#7201a8"
             ],
             [
              0.3333333333333333,
              "#9c179e"
             ],
             [
              0.4444444444444444,
              "#bd3786"
             ],
             [
              0.5555555555555556,
              "#d8576b"
             ],
             [
              0.6666666666666666,
              "#ed7953"
             ],
             [
              0.7777777777777778,
              "#fb9f3a"
             ],
             [
              0.8888888888888888,
              "#fdca26"
             ],
             [
              1,
              "#f0f921"
             ]
            ],
            "type": "histogram2d"
           }
          ],
          "histogram2dcontour": [
           {
            "colorbar": {
             "outlinewidth": 0,
             "ticks": ""
            },
            "colorscale": [
             [
              0,
              "#0d0887"
             ],
             [
              0.1111111111111111,
              "#46039f"
             ],
             [
              0.2222222222222222,
              "#7201a8"
             ],
             [
              0.3333333333333333,
              "#9c179e"
             ],
             [
              0.4444444444444444,
              "#bd3786"
             ],
             [
              0.5555555555555556,
              "#d8576b"
             ],
             [
              0.6666666666666666,
              "#ed7953"
             ],
             [
              0.7777777777777778,
              "#fb9f3a"
             ],
             [
              0.8888888888888888,
              "#fdca26"
             ],
             [
              1,
              "#f0f921"
             ]
            ],
            "type": "histogram2dcontour"
           }
          ],
          "mesh3d": [
           {
            "colorbar": {
             "outlinewidth": 0,
             "ticks": ""
            },
            "type": "mesh3d"
           }
          ],
          "parcoords": [
           {
            "line": {
             "colorbar": {
              "outlinewidth": 0,
              "ticks": ""
             }
            },
            "type": "parcoords"
           }
          ],
          "pie": [
           {
            "automargin": true,
            "type": "pie"
           }
          ],
          "scatter": [
           {
            "marker": {
             "colorbar": {
              "outlinewidth": 0,
              "ticks": ""
             }
            },
            "type": "scatter"
           }
          ],
          "scatter3d": [
           {
            "line": {
             "colorbar": {
              "outlinewidth": 0,
              "ticks": ""
             }
            },
            "marker": {
             "colorbar": {
              "outlinewidth": 0,
              "ticks": ""
             }
            },
            "type": "scatter3d"
           }
          ],
          "scattercarpet": [
           {
            "marker": {
             "colorbar": {
              "outlinewidth": 0,
              "ticks": ""
             }
            },
            "type": "scattercarpet"
           }
          ],
          "scattergeo": [
           {
            "marker": {
             "colorbar": {
              "outlinewidth": 0,
              "ticks": ""
             }
            },
            "type": "scattergeo"
           }
          ],
          "scattergl": [
           {
            "marker": {
             "colorbar": {
              "outlinewidth": 0,
              "ticks": ""
             }
            },
            "type": "scattergl"
           }
          ],
          "scattermapbox": [
           {
            "marker": {
             "colorbar": {
              "outlinewidth": 0,
              "ticks": ""
             }
            },
            "type": "scattermapbox"
           }
          ],
          "scatterpolar": [
           {
            "marker": {
             "colorbar": {
              "outlinewidth": 0,
              "ticks": ""
             }
            },
            "type": "scatterpolar"
           }
          ],
          "scatterpolargl": [
           {
            "marker": {
             "colorbar": {
              "outlinewidth": 0,
              "ticks": ""
             }
            },
            "type": "scatterpolargl"
           }
          ],
          "scatterternary": [
           {
            "marker": {
             "colorbar": {
              "outlinewidth": 0,
              "ticks": ""
             }
            },
            "type": "scatterternary"
           }
          ],
          "surface": [
           {
            "colorbar": {
             "outlinewidth": 0,
             "ticks": ""
            },
            "colorscale": [
             [
              0,
              "#0d0887"
             ],
             [
              0.1111111111111111,
              "#46039f"
             ],
             [
              0.2222222222222222,
              "#7201a8"
             ],
             [
              0.3333333333333333,
              "#9c179e"
             ],
             [
              0.4444444444444444,
              "#bd3786"
             ],
             [
              0.5555555555555556,
              "#d8576b"
             ],
             [
              0.6666666666666666,
              "#ed7953"
             ],
             [
              0.7777777777777778,
              "#fb9f3a"
             ],
             [
              0.8888888888888888,
              "#fdca26"
             ],
             [
              1,
              "#f0f921"
             ]
            ],
            "type": "surface"
           }
          ],
          "table": [
           {
            "cells": {
             "fill": {
              "color": "#EBF0F8"
             },
             "line": {
              "color": "white"
             }
            },
            "header": {
             "fill": {
              "color": "#C8D4E3"
             },
             "line": {
              "color": "white"
             }
            },
            "type": "table"
           }
          ]
         },
         "layout": {
          "annotationdefaults": {
           "arrowcolor": "#2a3f5f",
           "arrowhead": 0,
           "arrowwidth": 1
          },
          "autotypenumbers": "strict",
          "coloraxis": {
           "colorbar": {
            "outlinewidth": 0,
            "ticks": ""
           }
          },
          "colorscale": {
           "diverging": [
            [
             0,
             "#8e0152"
            ],
            [
             0.1,
             "#c51b7d"
            ],
            [
             0.2,
             "#de77ae"
            ],
            [
             0.3,
             "#f1b6da"
            ],
            [
             0.4,
             "#fde0ef"
            ],
            [
             0.5,
             "#f7f7f7"
            ],
            [
             0.6,
             "#e6f5d0"
            ],
            [
             0.7,
             "#b8e186"
            ],
            [
             0.8,
             "#7fbc41"
            ],
            [
             0.9,
             "#4d9221"
            ],
            [
             1,
             "#276419"
            ]
           ],
           "sequential": [
            [
             0,
             "#0d0887"
            ],
            [
             0.1111111111111111,
             "#46039f"
            ],
            [
             0.2222222222222222,
             "#7201a8"
            ],
            [
             0.3333333333333333,
             "#9c179e"
            ],
            [
             0.4444444444444444,
             "#bd3786"
            ],
            [
             0.5555555555555556,
             "#d8576b"
            ],
            [
             0.6666666666666666,
             "#ed7953"
            ],
            [
             0.7777777777777778,
             "#fb9f3a"
            ],
            [
             0.8888888888888888,
             "#fdca26"
            ],
            [
             1,
             "#f0f921"
            ]
           ],
           "sequentialminus": [
            [
             0,
             "#0d0887"
            ],
            [
             0.1111111111111111,
             "#46039f"
            ],
            [
             0.2222222222222222,
             "#7201a8"
            ],
            [
             0.3333333333333333,
             "#9c179e"
            ],
            [
             0.4444444444444444,
             "#bd3786"
            ],
            [
             0.5555555555555556,
             "#d8576b"
            ],
            [
             0.6666666666666666,
             "#ed7953"
            ],
            [
             0.7777777777777778,
             "#fb9f3a"
            ],
            [
             0.8888888888888888,
             "#fdca26"
            ],
            [
             1,
             "#f0f921"
            ]
           ]
          },
          "colorway": [
           "#636efa",
           "#EF553B",
           "#00cc96",
           "#ab63fa",
           "#FFA15A",
           "#19d3f3",
           "#FF6692",
           "#B6E880",
           "#FF97FF",
           "#FECB52"
          ],
          "font": {
           "color": "#2a3f5f"
          },
          "geo": {
           "bgcolor": "white",
           "lakecolor": "white",
           "landcolor": "#E5ECF6",
           "showlakes": true,
           "showland": true,
           "subunitcolor": "white"
          },
          "hoverlabel": {
           "align": "left"
          },
          "hovermode": "closest",
          "mapbox": {
           "style": "light"
          },
          "paper_bgcolor": "white",
          "plot_bgcolor": "#E5ECF6",
          "polar": {
           "angularaxis": {
            "gridcolor": "white",
            "linecolor": "white",
            "ticks": ""
           },
           "bgcolor": "#E5ECF6",
           "radialaxis": {
            "gridcolor": "white",
            "linecolor": "white",
            "ticks": ""
           }
          },
          "scene": {
           "xaxis": {
            "backgroundcolor": "#E5ECF6",
            "gridcolor": "white",
            "gridwidth": 2,
            "linecolor": "white",
            "showbackground": true,
            "ticks": "",
            "zerolinecolor": "white"
           },
           "yaxis": {
            "backgroundcolor": "#E5ECF6",
            "gridcolor": "white",
            "gridwidth": 2,
            "linecolor": "white",
            "showbackground": true,
            "ticks": "",
            "zerolinecolor": "white"
           },
           "zaxis": {
            "backgroundcolor": "#E5ECF6",
            "gridcolor": "white",
            "gridwidth": 2,
            "linecolor": "white",
            "showbackground": true,
            "ticks": "",
            "zerolinecolor": "white"
           }
          },
          "shapedefaults": {
           "line": {
            "color": "#2a3f5f"
           }
          },
          "ternary": {
           "aaxis": {
            "gridcolor": "white",
            "linecolor": "white",
            "ticks": ""
           },
           "baxis": {
            "gridcolor": "white",
            "linecolor": "white",
            "ticks": ""
           },
           "bgcolor": "#E5ECF6",
           "caxis": {
            "gridcolor": "white",
            "linecolor": "white",
            "ticks": ""
           }
          },
          "title": {
           "x": 0.05
          },
          "xaxis": {
           "automargin": true,
           "gridcolor": "white",
           "linecolor": "white",
           "ticks": "",
           "title": {
            "standoff": 15
           },
           "zerolinecolor": "white",
           "zerolinewidth": 2
          },
          "yaxis": {
           "automargin": true,
           "gridcolor": "white",
           "linecolor": "white",
           "ticks": "",
           "title": {
            "standoff": 15
           },
           "zerolinecolor": "white",
           "zerolinewidth": 2
          }
         }
        }
       }
      },
      "text/html": [
       "<div>                            <div id=\"f9c87838-0597-4904-9df6-aba23ae81c9d\" class=\"plotly-graph-div\" style=\"height:525px; width:100%;\"></div>            <script type=\"text/javascript\">                require([\"plotly\"], function(Plotly) {                    window.PLOTLYENV=window.PLOTLYENV || {};                                    if (document.getElementById(\"f9c87838-0597-4904-9df6-aba23ae81c9d\")) {                    Plotly.newPlot(                        \"f9c87838-0597-4904-9df6-aba23ae81c9d\",                        [{\"name\": \"ABS IDX\", \"type\": \"box\", \"y\": [269.0, 175.0, 0.0, 0.0, 0.0, 148.0, 610.0, 122.0, 231.0, 90.0, 264.0, 66.0, 50.0, 388.0, 206.0, 40.0, 2300.0, 365.0, 1200.0, 167.0, null, null, 113.0, null, 100.0, 1093.0, 56.0, 206.0, 17.0, 178.0, 1054.0, 48.0, 52.0, 170.0, 80.0, 108.0, 23.0, 223.0, 1680.0, 1170.0, 730.0, 265.0, 50.0, 153.0, 25.0, null, 907.0, 164.0, 47.0, 3.0, 13.0, 594.0, 203.0, 620.0, 310.0, 260.0, 1490.0, 29.0, 151.0, 790.0, 130.0, 800.0, 695.0, 8.0, 90.0, 79.0, 1420.0, 127.0, 210.0, 1992.0, 637.0, 247.0, 84.0, 830.0, 435.0, 84.0, 430.0, null, 1415.0, 2920.0, 10.0, 55.0, 350.0, 190.0, 120.0, 762.0, 119.0, 655.0, 14.0, 598.0, 130.0, 72.0, 2642.0, 46.0, 108.0, 132.0, 187.0, 322.0, 165.0, null, 560.0, 120.0, 965.0, 2990.0, 47.0, 120.0, 54.0, 49.0, 330.0, 247.0, 364.0, 590.0, 170.0, 55.0, 108.0, 313.0, 113.0, 2758.0, 57.0, 126.0, 186.0, 219.0, 213.0, 552.0, 103.0, 216.0, 135.0, 77.0, 174.0, 505.0, 990.0, 190.0, 2.0, 1585.0, 96.0, null, 15.0, 276.0, 438.0, 152.0, 218.0, 3.0, 84.0, 470.0, 302.0, 176.0, 297.0, 246.0, null, 124.0, 97.0, 629.0, 922.0, 270.0, 633.0, 750.0, 141.0, 830.0, 54.0, null, 36.0, 3643.0, 118.0, null, 116.0, 129.0, 83.0, 23.0, 960.0, 28.0, 570.0, 558.0, 256.0, 55.0, 420.0, 150.0, 1130.0, 193.0, 15.0, 256.0, 70.0, 255.0, 110.0, 330.0, 134.0, 11.0, 272.0, 7.0, 292.0, 199.0, 50.0, 205.0, null, 199.0, 390.0, 84.0, 125.0, 85.0, 255.0, 403.0, 193.0, 129.0, 105.0, 38.0, 80.0, null, 92.0, 135.0, 28.0, 122.0, 55.0, 90.0, 121.0, 276.0, 328.0, null, 240.0, null, 84.0, 39.0, 206.0, 32.0, 26.0, 645.0, 177.0, 630.0, 116.0, 79.0, null, 640.0, 805.0, 412.0, null, 3.0, 52.0, 38.0, 110.0, 1270.0, 228.0, 1190.0, 3480.0, 93.0, 210.0, 330.0, 156.0, 630.0, 108.0, 87.0, 148.0, 267.0, 255.0, 228.0, 193.0, 1153.0, 1670.0, null, 39.0, 43.0, 125.0, 46.0, 730.0, 175.0, null, 1080.0, 0.0, 70.0, 34.0, 121.0, 2.0, 327.0, 150.0, 74.0, 300.0, 94.0, 85.0, 1230.0, 1225.0, 32.0, 3030.0, 44.0, 710.0, 24.0, 8.0, 430.0, 187.0, 48.0, 105.0, 67.0, 15.0, 2320.0, 170.0, 32.0, 368.0, 11.0, 26.0, 632.0, 75.0, 0.0, 210.0, 447.0, 85.0, 880.0, 72.0, 94.0, null, 610.0, 232.0, 2.0, 30.0, 378.0, 97.0, 66.0, 190.0, 51.0, 58.0, 1060.0, 90.0, 530.0, 92.0, 735.0, 92.0, 333.0, 679.0, 230.0, 67.0, 73.0, 132.0, 124.0, 630.0, 9.0, 456.0, 50.0, 490.0, 35.0, 45.0, 1887.0, 128.0, 560.0, 1057.0, 357.0, 400.0, 245.0, 365.0, 3415.0, 282.0, 33.0, 105.0, 63.0, 16.0, 98.0, 30.0, 346.0, 242.0, 95.0, null, null, null, 74.0, 0.0, 51.0, 130.0, 275.0, 50.0, 210.0, 50.0, null, 0.0, 1110.0, 490.0, 188.0, 73.0, 36.0, 123.0, 28.0, 154.0, 121.0, 348.0, 563.0, 480.0, 13.0, 21.0, 102.0, 3570.0, 120.0, 1520.0, 363.0, 937.0, 110.0, 123.0, 0.0, null, 96.0, 103.0, 149.0, 35.0, 80.0, 693.0, 240.0, 590.0, 106.0, 16.0, 350.0, 290.0, 30.0, 373.0, 39.0, 30.0, 352.0, 210.0, 90.0, 265.0, 910.0, 60.0, 340.0, 530.0, null, 2530.0, 30.0, 1050.0, 131.0, 393.0, 110.0, 1080.0, 20.0, 290.0, 7.0, 16.0, 407.0, 84.0, 37.0, null, 100.0, null, 40.0, 55.0, 15.0, 940.0, 267.0, 77.0, 32.0, 39.0, 198.0, 324.0, 930.0, 274.0, 202.0, 51.0, 520.0, 90.0, 192.0, null, 58.0, 15.0, 365.0, 870.0, null, 25.0, 620.0, 146.0, 150.0, 533.0, 113.0, 32.0, 81.0, 272.0, 27.0, 553.0, 417.0, 133.0, 36.0, 480.0, 32.0, 59.0, 140.0, 112.0, 90.0, 537.0, 120.0, 1300.0, 75.0, 10.0, 100.0, 158.0, 4065.0, null, 98.0, 11.0, 150.0, 735.0, 335.0, 92.0, 680.0, 240.0, 0.0, 57.0, 11.0, 4270.0, 141.0, 141.0, null, null, 0.0, 0.0, null, 533.0, 1120.0, 1874.0, 520.0, 509.0, 699.0, 617.0, 265.0, 150.0, 97.0, 515.0, 410.0, 457.0, 295.0, 36.0, 885.0, 10.0, 115.0, 170.0, 1050.0, 980.0, null, null, 63.0, 245.0, 490.0, 389.0, 533.0, 34.0, 65.0, 5.0, 105.0, 98.0, 17.0, null, 502.0, 255.0, 72.0, 773.0, 970.0, 202.0, 129.0, 172.0, 139.0, 266.0, 44.0, 17.0, 148.0, 335.0, 100.0, 285.0, 196.0, 440.0, 287.0, 117.0, 230.0, 70.0, null, 1220.0, 630.0, 334.0, 51.0, 71.0, 13.0, 141.0, 130.0, 172.0, 14.0, 10.0, 50.0, 105.0, 328.0, 305.0, 1525.0, 240.0, 302.0, 458.0, 467.0, 635.0, 565.0, 138.0, null, 820.0, 115.0, 420.0, 39.0, 795.0, 443.0, 246.0, 390.0, 4.0, 114.0, null, null, null, 730.0, 1650.0, 55.0, 47.0, null, 460.0, 690.0, 68.0, 202.0, 90.0, 680.0, 14.0, 200.0, 51.0, 1590.0, 880.0, 125.0, 130.0, 80.0, 465.0, 30.0, 1500.0, null, 68.0, null, 3.0, 308.0, 10.0, 168.0, 327.0, null, 4.0, 1510.0, 32.0, null, 61.0, 117.0, null, 125.0, 20.0, 137.0, null, 210.0, 135.0, 108.0, null, 400.0, 470.0, 6.0, 262.0, 60.0, 620.0, 347.0, 348.0, 8.0, 420.0, 860.0, 61.0, 532.0, 365.0, null, 1120.0, 335.0, 340.0, null, 62.0, 150.0, 250.0, 167.0, 58.0, 182.0, 10.0, 110.0, 495.0, 128.0, 2230.0, 90.0, 100.0, 747.0, 106.0, 5.0, 199.0, 422.0, 192.0, 675.0, 1120.0, 200.0, 15.0, 600.0, 285.0, 375.0, 4675.0, 795.0, 439.0, null, 151.0, 23.0, 119.0, 588.0, 145.0, 187.0, 123.0, 1240.0, 69.0, 145.0, null, 9.0, 25.0, 8.0, 910.0, 86.0, 33.0, 20.0, 185.0, 1158.0, 39.0, 222.0, 0.0, 75.0, 18.0, 445.0, 39.0, null, 196.0, 260.0, 73.0, 176.0, 31.0, 37.0, 232.0, 157.0, 282.0, 147.0, 14.0, null, 580.0, 55.0, 4195.0, 59.0, 345.0, 55.0, 300.0, 0.0, 380.0, 2190.0, 623.0, 77.0, 123.0, 560.0, 54.0, 100.0, 1940.0, 49.0, null, 269.0, 234.0, 925.0, 530.0, 90.0, 149.0, 194.0, 157.0, 293.0, 6.0, 194.0, 244.0, 233.0, 261.0, 1210.0, 170.0, null, 292.0, 127.0, null, 670.0, 130.0, 382.0, 26.0, 49.0, 88.0, 44.0, 130.0, 172.0, 566.0, 28.0, 67.0, 41.0, 101.0, 173.0, 230.0, 63.0, 2360.0, 90.0, 2160.0, 1280.0, 171.0, 1445.0, 41.0, 337.0, 430.0, 150.0, null, 20.0, 220.0, 330.0, 328.0, 587.0, null, 96.0, 36.0, 327.0, 363.0, 193.0, 398.0, 130.0, 275.0, 520.0, null, 11.0, 800.0, 420.0, 1560.0, 176.0, 385.0, 87.0, 13.0, 1155.0, 290.0, 205.0, 209.0, 1783.0, 196.0, 36.0, null, 107.0, 142.0, 217.0, 237.0, 110.0, 255.0, 590.0, 4.0, 39.0, 388.0, 187.0, 177.0, 495.0, 142.0, 0.0, 100.0, null, 355.0, 602.0, 332.0, 1355.0, 5.0, 560.0, 20.0, 28.0, 183.0, 570.0, 380.0, 1485.0, 30.0, 72.0, 234.0, 240.0, 54.0, 500.0, 7.0, 260.0, 67.0, 46.0, 148.0, 335.0, 528.0, 342.0, 195.0, 0.0, 24.0, 43.0, 20.0, 615.0, 205.0, 48.0, 1645.0, 40.0, null, 68.0, 126.0, 1140.0, 240.0, 50.0, 950.0, 295.0, 13.0, 485.0, 393.0, 92.0, 158.0, 45.0, 95.0, 6.0, 3300.0, 2226.0, 490.0, 234.0, 426.0, 1240.0, 98.0, 65.0, 2180.0, 104.0, 1586.0, 143.0, 18.0, 26.0, 118.0, 413.0, 20.0, null, 0.0, 220.0, 595.0, 100.0, 495.0, 0.0, 316.0, 50.0, 417.0, 25.0, 102.0, 272.0, 77.0, 264.0, 148.0, 398.0, 8.0, 7950.0, 570.0, 251.0, 25.0, 40.0, 770.0, 92.0, 193.0, 67.0, 77.0, 160.0, 10.0, 512.0, 71.0, 133.0, 38.0, 75.0, 176.0, 478.0, 478.0, 500.0, 355.0, 180.0, 491.0, 52.0, 960.0, 108.0, 1690.0, 55.0, 1015.0, 108.0, 307.0, 97.0, 597.0, 15323.0, 35.0, 53.0, 70.0, 32.0, 148.0, 148.0, null, 187.0, 380.0, null, 1250.0, 7262.0, 530.0, 48.0, 38.0, 522.0, 11.0, 30.0, null, null, 467.0, 70.0, 1080.0, 92.0, 0.0, 575.0, 59.0, 142.0, 477.0, 136.0, 16923.0, null, 230.0, 155.0, 145.0, 2198.0, 1560.0, 42.0, 82.0, 223.0, 270.0, 30.0, 70.0, 200.0, 1065.0, 62.0]}],                        {\"template\": {\"data\": {\"bar\": [{\"error_x\": {\"color\": \"#2a3f5f\"}, \"error_y\": {\"color\": \"#2a3f5f\"}, \"marker\": {\"line\": {\"color\": \"#E5ECF6\", \"width\": 0.5}}, \"type\": \"bar\"}], \"barpolar\": [{\"marker\": {\"line\": {\"color\": \"#E5ECF6\", \"width\": 0.5}}, \"type\": \"barpolar\"}], \"carpet\": [{\"aaxis\": {\"endlinecolor\": \"#2a3f5f\", \"gridcolor\": \"white\", \"linecolor\": \"white\", \"minorgridcolor\": \"white\", \"startlinecolor\": \"#2a3f5f\"}, \"baxis\": {\"endlinecolor\": \"#2a3f5f\", \"gridcolor\": \"white\", \"linecolor\": \"white\", \"minorgridcolor\": \"white\", \"startlinecolor\": \"#2a3f5f\"}, \"type\": \"carpet\"}], \"choropleth\": [{\"colorbar\": {\"outlinewidth\": 0, \"ticks\": \"\"}, \"type\": \"choropleth\"}], \"contour\": [{\"colorbar\": {\"outlinewidth\": 0, \"ticks\": \"\"}, \"colorscale\": [[0.0, \"#0d0887\"], [0.1111111111111111, \"#46039f\"], [0.2222222222222222, \"#7201a8\"], [0.3333333333333333, \"#9c179e\"], [0.4444444444444444, \"#bd3786\"], [0.5555555555555556, \"#d8576b\"], [0.6666666666666666, \"#ed7953\"], [0.7777777777777778, \"#fb9f3a\"], [0.8888888888888888, \"#fdca26\"], [1.0, \"#f0f921\"]], \"type\": \"contour\"}], \"contourcarpet\": [{\"colorbar\": {\"outlinewidth\": 0, \"ticks\": \"\"}, \"type\": \"contourcarpet\"}], \"heatmap\": [{\"colorbar\": {\"outlinewidth\": 0, \"ticks\": \"\"}, \"colorscale\": [[0.0, \"#0d0887\"], [0.1111111111111111, \"#46039f\"], [0.2222222222222222, \"#7201a8\"], [0.3333333333333333, \"#9c179e\"], [0.4444444444444444, \"#bd3786\"], [0.5555555555555556, \"#d8576b\"], [0.6666666666666666, \"#ed7953\"], [0.7777777777777778, \"#fb9f3a\"], [0.8888888888888888, \"#fdca26\"], [1.0, \"#f0f921\"]], \"type\": \"heatmap\"}], \"heatmapgl\": [{\"colorbar\": {\"outlinewidth\": 0, \"ticks\": \"\"}, \"colorscale\": [[0.0, \"#0d0887\"], [0.1111111111111111, \"#46039f\"], [0.2222222222222222, \"#7201a8\"], [0.3333333333333333, \"#9c179e\"], [0.4444444444444444, \"#bd3786\"], [0.5555555555555556, \"#d8576b\"], [0.6666666666666666, \"#ed7953\"], [0.7777777777777778, \"#fb9f3a\"], [0.8888888888888888, \"#fdca26\"], [1.0, \"#f0f921\"]], \"type\": \"heatmapgl\"}], \"histogram\": [{\"marker\": {\"colorbar\": {\"outlinewidth\": 0, \"ticks\": \"\"}}, \"type\": \"histogram\"}], \"histogram2d\": [{\"colorbar\": {\"outlinewidth\": 0, \"ticks\": \"\"}, \"colorscale\": [[0.0, \"#0d0887\"], [0.1111111111111111, \"#46039f\"], [0.2222222222222222, \"#7201a8\"], [0.3333333333333333, \"#9c179e\"], [0.4444444444444444, \"#bd3786\"], [0.5555555555555556, \"#d8576b\"], [0.6666666666666666, \"#ed7953\"], [0.7777777777777778, \"#fb9f3a\"], [0.8888888888888888, \"#fdca26\"], [1.0, \"#f0f921\"]], \"type\": \"histogram2d\"}], \"histogram2dcontour\": [{\"colorbar\": {\"outlinewidth\": 0, \"ticks\": \"\"}, \"colorscale\": [[0.0, \"#0d0887\"], [0.1111111111111111, \"#46039f\"], [0.2222222222222222, \"#7201a8\"], [0.3333333333333333, \"#9c179e\"], [0.4444444444444444, \"#bd3786\"], [0.5555555555555556, \"#d8576b\"], [0.6666666666666666, \"#ed7953\"], [0.7777777777777778, \"#fb9f3a\"], [0.8888888888888888, \"#fdca26\"], [1.0, \"#f0f921\"]], \"type\": \"histogram2dcontour\"}], \"mesh3d\": [{\"colorbar\": {\"outlinewidth\": 0, \"ticks\": \"\"}, \"type\": \"mesh3d\"}], \"parcoords\": [{\"line\": {\"colorbar\": {\"outlinewidth\": 0, \"ticks\": \"\"}}, \"type\": \"parcoords\"}], \"pie\": [{\"automargin\": true, \"type\": \"pie\"}], \"scatter\": [{\"marker\": {\"colorbar\": {\"outlinewidth\": 0, \"ticks\": \"\"}}, \"type\": \"scatter\"}], \"scatter3d\": [{\"line\": {\"colorbar\": {\"outlinewidth\": 0, \"ticks\": \"\"}}, \"marker\": {\"colorbar\": {\"outlinewidth\": 0, \"ticks\": \"\"}}, \"type\": \"scatter3d\"}], \"scattercarpet\": [{\"marker\": {\"colorbar\": {\"outlinewidth\": 0, \"ticks\": \"\"}}, \"type\": \"scattercarpet\"}], \"scattergeo\": [{\"marker\": {\"colorbar\": {\"outlinewidth\": 0, \"ticks\": \"\"}}, \"type\": \"scattergeo\"}], \"scattergl\": [{\"marker\": {\"colorbar\": {\"outlinewidth\": 0, \"ticks\": \"\"}}, \"type\": \"scattergl\"}], \"scattermapbox\": [{\"marker\": {\"colorbar\": {\"outlinewidth\": 0, \"ticks\": \"\"}}, \"type\": \"scattermapbox\"}], \"scatterpolar\": [{\"marker\": {\"colorbar\": {\"outlinewidth\": 0, \"ticks\": \"\"}}, \"type\": \"scatterpolar\"}], \"scatterpolargl\": [{\"marker\": {\"colorbar\": {\"outlinewidth\": 0, \"ticks\": \"\"}}, \"type\": \"scatterpolargl\"}], \"scatterternary\": [{\"marker\": {\"colorbar\": {\"outlinewidth\": 0, \"ticks\": \"\"}}, \"type\": \"scatterternary\"}], \"surface\": [{\"colorbar\": {\"outlinewidth\": 0, \"ticks\": \"\"}, \"colorscale\": [[0.0, \"#0d0887\"], [0.1111111111111111, \"#46039f\"], [0.2222222222222222, \"#7201a8\"], [0.3333333333333333, \"#9c179e\"], [0.4444444444444444, \"#bd3786\"], [0.5555555555555556, \"#d8576b\"], [0.6666666666666666, \"#ed7953\"], [0.7777777777777778, \"#fb9f3a\"], [0.8888888888888888, \"#fdca26\"], [1.0, \"#f0f921\"]], \"type\": \"surface\"}], \"table\": [{\"cells\": {\"fill\": {\"color\": \"#EBF0F8\"}, \"line\": {\"color\": \"white\"}}, \"header\": {\"fill\": {\"color\": \"#C8D4E3\"}, \"line\": {\"color\": \"white\"}}, \"type\": \"table\"}]}, \"layout\": {\"annotationdefaults\": {\"arrowcolor\": \"#2a3f5f\", \"arrowhead\": 0, \"arrowwidth\": 1}, \"autotypenumbers\": \"strict\", \"coloraxis\": {\"colorbar\": {\"outlinewidth\": 0, \"ticks\": \"\"}}, \"colorscale\": {\"diverging\": [[0, \"#8e0152\"], [0.1, \"#c51b7d\"], [0.2, \"#de77ae\"], [0.3, \"#f1b6da\"], [0.4, \"#fde0ef\"], [0.5, \"#f7f7f7\"], [0.6, \"#e6f5d0\"], [0.7, \"#b8e186\"], [0.8, \"#7fbc41\"], [0.9, \"#4d9221\"], [1, \"#276419\"]], \"sequential\": [[0.0, \"#0d0887\"], [0.1111111111111111, \"#46039f\"], [0.2222222222222222, \"#7201a8\"], [0.3333333333333333, \"#9c179e\"], [0.4444444444444444, \"#bd3786\"], [0.5555555555555556, \"#d8576b\"], [0.6666666666666666, \"#ed7953\"], [0.7777777777777778, \"#fb9f3a\"], [0.8888888888888888, \"#fdca26\"], [1.0, \"#f0f921\"]], \"sequentialminus\": [[0.0, \"#0d0887\"], [0.1111111111111111, \"#46039f\"], [0.2222222222222222, \"#7201a8\"], [0.3333333333333333, \"#9c179e\"], [0.4444444444444444, \"#bd3786\"], [0.5555555555555556, \"#d8576b\"], [0.6666666666666666, \"#ed7953\"], [0.7777777777777778, \"#fb9f3a\"], [0.8888888888888888, \"#fdca26\"], [1.0, \"#f0f921\"]]}, \"colorway\": [\"#636efa\", \"#EF553B\", \"#00cc96\", \"#ab63fa\", \"#FFA15A\", \"#19d3f3\", \"#FF6692\", \"#B6E880\", \"#FF97FF\", \"#FECB52\"], \"font\": {\"color\": \"#2a3f5f\"}, \"geo\": {\"bgcolor\": \"white\", \"lakecolor\": \"white\", \"landcolor\": \"#E5ECF6\", \"showlakes\": true, \"showland\": true, \"subunitcolor\": \"white\"}, \"hoverlabel\": {\"align\": \"left\"}, \"hovermode\": \"closest\", \"mapbox\": {\"style\": \"light\"}, \"paper_bgcolor\": \"white\", \"plot_bgcolor\": \"#E5ECF6\", \"polar\": {\"angularaxis\": {\"gridcolor\": \"white\", \"linecolor\": \"white\", \"ticks\": \"\"}, \"bgcolor\": \"#E5ECF6\", \"radialaxis\": {\"gridcolor\": \"white\", \"linecolor\": \"white\", \"ticks\": \"\"}}, \"scene\": {\"xaxis\": {\"backgroundcolor\": \"#E5ECF6\", \"gridcolor\": \"white\", \"gridwidth\": 2, \"linecolor\": \"white\", \"showbackground\": true, \"ticks\": \"\", \"zerolinecolor\": \"white\"}, \"yaxis\": {\"backgroundcolor\": \"#E5ECF6\", \"gridcolor\": \"white\", \"gridwidth\": 2, \"linecolor\": \"white\", \"showbackground\": true, \"ticks\": \"\", \"zerolinecolor\": \"white\"}, \"zaxis\": {\"backgroundcolor\": \"#E5ECF6\", \"gridcolor\": \"white\", \"gridwidth\": 2, \"linecolor\": \"white\", \"showbackground\": true, \"ticks\": \"\", \"zerolinecolor\": \"white\"}}, \"shapedefaults\": {\"line\": {\"color\": \"#2a3f5f\"}}, \"ternary\": {\"aaxis\": {\"gridcolor\": \"white\", \"linecolor\": \"white\", \"ticks\": \"\"}, \"baxis\": {\"gridcolor\": \"white\", \"linecolor\": \"white\", \"ticks\": \"\"}, \"bgcolor\": \"#E5ECF6\", \"caxis\": {\"gridcolor\": \"white\", \"linecolor\": \"white\", \"ticks\": \"\"}}, \"title\": {\"x\": 0.05}, \"xaxis\": {\"automargin\": true, \"gridcolor\": \"white\", \"linecolor\": \"white\", \"ticks\": \"\", \"title\": {\"standoff\": 15}, \"zerolinecolor\": \"white\", \"zerolinewidth\": 2}, \"yaxis\": {\"automargin\": true, \"gridcolor\": \"white\", \"linecolor\": \"white\", \"ticks\": \"\", \"title\": {\"standoff\": 15}, \"zerolinecolor\": \"white\", \"zerolinewidth\": 2}}}},                        {\"responsive\": true}                    ).then(function(){\n",
       "                            \n",
       "var gd = document.getElementById('f9c87838-0597-4904-9df6-aba23ae81c9d');\n",
       "var x = new MutationObserver(function (mutations, observer) {{\n",
       "        var display = window.getComputedStyle(gd).display;\n",
       "        if (!display || display === 'none') {{\n",
       "            console.log([gd, 'removed!']);\n",
       "            Plotly.purge(gd);\n",
       "            observer.disconnect();\n",
       "        }}\n",
       "}});\n",
       "\n",
       "// Listen for the removal of the full notebook cells\n",
       "var notebookContainer = gd.closest('#notebook-container');\n",
       "if (notebookContainer) {{\n",
       "    x.observe(notebookContainer, {childList: true});\n",
       "}}\n",
       "\n",
       "// Listen for the clearing of the current output cell\n",
       "var outputEl = gd.closest('.output');\n",
       "if (outputEl) {{\n",
       "    x.observe(outputEl, {childList: true});\n",
       "}}\n",
       "\n",
       "                        })                };                });            </script>        </div>"
      ]
     },
     "metadata": {},
     "output_type": "display_data"
    }
   ],
   "source": [
    "fig = go.Figure()\n",
    "fig.add_trace(go.Box(y=df_final['ABS_idx'], name='ABS IDX'))\n",
    "fig.show();"
   ]
  },
  {
   "cell_type": "markdown",
   "metadata": {},
   "source": [
    "##### 코멘트\n",
    "- ABS_idx 200기준 전체 심볼비중\n",
    "- 총 1,018개의 ABS_idx 테이터 중 200이상인 종목은 전체 51%\n",
    "- 비중 49%를 비교를 위한 기준점으로 활용"
   ]
  },
  {
   "cell_type": "code",
   "execution_count": 99,
   "metadata": {},
   "outputs": [
    {
     "data": {
      "text/plain": [
       "(1018, 523, 494, 0.49)"
      ]
     },
     "execution_count": 99,
     "metadata": {},
     "output_type": "execute_result"
    }
   ],
   "source": [
    "s_count_ratio = len(s_count_2) / (len(s_count_1) + len(s_count_2) )\n",
    "len(df_final), len(s_count_1), len(s_count_2), round(s_count_ratio,2)"
   ]
  },
  {
   "cell_type": "markdown",
   "metadata": {},
   "source": [
    "### 2-1 전쟁종류별 ABS_idx 200 비중"
   ]
  },
  {
   "cell_type": "code",
   "execution_count": 134,
   "metadata": {},
   "outputs": [
    {
     "name": "stderr",
     "output_type": "stream",
     "text": [
      "c:\\users\\metahong\\anaconda3\\envs\\fc17\\lib\\site-packages\\ipykernel_launcher.py:3: UserWarning:\n",
      "\n",
      "Boolean Series key will be reindexed to match DataFrame index.\n",
      "\n",
      "c:\\users\\metahong\\anaconda3\\envs\\fc17\\lib\\site-packages\\ipykernel_launcher.py:4: UserWarning:\n",
      "\n",
      "Boolean Series key will be reindexed to match DataFrame index.\n",
      "\n"
     ]
    },
    {
     "data": {
      "text/plain": [
       "(247, 210, 0.46)"
      ]
     },
     "execution_count": 134,
     "metadata": {},
     "output_type": "execute_result"
    }
   ],
   "source": [
    "#### 전쟁종류별비중 ( 정리 요망)\n",
    "s_count_11 = df_final[(df_final[\"War_genre\"] ==  \"내란\")]\n",
    "s_count_11_1 = s_count_11[(df_final[\"ABS_idx\"] < 200)]\n",
    "s_count_11_2 = s_count_11[(df_final[\"ABS_idx\"] >= 200)]\n",
    "s_count_11_ratio = len(s_count_11_2) / (len(s_count_11_1)+len(s_count_11_2))\n",
    "len(s_count_11_1), len(s_count_11_2), round(s_count_11_ratio, 2)"
   ]
  },
  {
   "cell_type": "code",
   "execution_count": 44,
   "metadata": {},
   "outputs": [
    {
     "name": "stderr",
     "output_type": "stream",
     "text": [
      "c:\\users\\metahong\\anaconda3\\envs\\fc17\\lib\\site-packages\\ipykernel_launcher.py:2: UserWarning:\n",
      "\n",
      "Boolean Series key will be reindexed to match DataFrame index.\n",
      "\n",
      "c:\\users\\metahong\\anaconda3\\envs\\fc17\\lib\\site-packages\\ipykernel_launcher.py:3: UserWarning:\n",
      "\n",
      "Boolean Series key will be reindexed to match DataFrame index.\n",
      "\n"
     ]
    },
    {
     "data": {
      "text/plain": [
       "(25, 15, 0.38)"
      ]
     },
     "execution_count": 44,
     "metadata": {},
     "output_type": "execute_result"
    }
   ],
   "source": [
    "s_count_12 = df_final[(df_final[\"War_genre\"] ==  \"민족\")]\n",
    "s_count_12_1 = s_count_12[(df_final[\"ABS_idx\"] < 200)]\n",
    "s_count_12_2 = s_count_12[(df_final[\"ABS_idx\"] >= 200)]\n",
    "s_count_12_ratio = len(s_count_12_2) / (len(s_count_12_1)+len(s_count_12_2))\n",
    "len(s_count_12_1), len(s_count_12_2), round(s_count_12_ratio, 2)"
   ]
  },
  {
   "cell_type": "code",
   "execution_count": 45,
   "metadata": {},
   "outputs": [
    {
     "name": "stderr",
     "output_type": "stream",
     "text": [
      "c:\\users\\metahong\\anaconda3\\envs\\fc17\\lib\\site-packages\\ipykernel_launcher.py:2: UserWarning:\n",
      "\n",
      "Boolean Series key will be reindexed to match DataFrame index.\n",
      "\n",
      "c:\\users\\metahong\\anaconda3\\envs\\fc17\\lib\\site-packages\\ipykernel_launcher.py:3: UserWarning:\n",
      "\n",
      "Boolean Series key will be reindexed to match DataFrame index.\n",
      "\n"
     ]
    },
    {
     "data": {
      "text/plain": [
       "(171, 172, 0.5)"
      ]
     },
     "execution_count": 45,
     "metadata": {},
     "output_type": "execute_result"
    }
   ],
   "source": [
    "s_count_13 = df_final[(df_final[\"War_genre\"] ==  \"테러\")]\n",
    "s_count_13_1 = s_count_13[(df_final[\"ABS_idx\"] < 200)]\n",
    "s_count_13_2 = s_count_13[(df_final[\"ABS_idx\"] >= 200)]\n",
    "s_count_13_ratio = len(s_count_13_2) / (len(s_count_13_1)+len(s_count_13_2))\n",
    "len(s_count_13_1), len(s_count_13_2), round(s_count_13_ratio, 2)"
   ]
  },
  {
   "cell_type": "code",
   "execution_count": 46,
   "metadata": {},
   "outputs": [
    {
     "name": "stderr",
     "output_type": "stream",
     "text": [
      "c:\\users\\metahong\\anaconda3\\envs\\fc17\\lib\\site-packages\\ipykernel_launcher.py:2: UserWarning:\n",
      "\n",
      "Boolean Series key will be reindexed to match DataFrame index.\n",
      "\n",
      "c:\\users\\metahong\\anaconda3\\envs\\fc17\\lib\\site-packages\\ipykernel_launcher.py:3: UserWarning:\n",
      "\n",
      "Boolean Series key will be reindexed to match DataFrame index.\n",
      "\n"
     ]
    },
    {
     "data": {
      "text/plain": [
       "(52, 37, 0.42)"
      ]
     },
     "execution_count": 46,
     "metadata": {},
     "output_type": "execute_result"
    }
   ],
   "source": [
    "s_count_14 = df_final[(df_final[\"War_genre\"] ==  \"마약\")]\n",
    "s_count_14_1 = s_count_14[(df_final[\"ABS_idx\"] < 200)]\n",
    "s_count_14_2 = s_count_14[(df_final[\"ABS_idx\"] >= 200)]\n",
    "s_count_14_ratio = len(s_count_14_2) / (len(s_count_14_1)+len(s_count_14_2))\n",
    "len(s_count_14_1), len(s_count_14_2), round(s_count_14_ratio, 2)"
   ]
  },
  {
   "cell_type": "code",
   "execution_count": 47,
   "metadata": {},
   "outputs": [
    {
     "name": "stderr",
     "output_type": "stream",
     "text": [
      "c:\\users\\metahong\\anaconda3\\envs\\fc17\\lib\\site-packages\\ipykernel_launcher.py:2: UserWarning:\n",
      "\n",
      "Boolean Series key will be reindexed to match DataFrame index.\n",
      "\n",
      "c:\\users\\metahong\\anaconda3\\envs\\fc17\\lib\\site-packages\\ipykernel_launcher.py:3: UserWarning:\n",
      "\n",
      "Boolean Series key will be reindexed to match DataFrame index.\n",
      "\n"
     ]
    },
    {
     "data": {
      "text/plain": [
       "(28, 60, 0.68)"
      ]
     },
     "execution_count": 47,
     "metadata": {},
     "output_type": "execute_result"
    }
   ],
   "source": [
    "s_count_15 = df_final[(df_final[\"War_genre\"] ==  \"해적\")]\n",
    "s_count_15_1 = s_count_15[(df_final[\"ABS_idx\"] < 200)]\n",
    "s_count_15_2 = s_count_15[(df_final[\"ABS_idx\"] >= 200)]\n",
    "s_count_15_ratio = len(s_count_15_2) / (len(s_count_15_1)+len(s_count_15_2))\n",
    "len(s_count_15_1), len(s_count_15_2), round(s_count_15_ratio, 2)"
   ]
  },
  {
   "cell_type": "markdown",
   "metadata": {},
   "source": [
    "#### 코멘트\n",
    "- 전체|내란|민족|테러|마약|해적\n",
    "- 해적소탕 전쟁에서의 68%의 종목에서 주가변동에 영향을 받았음"
   ]
  },
  {
   "cell_type": "code",
   "execution_count": 48,
   "metadata": {},
   "outputs": [],
   "source": [
    "# 전쟁 반발시 100대기업의 51% 종목이 영향을 받는데\n",
    "# 해적관련된 전쟁일 경우 영향을 받는 종목이 67%로 가장 많았고\n",
    "# 테러, 마약관련 전쟁의 경우 50% 수준\n",
    "# 민족간의 갈등전쟁에서는 상대적으로 적은 종목이 영향을 받음\n",
    "\n",
    "# 이거 DataFrame으로 정리해서 그래프로 그리기"
   ]
  },
  {
   "cell_type": "code",
   "execution_count": 111,
   "metadata": {},
   "outputs": [
    {
     "data": {
      "text/plain": [
       "(0.49, 0.46, 0.38, 0.5, 0.42, 0.68)"
      ]
     },
     "execution_count": 111,
     "metadata": {},
     "output_type": "execute_result"
    }
   ],
   "source": [
    " round(s_count_ratio,2),round(s_count_11_ratio, 2), round(s_count_12_ratio, 2), round(s_count_13_ratio, 2),round(s_count_14_ratio, 2), round(s_count_15_ratio, 2)"
   ]
  },
  {
   "cell_type": "code",
   "execution_count": 113,
   "metadata": {},
   "outputs": [
    {
     "data": {
      "text/html": [
       "<div>\n",
       "<style scoped>\n",
       "    .dataframe tbody tr th:only-of-type {\n",
       "        vertical-align: middle;\n",
       "    }\n",
       "\n",
       "    .dataframe tbody tr th {\n",
       "        vertical-align: top;\n",
       "    }\n",
       "\n",
       "    .dataframe thead th {\n",
       "        text-align: right;\n",
       "    }\n",
       "</style>\n",
       "<table border=\"1\" class=\"dataframe\">\n",
       "  <thead>\n",
       "    <tr style=\"text-align: right;\">\n",
       "      <th></th>\n",
       "      <th>Change</th>\n",
       "      <th>Symbol</th>\n",
       "      <th>Industry</th>\n",
       "      <th>Change_idx</th>\n",
       "      <th>ABS_idx</th>\n",
       "      <th>Avg_change</th>\n",
       "      <th>Start_date</th>\n",
       "      <th>War_genre</th>\n",
       "      <th>War_name</th>\n",
       "      <th>War_volume</th>\n",
       "      <th>Count_country</th>\n",
       "      <th>Count</th>\n",
       "    </tr>\n",
       "  </thead>\n",
       "  <tbody>\n",
       "    <tr>\n",
       "      <th>0</th>\n",
       "      <td>-0.0323</td>\n",
       "      <td>AAPL</td>\n",
       "      <td>컴퓨터, 전화 및 가전제품</td>\n",
       "      <td>269.0</td>\n",
       "      <td>269.0</td>\n",
       "      <td>-0.012</td>\n",
       "      <td>2001-09-11</td>\n",
       "      <td>테러</td>\n",
       "      <td>테러와의전쟁</td>\n",
       "      <td>1000000</td>\n",
       "      <td>48</td>\n",
       "      <td>1</td>\n",
       "    </tr>\n",
       "  </tbody>\n",
       "</table>\n",
       "</div>"
      ],
      "text/plain": [
       "   Change Symbol        Industry  Change_idx  ABS_idx  Avg_change Start_date  \\\n",
       "0 -0.0323   AAPL  컴퓨터, 전화 및 가전제품       269.0    269.0      -0.012 2001-09-11   \n",
       "\n",
       "  War_genre War_name  War_volume  Count_country  Count  \n",
       "0        테러   테러와의전쟁     1000000             48      1  "
      ]
     },
     "execution_count": 113,
     "metadata": {},
     "output_type": "execute_result"
    }
   ],
   "source": [
    "df_final.head(1)"
   ]
  },
  {
   "cell_type": "markdown",
   "metadata": {},
   "source": [
    "### 2-2 전쟁참전국가 규모별 ABS_idx 200 비중"
   ]
  },
  {
   "cell_type": "code",
   "execution_count": 126,
   "metadata": {},
   "outputs": [
    {
     "data": {
      "text/plain": [
       "(426, 216, 210, 0.49)"
      ]
     },
     "execution_count": 126,
     "metadata": {},
     "output_type": "execute_result"
    }
   ],
   "source": [
    "# 전쟁참전규모가 스몰급일 때 ABS_idx 200 이상 종목 비중\n",
    "lv_small = df_final[df_final[\"Count_country\"]<=10]\n",
    "lv_small_0 = lv_small[lv_small[\"ABS_idx\"]<200]\n",
    "lv_small_200 = lv_small[lv_small[\"ABS_idx\"]>=200]\n",
    "ratio_small_200 = round(len(lv_small_200)/len(lv_small),2)\n",
    "len(lv_small), len(lv_small_0), len(lv_small_200), ratio_small_200"
   ]
  },
  {
   "cell_type": "code",
   "execution_count": 127,
   "metadata": {},
   "outputs": [
    {
     "data": {
      "text/plain": [
       "(281, 137, 144, 0.51)"
      ]
     },
     "execution_count": 127,
     "metadata": {},
     "output_type": "execute_result"
    }
   ],
   "source": [
    "# 전쟁참전규모가 중간급일 때 ABS_idx 200 이상 종목 비중\n",
    "lv_middle = df_final[(df_final[\"Count_country\"] > 10)&(df_final[\"Count_country\"] <= 20)]\n",
    "lv_middle_0 = lv_middle[lv_middle[\"ABS_idx\"]<200]\n",
    "lv_middle_200 = lv_middle[lv_middle[\"ABS_idx\"]>=200]\n",
    "ratio_middle_200 = round(len(lv_middle_200)/len(lv_middle),2)\n",
    "len(lv_middle), len(lv_middle_0), len(lv_middle_200), ratio_middle_200"
   ]
  },
  {
   "cell_type": "code",
   "execution_count": 129,
   "metadata": {},
   "outputs": [
    {
     "data": {
      "text/plain": [
       "(311, 170, 140, 0.45)"
      ]
     },
     "execution_count": 129,
     "metadata": {},
     "output_type": "execute_result"
    }
   ],
   "source": [
    "# 전쟁참전규모가 대규모일 때 ABS_idx 200 이상 종목 비중\n",
    "lv_big = df_final[df_final[\"Count_country\"] > 20]\n",
    "lv_big_0 = lv_big[lv_big[\"ABS_idx\"]<200]\n",
    "lv_big_200 = lv_big[lv_big[\"ABS_idx\"]>=200]\n",
    "ratio_big_200 = round(len(lv_big_200)/len(lv_big),2)\n",
    "len(lv_big), len(lv_big_0), len(lv_big_200), ratio_big_200"
   ]
  },
  {
   "cell_type": "markdown",
   "metadata": {},
   "source": [
    "##### 코멘트\n",
    "- 전쟁참전 규모의 경우에 참전국가수가 중간 규모일 때 큰폭의 주가변동을 하는 종목비중이 커짐"
   ]
  },
  {
   "cell_type": "code",
   "execution_count": 132,
   "metadata": {},
   "outputs": [
    {
     "data": {
      "text/plain": [
       "(0.49, 0.49, 0.51, 0.45)"
      ]
     },
     "execution_count": 132,
     "metadata": {},
     "output_type": "execute_result"
    }
   ],
   "source": [
    "round(s_count_ratio,2), ratio_small_200, ratio_middle_200, ratio_big_200"
   ]
  },
  {
   "cell_type": "markdown",
   "metadata": {},
   "source": [
    "### 2-3 전쟁병력규모별 ABS_idx 200 비중"
   ]
  },
  {
   "cell_type": "code",
   "execution_count": 141,
   "metadata": {},
   "outputs": [
    {
     "data": {
      "text/plain": [
       "(310, 182, 128, 0.41)"
      ]
     },
     "execution_count": 141,
     "metadata": {},
     "output_type": "execute_result"
    }
   ],
   "source": [
    "scale1 = df_final[df_final[\"War_volume\"]<30*1000]\n",
    "scale1_0 = scale1[scale1[\"ABS_idx\"]<200]\n",
    "scale1_200 = scale1[scale1[\"ABS_idx\"]>=200]\n",
    "ratio_scale1_200 = round(len(scale1_200)/len(scale1),2)\n",
    "len(scale1), len(scale1_0), len(scale1_200), ratio_scale1_200"
   ]
  },
  {
   "cell_type": "code",
   "execution_count": 142,
   "metadata": {},
   "outputs": [
    {
     "data": {
      "text/plain": [
       "(497, 234, 262, 0.53)"
      ]
     },
     "execution_count": 142,
     "metadata": {},
     "output_type": "execute_result"
    }
   ],
   "source": [
    "scale2 = df_final[(df_final[\"War_volume\"] >= 30*1000)&(df_final[\"War_volume\"] < 500*1000)] \n",
    "scale2_0 = scale2[scale2[\"ABS_idx\"]<200]\n",
    "scale2_200 = scale2[scale2[\"ABS_idx\"]>=200]\n",
    "ratio_scale2_200 = round(len(scale2_200)/len(scale2),2)\n",
    "len(scale2), len(scale2_0), len(scale2_200), ratio_scale2_200"
   ]
  },
  {
   "cell_type": "code",
   "execution_count": 144,
   "metadata": {},
   "outputs": [
    {
     "data": {
      "text/plain": [
       "(211, 107, 104, 0.49)"
      ]
     },
     "execution_count": 144,
     "metadata": {},
     "output_type": "execute_result"
    }
   ],
   "source": [
    "scale3 = df_final[df_final[\"War_volume\"] >= 500*1000] \n",
    "scale3_0 = scale3[scale3[\"ABS_idx\"]<200]\n",
    "scale3_200 = scale3[scale3[\"ABS_idx\"]>=200]\n",
    "ratio_scale3_200 = round(len(scale3_200)/len(scale3),2)\n",
    "len(scale3), len(scale3_0), len(scale3_200), ratio_scale3_200"
   ]
  },
  {
   "cell_type": "markdown",
   "metadata": {},
   "source": [
    "##### 코멘트\n",
    "- 전쟁참전국수 역시 3만~50만명 투입 전쟁에서 큰폭의 주가변동 종목 비중 커짐"
   ]
  },
  {
   "cell_type": "code",
   "execution_count": 147,
   "metadata": {},
   "outputs": [
    {
     "data": {
      "text/plain": [
       "(0.49, 0.41, 0.53, 0.49)"
      ]
     },
     "execution_count": 147,
     "metadata": {},
     "output_type": "execute_result"
    }
   ],
   "source": [
    "round(s_count_ratio,2), ratio_scale1_200, ratio_scale2_200, ratio_scale3_200"
   ]
  },
  {
   "cell_type": "markdown",
   "metadata": {},
   "source": [
    "### 2-4 INDUSTRY별 ABS_idx 200 비중"
   ]
  },
  {
   "cell_type": "code",
   "execution_count": 156,
   "metadata": {},
   "outputs": [
    {
     "data": {
      "text/html": [
       "<div>\n",
       "<style scoped>\n",
       "    .dataframe tbody tr th:only-of-type {\n",
       "        vertical-align: middle;\n",
       "    }\n",
       "\n",
       "    .dataframe tbody tr th {\n",
       "        vertical-align: top;\n",
       "    }\n",
       "\n",
       "    .dataframe thead th {\n",
       "        text-align: right;\n",
       "    }\n",
       "</style>\n",
       "<table border=\"1\" class=\"dataframe\">\n",
       "  <thead>\n",
       "    <tr style=\"text-align: right;\">\n",
       "      <th></th>\n",
       "      <th>Change</th>\n",
       "      <th>Symbol</th>\n",
       "      <th>Industry</th>\n",
       "      <th>Change_idx</th>\n",
       "      <th>ABS_idx</th>\n",
       "      <th>Avg_change</th>\n",
       "      <th>Start_date</th>\n",
       "      <th>War_genre</th>\n",
       "      <th>War_name</th>\n",
       "      <th>War_volume</th>\n",
       "      <th>Count_country</th>\n",
       "      <th>Count</th>\n",
       "    </tr>\n",
       "  </thead>\n",
       "  <tbody>\n",
       "    <tr>\n",
       "      <th>1016</th>\n",
       "      <td>-0.0426</td>\n",
       "      <td>BABA</td>\n",
       "      <td>소프트웨어 및 IT서비스</td>\n",
       "      <td>1065.0</td>\n",
       "      <td>1065.0</td>\n",
       "      <td>-0.004</td>\n",
       "      <td>2014-09-16</td>\n",
       "      <td>내란</td>\n",
       "      <td>예멘내전</td>\n",
       "      <td>156000</td>\n",
       "      <td>19</td>\n",
       "      <td>1</td>\n",
       "    </tr>\n",
       "    <tr>\n",
       "      <th>1017</th>\n",
       "      <td>-0.0025</td>\n",
       "      <td>PYPL</td>\n",
       "      <td>소프트웨어 및 IT서비스</td>\n",
       "      <td>62.0</td>\n",
       "      <td>62.0</td>\n",
       "      <td>-0.004</td>\n",
       "      <td>2014-09-16</td>\n",
       "      <td>내란</td>\n",
       "      <td>예멘내전</td>\n",
       "      <td>156000</td>\n",
       "      <td>19</td>\n",
       "      <td>1</td>\n",
       "    </tr>\n",
       "  </tbody>\n",
       "</table>\n",
       "</div>"
      ],
      "text/plain": [
       "      Change Symbol       Industry  Change_idx  ABS_idx  Avg_change  \\\n",
       "1016 -0.0426   BABA  소프트웨어 및 IT서비스      1065.0   1065.0      -0.004   \n",
       "1017 -0.0025   PYPL  소프트웨어 및 IT서비스        62.0     62.0      -0.004   \n",
       "\n",
       "     Start_date War_genre War_name  War_volume  Count_country  Count  \n",
       "1016 2014-09-16        내란     예멘내전      156000             19      1  \n",
       "1017 2014-09-16        내란     예멘내전      156000             19      1  "
      ]
     },
     "execution_count": 156,
     "metadata": {},
     "output_type": "execute_result"
    }
   ],
   "source": [
    "df_final.tail(2)"
   ]
  },
  {
   "cell_type": "code",
   "execution_count": 152,
   "metadata": {},
   "outputs": [
    {
     "data": {
      "text/html": [
       "<div>\n",
       "<style scoped>\n",
       "    .dataframe tbody tr th:only-of-type {\n",
       "        vertical-align: middle;\n",
       "    }\n",
       "\n",
       "    .dataframe tbody tr th {\n",
       "        vertical-align: top;\n",
       "    }\n",
       "\n",
       "    .dataframe thead th {\n",
       "        text-align: right;\n",
       "    }\n",
       "</style>\n",
       "<table border=\"1\" class=\"dataframe\">\n",
       "  <thead>\n",
       "    <tr style=\"text-align: right;\">\n",
       "      <th></th>\n",
       "      <th>Industry</th>\n",
       "      <th>0</th>\n",
       "      <th>id</th>\n",
       "    </tr>\n",
       "  </thead>\n",
       "  <tbody>\n",
       "    <tr>\n",
       "      <th>0</th>\n",
       "      <td>개인, 가정 용품 및 서비스</td>\n",
       "      <td>23</td>\n",
       "      <td>0</td>\n",
       "    </tr>\n",
       "    <tr>\n",
       "      <th>1</th>\n",
       "      <td>다양한 소매업</td>\n",
       "      <td>23</td>\n",
       "      <td>1</td>\n",
       "    </tr>\n",
       "    <tr>\n",
       "      <th>2</th>\n",
       "      <td>메탈&amp;마이닝</td>\n",
       "      <td>23</td>\n",
       "      <td>2</td>\n",
       "    </tr>\n",
       "    <tr>\n",
       "      <th>3</th>\n",
       "      <td>미디어 및 출판</td>\n",
       "      <td>46</td>\n",
       "      <td>3</td>\n",
       "    </tr>\n",
       "    <tr>\n",
       "      <th>4</th>\n",
       "      <td>반도체 및 반도체 장비</td>\n",
       "      <td>125</td>\n",
       "      <td>4</td>\n",
       "    </tr>\n",
       "    <tr>\n",
       "      <th>5</th>\n",
       "      <td>섬유 및 의류</td>\n",
       "      <td>23</td>\n",
       "      <td>5</td>\n",
       "    </tr>\n",
       "    <tr>\n",
       "      <th>6</th>\n",
       "      <td>소프트웨어 및 IT서비스</td>\n",
       "      <td>189</td>\n",
       "      <td>6</td>\n",
       "    </tr>\n",
       "    <tr>\n",
       "      <th>7</th>\n",
       "      <td>식품 및 약품소매</td>\n",
       "      <td>23</td>\n",
       "      <td>7</td>\n",
       "    </tr>\n",
       "    <tr>\n",
       "      <th>8</th>\n",
       "      <td>오일 및 가스</td>\n",
       "      <td>46</td>\n",
       "      <td>8</td>\n",
       "    </tr>\n",
       "    <tr>\n",
       "      <th>9</th>\n",
       "      <td>은행</td>\n",
       "      <td>69</td>\n",
       "      <td>9</td>\n",
       "    </tr>\n",
       "    <tr>\n",
       "      <th>10</th>\n",
       "      <td>음료</td>\n",
       "      <td>46</td>\n",
       "      <td>10</td>\n",
       "    </tr>\n",
       "    <tr>\n",
       "      <th>11</th>\n",
       "      <td>자동차 및 자동차 부품</td>\n",
       "      <td>32</td>\n",
       "      <td>11</td>\n",
       "    </tr>\n",
       "    <tr>\n",
       "      <th>12</th>\n",
       "      <td>전문품 상점</td>\n",
       "      <td>23</td>\n",
       "      <td>12</td>\n",
       "    </tr>\n",
       "    <tr>\n",
       "      <th>13</th>\n",
       "      <td>제약</td>\n",
       "      <td>120</td>\n",
       "      <td>13</td>\n",
       "    </tr>\n",
       "    <tr>\n",
       "      <th>14</th>\n",
       "      <td>커뮤니케이션 및 네트워킹</td>\n",
       "      <td>23</td>\n",
       "      <td>14</td>\n",
       "    </tr>\n",
       "    <tr>\n",
       "      <th>15</th>\n",
       "      <td>컴퓨터, 전화 및 가전제품</td>\n",
       "      <td>23</td>\n",
       "      <td>15</td>\n",
       "    </tr>\n",
       "    <tr>\n",
       "      <th>16</th>\n",
       "      <td>통신 서비스</td>\n",
       "      <td>46</td>\n",
       "      <td>16</td>\n",
       "    </tr>\n",
       "    <tr>\n",
       "      <th>17</th>\n",
       "      <td>헬스케어 업체 및 서비스</td>\n",
       "      <td>23</td>\n",
       "      <td>17</td>\n",
       "    </tr>\n",
       "    <tr>\n",
       "      <th>18</th>\n",
       "      <td>헬스케어 장비 및 용품</td>\n",
       "      <td>69</td>\n",
       "      <td>18</td>\n",
       "    </tr>\n",
       "    <tr>\n",
       "      <th>19</th>\n",
       "      <td>호텔 및 엔터테인먼트</td>\n",
       "      <td>23</td>\n",
       "      <td>19</td>\n",
       "    </tr>\n",
       "  </tbody>\n",
       "</table>\n",
       "</div>"
      ],
      "text/plain": [
       "           Industry    0  id\n",
       "0   개인, 가정 용품 및 서비스   23   0\n",
       "1           다양한 소매업   23   1\n",
       "2            메탈&마이닝   23   2\n",
       "3          미디어 및 출판   46   3\n",
       "4      반도체 및 반도체 장비  125   4\n",
       "5           섬유 및 의류   23   5\n",
       "6     소프트웨어 및 IT서비스  189   6\n",
       "7         식품 및 약품소매   23   7\n",
       "8           오일 및 가스   46   8\n",
       "9                은행   69   9\n",
       "10               음료   46  10\n",
       "11     자동차 및 자동차 부품   32  11\n",
       "12           전문품 상점   23  12\n",
       "13               제약  120  13\n",
       "14    커뮤니케이션 및 네트워킹   23  14\n",
       "15   컴퓨터, 전화 및 가전제품   23  15\n",
       "16           통신 서비스   46  16\n",
       "17    헬스케어 업체 및 서비스   23  17\n",
       "18     헬스케어 장비 및 용품   69  18\n",
       "19      호텔 및 엔터테인먼트   23  19"
      ]
     },
     "execution_count": 152,
     "metadata": {},
     "output_type": "execute_result"
    }
   ],
   "source": [
    "industry = df_final.groupby([\"Industry\"]).size().reset_index()\n",
    "industry[\"id\"] = industry.index"
   ]
  },
  {
   "cell_type": "code",
   "execution_count": 158,
   "metadata": {},
   "outputs": [
    {
     "data": {
      "text/html": [
       "<div>\n",
       "<style scoped>\n",
       "    .dataframe tbody tr th:only-of-type {\n",
       "        vertical-align: middle;\n",
       "    }\n",
       "\n",
       "    .dataframe tbody tr th {\n",
       "        vertical-align: top;\n",
       "    }\n",
       "\n",
       "    .dataframe thead th {\n",
       "        text-align: right;\n",
       "    }\n",
       "</style>\n",
       "<table border=\"1\" class=\"dataframe\">\n",
       "  <thead>\n",
       "    <tr style=\"text-align: right;\">\n",
       "      <th></th>\n",
       "      <th>Change</th>\n",
       "      <th>Symbol</th>\n",
       "      <th>Industry</th>\n",
       "      <th>Change_idx</th>\n",
       "      <th>ABS_idx</th>\n",
       "      <th>Avg_change</th>\n",
       "      <th>Start_date</th>\n",
       "      <th>War_genre</th>\n",
       "      <th>War_name</th>\n",
       "      <th>War_volume</th>\n",
       "      <th>Count_country</th>\n",
       "      <th>Count</th>\n",
       "      <th>0</th>\n",
       "      <th>id</th>\n",
       "    </tr>\n",
       "  </thead>\n",
       "  <tbody>\n",
       "    <tr>\n",
       "      <th>1017</th>\n",
       "      <td>0.0067</td>\n",
       "      <td>WMT</td>\n",
       "      <td>식품 및 약품소매</td>\n",
       "      <td>-335.0</td>\n",
       "      <td>335.0</td>\n",
       "      <td>-0.002</td>\n",
       "      <td>2014-09-16</td>\n",
       "      <td>내란</td>\n",
       "      <td>예멘내전</td>\n",
       "      <td>156000</td>\n",
       "      <td>19</td>\n",
       "      <td>1</td>\n",
       "      <td>23</td>\n",
       "      <td>7</td>\n",
       "    </tr>\n",
       "  </tbody>\n",
       "</table>\n",
       "</div>"
      ],
      "text/plain": [
       "      Change Symbol   Industry  Change_idx  ABS_idx  Avg_change Start_date  \\\n",
       "1017  0.0067    WMT  식품 및 약품소매      -335.0    335.0      -0.002 2014-09-16   \n",
       "\n",
       "     War_genre War_name  War_volume  Count_country  Count   0  id  \n",
       "1017        내란     예멘내전      156000             19      1  23   7  "
      ]
     },
     "execution_count": 158,
     "metadata": {},
     "output_type": "execute_result"
    }
   ],
   "source": [
    "df_industry = pd.merge(df_final, industry, on=\"Industry\")\n",
    "df_industry.tail(1)"
   ]
  },
  {
   "cell_type": "code",
   "execution_count": 159,
   "metadata": {},
   "outputs": [
    {
     "data": {
      "text/plain": [
       "(23, 6, 17, 0.74)"
      ]
     },
     "execution_count": 159,
     "metadata": {},
     "output_type": "execute_result"
    }
   ],
   "source": [
    "# industry 0 : 개인, 가정용품 및 서비스 : 74%\n",
    "industry0 = df_industry[df_industry[\"id\"]==0]\n",
    "industry0_0 = industry0[industry0[\"ABS_idx\"]<200]\n",
    "industry0_200 = industry0[industry0[\"ABS_idx\"]>=200]\n",
    "ratio_industry0_200 = round(len(industry0_200)/len(industry0),2)\n",
    "len(industry0), len(industry0_0), len(industry0_200), ratio_industry0_200"
   ]
  },
  {
   "cell_type": "code",
   "execution_count": 161,
   "metadata": {},
   "outputs": [
    {
     "data": {
      "text/plain": [
       "(23, 13, 10, 0.43)"
      ]
     },
     "execution_count": 161,
     "metadata": {},
     "output_type": "execute_result"
    }
   ],
   "source": [
    "# industry 1 : 다양한 소매업 : 43%\n",
    "industry1 = df_industry[df_industry[\"id\"]==1]\n",
    "industry1_0 = industry1[industry1[\"ABS_idx\"]<200]\n",
    "industry1_200 = industry1[industry1[\"ABS_idx\"]>=200]\n",
    "ratio_industry1_200 = round(len(industry1_200)/len(industry1),2)\n",
    "len(industry1), len(industry1_0), len(industry1_200), ratio_industry1_200"
   ]
  },
  {
   "cell_type": "code",
   "execution_count": 165,
   "metadata": {},
   "outputs": [
    {
     "data": {
      "text/plain": [
       "(23, 12, 11, 0.48)"
      ]
     },
     "execution_count": 165,
     "metadata": {},
     "output_type": "execute_result"
    }
   ],
   "source": [
    "# industry 2 : 메탈&마이닝 : 48%\n",
    "industry2 = df_industry[df_industry[\"id\"]==2]\n",
    "industry2_0 = industry2[industry2[\"ABS_idx\"]<200]\n",
    "industry2_200 = industry2[industry2[\"ABS_idx\"]>=200]\n",
    "ratio_industry2_200 = round(len(industry2_200)/len(industry2),2)\n",
    "len(industry2), len(industry2_0), len(industry2_200), ratio_industry2_200"
   ]
  },
  {
   "cell_type": "code",
   "execution_count": 166,
   "metadata": {},
   "outputs": [
    {
     "data": {
      "text/plain": [
       "(46, 30, 16, 0.35)"
      ]
     },
     "execution_count": 166,
     "metadata": {},
     "output_type": "execute_result"
    }
   ],
   "source": [
    "# industry 3 : 미디어 및 출판 : 35%\n",
    "industry3 = df_industry[df_industry[\"id\"]==3]\n",
    "industry3_0 = industry3[industry3[\"ABS_idx\"]<200]\n",
    "industry3_200 = industry3[industry3[\"ABS_idx\"]>=200]\n",
    "ratio_industry3_200 = round(len(industry3_200)/len(industry3),2)\n",
    "len(industry3), len(industry3_0), len(industry3_200), ratio_industry3_200"
   ]
  },
  {
   "cell_type": "code",
   "execution_count": 167,
   "metadata": {},
   "outputs": [
    {
     "data": {
      "text/plain": [
       "(125, 61, 64, 0.51)"
      ]
     },
     "execution_count": 167,
     "metadata": {},
     "output_type": "execute_result"
    }
   ],
   "source": [
    "# industry 4 : 반도체 및 반도체 장비 : 51%\n",
    "industry4 = df_industry[df_industry[\"id\"]==4]\n",
    "industry4_0 = industry4[industry4[\"ABS_idx\"]<200]\n",
    "industry4_200 = industry4[industry4[\"ABS_idx\"]>=200]\n",
    "ratio_industry4_200 = round(len(industry4_200)/len(industry4),2)\n",
    "len(industry4), len(industry4_0), len(industry4_200), ratio_industry4_200"
   ]
  },
  {
   "cell_type": "code",
   "execution_count": 169,
   "metadata": {},
   "outputs": [
    {
     "data": {
      "text/plain": [
       "(23, 7, 16, 0.7)"
      ]
     },
     "execution_count": 169,
     "metadata": {},
     "output_type": "execute_result"
    }
   ],
   "source": [
    "# industry 5 : 섬유및의류 : 70%\n",
    "industry5 = df_industry[df_industry[\"id\"]==5]\n",
    "industry5_0 = industry5[industry5[\"ABS_idx\"]<200]\n",
    "industry5_200 = industry5[industry5[\"ABS_idx\"]>=200]\n",
    "ratio_industry5_200 = round(len(industry5_200)/len(industry5),2)\n",
    "len(industry5), len(industry5_0), len(industry5_200), ratio_industry5_200"
   ]
  },
  {
   "cell_type": "code",
   "execution_count": 172,
   "metadata": {},
   "outputs": [
    {
     "data": {
      "text/plain": [
       "(189, 90, 99, 0.52)"
      ]
     },
     "execution_count": 172,
     "metadata": {},
     "output_type": "execute_result"
    }
   ],
   "source": [
    "# industry 6 : 소프트웨어 및 IT서비스 : 52%\n",
    "industry6 = df_industry[df_industry[\"id\"]==6]\n",
    "industry6_0 = industry6[industry6[\"ABS_idx\"]<200]\n",
    "industry6_200 = industry6[industry6[\"ABS_idx\"]>=200]\n",
    "ratio_industry6_200 = round(len(industry6_200)/len(industry6),2)\n",
    "len(industry6), len(industry6_0), len(industry6_200), ratio_industry6_200"
   ]
  },
  {
   "cell_type": "code",
   "execution_count": 174,
   "metadata": {},
   "outputs": [
    {
     "data": {
      "text/plain": [
       "(23, 11, 12, 0.52)"
      ]
     },
     "execution_count": 174,
     "metadata": {},
     "output_type": "execute_result"
    }
   ],
   "source": [
    "# industry 7 : 식품 및 약품소매 : 52%\n",
    "industry7 = df_industry[df_industry[\"id\"]==7]\n",
    "industry7_0 = industry7[industry7[\"ABS_idx\"]<200]\n",
    "industry7_200 = industry7[industry7[\"ABS_idx\"]>=200]\n",
    "ratio_industry7_200 = round(len(industry7_200)/len(industry7),2)\n",
    "len(industry7), len(industry7_0), len(industry7_200), ratio_industry7_200"
   ]
  },
  {
   "cell_type": "code",
   "execution_count": 178,
   "metadata": {},
   "outputs": [
    {
     "data": {
      "text/plain": [
       "(46, 21, 25, 0.54)"
      ]
     },
     "execution_count": 178,
     "metadata": {},
     "output_type": "execute_result"
    }
   ],
   "source": [
    "# industry 8 : 오일 및 가스 : 54%\n",
    "industry8 = df_industry[df_industry[\"id\"]==8]\n",
    "industry8_0 = industry8[industry8[\"ABS_idx\"]<200]\n",
    "industry8_200 = industry8[industry8[\"ABS_idx\"]>=200]\n",
    "ratio_industry8_200 = round(len(industry8_200)/len(industry8),2)\n",
    "len(industry8), len(industry8_0), len(industry8_200), ratio_industry8_200"
   ]
  },
  {
   "cell_type": "code",
   "execution_count": 184,
   "metadata": {},
   "outputs": [
    {
     "data": {
      "text/plain": [
       "(46, 22, 24, 0.52)"
      ]
     },
     "execution_count": 184,
     "metadata": {},
     "output_type": "execute_result"
    }
   ],
   "source": [
    "# industry 10 : 음료 : 52%\n",
    "industry10 = df_industry[df_industry[\"id\"]==10]\n",
    "industry10_0 = industry10[industry10[\"ABS_idx\"]<200]\n",
    "industry10_200 = industry10[industry10[\"ABS_idx\"]>=200]\n",
    "ratio_industry10_200 = round(len(industry10_200)/len(industry10),2)\n",
    "len(industry10), len(industry10_0), len(industry10_200), ratio_industry10_200"
   ]
  },
  {
   "cell_type": "code",
   "execution_count": 187,
   "metadata": {},
   "outputs": [
    {
     "data": {
      "text/plain": [
       "(32, 21, 11, 0.34)"
      ]
     },
     "execution_count": 187,
     "metadata": {},
     "output_type": "execute_result"
    }
   ],
   "source": [
    "# industry 11 : 자동차 및 자동차부품 : 34%\n",
    "industry11 = df_industry[df_industry[\"id\"]==11]\n",
    "industry11_0 = industry11[industry11[\"ABS_idx\"]<200]\n",
    "industry11_200 = industry11[industry11[\"ABS_idx\"]>=200]\n",
    "ratio_industry11_200 = round(len(industry11_200)/len(industry11),2)\n",
    "len(industry11), len(industry11_0), len(industry11_200), ratio_industry11_200"
   ]
  },
  {
   "cell_type": "code",
   "execution_count": 190,
   "metadata": {},
   "outputs": [
    {
     "data": {
      "text/plain": [
       "(23, 13, 10, 0.43)"
      ]
     },
     "execution_count": 190,
     "metadata": {},
     "output_type": "execute_result"
    }
   ],
   "source": [
    "# industry 12 : 전문품 상점 : 43%\n",
    "industry12 = df_industry[df_industry[\"id\"]==12]\n",
    "industry12_0 = industry12[industry12[\"ABS_idx\"]<200]\n",
    "industry12_200 = industry12[industry12[\"ABS_idx\"]>=200]\n",
    "ratio_industry12_200 = round(len(industry12_200)/len(industry12),2)\n",
    "len(industry12), len(industry12_0), len(industry12_200), ratio_industry12_200"
   ]
  },
  {
   "cell_type": "code",
   "execution_count": 195,
   "metadata": {},
   "outputs": [
    {
     "data": {
      "text/plain": [
       "(120, 71, 48, 0.4)"
      ]
     },
     "execution_count": 195,
     "metadata": {},
     "output_type": "execute_result"
    }
   ],
   "source": [
    "# industry 13 : 제약 : 40%\n",
    "industry13 = df_industry[df_industry[\"id\"]==13]\n",
    "industry13_0 = industry13[industry13[\"ABS_idx\"]<200]\n",
    "industry13_200 = industry13[industry13[\"ABS_idx\"]>=200]\n",
    "ratio_industry13_200 = round(len(industry13_200)/len(industry13),2)\n",
    "len(industry13), len(industry13_0), len(industry13_200), ratio_industry13_200"
   ]
  },
  {
   "cell_type": "code",
   "execution_count": 198,
   "metadata": {},
   "outputs": [
    {
     "data": {
      "text/plain": [
       "(23, 13, 10, 0.43)"
      ]
     },
     "execution_count": 198,
     "metadata": {},
     "output_type": "execute_result"
    }
   ],
   "source": [
    "# industry 14 : 커뮤니케이션 및 네트워킹 : 43%\n",
    "industry14 = df_industry[df_industry[\"id\"]==14]\n",
    "industry14_0 = industry14[industry14[\"ABS_idx\"]<200]\n",
    "industry14_200 = industry14[industry14[\"ABS_idx\"]>=200]\n",
    "ratio_industry14_200 = round(len(industry14_200)/len(industry14),2)\n",
    "len(industry14), len(industry14_0), len(industry14_200), ratio_industry14_200"
   ]
  },
  {
   "cell_type": "code",
   "execution_count": 201,
   "metadata": {},
   "outputs": [
    {
     "data": {
      "text/plain": [
       "(23, 12, 11, 0.48)"
      ]
     },
     "execution_count": 201,
     "metadata": {},
     "output_type": "execute_result"
    }
   ],
   "source": [
    "# industry 15 : 컴퓨터,전화및가전제품 : 48%\n",
    "industry15 = df_industry[df_industry[\"id\"]==15]\n",
    "industry15_0 = industry15[industry15[\"ABS_idx\"]<200]\n",
    "industry15_200 = industry15[industry15[\"ABS_idx\"]>=200]\n",
    "ratio_industry15_200 = round(len(industry15_200)/len(industry15),2)\n",
    "len(industry15), len(industry15_0), len(industry15_200), ratio_industry15_200"
   ]
  },
  {
   "cell_type": "code",
   "execution_count": 204,
   "metadata": {},
   "outputs": [
    {
     "data": {
      "text/plain": [
       "(46, 21, 25, 0.54)"
      ]
     },
     "execution_count": 204,
     "metadata": {},
     "output_type": "execute_result"
    }
   ],
   "source": [
    "# industry 16 : 통신 서비스 : 54%\n",
    "industry16 = df_industry[df_industry[\"id\"]==16]\n",
    "industry16_0 = industry16[industry16[\"ABS_idx\"]<200]\n",
    "industry16_200 = industry16[industry16[\"ABS_idx\"]>=200]\n",
    "ratio_industry16_200 = round(len(industry16_200)/len(industry16),2)\n",
    "len(industry16), len(industry16_0), len(industry16_200), ratio_industry16_200"
   ]
  },
  {
   "cell_type": "code",
   "execution_count": 206,
   "metadata": {},
   "outputs": [
    {
     "data": {
      "text/plain": [
       "(23, 11, 12, 0.52)"
      ]
     },
     "execution_count": 206,
     "metadata": {},
     "output_type": "execute_result"
    }
   ],
   "source": [
    "# industry 17 : 헬스케어 업체 및 서비스 : 52%\n",
    "industry17 = df_industry[df_industry[\"id\"]==17]\n",
    "industry17_0 = industry17[industry17[\"ABS_idx\"]<200]\n",
    "industry17_200 = industry17[industry17[\"ABS_idx\"]>=200]\n",
    "ratio_industry17_200 = round(len(industry17_200)/len(industry17),2)\n",
    "len(industry17), len(industry17_0), len(industry17_200), ratio_industry17_200"
   ]
  },
  {
   "cell_type": "code",
   "execution_count": 207,
   "metadata": {},
   "outputs": [
    {
     "data": {
      "text/plain": [
       "(69, 41, 28, 0.41)"
      ]
     },
     "execution_count": 207,
     "metadata": {},
     "output_type": "execute_result"
    }
   ],
   "source": [
    "# industry 18 : 헬스케어 장비 및 용품 : 41%\n",
    "industry18 = df_industry[df_industry[\"id\"]==18]\n",
    "industry18_0 = industry18[industry18[\"ABS_idx\"]<200]\n",
    "industry18_200 = industry18[industry18[\"ABS_idx\"]>=200]\n",
    "ratio_industry18_200 = round(len(industry18_200)/len(industry18),2)\n",
    "len(industry18), len(industry18_0), len(industry18_200), ratio_industry18_200"
   ]
  },
  {
   "cell_type": "code",
   "execution_count": 209,
   "metadata": {},
   "outputs": [
    {
     "data": {
      "text/plain": [
       "(23, 12, 11, 0.48)"
      ]
     },
     "execution_count": 209,
     "metadata": {},
     "output_type": "execute_result"
    }
   ],
   "source": [
    "# industry 19 : 호텔 및 엔터테인먼트: 48%\n",
    "industry19 = df_industry[df_industry[\"id\"]==19]\n",
    "industry19_0 = industry19[industry19[\"ABS_idx\"]<200]\n",
    "industry19_200 = industry19[industry19[\"ABS_idx\"]>=200]\n",
    "ratio_industry19_200 = round(len(industry19_200)/len(industry19),2)\n",
    "len(industry19), len(industry19_0), len(industry19_200), ratio_industry19_200"
   ]
  },
  {
   "cell_type": "code",
   "execution_count": 211,
   "metadata": {},
   "outputs": [
    {
     "data": {
      "text/html": [
       "<div>\n",
       "<style scoped>\n",
       "    .dataframe tbody tr th:only-of-type {\n",
       "        vertical-align: middle;\n",
       "    }\n",
       "\n",
       "    .dataframe tbody tr th {\n",
       "        vertical-align: top;\n",
       "    }\n",
       "\n",
       "    .dataframe thead th {\n",
       "        text-align: right;\n",
       "    }\n",
       "</style>\n",
       "<table border=\"1\" class=\"dataframe\">\n",
       "  <thead>\n",
       "    <tr style=\"text-align: right;\">\n",
       "      <th></th>\n",
       "      <th>Industry</th>\n",
       "      <th>0</th>\n",
       "      <th>id</th>\n",
       "    </tr>\n",
       "  </thead>\n",
       "  <tbody>\n",
       "    <tr>\n",
       "      <th>0</th>\n",
       "      <td>개인, 가정 용품 및 서비스</td>\n",
       "      <td>23</td>\n",
       "      <td>0</td>\n",
       "    </tr>\n",
       "    <tr>\n",
       "      <th>1</th>\n",
       "      <td>다양한 소매업</td>\n",
       "      <td>23</td>\n",
       "      <td>1</td>\n",
       "    </tr>\n",
       "    <tr>\n",
       "      <th>2</th>\n",
       "      <td>메탈&amp;마이닝</td>\n",
       "      <td>23</td>\n",
       "      <td>2</td>\n",
       "    </tr>\n",
       "    <tr>\n",
       "      <th>3</th>\n",
       "      <td>미디어 및 출판</td>\n",
       "      <td>46</td>\n",
       "      <td>3</td>\n",
       "    </tr>\n",
       "    <tr>\n",
       "      <th>4</th>\n",
       "      <td>반도체 및 반도체 장비</td>\n",
       "      <td>125</td>\n",
       "      <td>4</td>\n",
       "    </tr>\n",
       "    <tr>\n",
       "      <th>5</th>\n",
       "      <td>섬유 및 의류</td>\n",
       "      <td>23</td>\n",
       "      <td>5</td>\n",
       "    </tr>\n",
       "    <tr>\n",
       "      <th>6</th>\n",
       "      <td>소프트웨어 및 IT서비스</td>\n",
       "      <td>189</td>\n",
       "      <td>6</td>\n",
       "    </tr>\n",
       "    <tr>\n",
       "      <th>7</th>\n",
       "      <td>식품 및 약품소매</td>\n",
       "      <td>23</td>\n",
       "      <td>7</td>\n",
       "    </tr>\n",
       "    <tr>\n",
       "      <th>8</th>\n",
       "      <td>오일 및 가스</td>\n",
       "      <td>46</td>\n",
       "      <td>8</td>\n",
       "    </tr>\n",
       "    <tr>\n",
       "      <th>9</th>\n",
       "      <td>은행</td>\n",
       "      <td>69</td>\n",
       "      <td>9</td>\n",
       "    </tr>\n",
       "    <tr>\n",
       "      <th>10</th>\n",
       "      <td>음료</td>\n",
       "      <td>46</td>\n",
       "      <td>10</td>\n",
       "    </tr>\n",
       "    <tr>\n",
       "      <th>11</th>\n",
       "      <td>자동차 및 자동차 부품</td>\n",
       "      <td>32</td>\n",
       "      <td>11</td>\n",
       "    </tr>\n",
       "    <tr>\n",
       "      <th>12</th>\n",
       "      <td>전문품 상점</td>\n",
       "      <td>23</td>\n",
       "      <td>12</td>\n",
       "    </tr>\n",
       "    <tr>\n",
       "      <th>13</th>\n",
       "      <td>제약</td>\n",
       "      <td>120</td>\n",
       "      <td>13</td>\n",
       "    </tr>\n",
       "    <tr>\n",
       "      <th>14</th>\n",
       "      <td>커뮤니케이션 및 네트워킹</td>\n",
       "      <td>23</td>\n",
       "      <td>14</td>\n",
       "    </tr>\n",
       "    <tr>\n",
       "      <th>15</th>\n",
       "      <td>컴퓨터, 전화 및 가전제품</td>\n",
       "      <td>23</td>\n",
       "      <td>15</td>\n",
       "    </tr>\n",
       "    <tr>\n",
       "      <th>16</th>\n",
       "      <td>통신 서비스</td>\n",
       "      <td>46</td>\n",
       "      <td>16</td>\n",
       "    </tr>\n",
       "    <tr>\n",
       "      <th>17</th>\n",
       "      <td>헬스케어 업체 및 서비스</td>\n",
       "      <td>23</td>\n",
       "      <td>17</td>\n",
       "    </tr>\n",
       "    <tr>\n",
       "      <th>18</th>\n",
       "      <td>헬스케어 장비 및 용품</td>\n",
       "      <td>69</td>\n",
       "      <td>18</td>\n",
       "    </tr>\n",
       "    <tr>\n",
       "      <th>19</th>\n",
       "      <td>호텔 및 엔터테인먼트</td>\n",
       "      <td>23</td>\n",
       "      <td>19</td>\n",
       "    </tr>\n",
       "  </tbody>\n",
       "</table>\n",
       "</div>"
      ],
      "text/plain": [
       "           Industry    0  id\n",
       "0   개인, 가정 용품 및 서비스   23   0\n",
       "1           다양한 소매업   23   1\n",
       "2            메탈&마이닝   23   2\n",
       "3          미디어 및 출판   46   3\n",
       "4      반도체 및 반도체 장비  125   4\n",
       "5           섬유 및 의류   23   5\n",
       "6     소프트웨어 및 IT서비스  189   6\n",
       "7         식품 및 약품소매   23   7\n",
       "8           오일 및 가스   46   8\n",
       "9                은행   69   9\n",
       "10               음료   46  10\n",
       "11     자동차 및 자동차 부품   32  11\n",
       "12           전문품 상점   23  12\n",
       "13               제약  120  13\n",
       "14    커뮤니케이션 및 네트워킹   23  14\n",
       "15   컴퓨터, 전화 및 가전제품   23  15\n",
       "16           통신 서비스   46  16\n",
       "17    헬스케어 업체 및 서비스   23  17\n",
       "18     헬스케어 장비 및 용품   69  18\n",
       "19      호텔 및 엔터테인먼트   23  19"
      ]
     },
     "execution_count": 211,
     "metadata": {},
     "output_type": "execute_result"
    }
   ],
   "source": [
    "industry"
   ]
  },
  {
   "cell_type": "markdown",
   "metadata": {},
   "source": [
    "##### 코멘트\n",
    "- 개인,가정용품 및 서비스 품목과 섬유 및 의류 품목 변동종목 비중 70% 이상으로 영향 많이 받는 카테고리\n",
    "- 상대적으로 미디어 및 출판, 자동차및자동차부품은 상대적으로 전쟁영향 덜 받는 품목"
   ]
  },
  {
   "cell_type": "code",
   "execution_count": 214,
   "metadata": {},
   "outputs": [
    {
     "data": {
      "text/html": [
       "<div>\n",
       "<style scoped>\n",
       "    .dataframe tbody tr th:only-of-type {\n",
       "        vertical-align: middle;\n",
       "    }\n",
       "\n",
       "    .dataframe tbody tr th {\n",
       "        vertical-align: top;\n",
       "    }\n",
       "\n",
       "    .dataframe thead th {\n",
       "        text-align: right;\n",
       "    }\n",
       "</style>\n",
       "<table border=\"1\" class=\"dataframe\">\n",
       "  <thead>\n",
       "    <tr style=\"text-align: right;\">\n",
       "      <th></th>\n",
       "      <th>Symbol</th>\n",
       "      <th>0</th>\n",
       "    </tr>\n",
       "  </thead>\n",
       "  <tbody>\n",
       "    <tr>\n",
       "      <th>0</th>\n",
       "      <td>PG</td>\n",
       "      <td>17</td>\n",
       "    </tr>\n",
       "  </tbody>\n",
       "</table>\n",
       "</div>"
      ],
      "text/plain": [
       "  Symbol   0\n",
       "0     PG  17"
      ]
     },
     "execution_count": 214,
     "metadata": {},
     "output_type": "execute_result"
    }
   ],
   "source": [
    "# 개인, 가정용품 및 서비스 품목은 P&G 한종목에서 200이상 영향(17개 전쟁에서 영향)\n",
    "industry0_200.groupby([\"Symbol\"]).size().reset_index()"
   ]
  },
  {
   "cell_type": "code",
   "execution_count": 216,
   "metadata": {},
   "outputs": [
    {
     "data": {
      "text/html": [
       "<div>\n",
       "<style scoped>\n",
       "    .dataframe tbody tr th:only-of-type {\n",
       "        vertical-align: middle;\n",
       "    }\n",
       "\n",
       "    .dataframe tbody tr th {\n",
       "        vertical-align: top;\n",
       "    }\n",
       "\n",
       "    .dataframe thead th {\n",
       "        text-align: right;\n",
       "    }\n",
       "</style>\n",
       "<table border=\"1\" class=\"dataframe\">\n",
       "  <thead>\n",
       "    <tr style=\"text-align: right;\">\n",
       "      <th></th>\n",
       "      <th>Symbol</th>\n",
       "      <th>0</th>\n",
       "    </tr>\n",
       "  </thead>\n",
       "  <tbody>\n",
       "    <tr>\n",
       "      <th>0</th>\n",
       "      <td>NKE</td>\n",
       "      <td>16</td>\n",
       "    </tr>\n",
       "  </tbody>\n",
       "</table>\n",
       "</div>"
      ],
      "text/plain": [
       "  Symbol   0\n",
       "0    NKE  16"
      ]
     },
     "execution_count": 216,
     "metadata": {},
     "output_type": "execute_result"
    }
   ],
   "source": [
    "# 섬유 및 의류 품목은 나이키한종목에서 200이상 영향(16개 전쟁에서 영향)\n",
    "industry5_200.groupby([\"Symbol\"]).size().reset_index()"
   ]
  },
  {
   "cell_type": "code",
   "execution_count": 220,
   "metadata": {},
   "outputs": [],
   "source": [
    "# 자동차 및 자동차부품 중 카테고리에서\n",
    "# TM은 총 23개의 전쟁 중 8개, 테슬라는 9개의 전쟁 중 3개의 전쟁기간에만 주가변동 폭 큼"
   ]
  },
  {
   "cell_type": "code",
   "execution_count": 217,
   "metadata": {},
   "outputs": [
    {
     "data": {
      "text/html": [
       "<div>\n",
       "<style scoped>\n",
       "    .dataframe tbody tr th:only-of-type {\n",
       "        vertical-align: middle;\n",
       "    }\n",
       "\n",
       "    .dataframe tbody tr th {\n",
       "        vertical-align: top;\n",
       "    }\n",
       "\n",
       "    .dataframe thead th {\n",
       "        text-align: right;\n",
       "    }\n",
       "</style>\n",
       "<table border=\"1\" class=\"dataframe\">\n",
       "  <thead>\n",
       "    <tr style=\"text-align: right;\">\n",
       "      <th></th>\n",
       "      <th>Symbol</th>\n",
       "      <th>0</th>\n",
       "    </tr>\n",
       "  </thead>\n",
       "  <tbody>\n",
       "    <tr>\n",
       "      <th>0</th>\n",
       "      <td>TM</td>\n",
       "      <td>15</td>\n",
       "    </tr>\n",
       "    <tr>\n",
       "      <th>1</th>\n",
       "      <td>TSLA</td>\n",
       "      <td>6</td>\n",
       "    </tr>\n",
       "  </tbody>\n",
       "</table>\n",
       "</div>"
      ],
      "text/plain": [
       "  Symbol   0\n",
       "0     TM  15\n",
       "1   TSLA   6"
      ]
     },
     "execution_count": 217,
     "metadata": {},
     "output_type": "execute_result"
    }
   ],
   "source": [
    "industry11_0.groupby([\"Symbol\"]).size().reset_index()"
   ]
  },
  {
   "cell_type": "code",
   "execution_count": 218,
   "metadata": {},
   "outputs": [
    {
     "data": {
      "text/html": [
       "<div>\n",
       "<style scoped>\n",
       "    .dataframe tbody tr th:only-of-type {\n",
       "        vertical-align: middle;\n",
       "    }\n",
       "\n",
       "    .dataframe tbody tr th {\n",
       "        vertical-align: top;\n",
       "    }\n",
       "\n",
       "    .dataframe thead th {\n",
       "        text-align: right;\n",
       "    }\n",
       "</style>\n",
       "<table border=\"1\" class=\"dataframe\">\n",
       "  <thead>\n",
       "    <tr style=\"text-align: right;\">\n",
       "      <th></th>\n",
       "      <th>Symbol</th>\n",
       "      <th>0</th>\n",
       "    </tr>\n",
       "  </thead>\n",
       "  <tbody>\n",
       "    <tr>\n",
       "      <th>0</th>\n",
       "      <td>TM</td>\n",
       "      <td>8</td>\n",
       "    </tr>\n",
       "    <tr>\n",
       "      <th>1</th>\n",
       "      <td>TSLA</td>\n",
       "      <td>3</td>\n",
       "    </tr>\n",
       "  </tbody>\n",
       "</table>\n",
       "</div>"
      ],
      "text/plain": [
       "  Symbol  0\n",
       "0     TM  8\n",
       "1   TSLA  3"
      ]
     },
     "execution_count": 218,
     "metadata": {},
     "output_type": "execute_result"
    }
   ],
   "source": [
    "industry11_200.groupby([\"Symbol\"]).size().reset_index()"
   ]
  },
  {
   "cell_type": "code",
   "execution_count": 221,
   "metadata": {},
   "outputs": [
    {
     "data": {
      "text/html": [
       "<div>\n",
       "<style scoped>\n",
       "    .dataframe tbody tr th:only-of-type {\n",
       "        vertical-align: middle;\n",
       "    }\n",
       "\n",
       "    .dataframe tbody tr th {\n",
       "        vertical-align: top;\n",
       "    }\n",
       "\n",
       "    .dataframe thead th {\n",
       "        text-align: right;\n",
       "    }\n",
       "</style>\n",
       "<table border=\"1\" class=\"dataframe\">\n",
       "  <thead>\n",
       "    <tr style=\"text-align: right;\">\n",
       "      <th></th>\n",
       "      <th>Symbol</th>\n",
       "      <th>0</th>\n",
       "    </tr>\n",
       "  </thead>\n",
       "  <tbody>\n",
       "    <tr>\n",
       "      <th>0</th>\n",
       "      <td>CMCSA</td>\n",
       "      <td>15</td>\n",
       "    </tr>\n",
       "    <tr>\n",
       "      <th>1</th>\n",
       "      <td>DIS</td>\n",
       "      <td>15</td>\n",
       "    </tr>\n",
       "  </tbody>\n",
       "</table>\n",
       "</div>"
      ],
      "text/plain": [
       "  Symbol   0\n",
       "0  CMCSA  15\n",
       "1    DIS  15"
      ]
     },
     "execution_count": 221,
     "metadata": {},
     "output_type": "execute_result"
    }
   ],
   "source": [
    "industry3_0.groupby([\"Symbol\"]).size().reset_index()"
   ]
  },
  {
   "cell_type": "code",
   "execution_count": 223,
   "metadata": {},
   "outputs": [
    {
     "data": {
      "text/html": [
       "<div>\n",
       "<style scoped>\n",
       "    .dataframe tbody tr th:only-of-type {\n",
       "        vertical-align: middle;\n",
       "    }\n",
       "\n",
       "    .dataframe tbody tr th {\n",
       "        vertical-align: top;\n",
       "    }\n",
       "\n",
       "    .dataframe thead th {\n",
       "        text-align: right;\n",
       "    }\n",
       "</style>\n",
       "<table border=\"1\" class=\"dataframe\">\n",
       "  <thead>\n",
       "    <tr style=\"text-align: right;\">\n",
       "      <th></th>\n",
       "      <th>Symbol</th>\n",
       "      <th>0</th>\n",
       "    </tr>\n",
       "  </thead>\n",
       "  <tbody>\n",
       "    <tr>\n",
       "      <th>0</th>\n",
       "      <td>CMCSA</td>\n",
       "      <td>8</td>\n",
       "    </tr>\n",
       "    <tr>\n",
       "      <th>1</th>\n",
       "      <td>DIS</td>\n",
       "      <td>8</td>\n",
       "    </tr>\n",
       "  </tbody>\n",
       "</table>\n",
       "</div>"
      ],
      "text/plain": [
       "  Symbol  0\n",
       "0  CMCSA  8\n",
       "1    DIS  8"
      ]
     },
     "execution_count": 223,
     "metadata": {},
     "output_type": "execute_result"
    }
   ],
   "source": [
    "industry3_200.groupby([\"Symbol\"]).size().reset_index()"
   ]
  },
  {
   "cell_type": "code",
   "execution_count": null,
   "metadata": {},
   "outputs": [],
   "source": []
  }
 ],
 "metadata": {
  "kernelspec": {
   "display_name": "Python 3",
   "language": "python",
   "name": "python3"
  },
  "language_info": {
   "codemirror_mode": {
    "name": "ipython",
    "version": 3
   },
   "file_extension": ".py",
   "mimetype": "text/x-python",
   "name": "python",
   "nbconvert_exporter": "python",
   "pygments_lexer": "ipython3",
   "version": "3.7.10"
  }
 },
 "nbformat": 4,
 "nbformat_minor": 4
}
