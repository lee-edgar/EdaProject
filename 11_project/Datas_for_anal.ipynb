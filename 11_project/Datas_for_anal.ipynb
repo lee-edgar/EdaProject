{
 "cells": [
  {
   "cell_type": "code",
   "execution_count": 6,
   "id": "2b55cd78",
   "metadata": {},
   "outputs": [
    {
     "ename": "ModuleNotFoundError",
     "evalue": "No module named 'openxls'",
     "output_type": "error",
     "traceback": [
      "\u001b[1;31m---------------------------------------------------------------------------\u001b[0m",
      "\u001b[1;31mModuleNotFoundError\u001b[0m                       Traceback (most recent call last)",
      "\u001b[1;32m<ipython-input-6-df3ec49cfdbc>\u001b[0m in \u001b[0;36m<module>\u001b[1;34m\u001b[0m\n\u001b[0;32m      1\u001b[0m \u001b[1;32mimport\u001b[0m \u001b[0mxlsxwriter\u001b[0m\u001b[1;33m\u001b[0m\u001b[1;33m\u001b[0m\u001b[0m\n\u001b[1;32m----> 2\u001b[1;33m \u001b[1;32mimport\u001b[0m \u001b[0mopenxls\u001b[0m\u001b[1;33m\u001b[0m\u001b[1;33m\u001b[0m\u001b[0m\n\u001b[0m",
      "\u001b[1;31mModuleNotFoundError\u001b[0m: No module named 'openxls'"
     ]
    }
   ],
   "source": [
    "import xlsxwriter\n",
    "import openxls"
   ]
  },
  {
   "cell_type": "code",
   "execution_count": 8,
   "id": "4ff6e9a1",
   "metadata": {},
   "outputs": [],
   "source": [
    "df_final = pd.read_excel(\"./datas/df_final.xls\", \"sheet\")"
   ]
  },
  {
   "cell_type": "code",
   "execution_count": 9,
   "id": "94de8c9e",
   "metadata": {},
   "outputs": [
    {
     "name": "stdout",
     "output_type": "stream",
     "text": [
      "<class 'pandas.core.frame.DataFrame'>\n",
      "RangeIndex: 1518 entries, 0 to 1517\n",
      "Data columns (total 11 columns):\n",
      " #   Column         Non-Null Count  Dtype         \n",
      "---  ------         --------------  -----         \n",
      " 0   Unnamed: 0     1518 non-null   int64         \n",
      " 1   Unnamed: 0.1   1518 non-null   int64         \n",
      " 2   Date           1518 non-null   datetime64[ns]\n",
      " 3   Change         1518 non-null   float64       \n",
      " 4   Symbol         1518 non-null   object        \n",
      " 5   Change_idx     1518 non-null   float64       \n",
      " 6   ABS_idx        1515 non-null   float64       \n",
      " 7   Avg_change     1518 non-null   float64       \n",
      " 8   Start_date     1518 non-null   datetime64[ns]\n",
      " 9   War_name       1518 non-null   object        \n",
      " 10  Count_country  1518 non-null   int64         \n",
      "dtypes: datetime64[ns](2), float64(4), int64(3), object(2)\n",
      "memory usage: 130.6+ KB\n"
     ]
    }
   ],
   "source": [
    "df_final.info()"
   ]
  },
  {
   "cell_type": "code",
   "execution_count": 10,
   "id": "99b8a851",
   "metadata": {},
   "outputs": [
    {
     "data": {
      "text/html": [
       "<div>\n",
       "<style scoped>\n",
       "    .dataframe tbody tr th:only-of-type {\n",
       "        vertical-align: middle;\n",
       "    }\n",
       "\n",
       "    .dataframe tbody tr th {\n",
       "        vertical-align: top;\n",
       "    }\n",
       "\n",
       "    .dataframe thead th {\n",
       "        text-align: right;\n",
       "    }\n",
       "</style>\n",
       "<table border=\"1\" class=\"dataframe\">\n",
       "  <thead>\n",
       "    <tr style=\"text-align: right;\">\n",
       "      <th></th>\n",
       "      <th>Unnamed: 0</th>\n",
       "      <th>Unnamed: 0.1</th>\n",
       "      <th>Date</th>\n",
       "      <th>Change</th>\n",
       "      <th>Symbol</th>\n",
       "      <th>Change_idx</th>\n",
       "      <th>ABS_idx</th>\n",
       "      <th>Avg_change</th>\n",
       "      <th>Start_date</th>\n",
       "      <th>War_name</th>\n",
       "      <th>Count_country</th>\n",
       "    </tr>\n",
       "  </thead>\n",
       "  <tbody>\n",
       "    <tr>\n",
       "      <th>0</th>\n",
       "      <td>426</td>\n",
       "      <td>426</td>\n",
       "      <td>2001-09-17</td>\n",
       "      <td>-0.0323</td>\n",
       "      <td>AAPL</td>\n",
       "      <td>269.0</td>\n",
       "      <td>269.0</td>\n",
       "      <td>-0.012</td>\n",
       "      <td>2001-09-11</td>\n",
       "      <td>테러와의전쟁</td>\n",
       "      <td>48</td>\n",
       "    </tr>\n",
       "    <tr>\n",
       "      <th>1</th>\n",
       "      <td>217816</td>\n",
       "      <td>217816</td>\n",
       "      <td>2001-09-17</td>\n",
       "      <td>0.0198</td>\n",
       "      <td>ABT</td>\n",
       "      <td>1980.0</td>\n",
       "      <td>1980.0</td>\n",
       "      <td>0.001</td>\n",
       "      <td>2001-09-11</td>\n",
       "      <td>테러와의전쟁</td>\n",
       "      <td>48</td>\n",
       "    </tr>\n",
       "    <tr>\n",
       "      <th>2</th>\n",
       "      <td>293188</td>\n",
       "      <td>293188</td>\n",
       "      <td>2001-09-17</td>\n",
       "      <td>-0.0363</td>\n",
       "      <td>ACN</td>\n",
       "      <td>-907.0</td>\n",
       "      <td>907.0</td>\n",
       "      <td>0.004</td>\n",
       "      <td>2001-09-11</td>\n",
       "      <td>테러와의전쟁</td>\n",
       "      <td>48</td>\n",
       "    </tr>\n",
       "    <tr>\n",
       "      <th>3</th>\n",
       "      <td>203878</td>\n",
       "      <td>203878</td>\n",
       "      <td>2001-09-17</td>\n",
       "      <td>-0.0797</td>\n",
       "      <td>ADBE</td>\n",
       "      <td>1992.0</td>\n",
       "      <td>1992.0</td>\n",
       "      <td>-0.004</td>\n",
       "      <td>2001-09-11</td>\n",
       "      <td>테러와의전쟁</td>\n",
       "      <td>48</td>\n",
       "    </tr>\n",
       "    <tr>\n",
       "      <th>4</th>\n",
       "      <td>11111</td>\n",
       "      <td>11111</td>\n",
       "      <td>2001-09-17</td>\n",
       "      <td>-0.1321</td>\n",
       "      <td>AMZN</td>\n",
       "      <td>2642.0</td>\n",
       "      <td>2642.0</td>\n",
       "      <td>-0.005</td>\n",
       "      <td>2001-09-11</td>\n",
       "      <td>테러와의전쟁</td>\n",
       "      <td>48</td>\n",
       "    </tr>\n",
       "  </tbody>\n",
       "</table>\n",
       "</div>"
      ],
      "text/plain": [
       "   Unnamed: 0  Unnamed: 0.1       Date  Change Symbol  Change_idx  ABS_idx  \\\n",
       "0         426           426 2001-09-17 -0.0323   AAPL       269.0    269.0   \n",
       "1      217816        217816 2001-09-17  0.0198    ABT      1980.0   1980.0   \n",
       "2      293188        293188 2001-09-17 -0.0363    ACN      -907.0    907.0   \n",
       "3      203878        203878 2001-09-17 -0.0797   ADBE      1992.0   1992.0   \n",
       "4       11111         11111 2001-09-17 -0.1321   AMZN      2642.0   2642.0   \n",
       "\n",
       "   Avg_change Start_date War_name  Count_country  \n",
       "0      -0.012 2001-09-11   테러와의전쟁             48  \n",
       "1       0.001 2001-09-11   테러와의전쟁             48  \n",
       "2       0.004 2001-09-11   테러와의전쟁             48  \n",
       "3      -0.004 2001-09-11   테러와의전쟁             48  \n",
       "4      -0.005 2001-09-11   테러와의전쟁             48  "
      ]
     },
     "execution_count": 10,
     "metadata": {},
     "output_type": "execute_result"
    }
   ],
   "source": [
    "df_final.head()"
   ]
  },
  {
   "cell_type": "code",
   "execution_count": null,
   "id": "c6ae2ddc",
   "metadata": {},
   "outputs": [],
   "source": []
  }
 ],
 "metadata": {
  "kernelspec": {
   "display_name": "Python 3",
   "language": "python",
   "name": "python3"
  },
  "language_info": {
   "codemirror_mode": {
    "name": "ipython",
    "version": 3
   },
   "file_extension": ".py",
   "mimetype": "text/x-python",
   "name": "python",
   "nbconvert_exporter": "python",
   "pygments_lexer": "ipython3",
   "version": "3.7.10"
  }
 },
 "nbformat": 4,
 "nbformat_minor": 5
}
