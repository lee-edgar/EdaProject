{
 "cells": [
  {
   "cell_type": "code",
   "execution_count": 6,
   "metadata": {},
   "outputs": [],
   "source": [
    "import matplotlib.pyplot as plt\n",
    "import seaborn as sns\n",
    "import sklearn\n",
    "from sklearn.linear_model import LinearRegression\n",
    "import matplotlib.pyplot as plt\n",
    "import numpy as np\n",
    "import sklearn.linear_model\n",
    "import FinanceDataReader as fdr\n",
    "from datetime import datetime, timedelta\n",
    "%matplotlib inline"
   ]
  },
  {
   "cell_type": "code",
   "execution_count": 7,
   "metadata": {},
   "outputs": [
    {
     "data": {
      "text/html": [
       "<div>\n",
       "<style scoped>\n",
       "    .dataframe tbody tr th:only-of-type {\n",
       "        vertical-align: middle;\n",
       "    }\n",
       "\n",
       "    .dataframe tbody tr th {\n",
       "        vertical-align: top;\n",
       "    }\n",
       "\n",
       "    .dataframe thead th {\n",
       "        text-align: right;\n",
       "    }\n",
       "</style>\n",
       "<table border=\"1\" class=\"dataframe\">\n",
       "  <thead>\n",
       "    <tr style=\"text-align: right;\">\n",
       "      <th></th>\n",
       "      <th>Industry</th>\n",
       "      <th>IndustryCode</th>\n",
       "    </tr>\n",
       "  </thead>\n",
       "  <tbody>\n",
       "    <tr>\n",
       "      <th>0</th>\n",
       "      <td>건설 장비 및대형차, 기차, 배</td>\n",
       "      <td>521020</td>\n",
       "    </tr>\n",
       "    <tr>\n",
       "      <th>1</th>\n",
       "      <td>다양한 소매업</td>\n",
       "      <td>533010</td>\n",
       "    </tr>\n",
       "    <tr>\n",
       "      <th>2</th>\n",
       "      <td>레저 상품</td>\n",
       "      <td>532050</td>\n",
       "    </tr>\n",
       "    <tr>\n",
       "      <th>3</th>\n",
       "      <td>미디어 및 출판</td>\n",
       "      <td>533020</td>\n",
       "    </tr>\n",
       "    <tr>\n",
       "      <th>4</th>\n",
       "      <td>반도체 및 반도체 장비</td>\n",
       "      <td>571010</td>\n",
       "    </tr>\n",
       "  </tbody>\n",
       "</table>\n",
       "</div>"
      ],
      "text/plain": [
       "            Industry  IndustryCode\n",
       "0  건설 장비 및대형차, 기차, 배        521020\n",
       "1            다양한 소매업        533010\n",
       "2              레저 상품        532050\n",
       "3           미디어 및 출판        533020\n",
       "4       반도체 및 반도체 장비        571010"
      ]
     },
     "execution_count": 7,
     "metadata": {},
     "output_type": "execute_result"
    }
   ],
   "source": [
    "industry = pd.read_csv(\"./datas/SYMB_Industry.csv\")\n",
    "industry.head()"
   ]
  },
  {
   "cell_type": "markdown",
   "metadata": {},
   "source": [
    "# Symbol 리스트"
   ]
  },
  {
   "cell_type": "code",
   "execution_count": 8,
   "metadata": {},
   "outputs": [
    {
     "data": {
      "text/html": [
       "<div>\n",
       "<style scoped>\n",
       "    .dataframe tbody tr th:only-of-type {\n",
       "        vertical-align: middle;\n",
       "    }\n",
       "\n",
       "    .dataframe tbody tr th {\n",
       "        vertical-align: top;\n",
       "    }\n",
       "\n",
       "    .dataframe thead th {\n",
       "        text-align: right;\n",
       "    }\n",
       "</style>\n",
       "<table border=\"1\" class=\"dataframe\">\n",
       "  <thead>\n",
       "    <tr style=\"text-align: right;\">\n",
       "      <th></th>\n",
       "      <th>Symbol</th>\n",
       "      <th>Name</th>\n",
       "      <th>Industry</th>\n",
       "      <th>IndustryCode</th>\n",
       "    </tr>\n",
       "  </thead>\n",
       "  <tbody>\n",
       "    <tr>\n",
       "      <th>7210</th>\n",
       "      <td>RHE</td>\n",
       "      <td>Regional Health Properties Inc</td>\n",
       "      <td>부동산 운영 관리</td>\n",
       "      <td>601010.0</td>\n",
       "    </tr>\n",
       "    <tr>\n",
       "      <th>7211</th>\n",
       "      <td>BTX</td>\n",
       "      <td>Brooklyn Immunotherapeutics Inc</td>\n",
       "      <td>미디어 및 출판</td>\n",
       "      <td>533020.0</td>\n",
       "    </tr>\n",
       "    <tr>\n",
       "      <th>7212</th>\n",
       "      <td>PW PR A</td>\n",
       "      <td>Power REIT PRF</td>\n",
       "      <td>주택 및 상업용 리츠</td>\n",
       "      <td>601020.0</td>\n",
       "    </tr>\n",
       "    <tr>\n",
       "      <th>7213</th>\n",
       "      <td>IPB</td>\n",
       "      <td>Merrill LYNCH Depositor Inc Indexplus Trust Se...</td>\n",
       "      <td>은행</td>\n",
       "      <td>551010.0</td>\n",
       "    </tr>\n",
       "    <tr>\n",
       "      <th>7214</th>\n",
       "      <td>VHAQ RT</td>\n",
       "      <td>Viveon Health Acquisition Corp</td>\n",
       "      <td>기타 금융업</td>\n",
       "      <td>556010.0</td>\n",
       "    </tr>\n",
       "  </tbody>\n",
       "</table>\n",
       "</div>"
      ],
      "text/plain": [
       "       Symbol                                               Name     Industry  \\\n",
       "7210      RHE                     Regional Health Properties Inc    부동산 운영 관리   \n",
       "7211      BTX                    Brooklyn Immunotherapeutics Inc     미디어 및 출판   \n",
       "7212  PW PR A                                     Power REIT PRF  주택 및 상업용 리츠   \n",
       "7213      IPB  Merrill LYNCH Depositor Inc Indexplus Trust Se...           은행   \n",
       "7214  VHAQ RT                     Viveon Health Acquisition Corp       기타 금융업   \n",
       "\n",
       "      IndustryCode  \n",
       "7210      601010.0  \n",
       "7211      533020.0  \n",
       "7212      601020.0  \n",
       "7213      551010.0  \n",
       "7214      556010.0  "
      ]
     },
     "execution_count": 8,
     "metadata": {},
     "output_type": "execute_result"
    }
   ],
   "source": [
    "indX = pd.read_csv(\"datas/industry_code.csv\")\n",
    "df_3 = indX.drop(['Unnamed: 0'], axis=1)\n",
    "df_3.tail()"
   ]
  },
  {
   "cell_type": "markdown",
   "metadata": {},
   "source": [
    "# 전쟁 리스트"
   ]
  },
  {
   "cell_type": "code",
   "execution_count": 9,
   "metadata": {},
   "outputs": [
    {
     "data": {
      "text/html": [
       "<div>\n",
       "<style scoped>\n",
       "    .dataframe tbody tr th:only-of-type {\n",
       "        vertical-align: middle;\n",
       "    }\n",
       "\n",
       "    .dataframe tbody tr th {\n",
       "        vertical-align: top;\n",
       "    }\n",
       "\n",
       "    .dataframe thead th {\n",
       "        text-align: right;\n",
       "    }\n",
       "</style>\n",
       "<table border=\"1\" class=\"dataframe\">\n",
       "  <thead>\n",
       "    <tr style=\"text-align: right;\">\n",
       "      <th></th>\n",
       "      <th>발발시점</th>\n",
       "      <th>갈등이름</th>\n",
       "      <th>갈등종류</th>\n",
       "      <th>전쟁규모</th>\n",
       "      <th>참전국수</th>\n",
       "    </tr>\n",
       "  </thead>\n",
       "  <tbody>\n",
       "    <tr>\n",
       "      <th>0</th>\n",
       "      <td>2001-09-11</td>\n",
       "      <td>테러와의전쟁</td>\n",
       "      <td>테러</td>\n",
       "      <td>1000000</td>\n",
       "      <td>48</td>\n",
       "    </tr>\n",
       "  </tbody>\n",
       "</table>\n",
       "</div>"
      ],
      "text/plain": [
       "        발발시점    갈등이름 갈등종류     전쟁규모  참전국수\n",
       "0 2001-09-11  테러와의전쟁   테러  1000000    48"
      ]
     },
     "execution_count": 9,
     "metadata": {},
     "output_type": "execute_result"
    }
   ],
   "source": [
    "ls_war = pd.read_excel(\"datas/ls_war.xls\", \"sheet\")\n",
    "ls_war = ls_war.drop([\"Unnamed: 0\",\"전쟁수\"], axis=1)\n",
    "ls_war.head(1)\n",
    "#ls_war = ls_war.drop([\"Unnamed: 0\", \"종료시점\", \"위치\"], axis=1)"
   ]
  },
  {
   "cell_type": "code",
   "execution_count": 10,
   "metadata": {},
   "outputs": [
    {
     "data": {
      "text/plain": [
       "(Timestamp('2001-09-11 00:00:00'), '테러와의전쟁')"
      ]
     },
     "execution_count": 10,
     "metadata": {},
     "output_type": "execute_result"
    }
   ],
   "source": [
    "index = 0\n",
    "start_date = ls_war.loc[index,\"발발시점\"]\n",
    "war_name = ls_war.loc[index, \"갈등이름\"]\n",
    "start_date, war_name"
   ]
  },
  {
   "cell_type": "code",
   "execution_count": 11,
   "metadata": {},
   "outputs": [],
   "source": [
    "# 발발시점 데이터 뽑기\n",
    "index = 0\n",
    "ls = len(ls_war[\"발발시점\"])"
   ]
  },
  {
   "cell_type": "markdown",
   "metadata": {},
   "source": [
    "# 심볼별 Historical price"
   ]
  },
  {
   "cell_type": "code",
   "execution_count": 12,
   "metadata": {},
   "outputs": [],
   "source": [
    "real_df = pd.read_excel(\"datas/real_df.xls\", \"sheet\")"
   ]
  },
  {
   "cell_type": "code",
   "execution_count": 13,
   "metadata": {},
   "outputs": [
    {
     "data": {
      "text/html": [
       "<div>\n",
       "<style scoped>\n",
       "    .dataframe tbody tr th:only-of-type {\n",
       "        vertical-align: middle;\n",
       "    }\n",
       "\n",
       "    .dataframe tbody tr th {\n",
       "        vertical-align: top;\n",
       "    }\n",
       "\n",
       "    .dataframe thead th {\n",
       "        text-align: right;\n",
       "    }\n",
       "</style>\n",
       "<table border=\"1\" class=\"dataframe\">\n",
       "  <thead>\n",
       "    <tr style=\"text-align: right;\">\n",
       "      <th></th>\n",
       "      <th>Unnamed: 0</th>\n",
       "      <th>Unnamed: 0.1</th>\n",
       "      <th>Date</th>\n",
       "      <th>Close</th>\n",
       "      <th>Open</th>\n",
       "      <th>High</th>\n",
       "      <th>Low</th>\n",
       "      <th>Volume</th>\n",
       "      <th>Change</th>\n",
       "      <th>Symbol</th>\n",
       "    </tr>\n",
       "  </thead>\n",
       "  <tbody>\n",
       "    <tr>\n",
       "      <th>0</th>\n",
       "      <td>0</td>\n",
       "      <td>0</td>\n",
       "      <td>2000-01-03</td>\n",
       "      <td>1.00</td>\n",
       "      <td>0.94</td>\n",
       "      <td>1.00</td>\n",
       "      <td>0.91</td>\n",
       "      <td>535820000.0</td>\n",
       "      <td>0.0870</td>\n",
       "      <td>AAPL</td>\n",
       "    </tr>\n",
       "    <tr>\n",
       "      <th>1</th>\n",
       "      <td>1</td>\n",
       "      <td>1</td>\n",
       "      <td>2000-01-04</td>\n",
       "      <td>0.92</td>\n",
       "      <td>0.97</td>\n",
       "      <td>0.99</td>\n",
       "      <td>0.90</td>\n",
       "      <td>511730000.0</td>\n",
       "      <td>-0.0800</td>\n",
       "      <td>AAPL</td>\n",
       "    </tr>\n",
       "    <tr>\n",
       "      <th>2</th>\n",
       "      <td>2</td>\n",
       "      <td>2</td>\n",
       "      <td>2000-01-05</td>\n",
       "      <td>0.93</td>\n",
       "      <td>0.93</td>\n",
       "      <td>0.99</td>\n",
       "      <td>0.92</td>\n",
       "      <td>778320000.0</td>\n",
       "      <td>0.0109</td>\n",
       "      <td>AAPL</td>\n",
       "    </tr>\n",
       "    <tr>\n",
       "      <th>3</th>\n",
       "      <td>3</td>\n",
       "      <td>3</td>\n",
       "      <td>2000-01-06</td>\n",
       "      <td>0.85</td>\n",
       "      <td>0.95</td>\n",
       "      <td>0.96</td>\n",
       "      <td>0.85</td>\n",
       "      <td>767980000.0</td>\n",
       "      <td>-0.0860</td>\n",
       "      <td>AAPL</td>\n",
       "    </tr>\n",
       "    <tr>\n",
       "      <th>4</th>\n",
       "      <td>4</td>\n",
       "      <td>4</td>\n",
       "      <td>2000-01-07</td>\n",
       "      <td>0.89</td>\n",
       "      <td>0.86</td>\n",
       "      <td>0.90</td>\n",
       "      <td>0.85</td>\n",
       "      <td>460730000.0</td>\n",
       "      <td>0.0471</td>\n",
       "      <td>AAPL</td>\n",
       "    </tr>\n",
       "    <tr>\n",
       "      <th>...</th>\n",
       "      <td>...</td>\n",
       "      <td>...</td>\n",
       "      <td>...</td>\n",
       "      <td>...</td>\n",
       "      <td>...</td>\n",
       "      <td>...</td>\n",
       "      <td>...</td>\n",
       "      <td>...</td>\n",
       "      <td>...</td>\n",
       "      <td>...</td>\n",
       "    </tr>\n",
       "    <tr>\n",
       "      <th>358741</th>\n",
       "      <td>358741</td>\n",
       "      <td>358741</td>\n",
       "      <td>2021-03-19</td>\n",
       "      <td>1516.34</td>\n",
       "      <td>1502.63</td>\n",
       "      <td>1516.34</td>\n",
       "      <td>1502.53</td>\n",
       "      <td>22010.0</td>\n",
       "      <td>0.0225</td>\n",
       "      <td>DHR_pa</td>\n",
       "    </tr>\n",
       "    <tr>\n",
       "      <th>358742</th>\n",
       "      <td>358742</td>\n",
       "      <td>358742</td>\n",
       "      <td>2021-03-22</td>\n",
       "      <td>1530.53</td>\n",
       "      <td>1510.10</td>\n",
       "      <td>1530.54</td>\n",
       "      <td>1510.10</td>\n",
       "      <td>960.0</td>\n",
       "      <td>0.0094</td>\n",
       "      <td>DHR_pa</td>\n",
       "    </tr>\n",
       "    <tr>\n",
       "      <th>358743</th>\n",
       "      <td>358743</td>\n",
       "      <td>358743</td>\n",
       "      <td>2021-03-23</td>\n",
       "      <td>1533.00</td>\n",
       "      <td>1533.00</td>\n",
       "      <td>1533.00</td>\n",
       "      <td>1533.00</td>\n",
       "      <td>3480.0</td>\n",
       "      <td>0.0016</td>\n",
       "      <td>DHR_pa</td>\n",
       "    </tr>\n",
       "    <tr>\n",
       "      <th>358744</th>\n",
       "      <td>358744</td>\n",
       "      <td>358744</td>\n",
       "      <td>2021-03-24</td>\n",
       "      <td>1512.42</td>\n",
       "      <td>1512.45</td>\n",
       "      <td>1512.45</td>\n",
       "      <td>1512.42</td>\n",
       "      <td>1230.0</td>\n",
       "      <td>-0.0134</td>\n",
       "      <td>DHR_pa</td>\n",
       "    </tr>\n",
       "    <tr>\n",
       "      <th>358745</th>\n",
       "      <td>358745</td>\n",
       "      <td>358745</td>\n",
       "      <td>2021-03-25</td>\n",
       "      <td>1496.00</td>\n",
       "      <td>1492.90</td>\n",
       "      <td>1496.00</td>\n",
       "      <td>1492.90</td>\n",
       "      <td>650.0</td>\n",
       "      <td>-0.0109</td>\n",
       "      <td>DHR_pa</td>\n",
       "    </tr>\n",
       "  </tbody>\n",
       "</table>\n",
       "<p>358746 rows × 10 columns</p>\n",
       "</div>"
      ],
      "text/plain": [
       "        Unnamed: 0  Unnamed: 0.1       Date    Close     Open     High  \\\n",
       "0                0             0 2000-01-03     1.00     0.94     1.00   \n",
       "1                1             1 2000-01-04     0.92     0.97     0.99   \n",
       "2                2             2 2000-01-05     0.93     0.93     0.99   \n",
       "3                3             3 2000-01-06     0.85     0.95     0.96   \n",
       "4                4             4 2000-01-07     0.89     0.86     0.90   \n",
       "...            ...           ...        ...      ...      ...      ...   \n",
       "358741      358741        358741 2021-03-19  1516.34  1502.63  1516.34   \n",
       "358742      358742        358742 2021-03-22  1530.53  1510.10  1530.54   \n",
       "358743      358743        358743 2021-03-23  1533.00  1533.00  1533.00   \n",
       "358744      358744        358744 2021-03-24  1512.42  1512.45  1512.45   \n",
       "358745      358745        358745 2021-03-25  1496.00  1492.90  1496.00   \n",
       "\n",
       "            Low       Volume  Change  Symbol  \n",
       "0          0.91  535820000.0  0.0870    AAPL  \n",
       "1          0.90  511730000.0 -0.0800    AAPL  \n",
       "2          0.92  778320000.0  0.0109    AAPL  \n",
       "3          0.85  767980000.0 -0.0860    AAPL  \n",
       "4          0.85  460730000.0  0.0471    AAPL  \n",
       "...         ...          ...     ...     ...  \n",
       "358741  1502.53      22010.0  0.0225  DHR_pa  \n",
       "358742  1510.10        960.0  0.0094  DHR_pa  \n",
       "358743  1533.00       3480.0  0.0016  DHR_pa  \n",
       "358744  1512.42       1230.0 -0.0134  DHR_pa  \n",
       "358745  1492.90        650.0 -0.0109  DHR_pa  \n",
       "\n",
       "[358746 rows x 10 columns]"
      ]
     },
     "execution_count": 13,
     "metadata": {},
     "output_type": "execute_result"
    }
   ],
   "source": [
    "# 미국상장기업 100대 기업의 historical price\n",
    "real_df "
   ]
  },
  {
   "cell_type": "code",
   "execution_count": 14,
   "metadata": {},
   "outputs": [],
   "source": [
    "# 원데이터의 Date 컬럼을 Date 형으로 변환"
   ]
  },
  {
   "cell_type": "code",
   "execution_count": 15,
   "metadata": {},
   "outputs": [
    {
     "name": "stdout",
     "output_type": "stream",
     "text": [
      "<class 'pandas.core.frame.DataFrame'>\n",
      "RangeIndex: 358746 entries, 0 to 358745\n",
      "Data columns (total 10 columns):\n",
      " #   Column        Non-Null Count   Dtype         \n",
      "---  ------        --------------   -----         \n",
      " 0   Unnamed: 0    358746 non-null  int64         \n",
      " 1   Unnamed: 0.1  358746 non-null  int64         \n",
      " 2   Date          358746 non-null  datetime64[ns]\n",
      " 3   Close         358746 non-null  float64       \n",
      " 4   Open          358746 non-null  float64       \n",
      " 5   High          358746 non-null  float64       \n",
      " 6   Low           358746 non-null  float64       \n",
      " 7   Volume        358746 non-null  float64       \n",
      " 8   Change        358746 non-null  float64       \n",
      " 9   Symbol        358746 non-null  object        \n",
      "dtypes: datetime64[ns](1), float64(6), int64(2), object(1)\n",
      "memory usage: 27.4+ MB\n"
     ]
    }
   ],
   "source": [
    "real_df['Date'] = pd.to_datetime(real_df['Date'], format='%Y-%m-%d')\n",
    "real_df.info()"
   ]
  },
  {
   "cell_type": "code",
   "execution_count": null,
   "metadata": {},
   "outputs": [],
   "source": [
    "#test = start_date+timedelta(days=-1)\n",
    "#test"
   ]
  },
  {
   "cell_type": "code",
   "execution_count": null,
   "metadata": {},
   "outputs": [],
   "source": [
    "#real_df.loc[425, \"Date\"]"
   ]
  },
  {
   "cell_type": "code",
   "execution_count": null,
   "metadata": {},
   "outputs": [],
   "source": [
    "# 리스트에서 심볼을 을 출력하는 코딩 테스트"
   ]
  },
  {
   "cell_type": "code",
   "execution_count": 16,
   "metadata": {},
   "outputs": [
    {
     "data": {
      "text/plain": [
       "'AVGO'"
      ]
     },
     "execution_count": 16,
     "metadata": {},
     "output_type": "execute_result"
    }
   ],
   "source": [
    "symbol = real_df.groupby('Symbol').size()\n",
    "symbol = pd.DataFrame(symbol).reset_index()\n",
    "symbol.loc[10, \"Symbol\"]"
   ]
  },
  {
   "cell_type": "code",
   "execution_count": 13,
   "metadata": {},
   "outputs": [],
   "source": [
    "# 전쟁ID 0과 전쟁ID 1 사이의 특정 종목의 historical price 추출하는 코드\n",
    "# 출력결과 index 0 row 값이 전쟁ID 0번을 전쟁발발시점으로 간주\n",
    "# 전쟁ID 0번의 'Unnamed: 0' 번의 값으로 이후 코딩에서 직전 5일, 이후2일에 대한 값 탐색"
   ]
  },
  {
   "cell_type": "code",
   "execution_count": 50,
   "metadata": {},
   "outputs": [
    {
     "data": {
      "text/plain": [
       "(100, 28)"
      ]
     },
     "execution_count": 50,
     "metadata": {},
     "output_type": "execute_result"
    }
   ],
   "source": [
    "    s_i=0\n",
    "    \n",
    "    symbol = real_df.groupby('Symbol').size()\n",
    "    symbol = pd.DataFrame(symbol).reset_index()\n",
    "    ticker = symbol.loc[s_i, \"Symbol\"]\n",
    "    \n",
    "    len(symbol), len(ls_war)"
   ]
  },
  {
   "cell_type": "code",
   "execution_count": 109,
   "metadata": {},
   "outputs": [
    {
     "ename": "KeyError",
     "evalue": "0",
     "output_type": "error",
     "traceback": [
      "\u001b[1;31m---------------------------------------------------------------------------\u001b[0m",
      "\u001b[1;31mValueError\u001b[0m                                Traceback (most recent call last)",
      "\u001b[1;32mc:\\users\\metahong\\anaconda3\\envs\\fc17\\lib\\site-packages\\pandas\\core\\indexes\\range.py\u001b[0m in \u001b[0;36mget_loc\u001b[1;34m(self, key, method, tolerance)\u001b[0m\n\u001b[0;32m    350\u001b[0m                 \u001b[1;32mtry\u001b[0m\u001b[1;33m:\u001b[0m\u001b[1;33m\u001b[0m\u001b[1;33m\u001b[0m\u001b[0m\n\u001b[1;32m--> 351\u001b[1;33m                     \u001b[1;32mreturn\u001b[0m \u001b[0mself\u001b[0m\u001b[1;33m.\u001b[0m\u001b[0m_range\u001b[0m\u001b[1;33m.\u001b[0m\u001b[0mindex\u001b[0m\u001b[1;33m(\u001b[0m\u001b[0mnew_key\u001b[0m\u001b[1;33m)\u001b[0m\u001b[1;33m\u001b[0m\u001b[1;33m\u001b[0m\u001b[0m\n\u001b[0m\u001b[0;32m    352\u001b[0m                 \u001b[1;32mexcept\u001b[0m \u001b[0mValueError\u001b[0m \u001b[1;32mas\u001b[0m \u001b[0merr\u001b[0m\u001b[1;33m:\u001b[0m\u001b[1;33m\u001b[0m\u001b[1;33m\u001b[0m\u001b[0m\n",
      "\u001b[1;31mValueError\u001b[0m: 0 is not in range",
      "\nThe above exception was the direct cause of the following exception:\n",
      "\u001b[1;31mKeyError\u001b[0m                                  Traceback (most recent call last)",
      "\u001b[1;32m<ipython-input-109-6881e21167e8>\u001b[0m in \u001b[0;36m<module>\u001b[1;34m\u001b[0m\n\u001b[0;32m     22\u001b[0m \u001b[1;33m\u001b[0m\u001b[0m\n\u001b[0;32m     23\u001b[0m     \u001b[0mtest2\u001b[0m \u001b[1;33m=\u001b[0m \u001b[0mtest1\u001b[0m\u001b[1;33m.\u001b[0m\u001b[0mloc\u001b[0m\u001b[1;33m[\u001b[0m\u001b[0ma\u001b[0m \u001b[1;33m&\u001b[0m \u001b[0mb\u001b[0m\u001b[1;33m]\u001b[0m\u001b[1;33m.\u001b[0m\u001b[0mreset_index\u001b[0m\u001b[1;33m(\u001b[0m\u001b[1;33m)\u001b[0m\u001b[1;33m\u001b[0m\u001b[1;33m\u001b[0m\u001b[0m\n\u001b[1;32m---> 24\u001b[1;33m     \u001b[0mnum\u001b[0m \u001b[1;33m=\u001b[0m \u001b[0mtest2\u001b[0m\u001b[1;33m[\u001b[0m\u001b[1;34m'index'\u001b[0m\u001b[1;33m]\u001b[0m\u001b[1;33m.\u001b[0m\u001b[0mloc\u001b[0m\u001b[1;33m[\u001b[0m\u001b[1;36m0\u001b[0m\u001b[1;33m]\u001b[0m\u001b[1;33m\u001b[0m\u001b[1;33m\u001b[0m\u001b[0m\n\u001b[0m",
      "\u001b[1;32mc:\\users\\metahong\\anaconda3\\envs\\fc17\\lib\\site-packages\\pandas\\core\\indexing.py\u001b[0m in \u001b[0;36m__getitem__\u001b[1;34m(self, key)\u001b[0m\n\u001b[0;32m    893\u001b[0m \u001b[1;33m\u001b[0m\u001b[0m\n\u001b[0;32m    894\u001b[0m             \u001b[0mmaybe_callable\u001b[0m \u001b[1;33m=\u001b[0m \u001b[0mcom\u001b[0m\u001b[1;33m.\u001b[0m\u001b[0mapply_if_callable\u001b[0m\u001b[1;33m(\u001b[0m\u001b[0mkey\u001b[0m\u001b[1;33m,\u001b[0m \u001b[0mself\u001b[0m\u001b[1;33m.\u001b[0m\u001b[0mobj\u001b[0m\u001b[1;33m)\u001b[0m\u001b[1;33m\u001b[0m\u001b[1;33m\u001b[0m\u001b[0m\n\u001b[1;32m--> 895\u001b[1;33m             \u001b[1;32mreturn\u001b[0m \u001b[0mself\u001b[0m\u001b[1;33m.\u001b[0m\u001b[0m_getitem_axis\u001b[0m\u001b[1;33m(\u001b[0m\u001b[0mmaybe_callable\u001b[0m\u001b[1;33m,\u001b[0m \u001b[0maxis\u001b[0m\u001b[1;33m=\u001b[0m\u001b[0maxis\u001b[0m\u001b[1;33m)\u001b[0m\u001b[1;33m\u001b[0m\u001b[1;33m\u001b[0m\u001b[0m\n\u001b[0m\u001b[0;32m    896\u001b[0m \u001b[1;33m\u001b[0m\u001b[0m\n\u001b[0;32m    897\u001b[0m     \u001b[1;32mdef\u001b[0m \u001b[0m_is_scalar_access\u001b[0m\u001b[1;33m(\u001b[0m\u001b[0mself\u001b[0m\u001b[1;33m,\u001b[0m \u001b[0mkey\u001b[0m\u001b[1;33m:\u001b[0m \u001b[0mTuple\u001b[0m\u001b[1;33m)\u001b[0m\u001b[1;33m:\u001b[0m\u001b[1;33m\u001b[0m\u001b[1;33m\u001b[0m\u001b[0m\n",
      "\u001b[1;32mc:\\users\\metahong\\anaconda3\\envs\\fc17\\lib\\site-packages\\pandas\\core\\indexing.py\u001b[0m in \u001b[0;36m_getitem_axis\u001b[1;34m(self, key, axis)\u001b[0m\n\u001b[0;32m   1122\u001b[0m         \u001b[1;31m# fall thru to straight lookup\u001b[0m\u001b[1;33m\u001b[0m\u001b[1;33m\u001b[0m\u001b[1;33m\u001b[0m\u001b[0m\n\u001b[0;32m   1123\u001b[0m         \u001b[0mself\u001b[0m\u001b[1;33m.\u001b[0m\u001b[0m_validate_key\u001b[0m\u001b[1;33m(\u001b[0m\u001b[0mkey\u001b[0m\u001b[1;33m,\u001b[0m \u001b[0maxis\u001b[0m\u001b[1;33m)\u001b[0m\u001b[1;33m\u001b[0m\u001b[1;33m\u001b[0m\u001b[0m\n\u001b[1;32m-> 1124\u001b[1;33m         \u001b[1;32mreturn\u001b[0m \u001b[0mself\u001b[0m\u001b[1;33m.\u001b[0m\u001b[0m_get_label\u001b[0m\u001b[1;33m(\u001b[0m\u001b[0mkey\u001b[0m\u001b[1;33m,\u001b[0m \u001b[0maxis\u001b[0m\u001b[1;33m=\u001b[0m\u001b[0maxis\u001b[0m\u001b[1;33m)\u001b[0m\u001b[1;33m\u001b[0m\u001b[1;33m\u001b[0m\u001b[0m\n\u001b[0m\u001b[0;32m   1125\u001b[0m \u001b[1;33m\u001b[0m\u001b[0m\n\u001b[0;32m   1126\u001b[0m     \u001b[1;32mdef\u001b[0m \u001b[0m_get_slice_axis\u001b[0m\u001b[1;33m(\u001b[0m\u001b[0mself\u001b[0m\u001b[1;33m,\u001b[0m \u001b[0mslice_obj\u001b[0m\u001b[1;33m:\u001b[0m \u001b[0mslice\u001b[0m\u001b[1;33m,\u001b[0m \u001b[0maxis\u001b[0m\u001b[1;33m:\u001b[0m \u001b[0mint\u001b[0m\u001b[1;33m)\u001b[0m\u001b[1;33m:\u001b[0m\u001b[1;33m\u001b[0m\u001b[1;33m\u001b[0m\u001b[0m\n",
      "\u001b[1;32mc:\\users\\metahong\\anaconda3\\envs\\fc17\\lib\\site-packages\\pandas\\core\\indexing.py\u001b[0m in \u001b[0;36m_get_label\u001b[1;34m(self, label, axis)\u001b[0m\n\u001b[0;32m   1071\u001b[0m     \u001b[1;32mdef\u001b[0m \u001b[0m_get_label\u001b[0m\u001b[1;33m(\u001b[0m\u001b[0mself\u001b[0m\u001b[1;33m,\u001b[0m \u001b[0mlabel\u001b[0m\u001b[1;33m,\u001b[0m \u001b[0maxis\u001b[0m\u001b[1;33m:\u001b[0m \u001b[0mint\u001b[0m\u001b[1;33m)\u001b[0m\u001b[1;33m:\u001b[0m\u001b[1;33m\u001b[0m\u001b[1;33m\u001b[0m\u001b[0m\n\u001b[0;32m   1072\u001b[0m         \u001b[1;31m# GH#5667 this will fail if the label is not present in the axis.\u001b[0m\u001b[1;33m\u001b[0m\u001b[1;33m\u001b[0m\u001b[1;33m\u001b[0m\u001b[0m\n\u001b[1;32m-> 1073\u001b[1;33m         \u001b[1;32mreturn\u001b[0m \u001b[0mself\u001b[0m\u001b[1;33m.\u001b[0m\u001b[0mobj\u001b[0m\u001b[1;33m.\u001b[0m\u001b[0mxs\u001b[0m\u001b[1;33m(\u001b[0m\u001b[0mlabel\u001b[0m\u001b[1;33m,\u001b[0m \u001b[0maxis\u001b[0m\u001b[1;33m=\u001b[0m\u001b[0maxis\u001b[0m\u001b[1;33m)\u001b[0m\u001b[1;33m\u001b[0m\u001b[1;33m\u001b[0m\u001b[0m\n\u001b[0m\u001b[0;32m   1074\u001b[0m \u001b[1;33m\u001b[0m\u001b[0m\n\u001b[0;32m   1075\u001b[0m     \u001b[1;32mdef\u001b[0m \u001b[0m_handle_lowerdim_multi_index_axis0\u001b[0m\u001b[1;33m(\u001b[0m\u001b[0mself\u001b[0m\u001b[1;33m,\u001b[0m \u001b[0mtup\u001b[0m\u001b[1;33m:\u001b[0m \u001b[0mTuple\u001b[0m\u001b[1;33m)\u001b[0m\u001b[1;33m:\u001b[0m\u001b[1;33m\u001b[0m\u001b[1;33m\u001b[0m\u001b[0m\n",
      "\u001b[1;32mc:\\users\\metahong\\anaconda3\\envs\\fc17\\lib\\site-packages\\pandas\\core\\generic.py\u001b[0m in \u001b[0;36mxs\u001b[1;34m(self, key, axis, level, drop_level)\u001b[0m\n\u001b[0;32m   3737\u001b[0m                 \u001b[1;32mraise\u001b[0m \u001b[0mTypeError\u001b[0m\u001b[1;33m(\u001b[0m\u001b[1;34mf\"Expected label or tuple of labels, got {key}\"\u001b[0m\u001b[1;33m)\u001b[0m \u001b[1;32mfrom\u001b[0m \u001b[0me\u001b[0m\u001b[1;33m\u001b[0m\u001b[1;33m\u001b[0m\u001b[0m\n\u001b[0;32m   3738\u001b[0m         \u001b[1;32melse\u001b[0m\u001b[1;33m:\u001b[0m\u001b[1;33m\u001b[0m\u001b[1;33m\u001b[0m\u001b[0m\n\u001b[1;32m-> 3739\u001b[1;33m             \u001b[0mloc\u001b[0m \u001b[1;33m=\u001b[0m \u001b[0mindex\u001b[0m\u001b[1;33m.\u001b[0m\u001b[0mget_loc\u001b[0m\u001b[1;33m(\u001b[0m\u001b[0mkey\u001b[0m\u001b[1;33m)\u001b[0m\u001b[1;33m\u001b[0m\u001b[1;33m\u001b[0m\u001b[0m\n\u001b[0m\u001b[0;32m   3740\u001b[0m \u001b[1;33m\u001b[0m\u001b[0m\n\u001b[0;32m   3741\u001b[0m             \u001b[1;32mif\u001b[0m \u001b[0misinstance\u001b[0m\u001b[1;33m(\u001b[0m\u001b[0mloc\u001b[0m\u001b[1;33m,\u001b[0m \u001b[0mnp\u001b[0m\u001b[1;33m.\u001b[0m\u001b[0mndarray\u001b[0m\u001b[1;33m)\u001b[0m\u001b[1;33m:\u001b[0m\u001b[1;33m\u001b[0m\u001b[1;33m\u001b[0m\u001b[0m\n",
      "\u001b[1;32mc:\\users\\metahong\\anaconda3\\envs\\fc17\\lib\\site-packages\\pandas\\core\\indexes\\range.py\u001b[0m in \u001b[0;36mget_loc\u001b[1;34m(self, key, method, tolerance)\u001b[0m\n\u001b[0;32m    351\u001b[0m                     \u001b[1;32mreturn\u001b[0m \u001b[0mself\u001b[0m\u001b[1;33m.\u001b[0m\u001b[0m_range\u001b[0m\u001b[1;33m.\u001b[0m\u001b[0mindex\u001b[0m\u001b[1;33m(\u001b[0m\u001b[0mnew_key\u001b[0m\u001b[1;33m)\u001b[0m\u001b[1;33m\u001b[0m\u001b[1;33m\u001b[0m\u001b[0m\n\u001b[0;32m    352\u001b[0m                 \u001b[1;32mexcept\u001b[0m \u001b[0mValueError\u001b[0m \u001b[1;32mas\u001b[0m \u001b[0merr\u001b[0m\u001b[1;33m:\u001b[0m\u001b[1;33m\u001b[0m\u001b[1;33m\u001b[0m\u001b[0m\n\u001b[1;32m--> 353\u001b[1;33m                     \u001b[1;32mraise\u001b[0m \u001b[0mKeyError\u001b[0m\u001b[1;33m(\u001b[0m\u001b[0mkey\u001b[0m\u001b[1;33m)\u001b[0m \u001b[1;32mfrom\u001b[0m \u001b[0merr\u001b[0m\u001b[1;33m\u001b[0m\u001b[1;33m\u001b[0m\u001b[0m\n\u001b[0m\u001b[0;32m    354\u001b[0m             \u001b[1;32mraise\u001b[0m \u001b[0mKeyError\u001b[0m\u001b[1;33m(\u001b[0m\u001b[0mkey\u001b[0m\u001b[1;33m)\u001b[0m\u001b[1;33m\u001b[0m\u001b[1;33m\u001b[0m\u001b[0m\n\u001b[0;32m    355\u001b[0m         \u001b[1;32mreturn\u001b[0m \u001b[0msuper\u001b[0m\u001b[1;33m(\u001b[0m\u001b[1;33m)\u001b[0m\u001b[1;33m.\u001b[0m\u001b[0mget_loc\u001b[0m\u001b[1;33m(\u001b[0m\u001b[0mkey\u001b[0m\u001b[1;33m,\u001b[0m \u001b[0mmethod\u001b[0m\u001b[1;33m=\u001b[0m\u001b[0mmethod\u001b[0m\u001b[1;33m,\u001b[0m \u001b[0mtolerance\u001b[0m\u001b[1;33m=\u001b[0m\u001b[0mtolerance\u001b[0m\u001b[1;33m)\u001b[0m\u001b[1;33m\u001b[0m\u001b[1;33m\u001b[0m\u001b[0m\n",
      "\u001b[1;31mKeyError\u001b[0m: 0"
     ]
    }
   ],
   "source": [
    "index=0 # 전쟁ID 0~26\n",
    "ls_1=len(ls_war)\n",
    "\n",
    "symbol = real_df.groupby('Symbol').size()\n",
    "symbol = pd.DataFrame(symbol).reset_index()\n",
    "ls_2=len(symbol)\n",
    "\n",
    "dfbysymbol = pd.DataFrame()\n",
    "\n",
    "for s_i in range(0, ls_2):\n",
    "    \n",
    "    # 100대 기업의 symbol list\n",
    "    ticker = symbol.loc[s_i, \"Symbol\"]\n",
    "\n",
    "    start_date = ls_war.loc[index,\"발발시점\"]\n",
    "    and_date = ls_war.loc[index+1,\"발발시점\"]\n",
    "    test1 = real_df[real_df['Symbol']==ticker]\n",
    "\n",
    "    # 조건설정\n",
    "    a = test1['Date']>=start_date\n",
    "    b = test1['Date']<and_date\n",
    "    \n",
    "    test2 = test1.loc[a & b].reset_index()\n",
    "    num = test2['index'].loc[0]"
   ]
  },
  {
   "cell_type": "code",
   "execution_count": 106,
   "metadata": {},
   "outputs": [
    {
     "data": {
      "text/html": [
       "<div>\n",
       "<style scoped>\n",
       "    .dataframe tbody tr th:only-of-type {\n",
       "        vertical-align: middle;\n",
       "    }\n",
       "\n",
       "    .dataframe tbody tr th {\n",
       "        vertical-align: top;\n",
       "    }\n",
       "\n",
       "    .dataframe thead th {\n",
       "        text-align: right;\n",
       "    }\n",
       "</style>\n",
       "<table border=\"1\" class=\"dataframe\">\n",
       "  <thead>\n",
       "    <tr style=\"text-align: right;\">\n",
       "      <th></th>\n",
       "      <th>index</th>\n",
       "      <th>Unnamed: 0</th>\n",
       "      <th>Unnamed: 0.1</th>\n",
       "      <th>Date</th>\n",
       "      <th>Close</th>\n",
       "      <th>Open</th>\n",
       "      <th>High</th>\n",
       "      <th>Low</th>\n",
       "      <th>Volume</th>\n",
       "      <th>Change</th>\n",
       "      <th>Symbol</th>\n",
       "    </tr>\n",
       "  </thead>\n",
       "  <tbody>\n",
       "    <tr>\n",
       "      <th>0</th>\n",
       "      <td>182723</td>\n",
       "      <td>182723</td>\n",
       "      <td>182723</td>\n",
       "      <td>2001-09-17</td>\n",
       "      <td>40.15</td>\n",
       "      <td>41.24</td>\n",
       "      <td>41.45</td>\n",
       "      <td>39.77</td>\n",
       "      <td>16700000.0</td>\n",
       "      <td>-0.0264</td>\n",
       "      <td>XOM</td>\n",
       "    </tr>\n",
       "    <tr>\n",
       "      <th>1</th>\n",
       "      <td>182724</td>\n",
       "      <td>182724</td>\n",
       "      <td>182724</td>\n",
       "      <td>2001-09-18</td>\n",
       "      <td>39.48</td>\n",
       "      <td>40.15</td>\n",
       "      <td>40.25</td>\n",
       "      <td>39.02</td>\n",
       "      <td>10090000.0</td>\n",
       "      <td>-0.0167</td>\n",
       "      <td>XOM</td>\n",
       "    </tr>\n",
       "    <tr>\n",
       "      <th>2</th>\n",
       "      <td>182725</td>\n",
       "      <td>182725</td>\n",
       "      <td>182725</td>\n",
       "      <td>2001-09-19</td>\n",
       "      <td>38.41</td>\n",
       "      <td>39.48</td>\n",
       "      <td>39.49</td>\n",
       "      <td>36.13</td>\n",
       "      <td>15400000.0</td>\n",
       "      <td>-0.0271</td>\n",
       "      <td>XOM</td>\n",
       "    </tr>\n",
       "    <tr>\n",
       "      <th>3</th>\n",
       "      <td>182726</td>\n",
       "      <td>182726</td>\n",
       "      <td>182726</td>\n",
       "      <td>2001-09-20</td>\n",
       "      <td>37.02</td>\n",
       "      <td>37.45</td>\n",
       "      <td>37.75</td>\n",
       "      <td>36.80</td>\n",
       "      <td>12960000.0</td>\n",
       "      <td>-0.0362</td>\n",
       "      <td>XOM</td>\n",
       "    </tr>\n",
       "    <tr>\n",
       "      <th>4</th>\n",
       "      <td>182727</td>\n",
       "      <td>182727</td>\n",
       "      <td>182727</td>\n",
       "      <td>2001-09-21</td>\n",
       "      <td>35.83</td>\n",
       "      <td>35.50</td>\n",
       "      <td>37.05</td>\n",
       "      <td>35.01</td>\n",
       "      <td>21350000.0</td>\n",
       "      <td>-0.0321</td>\n",
       "      <td>XOM</td>\n",
       "    </tr>\n",
       "    <tr>\n",
       "      <th>...</th>\n",
       "      <td>...</td>\n",
       "      <td>...</td>\n",
       "      <td>...</td>\n",
       "      <td>...</td>\n",
       "      <td>...</td>\n",
       "      <td>...</td>\n",
       "      <td>...</td>\n",
       "      <td>...</td>\n",
       "      <td>...</td>\n",
       "      <td>...</td>\n",
       "      <td>...</td>\n",
       "    </tr>\n",
       "    <tr>\n",
       "      <th>78</th>\n",
       "      <td>182801</td>\n",
       "      <td>182801</td>\n",
       "      <td>182801</td>\n",
       "      <td>2002-01-08</td>\n",
       "      <td>39.70</td>\n",
       "      <td>39.90</td>\n",
       "      <td>39.99</td>\n",
       "      <td>39.50</td>\n",
       "      <td>8280000.0</td>\n",
       "      <td>0.0013</td>\n",
       "      <td>XOM</td>\n",
       "    </tr>\n",
       "    <tr>\n",
       "      <th>79</th>\n",
       "      <td>182802</td>\n",
       "      <td>182802</td>\n",
       "      <td>182802</td>\n",
       "      <td>2002-01-09</td>\n",
       "      <td>39.24</td>\n",
       "      <td>39.60</td>\n",
       "      <td>39.97</td>\n",
       "      <td>39.10</td>\n",
       "      <td>10040000.0</td>\n",
       "      <td>-0.0116</td>\n",
       "      <td>XOM</td>\n",
       "    </tr>\n",
       "    <tr>\n",
       "      <th>80</th>\n",
       "      <td>182803</td>\n",
       "      <td>182803</td>\n",
       "      <td>182803</td>\n",
       "      <td>2002-01-10</td>\n",
       "      <td>39.39</td>\n",
       "      <td>39.24</td>\n",
       "      <td>39.77</td>\n",
       "      <td>39.06</td>\n",
       "      <td>7850000.0</td>\n",
       "      <td>0.0038</td>\n",
       "      <td>XOM</td>\n",
       "    </tr>\n",
       "    <tr>\n",
       "      <th>81</th>\n",
       "      <td>182804</td>\n",
       "      <td>182804</td>\n",
       "      <td>182804</td>\n",
       "      <td>2002-01-11</td>\n",
       "      <td>38.50</td>\n",
       "      <td>39.39</td>\n",
       "      <td>39.60</td>\n",
       "      <td>38.45</td>\n",
       "      <td>9460000.0</td>\n",
       "      <td>-0.0226</td>\n",
       "      <td>XOM</td>\n",
       "    </tr>\n",
       "    <tr>\n",
       "      <th>82</th>\n",
       "      <td>182805</td>\n",
       "      <td>182805</td>\n",
       "      <td>182805</td>\n",
       "      <td>2002-01-14</td>\n",
       "      <td>38.64</td>\n",
       "      <td>38.60</td>\n",
       "      <td>39.20</td>\n",
       "      <td>38.50</td>\n",
       "      <td>10140000.0</td>\n",
       "      <td>0.0036</td>\n",
       "      <td>XOM</td>\n",
       "    </tr>\n",
       "  </tbody>\n",
       "</table>\n",
       "<p>83 rows × 11 columns</p>\n",
       "</div>"
      ],
      "text/plain": [
       "     index  Unnamed: 0  Unnamed: 0.1       Date  Close   Open   High    Low  \\\n",
       "0   182723      182723        182723 2001-09-17  40.15  41.24  41.45  39.77   \n",
       "1   182724      182724        182724 2001-09-18  39.48  40.15  40.25  39.02   \n",
       "2   182725      182725        182725 2001-09-19  38.41  39.48  39.49  36.13   \n",
       "3   182726      182726        182726 2001-09-20  37.02  37.45  37.75  36.80   \n",
       "4   182727      182727        182727 2001-09-21  35.83  35.50  37.05  35.01   \n",
       "..     ...         ...           ...        ...    ...    ...    ...    ...   \n",
       "78  182801      182801        182801 2002-01-08  39.70  39.90  39.99  39.50   \n",
       "79  182802      182802        182802 2002-01-09  39.24  39.60  39.97  39.10   \n",
       "80  182803      182803        182803 2002-01-10  39.39  39.24  39.77  39.06   \n",
       "81  182804      182804        182804 2002-01-11  38.50  39.39  39.60  38.45   \n",
       "82  182805      182805        182805 2002-01-14  38.64  38.60  39.20  38.50   \n",
       "\n",
       "        Volume  Change Symbol  \n",
       "0   16700000.0 -0.0264    XOM  \n",
       "1   10090000.0 -0.0167    XOM  \n",
       "2   15400000.0 -0.0271    XOM  \n",
       "3   12960000.0 -0.0362    XOM  \n",
       "4   21350000.0 -0.0321    XOM  \n",
       "..         ...     ...    ...  \n",
       "78   8280000.0  0.0013    XOM  \n",
       "79  10040000.0 -0.0116    XOM  \n",
       "80   7850000.0  0.0038    XOM  \n",
       "81   9460000.0 -0.0226    XOM  \n",
       "82  10140000.0  0.0036    XOM  \n",
       "\n",
       "[83 rows x 11 columns]"
      ]
     },
     "execution_count": 106,
     "metadata": {},
     "output_type": "execute_result"
    }
   ],
   "source": [
    "test2"
   ]
  },
  {
   "cell_type": "code",
   "execution_count": 107,
   "metadata": {},
   "outputs": [
    {
     "data": {
      "text/plain": [
       "182723"
      ]
     },
     "execution_count": 107,
     "metadata": {},
     "output_type": "execute_result"
    }
   ],
   "source": [
    "test2['index'].loc[0]"
   ]
  },
  {
   "cell_type": "code",
   "execution_count": 93,
   "metadata": {},
   "outputs": [
    {
     "ename": "IndexError",
     "evalue": "single positional indexer is out-of-bounds",
     "output_type": "error",
     "traceback": [
      "\u001b[1;31m---------------------------------------------------------------------------\u001b[0m",
      "\u001b[1;31mIndexError\u001b[0m                                Traceback (most recent call last)",
      "\u001b[1;32m<ipython-input-93-0cfde2530758>\u001b[0m in \u001b[0;36m<module>\u001b[1;34m\u001b[0m\n\u001b[0;32m     23\u001b[0m     \u001b[0mtest2\u001b[0m \u001b[1;33m=\u001b[0m \u001b[0mtest1\u001b[0m\u001b[1;33m.\u001b[0m\u001b[0mloc\u001b[0m\u001b[1;33m[\u001b[0m\u001b[0ma\u001b[0m \u001b[1;33m&\u001b[0m \u001b[0mb\u001b[0m\u001b[1;33m]\u001b[0m\u001b[1;33m.\u001b[0m\u001b[0mreset_index\u001b[0m\u001b[1;33m(\u001b[0m\u001b[1;33m)\u001b[0m\u001b[1;33m\u001b[0m\u001b[1;33m\u001b[0m\u001b[0m\n\u001b[0;32m     24\u001b[0m     \u001b[1;31m#test2.loc[0, \"Date\"] # 날짜확인\u001b[0m\u001b[1;33m\u001b[0m\u001b[1;33m\u001b[0m\u001b[1;33m\u001b[0m\u001b[0m\n\u001b[1;32m---> 25\u001b[1;33m     \u001b[0mnum\u001b[0m \u001b[1;33m=\u001b[0m \u001b[0mtest2\u001b[0m\u001b[1;33m[\u001b[0m\u001b[1;34m\"index\"\u001b[0m\u001b[1;33m]\u001b[0m\u001b[1;33m.\u001b[0m\u001b[0miloc\u001b[0m\u001b[1;33m[\u001b[0m\u001b[1;36m0\u001b[0m\u001b[1;33m]\u001b[0m\u001b[1;33m\u001b[0m\u001b[1;33m\u001b[0m\u001b[0m\n\u001b[0m\u001b[0;32m     26\u001b[0m \u001b[1;33m\u001b[0m\u001b[0m\n\u001b[0;32m     27\u001b[0m \u001b[1;33m\u001b[0m\u001b[0m\n",
      "\u001b[1;32mc:\\users\\metahong\\anaconda3\\envs\\fc17\\lib\\site-packages\\pandas\\core\\indexing.py\u001b[0m in \u001b[0;36m__getitem__\u001b[1;34m(self, key)\u001b[0m\n\u001b[0;32m    893\u001b[0m \u001b[1;33m\u001b[0m\u001b[0m\n\u001b[0;32m    894\u001b[0m             \u001b[0mmaybe_callable\u001b[0m \u001b[1;33m=\u001b[0m \u001b[0mcom\u001b[0m\u001b[1;33m.\u001b[0m\u001b[0mapply_if_callable\u001b[0m\u001b[1;33m(\u001b[0m\u001b[0mkey\u001b[0m\u001b[1;33m,\u001b[0m \u001b[0mself\u001b[0m\u001b[1;33m.\u001b[0m\u001b[0mobj\u001b[0m\u001b[1;33m)\u001b[0m\u001b[1;33m\u001b[0m\u001b[1;33m\u001b[0m\u001b[0m\n\u001b[1;32m--> 895\u001b[1;33m             \u001b[1;32mreturn\u001b[0m \u001b[0mself\u001b[0m\u001b[1;33m.\u001b[0m\u001b[0m_getitem_axis\u001b[0m\u001b[1;33m(\u001b[0m\u001b[0mmaybe_callable\u001b[0m\u001b[1;33m,\u001b[0m \u001b[0maxis\u001b[0m\u001b[1;33m=\u001b[0m\u001b[0maxis\u001b[0m\u001b[1;33m)\u001b[0m\u001b[1;33m\u001b[0m\u001b[1;33m\u001b[0m\u001b[0m\n\u001b[0m\u001b[0;32m    896\u001b[0m \u001b[1;33m\u001b[0m\u001b[0m\n\u001b[0;32m    897\u001b[0m     \u001b[1;32mdef\u001b[0m \u001b[0m_is_scalar_access\u001b[0m\u001b[1;33m(\u001b[0m\u001b[0mself\u001b[0m\u001b[1;33m,\u001b[0m \u001b[0mkey\u001b[0m\u001b[1;33m:\u001b[0m \u001b[0mTuple\u001b[0m\u001b[1;33m)\u001b[0m\u001b[1;33m:\u001b[0m\u001b[1;33m\u001b[0m\u001b[1;33m\u001b[0m\u001b[0m\n",
      "\u001b[1;32mc:\\users\\metahong\\anaconda3\\envs\\fc17\\lib\\site-packages\\pandas\\core\\indexing.py\u001b[0m in \u001b[0;36m_getitem_axis\u001b[1;34m(self, key, axis)\u001b[0m\n\u001b[0;32m   1499\u001b[0m \u001b[1;33m\u001b[0m\u001b[0m\n\u001b[0;32m   1500\u001b[0m             \u001b[1;31m# validate the location\u001b[0m\u001b[1;33m\u001b[0m\u001b[1;33m\u001b[0m\u001b[1;33m\u001b[0m\u001b[0m\n\u001b[1;32m-> 1501\u001b[1;33m             \u001b[0mself\u001b[0m\u001b[1;33m.\u001b[0m\u001b[0m_validate_integer\u001b[0m\u001b[1;33m(\u001b[0m\u001b[0mkey\u001b[0m\u001b[1;33m,\u001b[0m \u001b[0maxis\u001b[0m\u001b[1;33m)\u001b[0m\u001b[1;33m\u001b[0m\u001b[1;33m\u001b[0m\u001b[0m\n\u001b[0m\u001b[0;32m   1502\u001b[0m \u001b[1;33m\u001b[0m\u001b[0m\n\u001b[0;32m   1503\u001b[0m             \u001b[1;32mreturn\u001b[0m \u001b[0mself\u001b[0m\u001b[1;33m.\u001b[0m\u001b[0mobj\u001b[0m\u001b[1;33m.\u001b[0m\u001b[0m_ixs\u001b[0m\u001b[1;33m(\u001b[0m\u001b[0mkey\u001b[0m\u001b[1;33m,\u001b[0m \u001b[0maxis\u001b[0m\u001b[1;33m=\u001b[0m\u001b[0maxis\u001b[0m\u001b[1;33m)\u001b[0m\u001b[1;33m\u001b[0m\u001b[1;33m\u001b[0m\u001b[0m\n",
      "\u001b[1;32mc:\\users\\metahong\\anaconda3\\envs\\fc17\\lib\\site-packages\\pandas\\core\\indexing.py\u001b[0m in \u001b[0;36m_validate_integer\u001b[1;34m(self, key, axis)\u001b[0m\n\u001b[0;32m   1442\u001b[0m         \u001b[0mlen_axis\u001b[0m \u001b[1;33m=\u001b[0m \u001b[0mlen\u001b[0m\u001b[1;33m(\u001b[0m\u001b[0mself\u001b[0m\u001b[1;33m.\u001b[0m\u001b[0mobj\u001b[0m\u001b[1;33m.\u001b[0m\u001b[0m_get_axis\u001b[0m\u001b[1;33m(\u001b[0m\u001b[0maxis\u001b[0m\u001b[1;33m)\u001b[0m\u001b[1;33m)\u001b[0m\u001b[1;33m\u001b[0m\u001b[1;33m\u001b[0m\u001b[0m\n\u001b[0;32m   1443\u001b[0m         \u001b[1;32mif\u001b[0m \u001b[0mkey\u001b[0m \u001b[1;33m>=\u001b[0m \u001b[0mlen_axis\u001b[0m \u001b[1;32mor\u001b[0m \u001b[0mkey\u001b[0m \u001b[1;33m<\u001b[0m \u001b[1;33m-\u001b[0m\u001b[0mlen_axis\u001b[0m\u001b[1;33m:\u001b[0m\u001b[1;33m\u001b[0m\u001b[1;33m\u001b[0m\u001b[0m\n\u001b[1;32m-> 1444\u001b[1;33m             \u001b[1;32mraise\u001b[0m \u001b[0mIndexError\u001b[0m\u001b[1;33m(\u001b[0m\u001b[1;34m\"single positional indexer is out-of-bounds\"\u001b[0m\u001b[1;33m)\u001b[0m\u001b[1;33m\u001b[0m\u001b[1;33m\u001b[0m\u001b[0m\n\u001b[0m\u001b[0;32m   1445\u001b[0m \u001b[1;33m\u001b[0m\u001b[0m\n\u001b[0;32m   1446\u001b[0m     \u001b[1;31m# -------------------------------------------------------------------\u001b[0m\u001b[1;33m\u001b[0m\u001b[1;33m\u001b[0m\u001b[1;33m\u001b[0m\u001b[0m\n",
      "\u001b[1;31mIndexError\u001b[0m: single positional indexer is out-of-bounds"
     ]
    }
   ],
   "source": [
    "index=0 # 전쟁ID 0~26\n",
    "ls_1=len(ls_war)\n",
    "\n",
    "symbol = real_df.groupby('Symbol').size()\n",
    "symbol = pd.DataFrame(symbol).reset_index()\n",
    "ls_2=len(symbol)\n",
    "\n",
    "dfbysymbol = pd.DataFrame()\n",
    "\n",
    "for s_i in range(0, ls_2):\n",
    "    \n",
    "    # 100대 기업의 symbol list\n",
    "    ticker = symbol.loc[s_i, \"Symbol\"]\n",
    "\n",
    "    start_date = ls_war.loc[index,\"발발시점\"]\n",
    "    and_date = ls_war.loc[index+1,\"발발시점\"]\n",
    "    test1 = real_df[real_df['Symbol']==ticker]\n",
    "\n",
    "    # 조건설정\n",
    "    a = test1['Date']>=start_date\n",
    "    b = test1['Date']<and_date\n",
    "\n",
    "    test2 = test1.loc[a & b].reset_index()\n",
    "    #test2.loc[0, \"Date\"] # 날짜확인\n",
    "    num = test2[\"index\"].iloc[0]\n",
    "    \n",
    "   \n",
    "    new_df = pd.DataFrame(real_df.loc[num]).transpose()\n",
    "    new_df = new_df.drop([\"Unnamed: 0.1\", \"Close\", \"Open\", 'High', 'Low', 'Volume'], axis=1)\n",
    "\n",
    "    #지난 5일간 average change\n",
    "    avg_change = real_df.loc[num-5:num-1, 'Change']\n",
    "    avg_change = round(np.mean(avg_change), 3)\n",
    "    avg_change\n",
    "\n",
    "    #change index\n",
    "    Change_idx = (new_df[\"Change\"] / avg_change) * 100\n",
    "    Change_idx = round(Change_idx.astype(float),0)\n",
    "    Change_idx\n",
    "    \n",
    "    #index 절대값으로 변환\n",
    "    Abs_idx = abs(Change_idx)\n",
    "    Abs_idx = round(Abs_idx.astype(float),0)\n",
    "    \n",
    "    # 전쟁발발시점, 전쟁이름, 참전국수\n",
    "    start_date = ls_war.loc[index,\"발발시점\"]\n",
    "    war_name = ls_war.loc[index, \"갈등이름\"]\n",
    "    count_country = ls_war.loc[index, \"참전국수\"]\n",
    "    \n",
    "    # 심볼추가\n",
    "    industry = df_3[df_3[\"Symbol\"] == ticker] # ticker는 위에 정의되어 있음\n",
    "    industry = industry[\"Industry\"]\n",
    "    industry = industry.values\n",
    "    \n",
    "    # DataFrame\n",
    "    new_df[\"Change_idx\"] = Change_idx\n",
    "    new_df[\"ABS_idx\"] = Abs_idx\n",
    "    new_df[\"Avg_change\"] = avg_change\n",
    "    new_df['Start_date'] = start_date\n",
    "    new_df['War_name'] = war_name\n",
    "    new_df['Count_country'] = count_country\n",
    "    new_df['Industry'] = industry\n",
    "    globals()['df_symbol{}'.format(s_i)] = new_df\n",
    "    dfbysymbol = pd.concat([dfbysymbol, globals()['df_symbol{}'.format(s_i)]], axis=0)"
   ]
  },
  {
   "cell_type": "code",
   "execution_count": null,
   "metadata": {},
   "outputs": [],
   "source": []
  },
  {
   "cell_type": "code",
   "execution_count": null,
   "metadata": {},
   "outputs": [],
   "source": []
  },
  {
   "cell_type": "code",
   "execution_count": null,
   "metadata": {},
   "outputs": [],
   "source": []
  },
  {
   "cell_type": "code",
   "execution_count": null,
   "metadata": {},
   "outputs": [],
   "source": []
  },
  {
   "cell_type": "code",
   "execution_count": null,
   "metadata": {},
   "outputs": [],
   "source": []
  },
  {
   "cell_type": "code",
   "execution_count": null,
   "metadata": {},
   "outputs": [],
   "source": []
  },
  {
   "cell_type": "code",
   "execution_count": null,
   "metadata": {},
   "outputs": [],
   "source": []
  },
  {
   "cell_type": "code",
   "execution_count": null,
   "metadata": {},
   "outputs": [],
   "source": []
  },
  {
   "cell_type": "code",
   "execution_count": null,
   "metadata": {},
   "outputs": [],
   "source": []
  },
  {
   "cell_type": "code",
   "execution_count": null,
   "metadata": {},
   "outputs": [],
   "source": []
  },
  {
   "cell_type": "code",
   "execution_count": null,
   "metadata": {},
   "outputs": [],
   "source": []
  },
  {
   "cell_type": "code",
   "execution_count": null,
   "metadata": {},
   "outputs": [],
   "source": []
  },
  {
   "cell_type": "code",
   "execution_count": null,
   "metadata": {},
   "outputs": [],
   "source": []
  },
  {
   "cell_type": "code",
   "execution_count": null,
   "metadata": {},
   "outputs": [],
   "source": []
  },
  {
   "cell_type": "code",
   "execution_count": 64,
   "metadata": {},
   "outputs": [
    {
     "data": {
      "text/html": [
       "<div>\n",
       "<style scoped>\n",
       "    .dataframe tbody tr th:only-of-type {\n",
       "        vertical-align: middle;\n",
       "    }\n",
       "\n",
       "    .dataframe tbody tr th {\n",
       "        vertical-align: top;\n",
       "    }\n",
       "\n",
       "    .dataframe thead th {\n",
       "        text-align: right;\n",
       "    }\n",
       "</style>\n",
       "<table border=\"1\" class=\"dataframe\">\n",
       "  <thead>\n",
       "    <tr style=\"text-align: right;\">\n",
       "      <th></th>\n",
       "      <th>Unnamed: 0</th>\n",
       "      <th>Date</th>\n",
       "      <th>Change</th>\n",
       "      <th>Symbol</th>\n",
       "      <th>Change_idx</th>\n",
       "      <th>ABS_idx</th>\n",
       "      <th>Avg_change</th>\n",
       "      <th>Start_date</th>\n",
       "      <th>War_name</th>\n",
       "      <th>Count_country</th>\n",
       "      <th>Industry</th>\n",
       "    </tr>\n",
       "  </thead>\n",
       "  <tbody>\n",
       "    <tr>\n",
       "      <th>426</th>\n",
       "      <td>426</td>\n",
       "      <td>2001-09-17</td>\n",
       "      <td>-0.0323</td>\n",
       "      <td>AAPL</td>\n",
       "      <td>269.0</td>\n",
       "      <td>269.0</td>\n",
       "      <td>-0.012</td>\n",
       "      <td>2001-09-11</td>\n",
       "      <td>테러와의전쟁</td>\n",
       "      <td>48</td>\n",
       "      <td>컴퓨터, 전화 및 가전제품</td>\n",
       "    </tr>\n",
       "  </tbody>\n",
       "</table>\n",
       "</div>"
      ],
      "text/plain": [
       "    Unnamed: 0       Date  Change Symbol  Change_idx  ABS_idx  Avg_change  \\\n",
       "426        426 2001-09-17 -0.0323   AAPL       269.0    269.0      -0.012   \n",
       "\n",
       "    Start_date War_name  Count_country        Industry  \n",
       "426 2001-09-11   테러와의전쟁             48  컴퓨터, 전화 및 가전제품  "
      ]
     },
     "execution_count": 64,
     "metadata": {},
     "output_type": "execute_result"
    }
   ],
   "source": [
    "index=0 # 전쟁ID 0~26\n",
    "s_i=0 # Symbol ID 0~99\n",
    "\n",
    "\n",
    "#for s_i in range(0,100):\n",
    "symbol = real_df.groupby('Symbol').size()\n",
    "symbol = pd.DataFrame(symbol).reset_index()\n",
    "ticker = symbol.loc[s_i, \"Symbol\"]\n",
    "\n",
    "start_date = ls_war.loc[index,\"발발시점\"]\n",
    "and_date = ls_war.loc[index+1,\"발발시점\"]\n",
    "test1 = real_df[real_df['Symbol']==ticker]\n",
    "\n",
    "    # 조건설정\n",
    "a = test1['Date']>=start_date\n",
    "b = test1['Date']<and_date\n",
    "\n",
    "test2 = test1.loc[a & b].reset_index()\n",
    "    #test2.loc[0, \"Date\"] # 날짜확인\n",
    "num = test2.loc[0, \"Unnamed: 0\"] #row id 추출\n",
    "    \n",
    "   \n",
    "new_df = pd.DataFrame(real_df.loc[num]).transpose()\n",
    "new_df = new_df.drop([\"Unnamed: 0.1\", \"Close\", \"Open\", 'High', 'Low', 'Volume'], axis=1)\n",
    "\n",
    "    #지난 5일간 average change\n",
    "avg_change = real_df.loc[num-5:num-1, 'Change']\n",
    "avg_change = round(np.mean(avg_change), 3)\n",
    "avg_change\n",
    "    \n",
    "    #change index\n",
    "Change_idx = (new_df[\"Change\"] / avg_change) * 100\n",
    "Change_idx = round(Change_idx.astype(float),0)\n",
    "Change_idx\n",
    "    \n",
    "    #index 절대값으로 변환\n",
    "Abs_idx = abs(Change_idx)\n",
    "Abs_idx = round(Abs_idx.astype(float),0)\n",
    "    \n",
    "    # 전쟁발발시점, 전재이름, 참전국수\n",
    "start_date = ls_war.loc[index,\"발발시점\"]\n",
    "war_name = ls_war.loc[index, \"갈등이름\"]\n",
    "count_country = ls_war.loc[index, \"참전국수\"]\n",
    "    \n",
    "    # 심볼추가\n",
    "industry = df_3[df_3[\"Symbol\"] == ticker] # ticker는 위에 정의되어 있음\n",
    "industry = industry[\"Industry\"]\n",
    "industry = industry.values\n",
    "    \n",
    "    # Datafram\n",
    "new_df[\"Change_idx\"] = Change_idx\n",
    "new_df[\"ABS_idx\"] = Abs_idx\n",
    "new_df[\"Avg_change\"] = avg_change\n",
    "new_df['Start_date'] = start_date\n",
    "new_df['War_name'] = war_name\n",
    "new_df['Count_country'] = count_country\n",
    "new_df['Industry'] = industry\n",
    "\n",
    "new_df"
   ]
  },
  {
   "cell_type": "code",
   "execution_count": 58,
   "metadata": {},
   "outputs": [
    {
     "data": {
      "text/html": [
       "<div>\n",
       "<style scoped>\n",
       "    .dataframe tbody tr th:only-of-type {\n",
       "        vertical-align: middle;\n",
       "    }\n",
       "\n",
       "    .dataframe tbody tr th {\n",
       "        vertical-align: top;\n",
       "    }\n",
       "\n",
       "    .dataframe thead th {\n",
       "        text-align: right;\n",
       "    }\n",
       "</style>\n",
       "<table border=\"1\" class=\"dataframe\">\n",
       "  <thead>\n",
       "    <tr style=\"text-align: right;\">\n",
       "      <th></th>\n",
       "      <th>index</th>\n",
       "      <th>Unnamed: 0</th>\n",
       "      <th>Unnamed: 0.1</th>\n",
       "      <th>Date</th>\n",
       "      <th>Close</th>\n",
       "      <th>Open</th>\n",
       "      <th>High</th>\n",
       "      <th>Low</th>\n",
       "      <th>Volume</th>\n",
       "      <th>Change</th>\n",
       "      <th>Symbol</th>\n",
       "    </tr>\n",
       "  </thead>\n",
       "  <tbody>\n",
       "    <tr>\n",
       "      <th>0</th>\n",
       "      <td>426</td>\n",
       "      <td>426</td>\n",
       "      <td>426</td>\n",
       "      <td>2001-09-17</td>\n",
       "      <td>0.30</td>\n",
       "      <td>0.29</td>\n",
       "      <td>0.30</td>\n",
       "      <td>0.28</td>\n",
       "      <td>459280000.0</td>\n",
       "      <td>-0.0323</td>\n",
       "      <td>AAPL</td>\n",
       "    </tr>\n",
       "    <tr>\n",
       "      <th>1</th>\n",
       "      <td>427</td>\n",
       "      <td>427</td>\n",
       "      <td>427</td>\n",
       "      <td>2001-09-18</td>\n",
       "      <td>0.29</td>\n",
       "      <td>0.30</td>\n",
       "      <td>0.32</td>\n",
       "      <td>0.29</td>\n",
       "      <td>327590000.0</td>\n",
       "      <td>-0.0333</td>\n",
       "      <td>AAPL</td>\n",
       "    </tr>\n",
       "    <tr>\n",
       "      <th>2</th>\n",
       "      <td>428</td>\n",
       "      <td>428</td>\n",
       "      <td>428</td>\n",
       "      <td>2001-09-19</td>\n",
       "      <td>0.30</td>\n",
       "      <td>0.29</td>\n",
       "      <td>0.31</td>\n",
       "      <td>0.28</td>\n",
       "      <td>373340000.0</td>\n",
       "      <td>0.0345</td>\n",
       "      <td>AAPL</td>\n",
       "    </tr>\n",
       "    <tr>\n",
       "      <th>3</th>\n",
       "      <td>429</td>\n",
       "      <td>429</td>\n",
       "      <td>429</td>\n",
       "      <td>2001-09-20</td>\n",
       "      <td>0.28</td>\n",
       "      <td>0.29</td>\n",
       "      <td>0.30</td>\n",
       "      <td>0.28</td>\n",
       "      <td>411710000.0</td>\n",
       "      <td>-0.0667</td>\n",
       "      <td>AAPL</td>\n",
       "    </tr>\n",
       "    <tr>\n",
       "      <th>4</th>\n",
       "      <td>430</td>\n",
       "      <td>430</td>\n",
       "      <td>430</td>\n",
       "      <td>2001-09-21</td>\n",
       "      <td>0.28</td>\n",
       "      <td>0.26</td>\n",
       "      <td>0.29</td>\n",
       "      <td>0.26</td>\n",
       "      <td>570520000.0</td>\n",
       "      <td>0.0000</td>\n",
       "      <td>AAPL</td>\n",
       "    </tr>\n",
       "    <tr>\n",
       "      <th>5</th>\n",
       "      <td>431</td>\n",
       "      <td>431</td>\n",
       "      <td>431</td>\n",
       "      <td>2001-09-24</td>\n",
       "      <td>0.29</td>\n",
       "      <td>0.29</td>\n",
       "      <td>0.30</td>\n",
       "      <td>0.28</td>\n",
       "      <td>294930000.0</td>\n",
       "      <td>0.0357</td>\n",
       "      <td>AAPL</td>\n",
       "    </tr>\n",
       "    <tr>\n",
       "      <th>6</th>\n",
       "      <td>432</td>\n",
       "      <td>432</td>\n",
       "      <td>432</td>\n",
       "      <td>2001-09-25</td>\n",
       "      <td>0.28</td>\n",
       "      <td>0.29</td>\n",
       "      <td>0.29</td>\n",
       "      <td>0.27</td>\n",
       "      <td>374440000.0</td>\n",
       "      <td>-0.0345</td>\n",
       "      <td>AAPL</td>\n",
       "    </tr>\n",
       "    <tr>\n",
       "      <th>7</th>\n",
       "      <td>433</td>\n",
       "      <td>433</td>\n",
       "      <td>433</td>\n",
       "      <td>2001-09-26</td>\n",
       "      <td>0.27</td>\n",
       "      <td>0.28</td>\n",
       "      <td>0.28</td>\n",
       "      <td>0.27</td>\n",
       "      <td>493810000.0</td>\n",
       "      <td>-0.0357</td>\n",
       "      <td>AAPL</td>\n",
       "    </tr>\n",
       "    <tr>\n",
       "      <th>8</th>\n",
       "      <td>434</td>\n",
       "      <td>434</td>\n",
       "      <td>434</td>\n",
       "      <td>2001-09-27</td>\n",
       "      <td>0.28</td>\n",
       "      <td>0.27</td>\n",
       "      <td>0.28</td>\n",
       "      <td>0.27</td>\n",
       "      <td>322240000.0</td>\n",
       "      <td>0.0370</td>\n",
       "      <td>AAPL</td>\n",
       "    </tr>\n",
       "    <tr>\n",
       "      <th>9</th>\n",
       "      <td>435</td>\n",
       "      <td>435</td>\n",
       "      <td>435</td>\n",
       "      <td>2001-09-28</td>\n",
       "      <td>0.28</td>\n",
       "      <td>0.28</td>\n",
       "      <td>0.28</td>\n",
       "      <td>0.27</td>\n",
       "      <td>365130000.0</td>\n",
       "      <td>0.0000</td>\n",
       "      <td>AAPL</td>\n",
       "    </tr>\n",
       "  </tbody>\n",
       "</table>\n",
       "</div>"
      ],
      "text/plain": [
       "   index  Unnamed: 0  Unnamed: 0.1       Date  Close  Open  High   Low  \\\n",
       "0    426         426           426 2001-09-17   0.30  0.29  0.30  0.28   \n",
       "1    427         427           427 2001-09-18   0.29  0.30  0.32  0.29   \n",
       "2    428         428           428 2001-09-19   0.30  0.29  0.31  0.28   \n",
       "3    429         429           429 2001-09-20   0.28  0.29  0.30  0.28   \n",
       "4    430         430           430 2001-09-21   0.28  0.26  0.29  0.26   \n",
       "5    431         431           431 2001-09-24   0.29  0.29  0.30  0.28   \n",
       "6    432         432           432 2001-09-25   0.28  0.29  0.29  0.27   \n",
       "7    433         433           433 2001-09-26   0.27  0.28  0.28  0.27   \n",
       "8    434         434           434 2001-09-27   0.28  0.27  0.28  0.27   \n",
       "9    435         435           435 2001-09-28   0.28  0.28  0.28  0.27   \n",
       "\n",
       "        Volume  Change Symbol  \n",
       "0  459280000.0 -0.0323   AAPL  \n",
       "1  327590000.0 -0.0333   AAPL  \n",
       "2  373340000.0  0.0345   AAPL  \n",
       "3  411710000.0 -0.0667   AAPL  \n",
       "4  570520000.0  0.0000   AAPL  \n",
       "5  294930000.0  0.0357   AAPL  \n",
       "6  374440000.0 -0.0345   AAPL  \n",
       "7  493810000.0 -0.0357   AAPL  \n",
       "8  322240000.0  0.0370   AAPL  \n",
       "9  365130000.0  0.0000   AAPL  "
      ]
     },
     "execution_count": 58,
     "metadata": {},
     "output_type": "execute_result"
    }
   ],
   "source": [
    "test2.head(10)"
   ]
  },
  {
   "cell_type": "code",
   "execution_count": 59,
   "metadata": {},
   "outputs": [
    {
     "data": {
      "text/plain": [
       "426"
      ]
     },
     "execution_count": 59,
     "metadata": {},
     "output_type": "execute_result"
    }
   ],
   "source": [
    "# 전쟁발발기점에서의 'Unnamed: 0'의 값\n",
    "num"
   ]
  },
  {
   "cell_type": "code",
   "execution_count": 146,
   "metadata": {},
   "outputs": [
    {
     "data": {
      "text/html": [
       "<div>\n",
       "<style scoped>\n",
       "    .dataframe tbody tr th:only-of-type {\n",
       "        vertical-align: middle;\n",
       "    }\n",
       "\n",
       "    .dataframe tbody tr th {\n",
       "        vertical-align: top;\n",
       "    }\n",
       "\n",
       "    .dataframe thead th {\n",
       "        text-align: right;\n",
       "    }\n",
       "</style>\n",
       "<table border=\"1\" class=\"dataframe\">\n",
       "  <thead>\n",
       "    <tr style=\"text-align: right;\">\n",
       "      <th></th>\n",
       "      <th>index</th>\n",
       "      <th>Unnamed: 0</th>\n",
       "      <th>Unnamed: 0.1</th>\n",
       "      <th>Date</th>\n",
       "      <th>Close</th>\n",
       "      <th>Open</th>\n",
       "      <th>High</th>\n",
       "      <th>Low</th>\n",
       "      <th>Volume</th>\n",
       "      <th>Change</th>\n",
       "      <th>Symbol</th>\n",
       "    </tr>\n",
       "  </thead>\n",
       "  <tbody>\n",
       "    <tr>\n",
       "      <th>0</th>\n",
       "      <td>47226</td>\n",
       "      <td>47226</td>\n",
       "      <td>47226</td>\n",
       "      <td>2002-01-15</td>\n",
       "      <td>12.19</td>\n",
       "      <td>12.33</td>\n",
       "      <td>12.57</td>\n",
       "      <td>12.1</td>\n",
       "      <td>6650000.0</td>\n",
       "      <td>-0.0041</td>\n",
       "      <td>TSM</td>\n",
       "    </tr>\n",
       "  </tbody>\n",
       "</table>\n",
       "</div>"
      ],
      "text/plain": [
       "   index  Unnamed: 0  Unnamed: 0.1       Date  Close   Open   High   Low  \\\n",
       "0  47226       47226         47226 2002-01-15  12.19  12.33  12.57  12.1   \n",
       "\n",
       "      Volume  Change Symbol  \n",
       "0  6650000.0 -0.0041    TSM  "
      ]
     },
     "execution_count": 146,
     "metadata": {},
     "output_type": "execute_result"
    }
   ],
   "source": [
    "# 해당값을 출력해보면 전쟁 특정종목의 N번째 전쟁발발시점의 값이 출력됨\n",
    "test2[test2[\"Unnamed: 0\"] == num]"
   ]
  },
  {
   "cell_type": "code",
   "execution_count": 147,
   "metadata": {},
   "outputs": [],
   "source": [
    "# num값을 기준으로 이전 5번째, 이후 2번째 범위내의 historical price 출력"
   ]
  },
  {
   "cell_type": "code",
   "execution_count": 67,
   "metadata": {},
   "outputs": [
    {
     "data": {
      "text/plain": [
       "-0.012299999999999981"
      ]
     },
     "execution_count": 67,
     "metadata": {},
     "output_type": "execute_result"
    }
   ],
   "source": [
    "real_df.loc[num-5:num-1][\"Change\"].mean()"
   ]
  },
  {
   "cell_type": "code",
   "execution_count": 175,
   "metadata": {},
   "outputs": [],
   "source": [
    "new_df = pd.DataFrame(real_df.loc[num]).transpose()\n"
   ]
  },
  {
   "cell_type": "code",
   "execution_count": 176,
   "metadata": {},
   "outputs": [],
   "source": [
    "# new_df에서 Unnamed:0.1, Close, Open, High, Low,Volume Drop"
   ]
  },
  {
   "cell_type": "code",
   "execution_count": 177,
   "metadata": {},
   "outputs": [],
   "source": [
    "new_df = new_df.drop([\"Unnamed: 0.1\", \"Close\", \"Open\", 'High', 'Low', 'Volume'], axis=1)"
   ]
  },
  {
   "cell_type": "code",
   "execution_count": 178,
   "metadata": {},
   "outputs": [],
   "source": [
    "# 지난 5일간 Average change 구하기"
   ]
  },
  {
   "cell_type": "code",
   "execution_count": 179,
   "metadata": {},
   "outputs": [
    {
     "data": {
      "text/plain": [
       "-0.007"
      ]
     },
     "execution_count": 179,
     "metadata": {},
     "output_type": "execute_result"
    }
   ],
   "source": [
    "avg_change = real_df.loc[num-5:num-1, 'Change']\n",
    "avg_change = round(np.mean(avg_change), 3)\n",
    "avg_change"
   ]
  },
  {
   "cell_type": "code",
   "execution_count": 180,
   "metadata": {},
   "outputs": [],
   "source": [
    "# Average change 컬럼추가"
   ]
  },
  {
   "cell_type": "code",
   "execution_count": 181,
   "metadata": {},
   "outputs": [],
   "source": [
    "new_df[\"Avg_change\"] = avg_change"
   ]
  },
  {
   "cell_type": "code",
   "execution_count": 182,
   "metadata": {},
   "outputs": [
    {
     "data": {
      "text/html": [
       "<div>\n",
       "<style scoped>\n",
       "    .dataframe tbody tr th:only-of-type {\n",
       "        vertical-align: middle;\n",
       "    }\n",
       "\n",
       "    .dataframe tbody tr th {\n",
       "        vertical-align: top;\n",
       "    }\n",
       "\n",
       "    .dataframe thead th {\n",
       "        text-align: right;\n",
       "    }\n",
       "</style>\n",
       "<table border=\"1\" class=\"dataframe\">\n",
       "  <thead>\n",
       "    <tr style=\"text-align: right;\">\n",
       "      <th></th>\n",
       "      <th>Unnamed: 0</th>\n",
       "      <th>Date</th>\n",
       "      <th>Change</th>\n",
       "      <th>Symbol</th>\n",
       "      <th>Avg_change</th>\n",
       "    </tr>\n",
       "  </thead>\n",
       "  <tbody>\n",
       "    <tr>\n",
       "      <th>47226</th>\n",
       "      <td>47226</td>\n",
       "      <td>2002-01-15</td>\n",
       "      <td>-0.0041</td>\n",
       "      <td>TSM</td>\n",
       "      <td>-0.007</td>\n",
       "    </tr>\n",
       "  </tbody>\n",
       "</table>\n",
       "</div>"
      ],
      "text/plain": [
       "      Unnamed: 0       Date  Change Symbol  Avg_change\n",
       "47226      47226 2002-01-15 -0.0041    TSM      -0.007"
      ]
     },
     "execution_count": 182,
     "metadata": {},
     "output_type": "execute_result"
    }
   ],
   "source": [
    "new_df"
   ]
  },
  {
   "cell_type": "code",
   "execution_count": 183,
   "metadata": {},
   "outputs": [],
   "source": [
    "# Change index 컬럼추가"
   ]
  },
  {
   "cell_type": "code",
   "execution_count": 184,
   "metadata": {},
   "outputs": [
    {
     "data": {
      "text/plain": [
       "47226    59.0\n",
       "dtype: float64"
      ]
     },
     "execution_count": 184,
     "metadata": {},
     "output_type": "execute_result"
    }
   ],
   "source": [
    "Change_idx = (new_df[\"Change\"] / new_df[\"Avg_change\"]) * 100\n",
    "Change_idx = round(Change_idx.astype(float),0)\n",
    "Change_idx"
   ]
  },
  {
   "cell_type": "code",
   "execution_count": 185,
   "metadata": {},
   "outputs": [
    {
     "data": {
      "text/html": [
       "<div>\n",
       "<style scoped>\n",
       "    .dataframe tbody tr th:only-of-type {\n",
       "        vertical-align: middle;\n",
       "    }\n",
       "\n",
       "    .dataframe tbody tr th {\n",
       "        vertical-align: top;\n",
       "    }\n",
       "\n",
       "    .dataframe thead th {\n",
       "        text-align: right;\n",
       "    }\n",
       "</style>\n",
       "<table border=\"1\" class=\"dataframe\">\n",
       "  <thead>\n",
       "    <tr style=\"text-align: right;\">\n",
       "      <th></th>\n",
       "      <th>Unnamed: 0</th>\n",
       "      <th>Date</th>\n",
       "      <th>Change</th>\n",
       "      <th>Symbol</th>\n",
       "      <th>Avg_change</th>\n",
       "      <th>Change_idx</th>\n",
       "    </tr>\n",
       "  </thead>\n",
       "  <tbody>\n",
       "    <tr>\n",
       "      <th>47226</th>\n",
       "      <td>47226</td>\n",
       "      <td>2002-01-15</td>\n",
       "      <td>-0.0041</td>\n",
       "      <td>TSM</td>\n",
       "      <td>-0.007</td>\n",
       "      <td>59.0</td>\n",
       "    </tr>\n",
       "  </tbody>\n",
       "</table>\n",
       "</div>"
      ],
      "text/plain": [
       "      Unnamed: 0       Date  Change Symbol  Avg_change  Change_idx\n",
       "47226      47226 2002-01-15 -0.0041    TSM      -0.007        59.0"
      ]
     },
     "execution_count": 185,
     "metadata": {},
     "output_type": "execute_result"
    }
   ],
   "source": [
    "new_df['Change_idx'] = Change_idx\n",
    "new_df"
   ]
  },
  {
   "cell_type": "code",
   "execution_count": 186,
   "metadata": {},
   "outputs": [],
   "source": [
    "# Change index의 절대값 컬럼 추가"
   ]
  },
  {
   "cell_type": "code",
   "execution_count": 188,
   "metadata": {},
   "outputs": [
    {
     "data": {
      "text/plain": [
       "47226    59.0\n",
       "dtype: float64"
      ]
     },
     "execution_count": 188,
     "metadata": {},
     "output_type": "execute_result"
    }
   ],
   "source": [
    "Abs_idx = abs(Change_idx)\n",
    "Abs_idx"
   ]
  },
  {
   "cell_type": "code",
   "execution_count": 190,
   "metadata": {},
   "outputs": [
    {
     "data": {
      "text/plain": [
       "47226    59.0\n",
       "dtype: float64"
      ]
     },
     "execution_count": 190,
     "metadata": {},
     "output_type": "execute_result"
    }
   ],
   "source": [
    "Abs_idx = abs(Change_idx)\n",
    "Abs_idx = round(Abs_idx.astype(float),0)\n",
    "#Abs_idx = Abs_idx.values\n",
    "Abs_idx"
   ]
  },
  {
   "cell_type": "code",
   "execution_count": 191,
   "metadata": {},
   "outputs": [
    {
     "data": {
      "text/html": [
       "<div>\n",
       "<style scoped>\n",
       "    .dataframe tbody tr th:only-of-type {\n",
       "        vertical-align: middle;\n",
       "    }\n",
       "\n",
       "    .dataframe tbody tr th {\n",
       "        vertical-align: top;\n",
       "    }\n",
       "\n",
       "    .dataframe thead th {\n",
       "        text-align: right;\n",
       "    }\n",
       "</style>\n",
       "<table border=\"1\" class=\"dataframe\">\n",
       "  <thead>\n",
       "    <tr style=\"text-align: right;\">\n",
       "      <th></th>\n",
       "      <th>Unnamed: 0</th>\n",
       "      <th>Date</th>\n",
       "      <th>Change</th>\n",
       "      <th>Symbol</th>\n",
       "      <th>Avg_change</th>\n",
       "      <th>Change_idx</th>\n",
       "      <th>Abs_idx</th>\n",
       "    </tr>\n",
       "  </thead>\n",
       "  <tbody>\n",
       "    <tr>\n",
       "      <th>47226</th>\n",
       "      <td>47226</td>\n",
       "      <td>2002-01-15</td>\n",
       "      <td>-0.0041</td>\n",
       "      <td>TSM</td>\n",
       "      <td>-0.007</td>\n",
       "      <td>59.0</td>\n",
       "      <td>59.0</td>\n",
       "    </tr>\n",
       "  </tbody>\n",
       "</table>\n",
       "</div>"
      ],
      "text/plain": [
       "      Unnamed: 0       Date  Change Symbol  Avg_change  Change_idx  Abs_idx\n",
       "47226      47226 2002-01-15 -0.0041    TSM      -0.007        59.0     59.0"
      ]
     },
     "execution_count": 191,
     "metadata": {},
     "output_type": "execute_result"
    }
   ],
   "source": [
    "new_df['Abs_idx'] = Abs_idx\n",
    "new_df"
   ]
  },
  {
   "cell_type": "code",
   "execution_count": 192,
   "metadata": {},
   "outputs": [],
   "source": [
    "# 발발시점, 전쟁이름, 참전국수, "
   ]
  },
  {
   "cell_type": "code",
   "execution_count": 193,
   "metadata": {},
   "outputs": [
    {
     "data": {
      "text/plain": [
       "(Timestamp('2002-01-15 00:00:00'), '영원한자유작전-필리핀', 2)"
      ]
     },
     "execution_count": 193,
     "metadata": {},
     "output_type": "execute_result"
    }
   ],
   "source": [
    "start_date = ls_war.loc[index,\"발발시점\"]\n",
    "war_name = ls_war.loc[index, \"갈등이름\"]\n",
    "count_country = ls_war.loc[index, \"참전국수\"]\n",
    "\n",
    "start_date, war_name, count_country"
   ]
  },
  {
   "cell_type": "code",
   "execution_count": 194,
   "metadata": {},
   "outputs": [
    {
     "data": {
      "text/plain": [
       "array(['반도체 및 반도체 장비'], dtype=object)"
      ]
     },
     "execution_count": 194,
     "metadata": {},
     "output_type": "execute_result"
    }
   ],
   "source": [
    "industry = df_3[df_3[\"Symbol\"] == ticker] # ticker는 위에 정의되어 있음\n",
    "industry = industry[\"Industry\"]\n",
    "industry = industry.values\n",
    "industry"
   ]
  },
  {
   "cell_type": "code",
   "execution_count": 195,
   "metadata": {},
   "outputs": [],
   "source": [
    "new_df['Start_date'] = start_date\n",
    "new_df['War_name'] = war_name\n",
    "new_df['Count_country'] = count_country\n",
    "new_df['Industry'] = industry"
   ]
  },
  {
   "cell_type": "code",
   "execution_count": 196,
   "metadata": {},
   "outputs": [
    {
     "data": {
      "text/html": [
       "<div>\n",
       "<style scoped>\n",
       "    .dataframe tbody tr th:only-of-type {\n",
       "        vertical-align: middle;\n",
       "    }\n",
       "\n",
       "    .dataframe tbody tr th {\n",
       "        vertical-align: top;\n",
       "    }\n",
       "\n",
       "    .dataframe thead th {\n",
       "        text-align: right;\n",
       "    }\n",
       "</style>\n",
       "<table border=\"1\" class=\"dataframe\">\n",
       "  <thead>\n",
       "    <tr style=\"text-align: right;\">\n",
       "      <th></th>\n",
       "      <th>Unnamed: 0</th>\n",
       "      <th>Date</th>\n",
       "      <th>Change</th>\n",
       "      <th>Symbol</th>\n",
       "      <th>Avg_change</th>\n",
       "      <th>Change_idx</th>\n",
       "      <th>Abs_idx</th>\n",
       "      <th>Start_date</th>\n",
       "      <th>War_name</th>\n",
       "      <th>Count_country</th>\n",
       "      <th>Industry</th>\n",
       "    </tr>\n",
       "  </thead>\n",
       "  <tbody>\n",
       "    <tr>\n",
       "      <th>47226</th>\n",
       "      <td>47226</td>\n",
       "      <td>2002-01-15</td>\n",
       "      <td>-0.0041</td>\n",
       "      <td>TSM</td>\n",
       "      <td>-0.007</td>\n",
       "      <td>59.0</td>\n",
       "      <td>59.0</td>\n",
       "      <td>2002-01-15</td>\n",
       "      <td>영원한자유작전-필리핀</td>\n",
       "      <td>2</td>\n",
       "      <td>반도체 및 반도체 장비</td>\n",
       "    </tr>\n",
       "  </tbody>\n",
       "</table>\n",
       "</div>"
      ],
      "text/plain": [
       "      Unnamed: 0       Date  Change Symbol  Avg_change  Change_idx  Abs_idx  \\\n",
       "47226      47226 2002-01-15 -0.0041    TSM      -0.007        59.0     59.0   \n",
       "\n",
       "      Start_date     War_name  Count_country      Industry  \n",
       "47226 2002-01-15  영원한자유작전-필리핀              2  반도체 및 반도체 장비  "
      ]
     },
     "execution_count": 196,
     "metadata": {},
     "output_type": "execute_result"
    }
   ],
   "source": [
    "new_df"
   ]
  },
  {
   "cell_type": "code",
   "execution_count": null,
   "metadata": {},
   "outputs": [],
   "source": []
  },
  {
   "cell_type": "code",
   "execution_count": null,
   "metadata": {},
   "outputs": [],
   "source": [
    "# 이제 for문 돌려서 하나의 100개의 데이터를 하나의 data로 만들어야함 row 2700개 예상"
   ]
  },
  {
   "cell_type": "code",
   "execution_count": null,
   "metadata": {},
   "outputs": [],
   "source": []
  },
  {
   "cell_type": "code",
   "execution_count": null,
   "metadata": {},
   "outputs": [],
   "source": [
    "#### 값이 없는 간 해당연도,월,일범위 내에서 종목의 historical price 정보가 없는 거라고 보면 되구요."
   ]
  },
  {
   "cell_type": "code",
   "execution_count": null,
   "metadata": {},
   "outputs": [],
   "source": []
  },
  {
   "cell_type": "code",
   "execution_count": null,
   "metadata": {},
   "outputs": [],
   "source": [
    "# 이후 분석해볼 거는,"
   ]
  },
  {
   "cell_type": "code",
   "execution_count": null,
   "metadata": {},
   "outputs": [],
   "source": [
    "# 1. 단순히 항목을 넣어서 전쟁규모, 참전국수 등에 따른 평가지표절대값의 상관관계"
   ]
  },
  {
   "cell_type": "code",
   "execution_count": null,
   "metadata": {},
   "outputs": [],
   "source": [
    "# 2. 전쟁종류 등에 따라 100대 기업 중 절대값 200이상되는 symbol의 기준 등"
   ]
  },
  {
   "cell_type": "code",
   "execution_count": null,
   "metadata": {},
   "outputs": [],
   "source": []
  },
  {
   "cell_type": "markdown",
   "metadata": {},
   "source": [
    "----------------------------"
   ]
  }
 ],
 "metadata": {
  "kernelspec": {
   "display_name": "Python 3",
   "language": "python",
   "name": "python3"
  },
  "language_info": {
   "codemirror_mode": {
    "name": "ipython",
    "version": 3
   },
   "file_extension": ".py",
   "mimetype": "text/x-python",
   "name": "python",
   "nbconvert_exporter": "python",
   "pygments_lexer": "ipython3",
   "version": "3.7.10"
  }
 },
 "nbformat": 4,
 "nbformat_minor": 4
}
