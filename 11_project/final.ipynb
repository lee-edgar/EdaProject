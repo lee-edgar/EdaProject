{
 "cells": [
  {
   "cell_type": "code",
   "execution_count": 1,
   "id": "9047a474",
   "metadata": {},
   "outputs": [],
   "source": [
    "import xlsxwriter\n",
    "import openpyxl\n",
    "import matplotlib.pyplot as plt\n",
    "import matplotlib as mpl\n",
    "import numpy as np\n",
    "import matplotlib as mpl\n",
    "import seaborn as sns\n",
    "import plotly.express as px\n",
    "import plotly.graph_objects as go\n",
    "%matplotlib inline\n",
    "%config linelineBacked.figure_format = {'png', 'retina'}\n",
    "\n",
    "\n",
    "from matplotlib import rc\n",
    "rc('font', family='Malgun Gothic')\n",
    "\n",
    "plt.rcParams['axes.unicode_minus'] = False"
   ]
  },
  {
   "cell_type": "code",
   "execution_count": 2,
   "id": "401ea2b7",
   "metadata": {},
   "outputs": [],
   "source": [
    "# 주제선정동기, 개요, 목적"
   ]
  },
  {
   "cell_type": "code",
   "execution_count": 3,
   "id": "2df23fad",
   "metadata": {},
   "outputs": [
    {
     "data": {
      "text/html": [
       "<div>\n",
       "<style scoped>\n",
       "    .dataframe tbody tr th:only-of-type {\n",
       "        vertical-align: middle;\n",
       "    }\n",
       "\n",
       "    .dataframe tbody tr th {\n",
       "        vertical-align: top;\n",
       "    }\n",
       "\n",
       "    .dataframe thead th {\n",
       "        text-align: right;\n",
       "    }\n",
       "</style>\n",
       "<table border=\"1\" class=\"dataframe\">\n",
       "  <thead>\n",
       "    <tr style=\"text-align: right;\">\n",
       "      <th></th>\n",
       "      <th>Change</th>\n",
       "      <th>Symbol</th>\n",
       "      <th>Change_idx</th>\n",
       "      <th>ABS_idx</th>\n",
       "      <th>Avg_change</th>\n",
       "      <th>Start_date</th>\n",
       "      <th>War_genre</th>\n",
       "      <th>War_name</th>\n",
       "      <th>War_volume</th>\n",
       "      <th>Count_country</th>\n",
       "      <th>Count</th>\n",
       "    </tr>\n",
       "  </thead>\n",
       "  <tbody>\n",
       "    <tr>\n",
       "      <th>1516</th>\n",
       "      <td>0.0067</td>\n",
       "      <td>WMT</td>\n",
       "      <td>-335.0</td>\n",
       "      <td>335.0</td>\n",
       "      <td>-0.002</td>\n",
       "      <td>2014-09-16</td>\n",
       "      <td>내란</td>\n",
       "      <td>예멘내전</td>\n",
       "      <td>156000</td>\n",
       "      <td>19</td>\n",
       "      <td>1</td>\n",
       "    </tr>\n",
       "    <tr>\n",
       "      <th>1517</th>\n",
       "      <td>0.0118</td>\n",
       "      <td>XOM</td>\n",
       "      <td>-393.0</td>\n",
       "      <td>393.0</td>\n",
       "      <td>-0.003</td>\n",
       "      <td>2014-09-16</td>\n",
       "      <td>내란</td>\n",
       "      <td>예멘내전</td>\n",
       "      <td>156000</td>\n",
       "      <td>19</td>\n",
       "      <td>1</td>\n",
       "    </tr>\n",
       "  </tbody>\n",
       "</table>\n",
       "</div>"
      ],
      "text/plain": [
       "      Change Symbol  Change_idx  ABS_idx  Avg_change Start_date War_genre  \\\n",
       "1516  0.0067    WMT      -335.0    335.0      -0.002 2014-09-16        내란   \n",
       "1517  0.0118    XOM      -393.0    393.0      -0.003 2014-09-16        내란   \n",
       "\n",
       "     War_name  War_volume  Count_country  Count  \n",
       "1516     예멘내전      156000             19      1  \n",
       "1517     예멘내전      156000             19      1  "
      ]
     },
     "execution_count": 3,
     "metadata": {},
     "output_type": "execute_result"
    }
   ],
   "source": [
    "df_final = pd.read_excel(\"./datas/df_final.xls\", \"sheet\")\n",
    "df_final = df_final.drop([\"Unnamed: 0\", \"Unnamed: 0.1\", \"Date\"], axis=1)\n",
    "df_final[\"Count\"] = 1\n",
    "df_final.tail(2)"
   ]
  },
  {
   "cell_type": "code",
   "execution_count": 4,
   "id": "b1ea7d5a",
   "metadata": {},
   "outputs": [],
   "source": [
    "# 빈도분석(barplot, heatmap 등 활용)"
   ]
  },
  {
   "cell_type": "code",
   "execution_count": 5,
   "id": "d8dc7567",
   "metadata": {},
   "outputs": [],
   "source": [
    "## (1) 전쟁의 수(2000~2021년 미국참전 전쟁의 수)"
   ]
  },
  {
   "cell_type": "code",
   "execution_count": 6,
   "id": "7de74772",
   "metadata": {},
   "outputs": [],
   "source": [
    "war_count = df_final.pivot_table([\"Count\", \"Count_country\", \"War_volume\"], [\"Start_date\",\"War_name\"])\n",
    "war_count[\"War_id\"] = [\"w1\",\"w2\",\"w3\",\"w4\",\"w5\",\"w6\",\"w7\",\"w8\",\"w9\",\"w10\",\"w11\",\"w12\",\"w13\",\"w14\",\n",
    "                      \"w15\",\"w16\",\"w17\",\"w18\",\"w19\",\"w20\",\"w21\",\"w22\",\"w23\"]"
   ]
  },
  {
   "cell_type": "code",
   "execution_count": 67,
   "id": "df481217",
   "metadata": {},
   "outputs": [
    {
     "data": {
      "text/html": [
       "<div>\n",
       "<style scoped>\n",
       "    .dataframe tbody tr th:only-of-type {\n",
       "        vertical-align: middle;\n",
       "    }\n",
       "\n",
       "    .dataframe tbody tr th {\n",
       "        vertical-align: top;\n",
       "    }\n",
       "\n",
       "    .dataframe thead th {\n",
       "        text-align: right;\n",
       "    }\n",
       "</style>\n",
       "<table border=\"1\" class=\"dataframe\">\n",
       "  <thead>\n",
       "    <tr style=\"text-align: right;\">\n",
       "      <th></th>\n",
       "      <th></th>\n",
       "      <th>Count</th>\n",
       "      <th>Count_country</th>\n",
       "      <th>War_volume</th>\n",
       "      <th>War_id</th>\n",
       "    </tr>\n",
       "    <tr>\n",
       "      <th>Start_date</th>\n",
       "      <th>War_name</th>\n",
       "      <th></th>\n",
       "      <th></th>\n",
       "      <th></th>\n",
       "      <th></th>\n",
       "    </tr>\n",
       "  </thead>\n",
       "  <tbody>\n",
       "    <tr>\n",
       "      <th>2001-09-11</th>\n",
       "      <th>테러와의전쟁</th>\n",
       "      <td>1</td>\n",
       "      <td>48</td>\n",
       "      <td>1000000</td>\n",
       "      <td>w1</td>\n",
       "    </tr>\n",
       "    <tr>\n",
       "      <th>2002-01-15</th>\n",
       "      <th>영원한자유작전-필리핀</th>\n",
       "      <td>1</td>\n",
       "      <td>2</td>\n",
       "      <td>115800</td>\n",
       "      <td>w2</td>\n",
       "    </tr>\n",
       "    <tr>\n",
       "      <th>2002-10-07</th>\n",
       "      <th>영원한자유작전-아프리카의뿔</th>\n",
       "      <td>1</td>\n",
       "      <td>38</td>\n",
       "      <td>500000</td>\n",
       "      <td>w3</td>\n",
       "    </tr>\n",
       "    <tr>\n",
       "      <th>2003-03-20</th>\n",
       "      <th>이라크전쟁</th>\n",
       "      <td>1</td>\n",
       "      <td>41</td>\n",
       "      <td>1000000</td>\n",
       "      <td>w4</td>\n",
       "    </tr>\n",
       "    <tr>\n",
       "      <th>2004-04-01</th>\n",
       "      <th>이란-PJAK충돌</th>\n",
       "      <td>1</td>\n",
       "      <td>3</td>\n",
       "      <td>17000</td>\n",
       "      <td>w5</td>\n",
       "    </tr>\n",
       "    <tr>\n",
       "      <th>2004-04-18</th>\n",
       "      <th>예멘의 Houthi 반란</th>\n",
       "      <td>1</td>\n",
       "      <td>7</td>\n",
       "      <td>32000</td>\n",
       "      <td>w6</td>\n",
       "    </tr>\n",
       "    <tr>\n",
       "      <th>2005-08-27</th>\n",
       "      <th>파라과이인민군반란</th>\n",
       "      <td>1</td>\n",
       "      <td>3</td>\n",
       "      <td>3650</td>\n",
       "      <td>w7</td>\n",
       "    </tr>\n",
       "    <tr>\n",
       "      <th>2006-01-25</th>\n",
       "      <th>파타-하마스 분쟁</th>\n",
       "      <td>1</td>\n",
       "      <td>3</td>\n",
       "      <td>55000</td>\n",
       "      <td>w8</td>\n",
       "    </tr>\n",
       "    <tr>\n",
       "      <th>2006-02-22</th>\n",
       "      <th>이라크내전</th>\n",
       "      <td>1</td>\n",
       "      <td>5</td>\n",
       "      <td>748000</td>\n",
       "      <td>w9</td>\n",
       "    </tr>\n",
       "    <tr>\n",
       "      <th>2006-12-11</th>\n",
       "      <th>멕시코마약전쟁</th>\n",
       "      <td>1</td>\n",
       "      <td>4</td>\n",
       "      <td>360000</td>\n",
       "      <td>w10</td>\n",
       "    </tr>\n",
       "    <tr>\n",
       "      <th>2006-12-30</th>\n",
       "      <th>소말리아전쟁</th>\n",
       "      <td>1</td>\n",
       "      <td>8</td>\n",
       "      <td>35250</td>\n",
       "      <td>w11</td>\n",
       "    </tr>\n",
       "    <tr>\n",
       "      <th>2007-02-06</th>\n",
       "      <th>영원한자유작전-트랜스사하라</th>\n",
       "      <td>1</td>\n",
       "      <td>17</td>\n",
       "      <td>5325</td>\n",
       "      <td>w12</td>\n",
       "    </tr>\n",
       "    <tr>\n",
       "      <th>2008-03-25</th>\n",
       "      <th>2008 안주안침공</th>\n",
       "      <td>1</td>\n",
       "      <td>7</td>\n",
       "      <td>2500</td>\n",
       "      <td>w13</td>\n",
       "    </tr>\n",
       "    <tr>\n",
       "      <th>2009-01-31</th>\n",
       "      <th>소말리아내전</th>\n",
       "      <td>1</td>\n",
       "      <td>11</td>\n",
       "      <td>41600</td>\n",
       "      <td>w14</td>\n",
       "    </tr>\n",
       "    <tr>\n",
       "      <th>2010-05-23</th>\n",
       "      <th>킹스톤불안</th>\n",
       "      <td>1</td>\n",
       "      <td>2</td>\n",
       "      <td>1500</td>\n",
       "      <td>w15</td>\n",
       "    </tr>\n",
       "    <tr>\n",
       "      <th>2011-02-15</th>\n",
       "      <th>리비아내전</th>\n",
       "      <td>1</td>\n",
       "      <td>21</td>\n",
       "      <td>37000</td>\n",
       "      <td>w16</td>\n",
       "    </tr>\n",
       "    <tr>\n",
       "      <th>2011-03-15</th>\n",
       "      <th>시리아내전</th>\n",
       "      <td>1</td>\n",
       "      <td>13</td>\n",
       "      <td>144600</td>\n",
       "      <td>w17</td>\n",
       "    </tr>\n",
       "    <tr>\n",
       "      <th>2011-06-17</th>\n",
       "      <th>레바논에서의시리아내전파급</th>\n",
       "      <td>1</td>\n",
       "      <td>19</td>\n",
       "      <td>13500</td>\n",
       "      <td>w18</td>\n",
       "    </tr>\n",
       "    <tr>\n",
       "      <th>2012-01-16</th>\n",
       "      <th>북부말리전쟁</th>\n",
       "      <td>1</td>\n",
       "      <td>57</td>\n",
       "      <td>24764</td>\n",
       "      <td>w19</td>\n",
       "    </tr>\n",
       "    <tr>\n",
       "      <th>2013-12-30</th>\n",
       "      <th>이라크 내전</th>\n",
       "      <td>1</td>\n",
       "      <td>22</td>\n",
       "      <td>770000</td>\n",
       "      <td>w20</td>\n",
       "    </tr>\n",
       "    <tr>\n",
       "      <th>2014-05-16</th>\n",
       "      <th>리비아 내전</th>\n",
       "      <td>1</td>\n",
       "      <td>19</td>\n",
       "      <td>400000</td>\n",
       "      <td>w21</td>\n",
       "    </tr>\n",
       "    <tr>\n",
       "      <th>2014-06-13</th>\n",
       "      <th>ISIL에대한국제군사개입</th>\n",
       "      <td>1</td>\n",
       "      <td>41</td>\n",
       "      <td>472260</td>\n",
       "      <td>w22</td>\n",
       "    </tr>\n",
       "    <tr>\n",
       "      <th>2014-09-16</th>\n",
       "      <th>예멘내전</th>\n",
       "      <td>1</td>\n",
       "      <td>19</td>\n",
       "      <td>156000</td>\n",
       "      <td>w23</td>\n",
       "    </tr>\n",
       "  </tbody>\n",
       "</table>\n",
       "</div>"
      ],
      "text/plain": [
       "                           Count  Count_country  War_volume War_id\n",
       "Start_date War_name                                               \n",
       "2001-09-11 테러와의전쟁              1             48     1000000     w1\n",
       "2002-01-15 영원한자유작전-필리핀         1              2      115800     w2\n",
       "2002-10-07 영원한자유작전-아프리카의뿔      1             38      500000     w3\n",
       "2003-03-20 이라크전쟁               1             41     1000000     w4\n",
       "2004-04-01 이란-PJAK충돌           1              3       17000     w5\n",
       "2004-04-18 예멘의 Houthi 반란       1              7       32000     w6\n",
       "2005-08-27 파라과이인민군반란           1              3        3650     w7\n",
       "2006-01-25 파타-하마스 분쟁           1              3       55000     w8\n",
       "2006-02-22 이라크내전               1              5      748000     w9\n",
       "2006-12-11 멕시코마약전쟁             1              4      360000    w10\n",
       "2006-12-30 소말리아전쟁              1              8       35250    w11\n",
       "2007-02-06 영원한자유작전-트랜스사하라      1             17        5325    w12\n",
       "2008-03-25 2008 안주안침공          1              7        2500    w13\n",
       "2009-01-31 소말리아내전              1             11       41600    w14\n",
       "2010-05-23 킹스톤불안               1              2        1500    w15\n",
       "2011-02-15 리비아내전               1             21       37000    w16\n",
       "2011-03-15 시리아내전               1             13      144600    w17\n",
       "2011-06-17 레바논에서의시리아내전파급       1             19       13500    w18\n",
       "2012-01-16 북부말리전쟁              1             57       24764    w19\n",
       "2013-12-30 이라크 내전              1             22      770000    w20\n",
       "2014-05-16 리비아 내전              1             19      400000    w21\n",
       "2014-06-13 ISIL에대한국제군사개입       1             41      472260    w22\n",
       "2014-09-16 예멘내전                1             19      156000    w23"
      ]
     },
     "execution_count": 67,
     "metadata": {},
     "output_type": "execute_result"
    }
   ],
   "source": [
    "war_count"
   ]
  },
  {
   "cell_type": "code",
   "execution_count": 8,
   "id": "751758c5",
   "metadata": {},
   "outputs": [],
   "source": [
    "#### (그래프)전쟁별 참전국수"
   ]
  },
  {
   "cell_type": "code",
   "execution_count": 9,
   "id": "423cc408",
   "metadata": {},
   "outputs": [
    {
     "data": {
      "image/png": "[encoded data removed]",
      "text/plain": [
       "<Figure size 1440x360 with 1 Axes>"
      ]
     },
     "metadata": {
      "needs_background": "light"
     },
     "output_type": "display_data"
    }
   ],
   "source": [
    "plt.figure(figsize=(20,5))\n",
    "X = war_count[\"War_id\"]\n",
    "y_1 = war_count[\"Count_country\"]\n",
    "plt.plot(X, y_1)\n",
    "plt.show()"
   ]
  },
  {
   "cell_type": "code",
   "execution_count": 10,
   "id": "1de114ee",
   "metadata": {},
   "outputs": [],
   "source": [
    "#### (그래프)전쟁별 전쟁규모"
   ]
  },
  {
   "cell_type": "code",
   "execution_count": 11,
   "id": "ee52f115",
   "metadata": {},
   "outputs": [
    {
     "data": {
      "image/png": "[encoded data removed]",
      "text/plain": [
       "<Figure size 1440x360 with 1 Axes>"
      ]
     },
     "metadata": {
      "needs_background": "light"
     },
     "output_type": "display_data"
    }
   ],
   "source": [
    "plt.figure(figsize=(20,5))\n",
    "X = war_count[\"War_id\"]\n",
    "y_2 = war_count[\"War_volume\"]\n",
    "plt.plot(X, y_2)\n",
    "plt.show()"
   ]
  },
  {
   "cell_type": "code",
   "execution_count": 12,
   "id": "8219a7b8",
   "metadata": {},
   "outputs": [],
   "source": [
    "### (1)-1 전쟁종류(민족간전쟁/해적/마약/테러)별 전쟁수 count"
   ]
  },
  {
   "cell_type": "code",
   "execution_count": 13,
   "id": "a61b07f5",
   "metadata": {},
   "outputs": [
    {
     "data": {
      "text/html": [
       "<div>\n",
       "<style scoped>\n",
       "    .dataframe tbody tr th:only-of-type {\n",
       "        vertical-align: middle;\n",
       "    }\n",
       "\n",
       "    .dataframe tbody tr th {\n",
       "        vertical-align: top;\n",
       "    }\n",
       "\n",
       "    .dataframe thead th {\n",
       "        text-align: right;\n",
       "    }\n",
       "</style>\n",
       "<table border=\"1\" class=\"dataframe\">\n",
       "  <thead>\n",
       "    <tr style=\"text-align: right;\">\n",
       "      <th></th>\n",
       "      <th>발발시점</th>\n",
       "      <th>갈등이름</th>\n",
       "      <th>갈등종류</th>\n",
       "      <th>전쟁규모</th>\n",
       "      <th>참전국수</th>\n",
       "      <th>Count</th>\n",
       "      <th>War_Scale</th>\n",
       "    </tr>\n",
       "  </thead>\n",
       "  <tbody>\n",
       "    <tr>\n",
       "      <th>0</th>\n",
       "      <td>2001-09-11</td>\n",
       "      <td>테러와의전쟁</td>\n",
       "      <td>테러</td>\n",
       "      <td>1000000</td>\n",
       "      <td>48</td>\n",
       "      <td>1</td>\n",
       "      <td>48</td>\n",
       "    </tr>\n",
       "    <tr>\n",
       "      <th>1</th>\n",
       "      <td>2002-01-15</td>\n",
       "      <td>영원한자유작전-필리핀</td>\n",
       "      <td>테러</td>\n",
       "      <td>115800</td>\n",
       "      <td>2</td>\n",
       "      <td>1</td>\n",
       "      <td>2</td>\n",
       "    </tr>\n",
       "    <tr>\n",
       "      <th>2</th>\n",
       "      <td>2002-10-07</td>\n",
       "      <td>영원한자유작전-아프리카의뿔</td>\n",
       "      <td>테러</td>\n",
       "      <td>500000</td>\n",
       "      <td>38</td>\n",
       "      <td>1</td>\n",
       "      <td>38</td>\n",
       "    </tr>\n",
       "    <tr>\n",
       "      <th>3</th>\n",
       "      <td>2003-03-20</td>\n",
       "      <td>이라크전쟁</td>\n",
       "      <td>테러</td>\n",
       "      <td>1000000</td>\n",
       "      <td>41</td>\n",
       "      <td>1</td>\n",
       "      <td>41</td>\n",
       "    </tr>\n",
       "    <tr>\n",
       "      <th>4</th>\n",
       "      <td>2004-04-01</td>\n",
       "      <td>이란-PJAK충돌</td>\n",
       "      <td>민족</td>\n",
       "      <td>17000</td>\n",
       "      <td>3</td>\n",
       "      <td>1</td>\n",
       "      <td>3</td>\n",
       "    </tr>\n",
       "  </tbody>\n",
       "</table>\n",
       "</div>"
      ],
      "text/plain": [
       "        발발시점            갈등이름 갈등종류     전쟁규모  참전국수  Count  War_Scale\n",
       "0 2001-09-11          테러와의전쟁   테러  1000000    48      1         48\n",
       "1 2002-01-15     영원한자유작전-필리핀   테러   115800     2      1          2\n",
       "2 2002-10-07  영원한자유작전-아프리카의뿔   테러   500000    38      1         38\n",
       "3 2003-03-20           이라크전쟁   테러  1000000    41      1         41\n",
       "4 2004-04-01       이란-PJAK충돌   민족    17000     3      1          3"
      ]
     },
     "execution_count": 13,
     "metadata": {},
     "output_type": "execute_result"
    }
   ],
   "source": [
    "ls_war = pd.read_excel(\"datas/ls_war.xls\", \"sheet\")\n",
    "ls_war = ls_war.drop([\"Unnamed: 0\",\"전쟁수\"], axis=1)\n",
    "ls_war[\"Count\"] = 1\n",
    "ls_war[\"War_Scale\"] = ls_war[\"참전국수\"]\n",
    "ls_war.head()"
   ]
  },
  {
   "cell_type": "code",
   "execution_count": 14,
   "id": "47f18bc5",
   "metadata": {},
   "outputs": [
    {
     "data": {
      "text/html": [
       "<div>\n",
       "<style scoped>\n",
       "    .dataframe tbody tr th:only-of-type {\n",
       "        vertical-align: middle;\n",
       "    }\n",
       "\n",
       "    .dataframe tbody tr th {\n",
       "        vertical-align: top;\n",
       "    }\n",
       "\n",
       "    .dataframe thead th {\n",
       "        text-align: right;\n",
       "    }\n",
       "</style>\n",
       "<table border=\"1\" class=\"dataframe\">\n",
       "  <thead>\n",
       "    <tr style=\"text-align: right;\">\n",
       "      <th></th>\n",
       "      <th>Count</th>\n",
       "      <th>War_genre</th>\n",
       "    </tr>\n",
       "    <tr>\n",
       "      <th>갈등종류</th>\n",
       "      <th></th>\n",
       "      <th></th>\n",
       "    </tr>\n",
       "  </thead>\n",
       "  <tbody>\n",
       "    <tr>\n",
       "      <th>내란</th>\n",
       "      <td>12</td>\n",
       "      <td>내란</td>\n",
       "    </tr>\n",
       "    <tr>\n",
       "      <th>마약</th>\n",
       "      <td>2</td>\n",
       "      <td>마약</td>\n",
       "    </tr>\n",
       "    <tr>\n",
       "      <th>민족</th>\n",
       "      <td>2</td>\n",
       "      <td>민족</td>\n",
       "    </tr>\n",
       "    <tr>\n",
       "      <th>테러</th>\n",
       "      <td>10</td>\n",
       "      <td>테러</td>\n",
       "    </tr>\n",
       "    <tr>\n",
       "      <th>해적</th>\n",
       "      <td>2</td>\n",
       "      <td>해적</td>\n",
       "    </tr>\n",
       "  </tbody>\n",
       "</table>\n",
       "</div>"
      ],
      "text/plain": [
       "      Count War_genre\n",
       "갈등종류                 \n",
       "내란       12        내란\n",
       "마약        2        마약\n",
       "민족        2        민족\n",
       "테러       10        테러\n",
       "해적        2        해적"
      ]
     },
     "execution_count": 14,
     "metadata": {},
     "output_type": "execute_result"
    }
   ],
   "source": [
    "war_genre = ls_war.pivot_table(\"Count\",\"갈등종류\", aggfunc=np.sum, fill_value=0)\n",
    "war_genre[\"War_genre\"]= war_genre.index\n",
    "war_genre"
   ]
  },
  {
   "cell_type": "code",
   "execution_count": 15,
   "id": "ed356f9e",
   "metadata": {},
   "outputs": [],
   "source": [
    "#### (그래프) 2000년이후 갈등종류별 전쟁수"
   ]
  },
  {
   "cell_type": "code",
   "execution_count": 16,
   "id": "2721fb84",
   "metadata": {},
   "outputs": [
    {
     "data": {
      "image/png": "[encoded data removed]",
      "text/plain": [
       "<Figure size 1440x360 with 1 Axes>"
      ]
     },
     "metadata": {
      "needs_background": "light"
     },
     "output_type": "display_data"
    }
   ],
   "source": [
    "plt.figure(figsize=(20,5))\n",
    "X = war_genre[\"War_genre\"]\n",
    "y = war_genre[\"Count\"]\n",
    "plt.bar(X, y, width=0.4)\n",
    "plt.show()"
   ]
  },
  {
   "cell_type": "code",
   "execution_count": 17,
   "id": "2c095ac0",
   "metadata": {},
   "outputs": [],
   "source": [
    "### (1)-2 전쟁참전국수별 (0~20, 21~40, 41개국이상) 전쟁수 count"
   ]
  },
  {
   "cell_type": "code",
   "execution_count": 18,
   "id": "c1696dee",
   "metadata": {},
   "outputs": [],
   "source": [
    "a= ls_war[ls_war[\"참전국수\"]<=10] # 10개국 미만 참전 \"소규모\""
   ]
  },
  {
   "cell_type": "code",
   "execution_count": 19,
   "id": "5a67478b",
   "metadata": {},
   "outputs": [
    {
     "data": {
      "text/html": [
       "<div>\n",
       "<style scoped>\n",
       "    .dataframe tbody tr th:only-of-type {\n",
       "        vertical-align: middle;\n",
       "    }\n",
       "\n",
       "    .dataframe tbody tr th {\n",
       "        vertical-align: top;\n",
       "    }\n",
       "\n",
       "    .dataframe thead th {\n",
       "        text-align: right;\n",
       "    }\n",
       "</style>\n",
       "<table border=\"1\" class=\"dataframe\">\n",
       "  <thead>\n",
       "    <tr style=\"text-align: right;\">\n",
       "      <th></th>\n",
       "      <th>발발시점</th>\n",
       "      <th>갈등이름</th>\n",
       "      <th>갈등종류</th>\n",
       "      <th>전쟁규모</th>\n",
       "      <th>참전국수</th>\n",
       "      <th>Count</th>\n",
       "      <th>War_Scale</th>\n",
       "    </tr>\n",
       "  </thead>\n",
       "  <tbody>\n",
       "    <tr>\n",
       "      <th>1</th>\n",
       "      <td>2002-01-15</td>\n",
       "      <td>영원한자유작전-필리핀</td>\n",
       "      <td>테러</td>\n",
       "      <td>115800</td>\n",
       "      <td>2</td>\n",
       "      <td>1</td>\n",
       "      <td>2</td>\n",
       "    </tr>\n",
       "    <tr>\n",
       "      <th>4</th>\n",
       "      <td>2004-04-01</td>\n",
       "      <td>이란-PJAK충돌</td>\n",
       "      <td>민족</td>\n",
       "      <td>17000</td>\n",
       "      <td>3</td>\n",
       "      <td>1</td>\n",
       "      <td>3</td>\n",
       "    </tr>\n",
       "    <tr>\n",
       "      <th>5</th>\n",
       "      <td>2004-04-18</td>\n",
       "      <td>예멘의 Houthi 반란</td>\n",
       "      <td>내란</td>\n",
       "      <td>32000</td>\n",
       "      <td>7</td>\n",
       "      <td>1</td>\n",
       "      <td>7</td>\n",
       "    </tr>\n",
       "    <tr>\n",
       "      <th>6</th>\n",
       "      <td>2005-08-27</td>\n",
       "      <td>파라과이인민군반란</td>\n",
       "      <td>내란</td>\n",
       "      <td>3650</td>\n",
       "      <td>3</td>\n",
       "      <td>1</td>\n",
       "      <td>3</td>\n",
       "    </tr>\n",
       "    <tr>\n",
       "      <th>7</th>\n",
       "      <td>2006-01-25</td>\n",
       "      <td>파타-하마스 분쟁</td>\n",
       "      <td>테러</td>\n",
       "      <td>55000</td>\n",
       "      <td>3</td>\n",
       "      <td>1</td>\n",
       "      <td>3</td>\n",
       "    </tr>\n",
       "    <tr>\n",
       "      <th>8</th>\n",
       "      <td>2006-06-12</td>\n",
       "      <td>2006년레바논전쟁</td>\n",
       "      <td>테러</td>\n",
       "      <td>10500</td>\n",
       "      <td>2</td>\n",
       "      <td>1</td>\n",
       "      <td>2</td>\n",
       "    </tr>\n",
       "    <tr>\n",
       "      <th>9</th>\n",
       "      <td>2006-02-22</td>\n",
       "      <td>이라크내전</td>\n",
       "      <td>내란</td>\n",
       "      <td>748000</td>\n",
       "      <td>5</td>\n",
       "      <td>1</td>\n",
       "      <td>5</td>\n",
       "    </tr>\n",
       "    <tr>\n",
       "      <th>10</th>\n",
       "      <td>2006-12-11</td>\n",
       "      <td>멕시코마약전쟁</td>\n",
       "      <td>마약</td>\n",
       "      <td>360000</td>\n",
       "      <td>4</td>\n",
       "      <td>1</td>\n",
       "      <td>4</td>\n",
       "    </tr>\n",
       "    <tr>\n",
       "      <th>11</th>\n",
       "      <td>2006-12-30</td>\n",
       "      <td>소말리아전쟁</td>\n",
       "      <td>해적</td>\n",
       "      <td>35250</td>\n",
       "      <td>8</td>\n",
       "      <td>1</td>\n",
       "      <td>8</td>\n",
       "    </tr>\n",
       "    <tr>\n",
       "      <th>13</th>\n",
       "      <td>2008-03-25</td>\n",
       "      <td>2008 안주안침공</td>\n",
       "      <td>내란</td>\n",
       "      <td>2500</td>\n",
       "      <td>7</td>\n",
       "      <td>1</td>\n",
       "      <td>7</td>\n",
       "    </tr>\n",
       "    <tr>\n",
       "      <th>16</th>\n",
       "      <td>2010-05-23</td>\n",
       "      <td>킹스톤불안</td>\n",
       "      <td>마약</td>\n",
       "      <td>1500</td>\n",
       "      <td>2</td>\n",
       "      <td>1</td>\n",
       "      <td>2</td>\n",
       "    </tr>\n",
       "    <tr>\n",
       "      <th>25</th>\n",
       "      <td>2017-05-23</td>\n",
       "      <td>마라위위기</td>\n",
       "      <td>테러</td>\n",
       "      <td>7500</td>\n",
       "      <td>5</td>\n",
       "      <td>1</td>\n",
       "      <td>5</td>\n",
       "    </tr>\n",
       "  </tbody>\n",
       "</table>\n",
       "</div>"
      ],
      "text/plain": [
       "         발발시점           갈등이름 갈등종류    전쟁규모  참전국수  Count  War_Scale\n",
       "1  2002-01-15    영원한자유작전-필리핀   테러  115800     2      1          2\n",
       "4  2004-04-01      이란-PJAK충돌   민족   17000     3      1          3\n",
       "5  2004-04-18  예멘의 Houthi 반란   내란   32000     7      1          7\n",
       "6  2005-08-27      파라과이인민군반란   내란    3650     3      1          3\n",
       "7  2006-01-25      파타-하마스 분쟁   테러   55000     3      1          3\n",
       "8  2006-06-12     2006년레바논전쟁   테러   10500     2      1          2\n",
       "9  2006-02-22          이라크내전   내란  748000     5      1          5\n",
       "10 2006-12-11        멕시코마약전쟁   마약  360000     4      1          4\n",
       "11 2006-12-30         소말리아전쟁   해적   35250     8      1          8\n",
       "13 2008-03-25     2008 안주안침공   내란    2500     7      1          7\n",
       "16 2010-05-23          킹스톤불안   마약    1500     2      1          2\n",
       "25 2017-05-23          마라위위기   테러    7500     5      1          5"
      ]
     },
     "execution_count": 19,
     "metadata": {},
     "output_type": "execute_result"
    }
   ],
   "source": [
    "a"
   ]
  },
  {
   "cell_type": "code",
   "execution_count": 20,
   "id": "d7564687",
   "metadata": {},
   "outputs": [],
   "source": [
    "b= ls_war[(ls_war[\"참전국수\"] > 10)&(ls_war[\"참전국수\"] <= 20)] # 11~20개국 참전 \"중간규모\""
   ]
  },
  {
   "cell_type": "code",
   "execution_count": 21,
   "id": "b9bc874b",
   "metadata": {},
   "outputs": [
    {
     "data": {
      "text/html": [
       "<div>\n",
       "<style scoped>\n",
       "    .dataframe tbody tr th:only-of-type {\n",
       "        vertical-align: middle;\n",
       "    }\n",
       "\n",
       "    .dataframe tbody tr th {\n",
       "        vertical-align: top;\n",
       "    }\n",
       "\n",
       "    .dataframe thead th {\n",
       "        text-align: right;\n",
       "    }\n",
       "</style>\n",
       "<table border=\"1\" class=\"dataframe\">\n",
       "  <thead>\n",
       "    <tr style=\"text-align: right;\">\n",
       "      <th></th>\n",
       "      <th>발발시점</th>\n",
       "      <th>갈등이름</th>\n",
       "      <th>갈등종류</th>\n",
       "      <th>전쟁규모</th>\n",
       "      <th>참전국수</th>\n",
       "      <th>Count</th>\n",
       "      <th>War_Scale</th>\n",
       "    </tr>\n",
       "  </thead>\n",
       "  <tbody>\n",
       "    <tr>\n",
       "      <th>12</th>\n",
       "      <td>2007-02-06</td>\n",
       "      <td>영원한자유작전-트랜스사하라</td>\n",
       "      <td>테러</td>\n",
       "      <td>5325</td>\n",
       "      <td>17</td>\n",
       "      <td>1</td>\n",
       "      <td>17</td>\n",
       "    </tr>\n",
       "    <tr>\n",
       "      <th>14</th>\n",
       "      <td>2009-07-26</td>\n",
       "      <td>보코하람반란</td>\n",
       "      <td>내란</td>\n",
       "      <td>10000</td>\n",
       "      <td>19</td>\n",
       "      <td>1</td>\n",
       "      <td>19</td>\n",
       "    </tr>\n",
       "    <tr>\n",
       "      <th>15</th>\n",
       "      <td>2009-01-31</td>\n",
       "      <td>소말리아내전</td>\n",
       "      <td>해적</td>\n",
       "      <td>41600</td>\n",
       "      <td>11</td>\n",
       "      <td>1</td>\n",
       "      <td>11</td>\n",
       "    </tr>\n",
       "    <tr>\n",
       "      <th>18</th>\n",
       "      <td>2011-03-15</td>\n",
       "      <td>시리아내전</td>\n",
       "      <td>내란</td>\n",
       "      <td>144600</td>\n",
       "      <td>13</td>\n",
       "      <td>1</td>\n",
       "      <td>13</td>\n",
       "    </tr>\n",
       "    <tr>\n",
       "      <th>19</th>\n",
       "      <td>2011-06-17</td>\n",
       "      <td>레바논에서의시리아내전파급</td>\n",
       "      <td>내란</td>\n",
       "      <td>13500</td>\n",
       "      <td>19</td>\n",
       "      <td>1</td>\n",
       "      <td>19</td>\n",
       "    </tr>\n",
       "    <tr>\n",
       "      <th>22</th>\n",
       "      <td>2014-05-16</td>\n",
       "      <td>리비아 내전</td>\n",
       "      <td>내란</td>\n",
       "      <td>400000</td>\n",
       "      <td>19</td>\n",
       "      <td>1</td>\n",
       "      <td>19</td>\n",
       "    </tr>\n",
       "    <tr>\n",
       "      <th>24</th>\n",
       "      <td>2014-09-16</td>\n",
       "      <td>예멘내전</td>\n",
       "      <td>내란</td>\n",
       "      <td>156000</td>\n",
       "      <td>19</td>\n",
       "      <td>1</td>\n",
       "      <td>19</td>\n",
       "    </tr>\n",
       "    <tr>\n",
       "      <th>26</th>\n",
       "      <td>2017-12-09</td>\n",
       "      <td>이라크반란</td>\n",
       "      <td>내란</td>\n",
       "      <td>188900</td>\n",
       "      <td>13</td>\n",
       "      <td>1</td>\n",
       "      <td>13</td>\n",
       "    </tr>\n",
       "    <tr>\n",
       "      <th>27</th>\n",
       "      <td>2019-05-05</td>\n",
       "      <td>2019-20 페르시아만위기</td>\n",
       "      <td>민족</td>\n",
       "      <td>10000</td>\n",
       "      <td>13</td>\n",
       "      <td>1</td>\n",
       "      <td>13</td>\n",
       "    </tr>\n",
       "  </tbody>\n",
       "</table>\n",
       "</div>"
      ],
      "text/plain": [
       "         발발시점             갈등이름 갈등종류    전쟁규모  참전국수  Count  War_Scale\n",
       "12 2007-02-06   영원한자유작전-트랜스사하라   테러    5325    17      1         17\n",
       "14 2009-07-26           보코하람반란   내란   10000    19      1         19\n",
       "15 2009-01-31           소말리아내전   해적   41600    11      1         11\n",
       "18 2011-03-15            시리아내전   내란  144600    13      1         13\n",
       "19 2011-06-17    레바논에서의시리아내전파급   내란   13500    19      1         19\n",
       "22 2014-05-16           리비아 내전   내란  400000    19      1         19\n",
       "24 2014-09-16             예멘내전   내란  156000    19      1         19\n",
       "26 2017-12-09            이라크반란   내란  188900    13      1         13\n",
       "27 2019-05-05  2019-20 페르시아만위기   민족   10000    13      1         13"
      ]
     },
     "execution_count": 21,
     "metadata": {},
     "output_type": "execute_result"
    }
   ],
   "source": [
    "b"
   ]
  },
  {
   "cell_type": "code",
   "execution_count": 22,
   "id": "8ae99636",
   "metadata": {},
   "outputs": [],
   "source": [
    "c= ls_war[(ls_war[\"참전국수\"] > 20)] # 20개국 초과 참전 \"대규모\""
   ]
  },
  {
   "cell_type": "code",
   "execution_count": 23,
   "id": "fbc37df7",
   "metadata": {},
   "outputs": [
    {
     "data": {
      "text/html": [
       "<div>\n",
       "<style scoped>\n",
       "    .dataframe tbody tr th:only-of-type {\n",
       "        vertical-align: middle;\n",
       "    }\n",
       "\n",
       "    .dataframe tbody tr th {\n",
       "        vertical-align: top;\n",
       "    }\n",
       "\n",
       "    .dataframe thead th {\n",
       "        text-align: right;\n",
       "    }\n",
       "</style>\n",
       "<table border=\"1\" class=\"dataframe\">\n",
       "  <thead>\n",
       "    <tr style=\"text-align: right;\">\n",
       "      <th></th>\n",
       "      <th>발발시점</th>\n",
       "      <th>갈등이름</th>\n",
       "      <th>갈등종류</th>\n",
       "      <th>전쟁규모</th>\n",
       "      <th>참전국수</th>\n",
       "      <th>Count</th>\n",
       "      <th>War_Scale</th>\n",
       "    </tr>\n",
       "  </thead>\n",
       "  <tbody>\n",
       "    <tr>\n",
       "      <th>0</th>\n",
       "      <td>2001-09-11</td>\n",
       "      <td>테러와의전쟁</td>\n",
       "      <td>테러</td>\n",
       "      <td>1000000</td>\n",
       "      <td>48</td>\n",
       "      <td>1</td>\n",
       "      <td>48</td>\n",
       "    </tr>\n",
       "    <tr>\n",
       "      <th>2</th>\n",
       "      <td>2002-10-07</td>\n",
       "      <td>영원한자유작전-아프리카의뿔</td>\n",
       "      <td>테러</td>\n",
       "      <td>500000</td>\n",
       "      <td>38</td>\n",
       "      <td>1</td>\n",
       "      <td>38</td>\n",
       "    </tr>\n",
       "    <tr>\n",
       "      <th>3</th>\n",
       "      <td>2003-03-20</td>\n",
       "      <td>이라크전쟁</td>\n",
       "      <td>테러</td>\n",
       "      <td>1000000</td>\n",
       "      <td>41</td>\n",
       "      <td>1</td>\n",
       "      <td>41</td>\n",
       "    </tr>\n",
       "    <tr>\n",
       "      <th>17</th>\n",
       "      <td>2011-02-15</td>\n",
       "      <td>리비아내전</td>\n",
       "      <td>내란</td>\n",
       "      <td>37000</td>\n",
       "      <td>21</td>\n",
       "      <td>1</td>\n",
       "      <td>21</td>\n",
       "    </tr>\n",
       "    <tr>\n",
       "      <th>20</th>\n",
       "      <td>2012-01-16</td>\n",
       "      <td>북부말리전쟁</td>\n",
       "      <td>테러</td>\n",
       "      <td>24764</td>\n",
       "      <td>57</td>\n",
       "      <td>1</td>\n",
       "      <td>57</td>\n",
       "    </tr>\n",
       "    <tr>\n",
       "      <th>21</th>\n",
       "      <td>2013-12-30</td>\n",
       "      <td>이라크 내전</td>\n",
       "      <td>내란</td>\n",
       "      <td>770000</td>\n",
       "      <td>22</td>\n",
       "      <td>1</td>\n",
       "      <td>22</td>\n",
       "    </tr>\n",
       "    <tr>\n",
       "      <th>23</th>\n",
       "      <td>2014-06-13</td>\n",
       "      <td>ISIL에대한국제군사개입</td>\n",
       "      <td>테러</td>\n",
       "      <td>472260</td>\n",
       "      <td>41</td>\n",
       "      <td>1</td>\n",
       "      <td>41</td>\n",
       "    </tr>\n",
       "  </tbody>\n",
       "</table>\n",
       "</div>"
      ],
      "text/plain": [
       "         발발시점            갈등이름 갈등종류     전쟁규모  참전국수  Count  War_Scale\n",
       "0  2001-09-11          테러와의전쟁   테러  1000000    48      1         48\n",
       "2  2002-10-07  영원한자유작전-아프리카의뿔   테러   500000    38      1         38\n",
       "3  2003-03-20           이라크전쟁   테러  1000000    41      1         41\n",
       "17 2011-02-15           리비아내전   내란    37000    21      1         21\n",
       "20 2012-01-16          북부말리전쟁   테러    24764    57      1         57\n",
       "21 2013-12-30          이라크 내전   내란   770000    22      1         22\n",
       "23 2014-06-13   ISIL에대한국제군사개입   테러   472260    41      1         41"
      ]
     },
     "execution_count": 23,
     "metadata": {},
     "output_type": "execute_result"
    }
   ],
   "source": [
    "c"
   ]
  },
  {
   "cell_type": "code",
   "execution_count": 24,
   "id": "298a335e",
   "metadata": {},
   "outputs": [],
   "source": [
    "#### (그래프) 2000년이후 전쟁의 참전국 규모에 따른 전쟁수(소,중,대)"
   ]
  },
  {
   "cell_type": "code",
   "execution_count": null,
   "id": "8c088d69",
   "metadata": {},
   "outputs": [],
   "source": []
  },
  {
   "cell_type": "code",
   "execution_count": 25,
   "id": "c199b824",
   "metadata": {},
   "outputs": [],
   "source": [
    "### (1)-3 전쟁규모별 (병력수 1k이하, 10k미만, 10k이상) 전쟁수 count"
   ]
  },
  {
   "cell_type": "code",
   "execution_count": 26,
   "id": "21a1c731",
   "metadata": {},
   "outputs": [],
   "source": [
    "a_1= ls_war[ls_war[\"전쟁규모\"]<30*1000] # 병력 3만미만 참전 \"S1\""
   ]
  },
  {
   "cell_type": "code",
   "execution_count": 27,
   "id": "3e5e1dd4",
   "metadata": {},
   "outputs": [
    {
     "data": {
      "text/html": [
       "<div>\n",
       "<style scoped>\n",
       "    .dataframe tbody tr th:only-of-type {\n",
       "        vertical-align: middle;\n",
       "    }\n",
       "\n",
       "    .dataframe tbody tr th {\n",
       "        vertical-align: top;\n",
       "    }\n",
       "\n",
       "    .dataframe thead th {\n",
       "        text-align: right;\n",
       "    }\n",
       "</style>\n",
       "<table border=\"1\" class=\"dataframe\">\n",
       "  <thead>\n",
       "    <tr style=\"text-align: right;\">\n",
       "      <th></th>\n",
       "      <th>발발시점</th>\n",
       "      <th>갈등이름</th>\n",
       "      <th>갈등종류</th>\n",
       "      <th>전쟁규모</th>\n",
       "      <th>참전국수</th>\n",
       "      <th>Count</th>\n",
       "      <th>War_Scale</th>\n",
       "    </tr>\n",
       "  </thead>\n",
       "  <tbody>\n",
       "    <tr>\n",
       "      <th>4</th>\n",
       "      <td>2004-04-01</td>\n",
       "      <td>이란-PJAK충돌</td>\n",
       "      <td>민족</td>\n",
       "      <td>17000</td>\n",
       "      <td>3</td>\n",
       "      <td>1</td>\n",
       "      <td>3</td>\n",
       "    </tr>\n",
       "    <tr>\n",
       "      <th>6</th>\n",
       "      <td>2005-08-27</td>\n",
       "      <td>파라과이인민군반란</td>\n",
       "      <td>내란</td>\n",
       "      <td>3650</td>\n",
       "      <td>3</td>\n",
       "      <td>1</td>\n",
       "      <td>3</td>\n",
       "    </tr>\n",
       "    <tr>\n",
       "      <th>8</th>\n",
       "      <td>2006-06-12</td>\n",
       "      <td>2006년레바논전쟁</td>\n",
       "      <td>테러</td>\n",
       "      <td>10500</td>\n",
       "      <td>2</td>\n",
       "      <td>1</td>\n",
       "      <td>2</td>\n",
       "    </tr>\n",
       "    <tr>\n",
       "      <th>12</th>\n",
       "      <td>2007-02-06</td>\n",
       "      <td>영원한자유작전-트랜스사하라</td>\n",
       "      <td>테러</td>\n",
       "      <td>5325</td>\n",
       "      <td>17</td>\n",
       "      <td>1</td>\n",
       "      <td>17</td>\n",
       "    </tr>\n",
       "    <tr>\n",
       "      <th>13</th>\n",
       "      <td>2008-03-25</td>\n",
       "      <td>2008 안주안침공</td>\n",
       "      <td>내란</td>\n",
       "      <td>2500</td>\n",
       "      <td>7</td>\n",
       "      <td>1</td>\n",
       "      <td>7</td>\n",
       "    </tr>\n",
       "    <tr>\n",
       "      <th>14</th>\n",
       "      <td>2009-07-26</td>\n",
       "      <td>보코하람반란</td>\n",
       "      <td>내란</td>\n",
       "      <td>10000</td>\n",
       "      <td>19</td>\n",
       "      <td>1</td>\n",
       "      <td>19</td>\n",
       "    </tr>\n",
       "    <tr>\n",
       "      <th>16</th>\n",
       "      <td>2010-05-23</td>\n",
       "      <td>킹스톤불안</td>\n",
       "      <td>마약</td>\n",
       "      <td>1500</td>\n",
       "      <td>2</td>\n",
       "      <td>1</td>\n",
       "      <td>2</td>\n",
       "    </tr>\n",
       "    <tr>\n",
       "      <th>19</th>\n",
       "      <td>2011-06-17</td>\n",
       "      <td>레바논에서의시리아내전파급</td>\n",
       "      <td>내란</td>\n",
       "      <td>13500</td>\n",
       "      <td>19</td>\n",
       "      <td>1</td>\n",
       "      <td>19</td>\n",
       "    </tr>\n",
       "    <tr>\n",
       "      <th>20</th>\n",
       "      <td>2012-01-16</td>\n",
       "      <td>북부말리전쟁</td>\n",
       "      <td>테러</td>\n",
       "      <td>24764</td>\n",
       "      <td>57</td>\n",
       "      <td>1</td>\n",
       "      <td>57</td>\n",
       "    </tr>\n",
       "    <tr>\n",
       "      <th>25</th>\n",
       "      <td>2017-05-23</td>\n",
       "      <td>마라위위기</td>\n",
       "      <td>테러</td>\n",
       "      <td>7500</td>\n",
       "      <td>5</td>\n",
       "      <td>1</td>\n",
       "      <td>5</td>\n",
       "    </tr>\n",
       "    <tr>\n",
       "      <th>27</th>\n",
       "      <td>2019-05-05</td>\n",
       "      <td>2019-20 페르시아만위기</td>\n",
       "      <td>민족</td>\n",
       "      <td>10000</td>\n",
       "      <td>13</td>\n",
       "      <td>1</td>\n",
       "      <td>13</td>\n",
       "    </tr>\n",
       "  </tbody>\n",
       "</table>\n",
       "</div>"
      ],
      "text/plain": [
       "         발발시점             갈등이름 갈등종류   전쟁규모  참전국수  Count  War_Scale\n",
       "4  2004-04-01        이란-PJAK충돌   민족  17000     3      1          3\n",
       "6  2005-08-27        파라과이인민군반란   내란   3650     3      1          3\n",
       "8  2006-06-12       2006년레바논전쟁   테러  10500     2      1          2\n",
       "12 2007-02-06   영원한자유작전-트랜스사하라   테러   5325    17      1         17\n",
       "13 2008-03-25       2008 안주안침공   내란   2500     7      1          7\n",
       "14 2009-07-26           보코하람반란   내란  10000    19      1         19\n",
       "16 2010-05-23            킹스톤불안   마약   1500     2      1          2\n",
       "19 2011-06-17    레바논에서의시리아내전파급   내란  13500    19      1         19\n",
       "20 2012-01-16           북부말리전쟁   테러  24764    57      1         57\n",
       "25 2017-05-23            마라위위기   테러   7500     5      1          5\n",
       "27 2019-05-05  2019-20 페르시아만위기   민족  10000    13      1         13"
      ]
     },
     "execution_count": 27,
     "metadata": {},
     "output_type": "execute_result"
    }
   ],
   "source": [
    "a_1"
   ]
  },
  {
   "cell_type": "code",
   "execution_count": 28,
   "id": "763fe3aa",
   "metadata": {},
   "outputs": [],
   "source": [
    "b_2= ls_war[(ls_war[\"전쟁규모\"] >= 30*1000)&(ls_war[\"전쟁규모\"] < 500*1000)] # 3~50만병력 참전 \"S2\""
   ]
  },
  {
   "cell_type": "code",
   "execution_count": 29,
   "id": "57d2d749",
   "metadata": {},
   "outputs": [
    {
     "data": {
      "text/html": [
       "<div>\n",
       "<style scoped>\n",
       "    .dataframe tbody tr th:only-of-type {\n",
       "        vertical-align: middle;\n",
       "    }\n",
       "\n",
       "    .dataframe tbody tr th {\n",
       "        vertical-align: top;\n",
       "    }\n",
       "\n",
       "    .dataframe thead th {\n",
       "        text-align: right;\n",
       "    }\n",
       "</style>\n",
       "<table border=\"1\" class=\"dataframe\">\n",
       "  <thead>\n",
       "    <tr style=\"text-align: right;\">\n",
       "      <th></th>\n",
       "      <th>발발시점</th>\n",
       "      <th>갈등이름</th>\n",
       "      <th>갈등종류</th>\n",
       "      <th>전쟁규모</th>\n",
       "      <th>참전국수</th>\n",
       "      <th>Count</th>\n",
       "      <th>War_Scale</th>\n",
       "    </tr>\n",
       "  </thead>\n",
       "  <tbody>\n",
       "    <tr>\n",
       "      <th>1</th>\n",
       "      <td>2002-01-15</td>\n",
       "      <td>영원한자유작전-필리핀</td>\n",
       "      <td>테러</td>\n",
       "      <td>115800</td>\n",
       "      <td>2</td>\n",
       "      <td>1</td>\n",
       "      <td>2</td>\n",
       "    </tr>\n",
       "    <tr>\n",
       "      <th>5</th>\n",
       "      <td>2004-04-18</td>\n",
       "      <td>예멘의 Houthi 반란</td>\n",
       "      <td>내란</td>\n",
       "      <td>32000</td>\n",
       "      <td>7</td>\n",
       "      <td>1</td>\n",
       "      <td>7</td>\n",
       "    </tr>\n",
       "    <tr>\n",
       "      <th>7</th>\n",
       "      <td>2006-01-25</td>\n",
       "      <td>파타-하마스 분쟁</td>\n",
       "      <td>테러</td>\n",
       "      <td>55000</td>\n",
       "      <td>3</td>\n",
       "      <td>1</td>\n",
       "      <td>3</td>\n",
       "    </tr>\n",
       "    <tr>\n",
       "      <th>10</th>\n",
       "      <td>2006-12-11</td>\n",
       "      <td>멕시코마약전쟁</td>\n",
       "      <td>마약</td>\n",
       "      <td>360000</td>\n",
       "      <td>4</td>\n",
       "      <td>1</td>\n",
       "      <td>4</td>\n",
       "    </tr>\n",
       "    <tr>\n",
       "      <th>11</th>\n",
       "      <td>2006-12-30</td>\n",
       "      <td>소말리아전쟁</td>\n",
       "      <td>해적</td>\n",
       "      <td>35250</td>\n",
       "      <td>8</td>\n",
       "      <td>1</td>\n",
       "      <td>8</td>\n",
       "    </tr>\n",
       "    <tr>\n",
       "      <th>15</th>\n",
       "      <td>2009-01-31</td>\n",
       "      <td>소말리아내전</td>\n",
       "      <td>해적</td>\n",
       "      <td>41600</td>\n",
       "      <td>11</td>\n",
       "      <td>1</td>\n",
       "      <td>11</td>\n",
       "    </tr>\n",
       "    <tr>\n",
       "      <th>17</th>\n",
       "      <td>2011-02-15</td>\n",
       "      <td>리비아내전</td>\n",
       "      <td>내란</td>\n",
       "      <td>37000</td>\n",
       "      <td>21</td>\n",
       "      <td>1</td>\n",
       "      <td>21</td>\n",
       "    </tr>\n",
       "    <tr>\n",
       "      <th>18</th>\n",
       "      <td>2011-03-15</td>\n",
       "      <td>시리아내전</td>\n",
       "      <td>내란</td>\n",
       "      <td>144600</td>\n",
       "      <td>13</td>\n",
       "      <td>1</td>\n",
       "      <td>13</td>\n",
       "    </tr>\n",
       "    <tr>\n",
       "      <th>22</th>\n",
       "      <td>2014-05-16</td>\n",
       "      <td>리비아 내전</td>\n",
       "      <td>내란</td>\n",
       "      <td>400000</td>\n",
       "      <td>19</td>\n",
       "      <td>1</td>\n",
       "      <td>19</td>\n",
       "    </tr>\n",
       "    <tr>\n",
       "      <th>23</th>\n",
       "      <td>2014-06-13</td>\n",
       "      <td>ISIL에대한국제군사개입</td>\n",
       "      <td>테러</td>\n",
       "      <td>472260</td>\n",
       "      <td>41</td>\n",
       "      <td>1</td>\n",
       "      <td>41</td>\n",
       "    </tr>\n",
       "    <tr>\n",
       "      <th>24</th>\n",
       "      <td>2014-09-16</td>\n",
       "      <td>예멘내전</td>\n",
       "      <td>내란</td>\n",
       "      <td>156000</td>\n",
       "      <td>19</td>\n",
       "      <td>1</td>\n",
       "      <td>19</td>\n",
       "    </tr>\n",
       "    <tr>\n",
       "      <th>26</th>\n",
       "      <td>2017-12-09</td>\n",
       "      <td>이라크반란</td>\n",
       "      <td>내란</td>\n",
       "      <td>188900</td>\n",
       "      <td>13</td>\n",
       "      <td>1</td>\n",
       "      <td>13</td>\n",
       "    </tr>\n",
       "  </tbody>\n",
       "</table>\n",
       "</div>"
      ],
      "text/plain": [
       "         발발시점           갈등이름 갈등종류    전쟁규모  참전국수  Count  War_Scale\n",
       "1  2002-01-15    영원한자유작전-필리핀   테러  115800     2      1          2\n",
       "5  2004-04-18  예멘의 Houthi 반란   내란   32000     7      1          7\n",
       "7  2006-01-25      파타-하마스 분쟁   테러   55000     3      1          3\n",
       "10 2006-12-11        멕시코마약전쟁   마약  360000     4      1          4\n",
       "11 2006-12-30         소말리아전쟁   해적   35250     8      1          8\n",
       "15 2009-01-31         소말리아내전   해적   41600    11      1         11\n",
       "17 2011-02-15          리비아내전   내란   37000    21      1         21\n",
       "18 2011-03-15          시리아내전   내란  144600    13      1         13\n",
       "22 2014-05-16         리비아 내전   내란  400000    19      1         19\n",
       "23 2014-06-13  ISIL에대한국제군사개입   테러  472260    41      1         41\n",
       "24 2014-09-16           예멘내전   내란  156000    19      1         19\n",
       "26 2017-12-09          이라크반란   내란  188900    13      1         13"
      ]
     },
     "execution_count": 29,
     "metadata": {},
     "output_type": "execute_result"
    }
   ],
   "source": [
    "b_2"
   ]
  },
  {
   "cell_type": "code",
   "execution_count": 30,
   "id": "51ea56c1",
   "metadata": {},
   "outputs": [],
   "source": [
    "c= ls_war[(ls_war[\"전쟁규모\"] >= 500*1000)] # 50만이상 병력투입"
   ]
  },
  {
   "cell_type": "code",
   "execution_count": 31,
   "id": "458c1c30",
   "metadata": {},
   "outputs": [
    {
     "data": {
      "text/html": [
       "<div>\n",
       "<style scoped>\n",
       "    .dataframe tbody tr th:only-of-type {\n",
       "        vertical-align: middle;\n",
       "    }\n",
       "\n",
       "    .dataframe tbody tr th {\n",
       "        vertical-align: top;\n",
       "    }\n",
       "\n",
       "    .dataframe thead th {\n",
       "        text-align: right;\n",
       "    }\n",
       "</style>\n",
       "<table border=\"1\" class=\"dataframe\">\n",
       "  <thead>\n",
       "    <tr style=\"text-align: right;\">\n",
       "      <th></th>\n",
       "      <th>발발시점</th>\n",
       "      <th>갈등이름</th>\n",
       "      <th>갈등종류</th>\n",
       "      <th>전쟁규모</th>\n",
       "      <th>참전국수</th>\n",
       "      <th>Count</th>\n",
       "      <th>War_Scale</th>\n",
       "    </tr>\n",
       "  </thead>\n",
       "  <tbody>\n",
       "    <tr>\n",
       "      <th>0</th>\n",
       "      <td>2001-09-11</td>\n",
       "      <td>테러와의전쟁</td>\n",
       "      <td>테러</td>\n",
       "      <td>1000000</td>\n",
       "      <td>48</td>\n",
       "      <td>1</td>\n",
       "      <td>48</td>\n",
       "    </tr>\n",
       "    <tr>\n",
       "      <th>2</th>\n",
       "      <td>2002-10-07</td>\n",
       "      <td>영원한자유작전-아프리카의뿔</td>\n",
       "      <td>테러</td>\n",
       "      <td>500000</td>\n",
       "      <td>38</td>\n",
       "      <td>1</td>\n",
       "      <td>38</td>\n",
       "    </tr>\n",
       "    <tr>\n",
       "      <th>3</th>\n",
       "      <td>2003-03-20</td>\n",
       "      <td>이라크전쟁</td>\n",
       "      <td>테러</td>\n",
       "      <td>1000000</td>\n",
       "      <td>41</td>\n",
       "      <td>1</td>\n",
       "      <td>41</td>\n",
       "    </tr>\n",
       "    <tr>\n",
       "      <th>9</th>\n",
       "      <td>2006-02-22</td>\n",
       "      <td>이라크내전</td>\n",
       "      <td>내란</td>\n",
       "      <td>748000</td>\n",
       "      <td>5</td>\n",
       "      <td>1</td>\n",
       "      <td>5</td>\n",
       "    </tr>\n",
       "    <tr>\n",
       "      <th>21</th>\n",
       "      <td>2013-12-30</td>\n",
       "      <td>이라크 내전</td>\n",
       "      <td>내란</td>\n",
       "      <td>770000</td>\n",
       "      <td>22</td>\n",
       "      <td>1</td>\n",
       "      <td>22</td>\n",
       "    </tr>\n",
       "  </tbody>\n",
       "</table>\n",
       "</div>"
      ],
      "text/plain": [
       "         발발시점            갈등이름 갈등종류     전쟁규모  참전국수  Count  War_Scale\n",
       "0  2001-09-11          테러와의전쟁   테러  1000000    48      1         48\n",
       "2  2002-10-07  영원한자유작전-아프리카의뿔   테러   500000    38      1         38\n",
       "3  2003-03-20           이라크전쟁   테러  1000000    41      1         41\n",
       "9  2006-02-22           이라크내전   내란   748000     5      1          5\n",
       "21 2013-12-30          이라크 내전   내란   770000    22      1         22"
      ]
     },
     "execution_count": 31,
     "metadata": {},
     "output_type": "execute_result"
    }
   ],
   "source": [
    "c"
   ]
  },
  {
   "cell_type": "code",
   "execution_count": 32,
   "id": "8b75227e",
   "metadata": {},
   "outputs": [],
   "source": [
    "#### (그래프) 2000년이후 전쟁병력규모에 따른 전쟁수"
   ]
  },
  {
   "cell_type": "code",
   "execution_count": null,
   "id": "edc79cf3",
   "metadata": {},
   "outputs": [],
   "source": []
  },
  {
   "cell_type": "code",
   "execution_count": 33,
   "id": "b6e04939",
   "metadata": {},
   "outputs": [],
   "source": [
    "## (2) Symbol별 ABS_idx"
   ]
  },
  {
   "cell_type": "code",
   "execution_count": 34,
   "id": "17cf2829",
   "metadata": {},
   "outputs": [
    {
     "data": {
      "text/html": [
       "<div>\n",
       "<style scoped>\n",
       "    .dataframe tbody tr th:only-of-type {\n",
       "        vertical-align: middle;\n",
       "    }\n",
       "\n",
       "    .dataframe tbody tr th {\n",
       "        vertical-align: top;\n",
       "    }\n",
       "\n",
       "    .dataframe thead th {\n",
       "        text-align: right;\n",
       "    }\n",
       "</style>\n",
       "<table border=\"1\" class=\"dataframe\">\n",
       "  <thead>\n",
       "    <tr style=\"text-align: right;\">\n",
       "      <th></th>\n",
       "      <th>Change</th>\n",
       "      <th>Symbol</th>\n",
       "      <th>Change_idx</th>\n",
       "      <th>ABS_idx</th>\n",
       "      <th>Avg_change</th>\n",
       "      <th>Start_date</th>\n",
       "      <th>War_genre</th>\n",
       "      <th>War_name</th>\n",
       "      <th>War_volume</th>\n",
       "      <th>Count_country</th>\n",
       "      <th>Count</th>\n",
       "    </tr>\n",
       "  </thead>\n",
       "  <tbody>\n",
       "    <tr>\n",
       "      <th>0</th>\n",
       "      <td>-0.0323</td>\n",
       "      <td>AAPL</td>\n",
       "      <td>269.0</td>\n",
       "      <td>269.0</td>\n",
       "      <td>-0.012</td>\n",
       "      <td>2001-09-11</td>\n",
       "      <td>테러</td>\n",
       "      <td>테러와의전쟁</td>\n",
       "      <td>1000000</td>\n",
       "      <td>48</td>\n",
       "      <td>1</td>\n",
       "    </tr>\n",
       "    <tr>\n",
       "      <th>1</th>\n",
       "      <td>0.0198</td>\n",
       "      <td>ABT</td>\n",
       "      <td>-inf</td>\n",
       "      <td>inf</td>\n",
       "      <td>0.000</td>\n",
       "      <td>2001-09-11</td>\n",
       "      <td>테러</td>\n",
       "      <td>테러와의전쟁</td>\n",
       "      <td>1000000</td>\n",
       "      <td>48</td>\n",
       "      <td>1</td>\n",
       "    </tr>\n",
       "    <tr>\n",
       "      <th>2</th>\n",
       "      <td>-0.0363</td>\n",
       "      <td>ACN</td>\n",
       "      <td>-907.0</td>\n",
       "      <td>907.0</td>\n",
       "      <td>0.004</td>\n",
       "      <td>2001-09-11</td>\n",
       "      <td>테러</td>\n",
       "      <td>테러와의전쟁</td>\n",
       "      <td>1000000</td>\n",
       "      <td>48</td>\n",
       "      <td>1</td>\n",
       "    </tr>\n",
       "    <tr>\n",
       "      <th>3</th>\n",
       "      <td>-0.0797</td>\n",
       "      <td>ADBE</td>\n",
       "      <td>1992.0</td>\n",
       "      <td>1992.0</td>\n",
       "      <td>-0.004</td>\n",
       "      <td>2001-09-11</td>\n",
       "      <td>테러</td>\n",
       "      <td>테러와의전쟁</td>\n",
       "      <td>1000000</td>\n",
       "      <td>48</td>\n",
       "      <td>1</td>\n",
       "    </tr>\n",
       "    <tr>\n",
       "      <th>4</th>\n",
       "      <td>-0.1321</td>\n",
       "      <td>AMZN</td>\n",
       "      <td>2642.0</td>\n",
       "      <td>2642.0</td>\n",
       "      <td>-0.005</td>\n",
       "      <td>2001-09-11</td>\n",
       "      <td>테러</td>\n",
       "      <td>테러와의전쟁</td>\n",
       "      <td>1000000</td>\n",
       "      <td>48</td>\n",
       "      <td>1</td>\n",
       "    </tr>\n",
       "  </tbody>\n",
       "</table>\n",
       "</div>"
      ],
      "text/plain": [
       "   Change Symbol  Change_idx  ABS_idx  Avg_change Start_date War_genre  \\\n",
       "0 -0.0323   AAPL       269.0    269.0      -0.012 2001-09-11        테러   \n",
       "1  0.0198    ABT        -inf      inf       0.000 2001-09-11        테러   \n",
       "2 -0.0363    ACN      -907.0    907.0       0.004 2001-09-11        테러   \n",
       "3 -0.0797   ADBE      1992.0   1992.0      -0.004 2001-09-11        테러   \n",
       "4 -0.1321   AMZN      2642.0   2642.0      -0.005 2001-09-11        테러   \n",
       "\n",
       "  War_name  War_volume  Count_country  Count  \n",
       "0   테러와의전쟁     1000000             48      1  \n",
       "1   테러와의전쟁     1000000             48      1  \n",
       "2   테러와의전쟁     1000000             48      1  \n",
       "3   테러와의전쟁     1000000             48      1  \n",
       "4   테러와의전쟁     1000000             48      1  "
      ]
     },
     "execution_count": 34,
     "metadata": {},
     "output_type": "execute_result"
    }
   ],
   "source": [
    "df_final.head()"
   ]
  },
  {
   "cell_type": "code",
   "execution_count": 35,
   "id": "eb276883",
   "metadata": {},
   "outputs": [],
   "source": [
    "### (2)-1 ABS_idx 0~199 / 200이상 Sympbol 수 -> 비율도 보기"
   ]
  },
  {
   "cell_type": "code",
   "execution_count": 36,
   "id": "f9f2a313",
   "metadata": {},
   "outputs": [],
   "source": [
    "s_count_1 = df_final[(df_final[\"ABS_idx\"] < 200)]"
   ]
  },
  {
   "cell_type": "code",
   "execution_count": 37,
   "id": "b28a7cb8",
   "metadata": {},
   "outputs": [],
   "source": [
    "s_count_2 = df_final[(df_final[\"ABS_idx\"] >= 200)]"
   ]
  },
  {
   "cell_type": "code",
   "execution_count": 38,
   "id": "b128cc9e",
   "metadata": {},
   "outputs": [
    {
     "data": {
      "text/plain": [
       "(740, 775)"
      ]
     },
     "execution_count": 38,
     "metadata": {},
     "output_type": "execute_result"
    }
   ],
   "source": [
    "len(s_count_1), len(s_count_2)"
   ]
  },
  {
   "cell_type": "code",
   "execution_count": 39,
   "id": "17aec5d3",
   "metadata": {},
   "outputs": [],
   "source": [
    "### ABS 200기준 전체 심볼비중\n",
    "#### 전쟁 중 발생된 1500개의 ABS_idx 값 중 200이상인 값은 51%"
   ]
  },
  {
   "cell_type": "code",
   "execution_count": 40,
   "id": "16d583be",
   "metadata": {},
   "outputs": [
    {
     "data": {
      "text/plain": [
       "(740, 775, 0.51)"
      ]
     },
     "execution_count": 40,
     "metadata": {},
     "output_type": "execute_result"
    }
   ],
   "source": [
    "s_count_ratio = len(s_count_2) / (len(s_count_1) + len(s_count_2) )\n",
    "len(s_count_1), len(s_count_2), round(s_count_ratio,2)"
   ]
  },
  {
   "cell_type": "code",
   "execution_count": 41,
   "id": "387769bc",
   "metadata": {},
   "outputs": [],
   "source": [
    "#### 전쟁종류별비중"
   ]
  },
  {
   "cell_type": "code",
   "execution_count": 42,
   "id": "a6351fc0",
   "metadata": {},
   "outputs": [],
   "source": [
    "##### 내란"
   ]
  },
  {
   "cell_type": "code",
   "execution_count": 43,
   "id": "bb8ff0c7",
   "metadata": {},
   "outputs": [
    {
     "name": "stderr",
     "output_type": "stream",
     "text": [
      "c:\\users\\metahong\\anaconda3\\envs\\fc17\\lib\\site-packages\\ipykernel_launcher.py:2: UserWarning: Boolean Series key will be reindexed to match DataFrame index.\n",
      "  \n",
      "c:\\users\\metahong\\anaconda3\\envs\\fc17\\lib\\site-packages\\ipykernel_launcher.py:3: UserWarning: Boolean Series key will be reindexed to match DataFrame index.\n",
      "  This is separate from the ipykernel package so we can avoid doing imports until\n"
     ]
    },
    {
     "data": {
      "text/plain": [
       "(376, 349, 0.48)"
      ]
     },
     "execution_count": 43,
     "metadata": {},
     "output_type": "execute_result"
    }
   ],
   "source": [
    "s_count_11 = df_final[(df_final[\"War_genre\"] ==  \"내란\")]\n",
    "s_count_11_1 = s_count_11[(df_final[\"ABS_idx\"] < 200)]\n",
    "s_count_11_2 = s_count_11[(df_final[\"ABS_idx\"] >= 200)]\n",
    "s_count_11_ratio = len(s_count_11_2) / (len(s_count_11_1)+len(s_count_11_2))\n",
    "len(s_count_11_1), len(s_count_11_2), round(s_count_11_ratio, 2)"
   ]
  },
  {
   "cell_type": "code",
   "execution_count": 44,
   "id": "e36058cc",
   "metadata": {},
   "outputs": [
    {
     "name": "stderr",
     "output_type": "stream",
     "text": [
      "c:\\users\\metahong\\anaconda3\\envs\\fc17\\lib\\site-packages\\ipykernel_launcher.py:2: UserWarning: Boolean Series key will be reindexed to match DataFrame index.\n",
      "  \n",
      "c:\\users\\metahong\\anaconda3\\envs\\fc17\\lib\\site-packages\\ipykernel_launcher.py:3: UserWarning: Boolean Series key will be reindexed to match DataFrame index.\n",
      "  This is separate from the ipykernel package so we can avoid doing imports until\n"
     ]
    },
    {
     "data": {
      "text/plain": [
       "(31, 21, 0.4)"
      ]
     },
     "execution_count": 44,
     "metadata": {},
     "output_type": "execute_result"
    }
   ],
   "source": [
    "s_count_12 = df_final[(df_final[\"War_genre\"] ==  \"민족\")]\n",
    "s_count_12_1 = s_count_12[(df_final[\"ABS_idx\"] < 200)]\n",
    "s_count_12_2 = s_count_12[(df_final[\"ABS_idx\"] >= 200)]\n",
    "s_count_12_ratio = len(s_count_12_2) / (len(s_count_12_1)+len(s_count_12_2))\n",
    "len(s_count_12_1), len(s_count_12_2), round(s_count_12_ratio, 2)"
   ]
  },
  {
   "cell_type": "code",
   "execution_count": 45,
   "id": "ba42f780",
   "metadata": {},
   "outputs": [
    {
     "name": "stderr",
     "output_type": "stream",
     "text": [
      "c:\\users\\metahong\\anaconda3\\envs\\fc17\\lib\\site-packages\\ipykernel_launcher.py:2: UserWarning: Boolean Series key will be reindexed to match DataFrame index.\n",
      "  \n",
      "c:\\users\\metahong\\anaconda3\\envs\\fc17\\lib\\site-packages\\ipykernel_launcher.py:3: UserWarning: Boolean Series key will be reindexed to match DataFrame index.\n",
      "  This is separate from the ipykernel package so we can avoid doing imports until\n"
     ]
    },
    {
     "data": {
      "text/plain": [
       "(221, 250, 0.53)"
      ]
     },
     "execution_count": 45,
     "metadata": {},
     "output_type": "execute_result"
    }
   ],
   "source": [
    "s_count_13 = df_final[(df_final[\"War_genre\"] ==  \"테러\")]\n",
    "s_count_13_1 = s_count_13[(df_final[\"ABS_idx\"] < 200)]\n",
    "s_count_13_2 = s_count_13[(df_final[\"ABS_idx\"] >= 200)]\n",
    "s_count_13_ratio = len(s_count_13_2) / (len(s_count_13_1)+len(s_count_13_2))\n",
    "len(s_count_13_1), len(s_count_13_2), round(s_count_13_ratio, 2)"
   ]
  },
  {
   "cell_type": "code",
   "execution_count": 46,
   "id": "5f5895f5",
   "metadata": {},
   "outputs": [
    {
     "name": "stderr",
     "output_type": "stream",
     "text": [
      "c:\\users\\metahong\\anaconda3\\envs\\fc17\\lib\\site-packages\\ipykernel_launcher.py:2: UserWarning: Boolean Series key will be reindexed to match DataFrame index.\n",
      "  \n",
      "c:\\users\\metahong\\anaconda3\\envs\\fc17\\lib\\site-packages\\ipykernel_launcher.py:3: UserWarning: Boolean Series key will be reindexed to match DataFrame index.\n",
      "  This is separate from the ipykernel package so we can avoid doing imports until\n"
     ]
    },
    {
     "data": {
      "text/plain": [
       "(68, 67, 0.5)"
      ]
     },
     "execution_count": 46,
     "metadata": {},
     "output_type": "execute_result"
    }
   ],
   "source": [
    "s_count_14 = df_final[(df_final[\"War_genre\"] ==  \"마약\")]\n",
    "s_count_14_1 = s_count_14[(df_final[\"ABS_idx\"] < 200)]\n",
    "s_count_14_2 = s_count_14[(df_final[\"ABS_idx\"] >= 200)]\n",
    "s_count_14_ratio = len(s_count_14_2) / (len(s_count_14_1)+len(s_count_14_2))\n",
    "len(s_count_14_1), len(s_count_14_2), round(s_count_14_ratio, 2)"
   ]
  },
  {
   "cell_type": "code",
   "execution_count": 47,
   "id": "767ec549",
   "metadata": {},
   "outputs": [
    {
     "name": "stderr",
     "output_type": "stream",
     "text": [
      "c:\\users\\metahong\\anaconda3\\envs\\fc17\\lib\\site-packages\\ipykernel_launcher.py:2: UserWarning: Boolean Series key will be reindexed to match DataFrame index.\n",
      "  \n",
      "c:\\users\\metahong\\anaconda3\\envs\\fc17\\lib\\site-packages\\ipykernel_launcher.py:3: UserWarning: Boolean Series key will be reindexed to match DataFrame index.\n",
      "  This is separate from the ipykernel package so we can avoid doing imports until\n"
     ]
    },
    {
     "data": {
      "text/plain": [
       "(44, 88, 0.67)"
      ]
     },
     "execution_count": 47,
     "metadata": {},
     "output_type": "execute_result"
    }
   ],
   "source": [
    "s_count_15 = df_final[(df_final[\"War_genre\"] ==  \"해적\")]\n",
    "s_count_15_1 = s_count_15[(df_final[\"ABS_idx\"] < 200)]\n",
    "s_count_15_2 = s_count_15[(df_final[\"ABS_idx\"] >= 200)]\n",
    "s_count_15_ratio = len(s_count_15_2) / (len(s_count_15_1)+len(s_count_15_2))\n",
    "len(s_count_15_1), len(s_count_15_2), round(s_count_15_ratio, 2)"
   ]
  },
  {
   "cell_type": "code",
   "execution_count": 48,
   "id": "009ba963",
   "metadata": {},
   "outputs": [],
   "source": [
    "# 전쟁 반발시 100대기업의 51% 종목이 영향을 받는데\n",
    "# 해적관련된 전쟁일 경우 영향을 받는 종목이 67%로 가장 많았고\n",
    "# 테러, 마약관련 전쟁의 경우 50% 수준\n",
    "# 민족간의 갈등전쟁에서는 상대적으로 적은 종목이 영향을 받음"
   ]
  },
  {
   "cell_type": "code",
   "execution_count": 49,
   "id": "373f8574",
   "metadata": {},
   "outputs": [],
   "source": [
    "# 이거 DataFrame으로 정리해서 그래프로 그리기"
   ]
  },
  {
   "cell_type": "code",
   "execution_count": 50,
   "id": "e214823e",
   "metadata": {},
   "outputs": [
    {
     "data": {
      "text/plain": [
       "(376, 349)"
      ]
     },
     "execution_count": 50,
     "metadata": {},
     "output_type": "execute_result"
    }
   ],
   "source": [
    "len(s_count_11_1), len(s_count_11_2),"
   ]
  },
  {
   "cell_type": "code",
   "execution_count": 51,
   "id": "60b49d83",
   "metadata": {},
   "outputs": [],
   "source": [
    "### (2)-2 (인스더스트리별) ABS_idx 0~199 / 200이상 Symbol 수 -> 비율도 보기"
   ]
  },
  {
   "cell_type": "code",
   "execution_count": 66,
   "id": "421bfae5",
   "metadata": {},
   "outputs": [
    {
     "ename": "NameError",
     "evalue": "name 'index' is not defined",
     "output_type": "error",
     "traceback": [
      "\u001b[1;31m---------------------------------------------------------------------------\u001b[0m",
      "\u001b[1;31mNameError\u001b[0m                                 Traceback (most recent call last)",
      "\u001b[1;32m<ipython-input-66-5d9d4f422533>\u001b[0m in \u001b[0;36m<module>\u001b[1;34m\u001b[0m\n\u001b[0;32m      1\u001b[0m \u001b[0msymbol\u001b[0m \u001b[1;33m=\u001b[0m \u001b[0mdf_final\u001b[0m\u001b[1;33m.\u001b[0m\u001b[0mpivot_table\u001b[0m\u001b[1;33m(\u001b[0m\u001b[1;34m\"Count\"\u001b[0m\u001b[1;33m,\u001b[0m \u001b[1;34m\"Symbol\"\u001b[0m\u001b[1;33m)\u001b[0m\u001b[1;33m\u001b[0m\u001b[1;33m\u001b[0m\u001b[0m\n\u001b[0;32m      2\u001b[0m \u001b[0msymbol\u001b[0m\u001b[1;33m[\u001b[0m\u001b[1;34m\"Symbol\"\u001b[0m\u001b[1;33m]\u001b[0m \u001b[1;33m=\u001b[0m \u001b[0msymbol\u001b[0m\u001b[1;33m.\u001b[0m\u001b[0mindex\u001b[0m\u001b[1;33m\u001b[0m\u001b[1;33m\u001b[0m\u001b[0m\n\u001b[1;32m----> 3\u001b[1;33m \u001b[0msymbol\u001b[0m \u001b[1;33m=\u001b[0m \u001b[0msymbol\u001b[0m\u001b[1;33m.\u001b[0m\u001b[0mdrop\u001b[0m\u001b[1;33m[\u001b[0m\u001b[0mindex\u001b[0m\u001b[1;33m:\u001b[0m\u001b[1;34m\"Symbol\"\u001b[0m\u001b[1;33m]\u001b[0m\u001b[1;33m\u001b[0m\u001b[1;33m\u001b[0m\u001b[0m\n\u001b[0m",
      "\u001b[1;31mNameError\u001b[0m: name 'index' is not defined"
     ]
    }
   ],
   "source": [
    "symbol = df_final.pivot_table(\"Count\", \"Symbol\")\n",
    "symbol[\"Symbol\"] = symbol.index"
   ]
  },
  {
   "cell_type": "code",
   "execution_count": 60,
   "id": "95b7b18a",
   "metadata": {},
   "outputs": [
    {
     "data": {
      "text/html": [
       "<div>\n",
       "<style scoped>\n",
       "    .dataframe tbody tr th:only-of-type {\n",
       "        vertical-align: middle;\n",
       "    }\n",
       "\n",
       "    .dataframe tbody tr th {\n",
       "        vertical-align: top;\n",
       "    }\n",
       "\n",
       "    .dataframe thead th {\n",
       "        text-align: right;\n",
       "    }\n",
       "</style>\n",
       "<table border=\"1\" class=\"dataframe\">\n",
       "  <thead>\n",
       "    <tr style=\"text-align: right;\">\n",
       "      <th></th>\n",
       "      <th>Symbol</th>\n",
       "      <th>Industry</th>\n",
       "    </tr>\n",
       "  </thead>\n",
       "  <tbody>\n",
       "    <tr>\n",
       "      <th>7210</th>\n",
       "      <td>RHE</td>\n",
       "      <td>부동산 운영 관리</td>\n",
       "    </tr>\n",
       "    <tr>\n",
       "      <th>7211</th>\n",
       "      <td>BTX</td>\n",
       "      <td>미디어 및 출판</td>\n",
       "    </tr>\n",
       "    <tr>\n",
       "      <th>7212</th>\n",
       "      <td>PW PR A</td>\n",
       "      <td>주택 및 상업용 리츠</td>\n",
       "    </tr>\n",
       "    <tr>\n",
       "      <th>7213</th>\n",
       "      <td>IPB</td>\n",
       "      <td>은행</td>\n",
       "    </tr>\n",
       "    <tr>\n",
       "      <th>7214</th>\n",
       "      <td>VHAQ RT</td>\n",
       "      <td>기타 금융업</td>\n",
       "    </tr>\n",
       "  </tbody>\n",
       "</table>\n",
       "</div>"
      ],
      "text/plain": [
       "       Symbol     Industry\n",
       "7210      RHE    부동산 운영 관리\n",
       "7211      BTX     미디어 및 출판\n",
       "7212  PW PR A  주택 및 상업용 리츠\n",
       "7213      IPB           은행\n",
       "7214  VHAQ RT       기타 금융업"
      ]
     },
     "execution_count": 60,
     "metadata": {},
     "output_type": "execute_result"
    }
   ],
   "source": [
    "indX = pd.read_csv(\"datas/industry_code.csv\")\n",
    "df_3 = indX.drop(['Unnamed: 0', 'IndustryCode', 'Name'], axis=1)\n",
    "df_3.tail()"
   ]
  },
  {
   "cell_type": "code",
   "execution_count": 64,
   "id": "9b03db91",
   "metadata": {},
   "outputs": [
    {
     "ename": "ValueError",
     "evalue": "'Symbol' is both an index level and a column label, which is ambiguous.",
     "output_type": "error",
     "traceback": [
      "\u001b[1;31m---------------------------------------------------------------------------\u001b[0m",
      "\u001b[1;31mValueError\u001b[0m                                Traceback (most recent call last)",
      "\u001b[1;32m<ipython-input-64-ea488d4bd471>\u001b[0m in \u001b[0;36m<module>\u001b[1;34m\u001b[0m\n\u001b[1;32m----> 1\u001b[1;33m \u001b[0mpd\u001b[0m\u001b[1;33m.\u001b[0m\u001b[0mmerge\u001b[0m\u001b[1;33m(\u001b[0m\u001b[0msymbol\u001b[0m\u001b[1;33m,\u001b[0m \u001b[0mdf_3\u001b[0m\u001b[1;33m,\u001b[0m \u001b[0mon\u001b[0m\u001b[1;33m=\u001b[0m\u001b[1;34m'Symbol'\u001b[0m\u001b[1;33m)\u001b[0m\u001b[1;33m\u001b[0m\u001b[1;33m\u001b[0m\u001b[0m\n\u001b[0m",
      "\u001b[1;32mc:\\users\\metahong\\anaconda3\\envs\\fc17\\lib\\site-packages\\pandas\\core\\reshape\\merge.py\u001b[0m in \u001b[0;36mmerge\u001b[1;34m(left, right, how, on, left_on, right_on, left_index, right_index, sort, suffixes, copy, indicator, validate)\u001b[0m\n\u001b[0;32m     85\u001b[0m         \u001b[0mcopy\u001b[0m\u001b[1;33m=\u001b[0m\u001b[0mcopy\u001b[0m\u001b[1;33m,\u001b[0m\u001b[1;33m\u001b[0m\u001b[1;33m\u001b[0m\u001b[0m\n\u001b[0;32m     86\u001b[0m         \u001b[0mindicator\u001b[0m\u001b[1;33m=\u001b[0m\u001b[0mindicator\u001b[0m\u001b[1;33m,\u001b[0m\u001b[1;33m\u001b[0m\u001b[1;33m\u001b[0m\u001b[0m\n\u001b[1;32m---> 87\u001b[1;33m         \u001b[0mvalidate\u001b[0m\u001b[1;33m=\u001b[0m\u001b[0mvalidate\u001b[0m\u001b[1;33m,\u001b[0m\u001b[1;33m\u001b[0m\u001b[1;33m\u001b[0m\u001b[0m\n\u001b[0m\u001b[0;32m     88\u001b[0m     )\n\u001b[0;32m     89\u001b[0m     \u001b[1;32mreturn\u001b[0m \u001b[0mop\u001b[0m\u001b[1;33m.\u001b[0m\u001b[0mget_result\u001b[0m\u001b[1;33m(\u001b[0m\u001b[1;33m)\u001b[0m\u001b[1;33m\u001b[0m\u001b[1;33m\u001b[0m\u001b[0m\n",
      "\u001b[1;32mc:\\users\\metahong\\anaconda3\\envs\\fc17\\lib\\site-packages\\pandas\\core\\reshape\\merge.py\u001b[0m in \u001b[0;36m__init__\u001b[1;34m(self, left, right, how, on, left_on, right_on, axis, left_index, right_index, sort, suffixes, copy, indicator, validate)\u001b[0m\n\u001b[0;32m    666\u001b[0m             \u001b[0mself\u001b[0m\u001b[1;33m.\u001b[0m\u001b[0mright_join_keys\u001b[0m\u001b[1;33m,\u001b[0m\u001b[1;33m\u001b[0m\u001b[1;33m\u001b[0m\u001b[0m\n\u001b[0;32m    667\u001b[0m             \u001b[0mself\u001b[0m\u001b[1;33m.\u001b[0m\u001b[0mjoin_names\u001b[0m\u001b[1;33m,\u001b[0m\u001b[1;33m\u001b[0m\u001b[1;33m\u001b[0m\u001b[0m\n\u001b[1;32m--> 668\u001b[1;33m         ) = self._get_merge_keys()\n\u001b[0m\u001b[0;32m    669\u001b[0m \u001b[1;33m\u001b[0m\u001b[0m\n\u001b[0;32m    670\u001b[0m         \u001b[1;31m# validate the merge keys dtypes. We may need to coerce\u001b[0m\u001b[1;33m\u001b[0m\u001b[1;33m\u001b[0m\u001b[1;33m\u001b[0m\u001b[0m\n",
      "\u001b[1;32mc:\\users\\metahong\\anaconda3\\envs\\fc17\\lib\\site-packages\\pandas\\core\\reshape\\merge.py\u001b[0m in \u001b[0;36m_get_merge_keys\u001b[1;34m(self)\u001b[0m\n\u001b[0;32m   1044\u001b[0m                         \u001b[0mright_keys\u001b[0m\u001b[1;33m.\u001b[0m\u001b[0mappend\u001b[0m\u001b[1;33m(\u001b[0m\u001b[0mrk\u001b[0m\u001b[1;33m)\u001b[0m\u001b[1;33m\u001b[0m\u001b[1;33m\u001b[0m\u001b[0m\n\u001b[0;32m   1045\u001b[0m                     \u001b[1;32mif\u001b[0m \u001b[0mlk\u001b[0m \u001b[1;32mis\u001b[0m \u001b[1;32mnot\u001b[0m \u001b[1;32mNone\u001b[0m\u001b[1;33m:\u001b[0m\u001b[1;33m\u001b[0m\u001b[1;33m\u001b[0m\u001b[0m\n\u001b[1;32m-> 1046\u001b[1;33m                         \u001b[0mleft_keys\u001b[0m\u001b[1;33m.\u001b[0m\u001b[0mappend\u001b[0m\u001b[1;33m(\u001b[0m\u001b[0mleft\u001b[0m\u001b[1;33m.\u001b[0m\u001b[0m_get_label_or_level_values\u001b[0m\u001b[1;33m(\u001b[0m\u001b[0mlk\u001b[0m\u001b[1;33m)\u001b[0m\u001b[1;33m)\u001b[0m\u001b[1;33m\u001b[0m\u001b[1;33m\u001b[0m\u001b[0m\n\u001b[0m\u001b[0;32m   1047\u001b[0m                         \u001b[0mjoin_names\u001b[0m\u001b[1;33m.\u001b[0m\u001b[0mappend\u001b[0m\u001b[1;33m(\u001b[0m\u001b[0mlk\u001b[0m\u001b[1;33m)\u001b[0m\u001b[1;33m\u001b[0m\u001b[1;33m\u001b[0m\u001b[0m\n\u001b[0;32m   1048\u001b[0m                     \u001b[1;32melse\u001b[0m\u001b[1;33m:\u001b[0m\u001b[1;33m\u001b[0m\u001b[1;33m\u001b[0m\u001b[0m\n",
      "\u001b[1;32mc:\\users\\metahong\\anaconda3\\envs\\fc17\\lib\\site-packages\\pandas\\core\\generic.py\u001b[0m in \u001b[0;36m_get_label_or_level_values\u001b[1;34m(self, key, axis)\u001b[0m\n\u001b[0;32m   1677\u001b[0m \u001b[1;33m\u001b[0m\u001b[0m\n\u001b[0;32m   1678\u001b[0m         \u001b[1;32mif\u001b[0m \u001b[0mself\u001b[0m\u001b[1;33m.\u001b[0m\u001b[0m_is_label_reference\u001b[0m\u001b[1;33m(\u001b[0m\u001b[0mkey\u001b[0m\u001b[1;33m,\u001b[0m \u001b[0maxis\u001b[0m\u001b[1;33m=\u001b[0m\u001b[0maxis\u001b[0m\u001b[1;33m)\u001b[0m\u001b[1;33m:\u001b[0m\u001b[1;33m\u001b[0m\u001b[1;33m\u001b[0m\u001b[0m\n\u001b[1;32m-> 1679\u001b[1;33m             \u001b[0mself\u001b[0m\u001b[1;33m.\u001b[0m\u001b[0m_check_label_or_level_ambiguity\u001b[0m\u001b[1;33m(\u001b[0m\u001b[0mkey\u001b[0m\u001b[1;33m,\u001b[0m \u001b[0maxis\u001b[0m\u001b[1;33m=\u001b[0m\u001b[0maxis\u001b[0m\u001b[1;33m)\u001b[0m\u001b[1;33m\u001b[0m\u001b[1;33m\u001b[0m\u001b[0m\n\u001b[0m\u001b[0;32m   1680\u001b[0m             \u001b[0mvalues\u001b[0m \u001b[1;33m=\u001b[0m \u001b[0mself\u001b[0m\u001b[1;33m.\u001b[0m\u001b[0mxs\u001b[0m\u001b[1;33m(\u001b[0m\u001b[0mkey\u001b[0m\u001b[1;33m,\u001b[0m \u001b[0maxis\u001b[0m\u001b[1;33m=\u001b[0m\u001b[0mother_axes\u001b[0m\u001b[1;33m[\u001b[0m\u001b[1;36m0\u001b[0m\u001b[1;33m]\u001b[0m\u001b[1;33m)\u001b[0m\u001b[1;33m.\u001b[0m\u001b[0m_values\u001b[0m\u001b[1;33m\u001b[0m\u001b[1;33m\u001b[0m\u001b[0m\n\u001b[0;32m   1681\u001b[0m         \u001b[1;32melif\u001b[0m \u001b[0mself\u001b[0m\u001b[1;33m.\u001b[0m\u001b[0m_is_level_reference\u001b[0m\u001b[1;33m(\u001b[0m\u001b[0mkey\u001b[0m\u001b[1;33m,\u001b[0m \u001b[0maxis\u001b[0m\u001b[1;33m=\u001b[0m\u001b[0maxis\u001b[0m\u001b[1;33m)\u001b[0m\u001b[1;33m:\u001b[0m\u001b[1;33m\u001b[0m\u001b[1;33m\u001b[0m\u001b[0m\n",
      "\u001b[1;32mc:\\users\\metahong\\anaconda3\\envs\\fc17\\lib\\site-packages\\pandas\\core\\generic.py\u001b[0m in \u001b[0;36m_check_label_or_level_ambiguity\u001b[1;34m(self, key, axis)\u001b[0m\n\u001b[0;32m   1636\u001b[0m                 \u001b[1;34mf\"{label_article} {label_type} label, which is ambiguous.\"\u001b[0m\u001b[1;33m\u001b[0m\u001b[1;33m\u001b[0m\u001b[0m\n\u001b[0;32m   1637\u001b[0m             )\n\u001b[1;32m-> 1638\u001b[1;33m             \u001b[1;32mraise\u001b[0m \u001b[0mValueError\u001b[0m\u001b[1;33m(\u001b[0m\u001b[0mmsg\u001b[0m\u001b[1;33m)\u001b[0m\u001b[1;33m\u001b[0m\u001b[1;33m\u001b[0m\u001b[0m\n\u001b[0m\u001b[0;32m   1639\u001b[0m \u001b[1;33m\u001b[0m\u001b[0m\n\u001b[0;32m   1640\u001b[0m     \u001b[1;33m@\u001b[0m\u001b[0mfinal\u001b[0m\u001b[1;33m\u001b[0m\u001b[1;33m\u001b[0m\u001b[0m\n",
      "\u001b[1;31mValueError\u001b[0m: 'Symbol' is both an index level and a column label, which is ambiguous."
     ]
    }
   ],
   "source": [
    "pd.merge(symbol, df_3, on='Symbol')"
   ]
  },
  {
   "cell_type": "code",
   "execution_count": null,
   "id": "5c3924a2",
   "metadata": {},
   "outputs": [],
   "source": []
  },
  {
   "cell_type": "code",
   "execution_count": null,
   "id": "99217796",
   "metadata": {},
   "outputs": [],
   "source": []
  },
  {
   "cell_type": "code",
   "execution_count": 53,
   "id": "815b9cf0",
   "metadata": {},
   "outputs": [],
   "source": [
    "### (2)-3 (인더스트리별|전쟁종류) ABS_idx Symbol 수 / 비율"
   ]
  },
  {
   "cell_type": "code",
   "execution_count": 54,
   "id": "17cb0d84",
   "metadata": {},
   "outputs": [],
   "source": [
    "### (2)-4 (인더스트리별|참전국수) ABS_idx Symbol수 / 비율"
   ]
  },
  {
   "cell_type": "code",
   "execution_count": 55,
   "id": "4912f456",
   "metadata": {},
   "outputs": [],
   "source": [
    "### (2)-5 (인더스트리별|전쟁규모) ABS_idx Symbol수 / 비율"
   ]
  },
  {
   "cell_type": "code",
   "execution_count": null,
   "id": "e366bfae",
   "metadata": {},
   "outputs": [],
   "source": []
  },
  {
   "cell_type": "code",
   "execution_count": 14,
   "id": "5fcbd9a7",
   "metadata": {},
   "outputs": [],
   "source": [
    "# 기술통계분석(boxplot 등 활용)"
   ]
  },
  {
   "cell_type": "code",
   "execution_count": 15,
   "id": "d0a38671",
   "metadata": {},
   "outputs": [],
   "source": [
    "## (1) ABS_idx 기본척도들"
   ]
  },
  {
   "cell_type": "code",
   "execution_count": 16,
   "id": "f844711b",
   "metadata": {},
   "outputs": [],
   "source": [
    "### (1)-1 평균/중앙값/최빈값/범위/표준편차/분산 등"
   ]
  },
  {
   "cell_type": "code",
   "execution_count": 17,
   "id": "289ad360",
   "metadata": {},
   "outputs": [],
   "source": [
    "### (1)-2 (인더스트리별) 평균/중앙값/최빈값/범위/표준편차/분산 등"
   ]
  },
  {
   "cell_type": "code",
   "execution_count": 18,
   "id": "6d4e11db",
   "metadata": {},
   "outputs": [],
   "source": [
    "### (1)-3 (인더스트리별|전쟁종류) 평균/중앙값/최빈값/범위/표준편차/분산 등"
   ]
  },
  {
   "cell_type": "code",
   "execution_count": 19,
   "id": "b6213ccc",
   "metadata": {},
   "outputs": [],
   "source": [
    "### (1)-4 (인더스트리별|참전국수) 평균/중앙값/최빈값/범위/표준편차/분산 등"
   ]
  },
  {
   "cell_type": "code",
   "execution_count": 20,
   "id": "c7475d86",
   "metadata": {},
   "outputs": [],
   "source": [
    "### (1)-5 (인더스트리별|전쟁규모) 평균/중앙값/최빈값/범위/표준편차/분산 등"
   ]
  },
  {
   "cell_type": "code",
   "execution_count": null,
   "id": "c63d1d33",
   "metadata": {},
   "outputs": [],
   "source": []
  },
  {
   "cell_type": "code",
   "execution_count": 21,
   "id": "0bee890e",
   "metadata": {},
   "outputs": [],
   "source": [
    "# 상관계수분석(heatmap 등)"
   ]
  },
  {
   "cell_type": "code",
   "execution_count": 22,
   "id": "5c6c7cf8",
   "metadata": {},
   "outputs": [],
   "source": [
    "## (1) 전쟁참전국수, 전쟁규모 ABS_idx간 상관관계"
   ]
  },
  {
   "cell_type": "code",
   "execution_count": 23,
   "id": "2a71d25f",
   "metadata": {},
   "outputs": [],
   "source": [
    "## (2) 인더스트리별 | 전쟁참전국수, 전쟁규모 ABS_idx간 상관관계"
   ]
  },
  {
   "cell_type": "code",
   "execution_count": 24,
   "id": "41cababf",
   "metadata": {},
   "outputs": [],
   "source": [
    "## (3) 인더스트리별-전쟁종류 | 전쟁참전국수, 전쟁규모 ABS_idx간 상관관계"
   ]
  },
  {
   "cell_type": "code",
   "execution_count": null,
   "id": "499fd1c2",
   "metadata": {},
   "outputs": [],
   "source": []
  },
  {
   "cell_type": "code",
   "execution_count": 25,
   "id": "fcf55fab",
   "metadata": {},
   "outputs": [],
   "source": [
    "# 가설 1"
   ]
  },
  {
   "cell_type": "code",
   "execution_count": 26,
   "id": "6139ae53",
   "metadata": {},
   "outputs": [],
   "source": [
    "### 데이터 설명 및 인사이트 도출 과정, 시각화"
   ]
  },
  {
   "cell_type": "code",
   "execution_count": 27,
   "id": "577ba845",
   "metadata": {},
   "outputs": [],
   "source": [
    "# 가설 2"
   ]
  },
  {
   "cell_type": "code",
   "execution_count": 28,
   "id": "80eb4c51",
   "metadata": {},
   "outputs": [],
   "source": [
    "### 데이터 설명 및 인사이트 도출 과정, 시각화"
   ]
  },
  {
   "cell_type": "code",
   "execution_count": 29,
   "id": "748d5282",
   "metadata": {},
   "outputs": [],
   "source": [
    "# 결론"
   ]
  },
  {
   "cell_type": "code",
   "execution_count": null,
   "id": "d6c6910e",
   "metadata": {},
   "outputs": [],
   "source": [
    "# 추후 개선 및 느낀 점"
   ]
  }
 ],
 "metadata": {
  "kernelspec": {
   "display_name": "Python 3",
   "language": "python",
   "name": "python3"
  },
  "language_info": {
   "codemirror_mode": {
    "name": "ipython",
    "version": 3
   },
   "file_extension": ".py",
   "mimetype": "text/x-python",
   "name": "python",
   "nbconvert_exporter": "python",
   "pygments_lexer": "ipython3",
   "version": "3.7.10"
  }
 },
 "nbformat": 4,
 "nbformat_minor": 5
}
