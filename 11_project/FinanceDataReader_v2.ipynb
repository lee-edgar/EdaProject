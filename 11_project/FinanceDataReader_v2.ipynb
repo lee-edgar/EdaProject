{
 "cells": [
  {
   "cell_type": "code",
   "execution_count": null,
   "metadata": {},
   "outputs": [],
   "source": [
    "## EDA"
   ]
  },
  {
   "cell_type": "code",
   "execution_count": 18,
   "metadata": {},
   "outputs": [],
   "source": [
    "import matplotlib.pyplot as plt\n",
    "import seaborn as sns\n",
    "import sklearn\n",
    "from sklearn.linear_model import LinearRegression\n",
    "import matplotlib.pyplot as plt\n",
    "import numpy as np\n",
    "import sklearn.linear_model\n",
    "import plotly.express as px\n",
    "%matplotlib inline\n",
    "\n",
    "plt.rcParams[\"font.family\"] = 'naummyeongjo'\n",
    "plt.rcParams[\"figure.figsize\"] = (14,4)\n",
    "plt.rcParams['lines.linewidth'] = 2\n",
    "plt.rcParams[\"axes.grid\"] = True"
   ]
  },
  {
   "cell_type": "code",
   "execution_count": 5,
   "metadata": {},
   "outputs": [
    {
     "data": {
      "text/html": [
       "<style>\n",
       "    table { display: inline-block }\n",
       "    .rendered_html td, .rendered_html th { text-align: left; }\n",
       "</style>\n"
      ],
      "text/plain": [
       "<IPython.core.display.HTML object>"
      ]
     },
     "metadata": {},
     "output_type": "display_data"
    }
   ],
   "source": [
    "%%html\n",
    "<style>\n",
    "    table { display: inline-block }\n",
    "    .rendered_html td, .rendered_html th { text-align: left; }\n",
    "</style>"
   ]
  },
  {
   "cell_type": "code",
   "execution_count": 6,
   "metadata": {},
   "outputs": [
    {
     "data": {
      "text/plain": [
       "'0.9.31'"
      ]
     },
     "execution_count": 6,
     "metadata": {},
     "output_type": "execute_result"
    }
   ],
   "source": [
    "import FinanceDataReader as fdr\n",
    "fdr.__version__"
   ]
  },
  {
   "cell_type": "markdown",
   "metadata": {},
   "source": [
    "## 나스닥 지수 탑100 상장기업"
   ]
  },
  {
   "cell_type": "code",
   "execution_count": 7,
   "metadata": {},
   "outputs": [
    {
     "name": "stderr",
     "output_type": "stream",
     "text": [
      "100%|██████████| 3679/3679 [00:10<00:00, 365.79it/s]\n"
     ]
    },
    {
     "data": {
      "text/html": [
       "<div>\n",
       "<style scoped>\n",
       "    .dataframe tbody tr th:only-of-type {\n",
       "        vertical-align: middle;\n",
       "    }\n",
       "\n",
       "    .dataframe tbody tr th {\n",
       "        vertical-align: top;\n",
       "    }\n",
       "\n",
       "    .dataframe thead th {\n",
       "        text-align: right;\n",
       "    }\n",
       "</style>\n",
       "<table border=\"1\" class=\"dataframe\">\n",
       "  <thead>\n",
       "    <tr style=\"text-align: right;\">\n",
       "      <th></th>\n",
       "      <th>Symbol</th>\n",
       "      <th>Name</th>\n",
       "      <th>Industry</th>\n",
       "      <th>IndustryCode</th>\n",
       "    </tr>\n",
       "  </thead>\n",
       "  <tbody>\n",
       "    <tr>\n",
       "      <th>0</th>\n",
       "      <td>AAPL</td>\n",
       "      <td>Apple Inc</td>\n",
       "      <td>컴퓨터, 전화 및 가전제품</td>\n",
       "      <td>571060</td>\n",
       "    </tr>\n",
       "    <tr>\n",
       "      <th>1</th>\n",
       "      <td>MSFT</td>\n",
       "      <td>Microsoft Corp</td>\n",
       "      <td>소프트웨어 및 IT서비스</td>\n",
       "      <td>572010</td>\n",
       "    </tr>\n",
       "    <tr>\n",
       "      <th>2</th>\n",
       "      <td>AMZN</td>\n",
       "      <td>Amazon.com Inc</td>\n",
       "      <td>다양한 소매업</td>\n",
       "      <td>534020</td>\n",
       "    </tr>\n",
       "    <tr>\n",
       "      <th>3</th>\n",
       "      <td>FB</td>\n",
       "      <td>Facebook Inc Class A</td>\n",
       "      <td>소프트웨어 및 IT서비스</td>\n",
       "      <td>572010</td>\n",
       "    </tr>\n",
       "    <tr>\n",
       "      <th>4</th>\n",
       "      <td>GOOGL</td>\n",
       "      <td>Alphabet Inc Class A</td>\n",
       "      <td>소프트웨어 및 IT서비스</td>\n",
       "      <td>572010</td>\n",
       "    </tr>\n",
       "    <tr>\n",
       "      <th>...</th>\n",
       "      <td>...</td>\n",
       "      <td>...</td>\n",
       "      <td>...</td>\n",
       "      <td>...</td>\n",
       "    </tr>\n",
       "    <tr>\n",
       "      <th>96</th>\n",
       "      <td>PCAR</td>\n",
       "      <td>Paccar Inc</td>\n",
       "      <td>건설장비 및 대형차, 기차, 배</td>\n",
       "      <td>521020</td>\n",
       "    </tr>\n",
       "    <tr>\n",
       "      <th>97</th>\n",
       "      <td>XLNX</td>\n",
       "      <td>Xilinx Inc</td>\n",
       "      <td>반도체 및 반도체 장비</td>\n",
       "      <td>571010</td>\n",
       "    </tr>\n",
       "    <tr>\n",
       "      <th>98</th>\n",
       "      <td>BGNE</td>\n",
       "      <td>Beigene Ltd ADR</td>\n",
       "      <td>생명과학 및 메디컬 리서치</td>\n",
       "      <td>562020</td>\n",
       "    </tr>\n",
       "    <tr>\n",
       "      <th>99</th>\n",
       "      <td>TTD</td>\n",
       "      <td>Trade Desk Inc Class A</td>\n",
       "      <td>소프트웨어 및 IT서비스</td>\n",
       "      <td>572010</td>\n",
       "    </tr>\n",
       "    <tr>\n",
       "      <th>100</th>\n",
       "      <td>SWKS</td>\n",
       "      <td>Skyworks Solutions Inc</td>\n",
       "      <td>반도체 및 반도체 장비</td>\n",
       "      <td>571010</td>\n",
       "    </tr>\n",
       "  </tbody>\n",
       "</table>\n",
       "<p>101 rows × 4 columns</p>\n",
       "</div>"
      ],
      "text/plain": [
       "    Symbol                    Name           Industry IndustryCode\n",
       "0     AAPL               Apple Inc     컴퓨터, 전화 및 가전제품       571060\n",
       "1     MSFT          Microsoft Corp      소프트웨어 및 IT서비스       572010\n",
       "2     AMZN          Amazon.com Inc            다양한 소매업       534020\n",
       "3       FB    Facebook Inc Class A      소프트웨어 및 IT서비스       572010\n",
       "4    GOOGL    Alphabet Inc Class A      소프트웨어 및 IT서비스       572010\n",
       "..     ...                     ...                ...          ...\n",
       "96    PCAR              Paccar Inc  건설장비 및 대형차, 기차, 배       521020\n",
       "97    XLNX              Xilinx Inc       반도체 및 반도체 장비       571010\n",
       "98    BGNE         Beigene Ltd ADR     생명과학 및 메디컬 리서치       562020\n",
       "99     TTD  Trade Desk Inc Class A      소프트웨어 및 IT서비스       572010\n",
       "100   SWKS  Skyworks Solutions Inc       반도체 및 반도체 장비       571010\n",
       "\n",
       "[101 rows x 4 columns]"
      ]
     },
     "execution_count": 7,
     "metadata": {},
     "output_type": "execute_result"
    }
   ],
   "source": [
    "nas = fdr.StockListing('NASDAQ')\n",
    "nas[:101]"
   ]
  },
  {
   "cell_type": "markdown",
   "metadata": {},
   "source": [
    "\n",
    "## 나스닥 지수 탑100 상장기업 일일 NASDAQ 지수"
   ]
  },
  {
   "cell_type": "code",
   "execution_count": 8,
   "metadata": {},
   "outputs": [
    {
     "name": "stdout",
     "output_type": "stream",
     "text": [
      "AAPL\n",
      "MSFT\n",
      "AMZN\n",
      "FB\n",
      "GOOGL\n",
      "GOOG\n",
      "TSLA\n",
      "NVDA\n",
      "PYPL\n",
      "ASML\n",
      "INTC\n",
      "CMCSA\n",
      "NFLX\n",
      "ADBE\n",
      "CSCO\n",
      "PEP\n",
      "AVGO\n",
      "TXN\n",
      "PDD\n",
      "TMUS\n",
      "COST\n",
      "QCOM\n",
      "ZIONO\n",
      "AMGN\n",
      "JD\n",
      "CHTR\n",
      "ZIONN\n",
      "AZN\n",
      "AMAT\n",
      "SBUX\n",
      "SNY\n",
      "ABNB\n",
      "INTU\n",
      "MU\n",
      "AMD\n",
      "BKNG\n",
      "ZM\n",
      "LRCX\n",
      "ISRG\n",
      "GILD\n",
      "MDLZ\n",
      "FISV\n",
      "ADP\n",
      "BIDU\n",
      "MELI\n",
      "ATVI\n",
      "CME\n",
      "CSX\n",
      "NTES\n",
      "ADSK\n",
      "WDAY\n",
      "EQIX\n",
      "ADI\n",
      "NXPI\n",
      "ILMN\n",
      "TEAM\n",
      "VRTX\n",
      "KLAC\n",
      "MRNA\n",
      "VOD\n",
      "REGN\n",
      "KHC\n",
      "KDP\n",
      "MNST\n",
      "MAR\n",
      "WBA\n",
      "ALGN\n",
      "MCHP\n",
      "ROST\n",
      "EBAY\n",
      "EXC\n",
      "ROKU\n",
      "BILI\n",
      "AEP\n",
      "BIIB\n",
      "CRWD\n",
      "CTSH\n",
      "IDXX\n",
      "ERIC\n",
      "DOCU\n",
      "EA\n",
      "TROW\n",
      "CDNS\n",
      "LULU\n",
      "SNPS\n",
      "MTCH\n",
      "CTAS\n",
      "XEL\n",
      "PAYX\n",
      "ORLY\n",
      "DXCM\n",
      "TSCAP\n",
      "CSGP\n",
      "ALXN\n",
      "MRVL\n",
      "PTON\n",
      "PCAR\n",
      "XLNX\n",
      "BGNE\n",
      "TTD\n"
     ]
    },
    {
     "data": {
      "text/html": [
       "<div>\n",
       "<style scoped>\n",
       "    .dataframe tbody tr th:only-of-type {\n",
       "        vertical-align: middle;\n",
       "    }\n",
       "\n",
       "    .dataframe tbody tr th {\n",
       "        vertical-align: top;\n",
       "    }\n",
       "\n",
       "    .dataframe thead th {\n",
       "        text-align: right;\n",
       "    }\n",
       "</style>\n",
       "<table border=\"1\" class=\"dataframe\">\n",
       "  <thead>\n",
       "    <tr style=\"text-align: right;\">\n",
       "      <th></th>\n",
       "      <th>Date</th>\n",
       "      <th>Close</th>\n",
       "      <th>Open</th>\n",
       "      <th>High</th>\n",
       "      <th>Low</th>\n",
       "      <th>Volume</th>\n",
       "      <th>Change</th>\n",
       "      <th>ticker</th>\n",
       "    </tr>\n",
       "  </thead>\n",
       "  <tbody>\n",
       "    <tr>\n",
       "      <th>0</th>\n",
       "      <td>2021-03-30</td>\n",
       "      <td>119.90</td>\n",
       "      <td>120.04</td>\n",
       "      <td>120.36</td>\n",
       "      <td>118.88</td>\n",
       "      <td>85670000.0</td>\n",
       "      <td>-0.0123</td>\n",
       "      <td>AAPL</td>\n",
       "    </tr>\n",
       "    <tr>\n",
       "      <th>1</th>\n",
       "      <td>2021-03-30</td>\n",
       "      <td>231.85</td>\n",
       "      <td>233.58</td>\n",
       "      <td>233.73</td>\n",
       "      <td>231.12</td>\n",
       "      <td>24790000.0</td>\n",
       "      <td>-0.0144</td>\n",
       "      <td>MSFT</td>\n",
       "    </tr>\n",
       "    <tr>\n",
       "      <th>2</th>\n",
       "      <td>2021-03-30</td>\n",
       "      <td>3055.29</td>\n",
       "      <td>3068.99</td>\n",
       "      <td>3069.66</td>\n",
       "      <td>3034.70</td>\n",
       "      <td>2340000.0</td>\n",
       "      <td>-0.0066</td>\n",
       "      <td>AMZN</td>\n",
       "    </tr>\n",
       "    <tr>\n",
       "      <th>3</th>\n",
       "      <td>2021-03-30</td>\n",
       "      <td>288.00</td>\n",
       "      <td>289.87</td>\n",
       "      <td>292.47</td>\n",
       "      <td>286.71</td>\n",
       "      <td>17470000.0</td>\n",
       "      <td>-0.0097</td>\n",
       "      <td>FB</td>\n",
       "    </tr>\n",
       "    <tr>\n",
       "      <th>4</th>\n",
       "      <td>2021-03-30</td>\n",
       "      <td>2046.47</td>\n",
       "      <td>2049.80</td>\n",
       "      <td>2061.99</td>\n",
       "      <td>2036.46</td>\n",
       "      <td>1370000.0</td>\n",
       "      <td>0.0003</td>\n",
       "      <td>GOOGL</td>\n",
       "    </tr>\n",
       "    <tr>\n",
       "      <th>...</th>\n",
       "      <td>...</td>\n",
       "      <td>...</td>\n",
       "      <td>...</td>\n",
       "      <td>...</td>\n",
       "      <td>...</td>\n",
       "      <td>...</td>\n",
       "      <td>...</td>\n",
       "      <td>...</td>\n",
       "    </tr>\n",
       "    <tr>\n",
       "      <th>95</th>\n",
       "      <td>2021-03-30</td>\n",
       "      <td>107.17</td>\n",
       "      <td>104.48</td>\n",
       "      <td>107.44</td>\n",
       "      <td>101.92</td>\n",
       "      <td>4200000.0</td>\n",
       "      <td>0.0205</td>\n",
       "      <td>PTON</td>\n",
       "    </tr>\n",
       "    <tr>\n",
       "      <th>96</th>\n",
       "      <td>2021-03-30</td>\n",
       "      <td>93.32</td>\n",
       "      <td>93.10</td>\n",
       "      <td>93.63</td>\n",
       "      <td>92.59</td>\n",
       "      <td>1210000.0</td>\n",
       "      <td>0.0014</td>\n",
       "      <td>PCAR</td>\n",
       "    </tr>\n",
       "    <tr>\n",
       "      <th>97</th>\n",
       "      <td>2021-03-30</td>\n",
       "      <td>120.30</td>\n",
       "      <td>120.50</td>\n",
       "      <td>120.58</td>\n",
       "      <td>118.42</td>\n",
       "      <td>1590000.0</td>\n",
       "      <td>-0.0158</td>\n",
       "      <td>XLNX</td>\n",
       "    </tr>\n",
       "    <tr>\n",
       "      <th>98</th>\n",
       "      <td>2021-03-30</td>\n",
       "      <td>332.99</td>\n",
       "      <td>323.00</td>\n",
       "      <td>338.44</td>\n",
       "      <td>320.55</td>\n",
       "      <td>297720.0</td>\n",
       "      <td>0.0292</td>\n",
       "      <td>BGNE</td>\n",
       "    </tr>\n",
       "    <tr>\n",
       "      <th>99</th>\n",
       "      <td>2021-03-30</td>\n",
       "      <td>625.88</td>\n",
       "      <td>603.20</td>\n",
       "      <td>630.99</td>\n",
       "      <td>592.01</td>\n",
       "      <td>882350.0</td>\n",
       "      <td>0.0217</td>\n",
       "      <td>TTD</td>\n",
       "    </tr>\n",
       "  </tbody>\n",
       "</table>\n",
       "<p>100 rows × 8 columns</p>\n",
       "</div>"
      ],
      "text/plain": [
       "         Date    Close     Open     High      Low      Volume  Change ticker\n",
       "0  2021-03-30   119.90   120.04   120.36   118.88  85670000.0 -0.0123   AAPL\n",
       "1  2021-03-30   231.85   233.58   233.73   231.12  24790000.0 -0.0144   MSFT\n",
       "2  2021-03-30  3055.29  3068.99  3069.66  3034.70   2340000.0 -0.0066   AMZN\n",
       "3  2021-03-30   288.00   289.87   292.47   286.71  17470000.0 -0.0097     FB\n",
       "4  2021-03-30  2046.47  2049.80  2061.99  2036.46   1370000.0  0.0003  GOOGL\n",
       "..        ...      ...      ...      ...      ...         ...     ...    ...\n",
       "95 2021-03-30   107.17   104.48   107.44   101.92   4200000.0  0.0205   PTON\n",
       "96 2021-03-30    93.32    93.10    93.63    92.59   1210000.0  0.0014   PCAR\n",
       "97 2021-03-30   120.30   120.50   120.58   118.42   1590000.0 -0.0158   XLNX\n",
       "98 2021-03-30   332.99   323.00   338.44   320.55    297720.0  0.0292   BGNE\n",
       "99 2021-03-30   625.88   603.20   630.99   592.01    882350.0  0.0217    TTD\n",
       "\n",
       "[100 rows x 8 columns]"
      ]
     },
     "execution_count": 8,
     "metadata": {},
     "output_type": "execute_result"
    }
   ],
   "source": [
    "nas_list = nas[\"Symbol\"][:100]\n",
    "todaylist=[]\n",
    "cnt=0\n",
    "for i in nas_list:\n",
    "    data = fdr.DataReader('{}'.format(i),'2021-03-30','2021-03-31').reset_index().to_dict(\"records\")[0]\n",
    "    data[\"ticker\"] = i\n",
    "    todaylist.append(data)\n",
    "    cnt+=1\n",
    "    print(i)\n",
    "result = pd.DataFrame(todaylist)\n",
    "result"
   ]
  },
  {
   "cell_type": "code",
   "execution_count": null,
   "metadata": {},
   "outputs": [],
   "source": [
    "nas.drop(columns=[S\"level_0\", \"index\"], inplace=True)"
   ]
  },
  {
   "cell_type": "markdown",
   "metadata": {},
   "source": [
    "## 나스닥 지수 탑100 상장기업 일일 상세정보, NASDQA지수 종합( :: 시장 Close 기준)"
   ]
  },
  {
   "cell_type": "code",
   "execution_count": 21,
   "metadata": {
    "scrolled": true
   },
   "outputs": [
    {
     "data": {
      "text/html": [
       "<div>\n",
       "<style scoped>\n",
       "    .dataframe tbody tr th:only-of-type {\n",
       "        vertical-align: middle;\n",
       "    }\n",
       "\n",
       "    .dataframe tbody tr th {\n",
       "        vertical-align: top;\n",
       "    }\n",
       "\n",
       "    .dataframe thead th {\n",
       "        text-align: right;\n",
       "    }\n",
       "</style>\n",
       "<table border=\"1\" class=\"dataframe\">\n",
       "  <thead>\n",
       "    <tr style=\"text-align: right;\">\n",
       "      <th></th>\n",
       "      <th>Date</th>\n",
       "      <th>Close</th>\n",
       "      <th>Open</th>\n",
       "      <th>High</th>\n",
       "      <th>Low</th>\n",
       "      <th>Volume</th>\n",
       "      <th>Change</th>\n",
       "      <th>ticker</th>\n",
       "      <th>Symbol</th>\n",
       "      <th>Name</th>\n",
       "      <th>Industry</th>\n",
       "      <th>IndustryCode</th>\n",
       "    </tr>\n",
       "  </thead>\n",
       "  <tbody>\n",
       "    <tr>\n",
       "      <th>2</th>\n",
       "      <td>2021-03-30</td>\n",
       "      <td>3055.29</td>\n",
       "      <td>3068.99</td>\n",
       "      <td>3069.66</td>\n",
       "      <td>3034.70</td>\n",
       "      <td>2340000.0</td>\n",
       "      <td>-0.0066</td>\n",
       "      <td>AMZN</td>\n",
       "      <td>AMZN</td>\n",
       "      <td>Amazon.com Inc</td>\n",
       "      <td>다양한 소매업</td>\n",
       "      <td>534020</td>\n",
       "    </tr>\n",
       "    <tr>\n",
       "      <th>35</th>\n",
       "      <td>2021-03-30</td>\n",
       "      <td>2334.90</td>\n",
       "      <td>2343.30</td>\n",
       "      <td>2370.20</td>\n",
       "      <td>2316.80</td>\n",
       "      <td>246370.0</td>\n",
       "      <td>-0.0070</td>\n",
       "      <td>BKNG</td>\n",
       "      <td>BKNG</td>\n",
       "      <td>Booking Holdings Inc</td>\n",
       "      <td>호텔 및 엔터테인먼트</td>\n",
       "      <td>533010</td>\n",
       "    </tr>\n",
       "    <tr>\n",
       "      <th>5</th>\n",
       "      <td>2021-03-30</td>\n",
       "      <td>2055.54</td>\n",
       "      <td>2060.40</td>\n",
       "      <td>2069.00</td>\n",
       "      <td>2044.03</td>\n",
       "      <td>1040000.0</td>\n",
       "      <td>-0.0002</td>\n",
       "      <td>GOOG</td>\n",
       "      <td>GOOG</td>\n",
       "      <td>Alphabet Inc Class C</td>\n",
       "      <td>소프트웨어 및 IT서비스</td>\n",
       "      <td>572010</td>\n",
       "    </tr>\n",
       "    <tr>\n",
       "      <th>4</th>\n",
       "      <td>2021-03-30</td>\n",
       "      <td>2046.47</td>\n",
       "      <td>2049.80</td>\n",
       "      <td>2061.99</td>\n",
       "      <td>2036.46</td>\n",
       "      <td>1370000.0</td>\n",
       "      <td>0.0003</td>\n",
       "      <td>GOOGL</td>\n",
       "      <td>GOOGL</td>\n",
       "      <td>Alphabet Inc Class A</td>\n",
       "      <td>소프트웨어 및 IT서비스</td>\n",
       "      <td>572010</td>\n",
       "    </tr>\n",
       "    <tr>\n",
       "      <th>44</th>\n",
       "      <td>2021-03-30</td>\n",
       "      <td>1428.03</td>\n",
       "      <td>1408.76</td>\n",
       "      <td>1444.00</td>\n",
       "      <td>1390.38</td>\n",
       "      <td>408150.0</td>\n",
       "      <td>0.0175</td>\n",
       "      <td>MELI</td>\n",
       "      <td>MELI</td>\n",
       "      <td>Mercadolibre Inc</td>\n",
       "      <td>소프트웨어 및 IT서비스</td>\n",
       "      <td>572010</td>\n",
       "    </tr>\n",
       "    <tr>\n",
       "      <th>...</th>\n",
       "      <td>...</td>\n",
       "      <td>...</td>\n",
       "      <td>...</td>\n",
       "      <td>...</td>\n",
       "      <td>...</td>\n",
       "      <td>...</td>\n",
       "      <td>...</td>\n",
       "      <td>...</td>\n",
       "      <td>...</td>\n",
       "      <td>...</td>\n",
       "      <td>...</td>\n",
       "      <td>...</td>\n",
       "    </tr>\n",
       "    <tr>\n",
       "      <th>22</th>\n",
       "      <td>2021-03-30</td>\n",
       "      <td>27.65</td>\n",
       "      <td>26.86</td>\n",
       "      <td>27.91</td>\n",
       "      <td>26.86</td>\n",
       "      <td>3100.0</td>\n",
       "      <td>0.0025</td>\n",
       "      <td>ZIONO</td>\n",
       "      <td>ZIONO</td>\n",
       "      <td>Zions Bancorporation NA ADR</td>\n",
       "      <td>은행</td>\n",
       "      <td>551010</td>\n",
       "    </tr>\n",
       "    <tr>\n",
       "      <th>91</th>\n",
       "      <td>2021-03-30</td>\n",
       "      <td>25.93</td>\n",
       "      <td>25.93</td>\n",
       "      <td>25.93</td>\n",
       "      <td>25.93</td>\n",
       "      <td>710.0</td>\n",
       "      <td>-0.0104</td>\n",
       "      <td>TSCAP</td>\n",
       "      <td>TSCAP</td>\n",
       "      <td>TriState Capital Holdings Inc ADR</td>\n",
       "      <td>은행</td>\n",
       "      <td>551010</td>\n",
       "    </tr>\n",
       "    <tr>\n",
       "      <th>26</th>\n",
       "      <td>2021-03-30</td>\n",
       "      <td>25.85</td>\n",
       "      <td>25.91</td>\n",
       "      <td>26.16</td>\n",
       "      <td>25.65</td>\n",
       "      <td>2200.0</td>\n",
       "      <td>0.0066</td>\n",
       "      <td>ZIONN</td>\n",
       "      <td>ZIONN</td>\n",
       "      <td>Zions Bancorporation NA ADR</td>\n",
       "      <td>은행</td>\n",
       "      <td>551010</td>\n",
       "    </tr>\n",
       "    <tr>\n",
       "      <th>59</th>\n",
       "      <td>2021-03-30</td>\n",
       "      <td>18.58</td>\n",
       "      <td>18.53</td>\n",
       "      <td>18.67</td>\n",
       "      <td>18.50</td>\n",
       "      <td>2830000.0</td>\n",
       "      <td>0.0038</td>\n",
       "      <td>VOD</td>\n",
       "      <td>VOD</td>\n",
       "      <td>Vodafone Group PLC ADR</td>\n",
       "      <td>통신 서비스</td>\n",
       "      <td>574010</td>\n",
       "    </tr>\n",
       "    <tr>\n",
       "      <th>78</th>\n",
       "      <td>2021-03-30</td>\n",
       "      <td>13.28</td>\n",
       "      <td>13.23</td>\n",
       "      <td>13.32</td>\n",
       "      <td>13.17</td>\n",
       "      <td>7190000.0</td>\n",
       "      <td>-0.0067</td>\n",
       "      <td>ERIC</td>\n",
       "      <td>ERIC</td>\n",
       "      <td>Telefonaktiebolaget LM Ericsson ADR</td>\n",
       "      <td>커뮤니케이션 및 네트워킹</td>\n",
       "      <td>571020</td>\n",
       "    </tr>\n",
       "  </tbody>\n",
       "</table>\n",
       "<p>100 rows × 12 columns</p>\n",
       "</div>"
      ],
      "text/plain": [
       "         Date    Close     Open     High      Low     Volume  Change ticker  \\\n",
       "2  2021-03-30  3055.29  3068.99  3069.66  3034.70  2340000.0 -0.0066   AMZN   \n",
       "35 2021-03-30  2334.90  2343.30  2370.20  2316.80   246370.0 -0.0070   BKNG   \n",
       "5  2021-03-30  2055.54  2060.40  2069.00  2044.03  1040000.0 -0.0002   GOOG   \n",
       "4  2021-03-30  2046.47  2049.80  2061.99  2036.46  1370000.0  0.0003  GOOGL   \n",
       "44 2021-03-30  1428.03  1408.76  1444.00  1390.38   408150.0  0.0175   MELI   \n",
       "..        ...      ...      ...      ...      ...        ...     ...    ...   \n",
       "22 2021-03-30    27.65    26.86    27.91    26.86     3100.0  0.0025  ZIONO   \n",
       "91 2021-03-30    25.93    25.93    25.93    25.93      710.0 -0.0104  TSCAP   \n",
       "26 2021-03-30    25.85    25.91    26.16    25.65     2200.0  0.0066  ZIONN   \n",
       "59 2021-03-30    18.58    18.53    18.67    18.50  2830000.0  0.0038    VOD   \n",
       "78 2021-03-30    13.28    13.23    13.32    13.17  7190000.0 -0.0067   ERIC   \n",
       "\n",
       "   Symbol                                 Name       Industry IndustryCode  \n",
       "2    AMZN                       Amazon.com Inc        다양한 소매업       534020  \n",
       "35   BKNG                 Booking Holdings Inc    호텔 및 엔터테인먼트       533010  \n",
       "5    GOOG                 Alphabet Inc Class C  소프트웨어 및 IT서비스       572010  \n",
       "4   GOOGL                 Alphabet Inc Class A  소프트웨어 및 IT서비스       572010  \n",
       "44   MELI                     Mercadolibre Inc  소프트웨어 및 IT서비스       572010  \n",
       "..    ...                                  ...            ...          ...  \n",
       "22  ZIONO          Zions Bancorporation NA ADR             은행       551010  \n",
       "91  TSCAP    TriState Capital Holdings Inc ADR             은행       551010  \n",
       "26  ZIONN          Zions Bancorporation NA ADR             은행       551010  \n",
       "59    VOD               Vodafone Group PLC ADR         통신 서비스       574010  \n",
       "78   ERIC  Telefonaktiebolaget LM Ericsson ADR  커뮤니케이션 및 네트워킹       571020  \n",
       "\n",
       "[100 rows x 12 columns]"
      ]
     },
     "execution_count": 21,
     "metadata": {},
     "output_type": "execute_result"
    }
   ],
   "source": [
    "nasd=pd.merge(result, nas, left_on=\"ticker\", right_on=\"Symbol\").sort_values([\"Close\"],ascending=False)\n",
    "nasd.to_csv(\"./edg/chdatas/SYMB_NASDAQ.csv\",encoding='utf-8-sig')\n",
    "nasd"
   ]
  },
  {
   "cell_type": "markdown",
   "metadata": {},
   "source": [
    "### CLOSE 기준 100SYMBALL  정보 한눈에 알아보기"
   ]
  },
  {
   "cell_type": "code",
   "execution_count": 22,
   "metadata": {},
   "outputs": [
    {
     "data": {
      "application/vnd.plotly.v1+json": {
       "config": {
        "plotlyServerURL": "https://plot.ly"
       },
       "data": [
        {
         "alignmentgroup": "True",
         "bingroup": "x",
         "hovertemplate": "x=%{x}<br>count=%{y}<extra></extra>",
         "legendgroup": "",
         "marker": {
          "color": "#636efa"
         },
         "name": "",
         "offsetgroup": "",
         "orientation": "v",
         "showlegend": false,
         "type": "histogram",
         "x": [
          3055.29,
          2334.9,
          2055.54,
          2046.47,
          1428.03,
          799.55,
          726.49,
          674.84,
          635.62,
          632.69,
          625.88,
          601.29,
          572.56,
          524.33,
          514.87,
          513.39,
          509.13,
          475.95,
          470.67,
          465.46,
          456.16,
          373.66,
          368.96,
          349.75,
          347.2,
          337.31,
          332.99,
          317.09,
          317.07,
          313.19,
          311.96,
          288,
          276.01,
          268.43,
          249.75,
          243.23,
          239.6,
          236.54,
          231.85,
          218.23,
          212.99,
          204.94,
          204.43,
          197.77,
          196.94,
          187.89,
          185.94,
          183.1,
          175.28,
          172.22,
          153.45,
          152.61,
          150.11,
          148.23,
          142.54,
          135.44,
          134.43,
          131.48,
          130.87,
          130.11,
          126.76,
          124.64,
          120.76,
          120.38,
          120.3,
          119.9,
          118.49,
          110.27,
          107.17,
          105.05,
          102.9,
          99.23,
          96.37,
          93.32,
          92.66,
          90.69,
          86.54,
          84.73,
          83,
          78.57,
          76,
          66.01,
          65.5,
          63.77,
          60.32,
          58.78,
          54.98,
          52.98,
          51.77,
          49.97,
          49.11,
          47.33,
          43.5,
          40.28,
          34.91,
          27.65,
          25.93,
          25.85,
          18.58,
          13.28
         ],
         "xaxis": "x",
         "yaxis": "y"
        }
       ],
       "layout": {
        "barmode": "relative",
        "legend": {
         "tracegroupgap": 0
        },
        "template": {
         "data": {
          "bar": [
           {
            "error_x": {
             "color": "#2a3f5f"
            },
            "error_y": {
             "color": "#2a3f5f"
            },
            "marker": {
             "line": {
              "color": "#E5ECF6",
              "width": 0.5
             }
            },
            "type": "bar"
           }
          ],
          "barpolar": [
           {
            "marker": {
             "line": {
              "color": "#E5ECF6",
              "width": 0.5
             }
            },
            "type": "barpolar"
           }
          ],
          "carpet": [
           {
            "aaxis": {
             "endlinecolor": "#2a3f5f",
             "gridcolor": "white",
             "linecolor": "white",
             "minorgridcolor": "white",
             "startlinecolor": "#2a3f5f"
            },
            "baxis": {
             "endlinecolor": "#2a3f5f",
             "gridcolor": "white",
             "linecolor": "white",
             "minorgridcolor": "white",
             "startlinecolor": "#2a3f5f"
            },
            "type": "carpet"
           }
          ],
          "choropleth": [
           {
            "colorbar": {
             "outlinewidth": 0,
             "ticks": ""
            },
            "type": "choropleth"
           }
          ],
          "contour": [
           {
            "colorbar": {
             "outlinewidth": 0,
             "ticks": ""
            },
            "colorscale": [
             [
              0,
              "#0d0887"
             ],
             [
              0.1111111111111111,
              "#46039f"
             ],
             [
              0.2222222222222222,
              "#7201a8"
             ],
             [
              0.3333333333333333,
              "#9c179e"
             ],
             [
              0.4444444444444444,
              "#bd3786"
             ],
             [
              0.5555555555555556,
              "#d8576b"
             ],
             [
              0.6666666666666666,
              "#ed7953"
             ],
             [
              0.7777777777777778,
              "#fb9f3a"
             ],
             [
              0.8888888888888888,
              "#fdca26"
             ],
             [
              1,
              "#f0f921"
             ]
            ],
            "type": "contour"
           }
          ],
          "contourcarpet": [
           {
            "colorbar": {
             "outlinewidth": 0,
             "ticks": ""
            },
            "type": "contourcarpet"
           }
          ],
          "heatmap": [
           {
            "colorbar": {
             "outlinewidth": 0,
             "ticks": ""
            },
            "colorscale": [
             [
              0,
              "#0d0887"
             ],
             [
              0.1111111111111111,
              "#46039f"
             ],
             [
              0.2222222222222222,
              "#7201a8"
             ],
             [
              0.3333333333333333,
              "#9c179e"
             ],
             [
              0.4444444444444444,
              "#bd3786"
             ],
             [
              0.5555555555555556,
              "#d8576b"
             ],
             [
              0.6666666666666666,
              "#ed7953"
             ],
             [
              0.7777777777777778,
              "#fb9f3a"
             ],
             [
              0.8888888888888888,
              "#fdca26"
             ],
             [
              1,
              "#f0f921"
             ]
            ],
            "type": "heatmap"
           }
          ],
          "heatmapgl": [
           {
            "colorbar": {
             "outlinewidth": 0,
             "ticks": ""
            },
            "colorscale": [
             [
              0,
              "#0d0887"
             ],
             [
              0.1111111111111111,
              "#46039f"
             ],
             [
              0.2222222222222222,
              "#7201a8"
             ],
             [
              0.3333333333333333,
              "#9c179e"
             ],
             [
              0.4444444444444444,
              "#bd3786"
             ],
             [
              0.5555555555555556,
              "#d8576b"
             ],
             [
              0.6666666666666666,
              "#ed7953"
             ],
             [
              0.7777777777777778,
              "#fb9f3a"
             ],
             [
              0.8888888888888888,
              "#fdca26"
             ],
             [
              1,
              "#f0f921"
             ]
            ],
            "type": "heatmapgl"
           }
          ],
          "histogram": [
           {
            "marker": {
             "colorbar": {
              "outlinewidth": 0,
              "ticks": ""
             }
            },
            "type": "histogram"
           }
          ],
          "histogram2d": [
           {
            "colorbar": {
             "outlinewidth": 0,
             "ticks": ""
            },
            "colorscale": [
             [
              0,
              "#0d0887"
             ],
             [
              0.1111111111111111,
              "#46039f"
             ],
             [
              0.2222222222222222,
              "#7201a8"
             ],
             [
              0.3333333333333333,
              "#9c179e"
             ],
             [
              0.4444444444444444,
              "#bd3786"
             ],
             [
              0.5555555555555556,
              "#d8576b"
             ],
             [
              0.6666666666666666,
              "#ed7953"
             ],
             [
              0.7777777777777778,
              "#fb9f3a"
             ],
             [
              0.8888888888888888,
              "#fdca26"
             ],
             [
              1,
              "#f0f921"
             ]
            ],
            "type": "histogram2d"
           }
          ],
          "histogram2dcontour": [
           {
            "colorbar": {
             "outlinewidth": 0,
             "ticks": ""
            },
            "colorscale": [
             [
              0,
              "#0d0887"
             ],
             [
              0.1111111111111111,
              "#46039f"
             ],
             [
              0.2222222222222222,
              "#7201a8"
             ],
             [
              0.3333333333333333,
              "#9c179e"
             ],
             [
              0.4444444444444444,
              "#bd3786"
             ],
             [
              0.5555555555555556,
              "#d8576b"
             ],
             [
              0.6666666666666666,
              "#ed7953"
             ],
             [
              0.7777777777777778,
              "#fb9f3a"
             ],
             [
              0.8888888888888888,
              "#fdca26"
             ],
             [
              1,
              "#f0f921"
             ]
            ],
            "type": "histogram2dcontour"
           }
          ],
          "mesh3d": [
           {
            "colorbar": {
             "outlinewidth": 0,
             "ticks": ""
            },
            "type": "mesh3d"
           }
          ],
          "parcoords": [
           {
            "line": {
             "colorbar": {
              "outlinewidth": 0,
              "ticks": ""
             }
            },
            "type": "parcoords"
           }
          ],
          "pie": [
           {
            "automargin": true,
            "type": "pie"
           }
          ],
          "scatter": [
           {
            "marker": {
             "colorbar": {
              "outlinewidth": 0,
              "ticks": ""
             }
            },
            "type": "scatter"
           }
          ],
          "scatter3d": [
           {
            "line": {
             "colorbar": {
              "outlinewidth": 0,
              "ticks": ""
             }
            },
            "marker": {
             "colorbar": {
              "outlinewidth": 0,
              "ticks": ""
             }
            },
            "type": "scatter3d"
           }
          ],
          "scattercarpet": [
           {
            "marker": {
             "colorbar": {
              "outlinewidth": 0,
              "ticks": ""
             }
            },
            "type": "scattercarpet"
           }
          ],
          "scattergeo": [
           {
            "marker": {
             "colorbar": {
              "outlinewidth": 0,
              "ticks": ""
             }
            },
            "type": "scattergeo"
           }
          ],
          "scattergl": [
           {
            "marker": {
             "colorbar": {
              "outlinewidth": 0,
              "ticks": ""
             }
            },
            "type": "scattergl"
           }
          ],
          "scattermapbox": [
           {
            "marker": {
             "colorbar": {
              "outlinewidth": 0,
              "ticks": ""
             }
            },
            "type": "scattermapbox"
           }
          ],
          "scatterpolar": [
           {
            "marker": {
             "colorbar": {
              "outlinewidth": 0,
              "ticks": ""
             }
            },
            "type": "scatterpolar"
           }
          ],
          "scatterpolargl": [
           {
            "marker": {
             "colorbar": {
              "outlinewidth": 0,
              "ticks": ""
             }
            },
            "type": "scatterpolargl"
           }
          ],
          "scatterternary": [
           {
            "marker": {
             "colorbar": {
              "outlinewidth": 0,
              "ticks": ""
             }
            },
            "type": "scatterternary"
           }
          ],
          "surface": [
           {
            "colorbar": {
             "outlinewidth": 0,
             "ticks": ""
            },
            "colorscale": [
             [
              0,
              "#0d0887"
             ],
             [
              0.1111111111111111,
              "#46039f"
             ],
             [
              0.2222222222222222,
              "#7201a8"
             ],
             [
              0.3333333333333333,
              "#9c179e"
             ],
             [
              0.4444444444444444,
              "#bd3786"
             ],
             [
              0.5555555555555556,
              "#d8576b"
             ],
             [
              0.6666666666666666,
              "#ed7953"
             ],
             [
              0.7777777777777778,
              "#fb9f3a"
             ],
             [
              0.8888888888888888,
              "#fdca26"
             ],
             [
              1,
              "#f0f921"
             ]
            ],
            "type": "surface"
           }
          ],
          "table": [
           {
            "cells": {
             "fill": {
              "color": "#EBF0F8"
             },
             "line": {
              "color": "white"
             }
            },
            "header": {
             "fill": {
              "color": "#C8D4E3"
             },
             "line": {
              "color": "white"
             }
            },
            "type": "table"
           }
          ]
         },
         "layout": {
          "annotationdefaults": {
           "arrowcolor": "#2a3f5f",
           "arrowhead": 0,
           "arrowwidth": 1
          },
          "autotypenumbers": "strict",
          "coloraxis": {
           "colorbar": {
            "outlinewidth": 0,
            "ticks": ""
           }
          },
          "colorscale": {
           "diverging": [
            [
             0,
             "#8e0152"
            ],
            [
             0.1,
             "#c51b7d"
            ],
            [
             0.2,
             "#de77ae"
            ],
            [
             0.3,
             "#f1b6da"
            ],
            [
             0.4,
             "#fde0ef"
            ],
            [
             0.5,
             "#f7f7f7"
            ],
            [
             0.6,
             "#e6f5d0"
            ],
            [
             0.7,
             "#b8e186"
            ],
            [
             0.8,
             "#7fbc41"
            ],
            [
             0.9,
             "#4d9221"
            ],
            [
             1,
             "#276419"
            ]
           ],
           "sequential": [
            [
             0,
             "#0d0887"
            ],
            [
             0.1111111111111111,
             "#46039f"
            ],
            [
             0.2222222222222222,
             "#7201a8"
            ],
            [
             0.3333333333333333,
             "#9c179e"
            ],
            [
             0.4444444444444444,
             "#bd3786"
            ],
            [
             0.5555555555555556,
             "#d8576b"
            ],
            [
             0.6666666666666666,
             "#ed7953"
            ],
            [
             0.7777777777777778,
             "#fb9f3a"
            ],
            [
             0.8888888888888888,
             "#fdca26"
            ],
            [
             1,
             "#f0f921"
            ]
           ],
           "sequentialminus": [
            [
             0,
             "#0d0887"
            ],
            [
             0.1111111111111111,
             "#46039f"
            ],
            [
             0.2222222222222222,
             "#7201a8"
            ],
            [
             0.3333333333333333,
             "#9c179e"
            ],
            [
             0.4444444444444444,
             "#bd3786"
            ],
            [
             0.5555555555555556,
             "#d8576b"
            ],
            [
             0.6666666666666666,
             "#ed7953"
            ],
            [
             0.7777777777777778,
             "#fb9f3a"
            ],
            [
             0.8888888888888888,
             "#fdca26"
            ],
            [
             1,
             "#f0f921"
            ]
           ]
          },
          "colorway": [
           "#636efa",
           "#EF553B",
           "#00cc96",
           "#ab63fa",
           "#FFA15A",
           "#19d3f3",
           "#FF6692",
           "#B6E880",
           "#FF97FF",
           "#FECB52"
          ],
          "font": {
           "color": "#2a3f5f"
          },
          "geo": {
           "bgcolor": "white",
           "lakecolor": "white",
           "landcolor": "#E5ECF6",
           "showlakes": true,
           "showland": true,
           "subunitcolor": "white"
          },
          "hoverlabel": {
           "align": "left"
          },
          "hovermode": "closest",
          "mapbox": {
           "style": "light"
          },
          "paper_bgcolor": "white",
          "plot_bgcolor": "#E5ECF6",
          "polar": {
           "angularaxis": {
            "gridcolor": "white",
            "linecolor": "white",
            "ticks": ""
           },
           "bgcolor": "#E5ECF6",
           "radialaxis": {
            "gridcolor": "white",
            "linecolor": "white",
            "ticks": ""
           }
          },
          "scene": {
           "xaxis": {
            "backgroundcolor": "#E5ECF6",
            "gridcolor": "white",
            "gridwidth": 2,
            "linecolor": "white",
            "showbackground": true,
            "ticks": "",
            "zerolinecolor": "white"
           },
           "yaxis": {
            "backgroundcolor": "#E5ECF6",
            "gridcolor": "white",
            "gridwidth": 2,
            "linecolor": "white",
            "showbackground": true,
            "ticks": "",
            "zerolinecolor": "white"
           },
           "zaxis": {
            "backgroundcolor": "#E5ECF6",
            "gridcolor": "white",
            "gridwidth": 2,
            "linecolor": "white",
            "showbackground": true,
            "ticks": "",
            "zerolinecolor": "white"
           }
          },
          "shapedefaults": {
           "line": {
            "color": "#2a3f5f"
           }
          },
          "ternary": {
           "aaxis": {
            "gridcolor": "white",
            "linecolor": "white",
            "ticks": ""
           },
           "baxis": {
            "gridcolor": "white",
            "linecolor": "white",
            "ticks": ""
           },
           "bgcolor": "#E5ECF6",
           "caxis": {
            "gridcolor": "white",
            "linecolor": "white",
            "ticks": ""
           }
          },
          "title": {
           "x": 0.05
          },
          "xaxis": {
           "automargin": true,
           "gridcolor": "white",
           "linecolor": "white",
           "ticks": "",
           "title": {
            "standoff": 15
           },
           "zerolinecolor": "white",
           "zerolinewidth": 2
          },
          "yaxis": {
           "automargin": true,
           "gridcolor": "white",
           "linecolor": "white",
           "ticks": "",
           "title": {
            "standoff": 15
           },
           "zerolinecolor": "white",
           "zerolinewidth": 2
          }
         }
        },
        "title": {
         "text": "21년 03월 30 ~ 21년 03월 31일 SYSBOL별 COLSE NASDQA지수 "
        },
        "xaxis": {
         "anchor": "y",
         "domain": [
          0,
          1
         ],
         "title": {
          "text": "x"
         }
        },
        "yaxis": {
         "anchor": "x",
         "domain": [
          0,
          1
         ],
         "title": {
          "text": "count"
         }
        }
       }
      },
      "text/html": [
       "<div>                            <div id=\"e8c7e8e7-64e3-4812-aa61-e180f38fe8c6\" class=\"plotly-graph-div\" style=\"height:525px; width:100%;\"></div>            <script type=\"text/javascript\">                require([\"plotly\"], function(Plotly) {                    window.PLOTLYENV=window.PLOTLYENV || {};                                    if (document.getElementById(\"e8c7e8e7-64e3-4812-aa61-e180f38fe8c6\")) {                    Plotly.newPlot(                        \"e8c7e8e7-64e3-4812-aa61-e180f38fe8c6\",                        [{\"alignmentgroup\": \"True\", \"bingroup\": \"x\", \"hovertemplate\": \"x=%{x}<br>count=%{y}<extra></extra>\", \"legendgroup\": \"\", \"marker\": {\"color\": \"#636efa\"}, \"name\": \"\", \"offsetgroup\": \"\", \"orientation\": \"v\", \"showlegend\": false, \"type\": \"histogram\", \"x\": [3055.29, 2334.9, 2055.54, 2046.47, 1428.03, 799.55, 726.49, 674.84, 635.62, 632.69, 625.88, 601.29, 572.56, 524.33, 514.87, 513.39, 509.13, 475.95, 470.67, 465.46, 456.16, 373.66, 368.96, 349.75, 347.2, 337.31, 332.99, 317.09, 317.07, 313.19, 311.96, 288.0, 276.01, 268.43, 249.75, 243.23, 239.6, 236.54, 231.85, 218.23, 212.99, 204.94, 204.43, 197.77, 196.94, 187.89, 185.94, 183.1, 175.28, 172.22, 153.45, 152.61, 150.11, 148.23, 142.54, 135.44, 134.43, 131.48, 130.87, 130.11, 126.76, 124.64, 120.76, 120.38, 120.3, 119.9, 118.49, 110.27, 107.17, 105.05, 102.9, 99.23, 96.37, 93.32, 92.66, 90.69, 86.54, 84.73, 83.0, 78.57, 76.0, 66.01, 65.5, 63.77, 60.32, 58.78, 54.98, 52.98, 51.77, 49.97, 49.11, 47.33, 43.5, 40.28, 34.91, 27.65, 25.93, 25.85, 18.58, 13.28], \"xaxis\": \"x\", \"yaxis\": \"y\"}],                        {\"barmode\": \"relative\", \"legend\": {\"tracegroupgap\": 0}, \"template\": {\"data\": {\"bar\": [{\"error_x\": {\"color\": \"#2a3f5f\"}, \"error_y\": {\"color\": \"#2a3f5f\"}, \"marker\": {\"line\": {\"color\": \"#E5ECF6\", \"width\": 0.5}}, \"type\": \"bar\"}], \"barpolar\": [{\"marker\": {\"line\": {\"color\": \"#E5ECF6\", \"width\": 0.5}}, \"type\": \"barpolar\"}], \"carpet\": [{\"aaxis\": {\"endlinecolor\": \"#2a3f5f\", \"gridcolor\": \"white\", \"linecolor\": \"white\", \"minorgridcolor\": \"white\", \"startlinecolor\": \"#2a3f5f\"}, \"baxis\": {\"endlinecolor\": \"#2a3f5f\", \"gridcolor\": \"white\", \"linecolor\": \"white\", \"minorgridcolor\": \"white\", \"startlinecolor\": \"#2a3f5f\"}, \"type\": \"carpet\"}], \"choropleth\": [{\"colorbar\": {\"outlinewidth\": 0, \"ticks\": \"\"}, \"type\": \"choropleth\"}], \"contour\": [{\"colorbar\": {\"outlinewidth\": 0, \"ticks\": \"\"}, \"colorscale\": [[0.0, \"#0d0887\"], [0.1111111111111111, \"#46039f\"], [0.2222222222222222, \"#7201a8\"], [0.3333333333333333, \"#9c179e\"], [0.4444444444444444, \"#bd3786\"], [0.5555555555555556, \"#d8576b\"], [0.6666666666666666, \"#ed7953\"], [0.7777777777777778, \"#fb9f3a\"], [0.8888888888888888, \"#fdca26\"], [1.0, \"#f0f921\"]], \"type\": \"contour\"}], \"contourcarpet\": [{\"colorbar\": {\"outlinewidth\": 0, \"ticks\": \"\"}, \"type\": \"contourcarpet\"}], \"heatmap\": [{\"colorbar\": {\"outlinewidth\": 0, \"ticks\": \"\"}, \"colorscale\": [[0.0, \"#0d0887\"], [0.1111111111111111, \"#46039f\"], [0.2222222222222222, \"#7201a8\"], [0.3333333333333333, \"#9c179e\"], [0.4444444444444444, \"#bd3786\"], [0.5555555555555556, \"#d8576b\"], [0.6666666666666666, \"#ed7953\"], [0.7777777777777778, \"#fb9f3a\"], [0.8888888888888888, \"#fdca26\"], [1.0, \"#f0f921\"]], \"type\": \"heatmap\"}], \"heatmapgl\": [{\"colorbar\": {\"outlinewidth\": 0, \"ticks\": \"\"}, \"colorscale\": [[0.0, \"#0d0887\"], [0.1111111111111111, \"#46039f\"], [0.2222222222222222, \"#7201a8\"], [0.3333333333333333, \"#9c179e\"], [0.4444444444444444, \"#bd3786\"], [0.5555555555555556, \"#d8576b\"], [0.6666666666666666, \"#ed7953\"], [0.7777777777777778, \"#fb9f3a\"], [0.8888888888888888, \"#fdca26\"], [1.0, \"#f0f921\"]], \"type\": \"heatmapgl\"}], \"histogram\": [{\"marker\": {\"colorbar\": {\"outlinewidth\": 0, \"ticks\": \"\"}}, \"type\": \"histogram\"}], \"histogram2d\": [{\"colorbar\": {\"outlinewidth\": 0, \"ticks\": \"\"}, \"colorscale\": [[0.0, \"#0d0887\"], [0.1111111111111111, \"#46039f\"], [0.2222222222222222, \"#7201a8\"], [0.3333333333333333, \"#9c179e\"], [0.4444444444444444, \"#bd3786\"], [0.5555555555555556, \"#d8576b\"], [0.6666666666666666, \"#ed7953\"], [0.7777777777777778, \"#fb9f3a\"], [0.8888888888888888, \"#fdca26\"], [1.0, \"#f0f921\"]], \"type\": \"histogram2d\"}], \"histogram2dcontour\": [{\"colorbar\": {\"outlinewidth\": 0, \"ticks\": \"\"}, \"colorscale\": [[0.0, \"#0d0887\"], [0.1111111111111111, \"#46039f\"], [0.2222222222222222, \"#7201a8\"], [0.3333333333333333, \"#9c179e\"], [0.4444444444444444, \"#bd3786\"], [0.5555555555555556, \"#d8576b\"], [0.6666666666666666, \"#ed7953\"], [0.7777777777777778, \"#fb9f3a\"], [0.8888888888888888, \"#fdca26\"], [1.0, \"#f0f921\"]], \"type\": \"histogram2dcontour\"}], \"mesh3d\": [{\"colorbar\": {\"outlinewidth\": 0, \"ticks\": \"\"}, \"type\": \"mesh3d\"}], \"parcoords\": [{\"line\": {\"colorbar\": {\"outlinewidth\": 0, \"ticks\": \"\"}}, \"type\": \"parcoords\"}], \"pie\": [{\"automargin\": true, \"type\": \"pie\"}], \"scatter\": [{\"marker\": {\"colorbar\": {\"outlinewidth\": 0, \"ticks\": \"\"}}, \"type\": \"scatter\"}], \"scatter3d\": [{\"line\": {\"colorbar\": {\"outlinewidth\": 0, \"ticks\": \"\"}}, \"marker\": {\"colorbar\": {\"outlinewidth\": 0, \"ticks\": \"\"}}, \"type\": \"scatter3d\"}], \"scattercarpet\": [{\"marker\": {\"colorbar\": {\"outlinewidth\": 0, \"ticks\": \"\"}}, \"type\": \"scattercarpet\"}], \"scattergeo\": [{\"marker\": {\"colorbar\": {\"outlinewidth\": 0, \"ticks\": \"\"}}, \"type\": \"scattergeo\"}], \"scattergl\": [{\"marker\": {\"colorbar\": {\"outlinewidth\": 0, \"ticks\": \"\"}}, \"type\": \"scattergl\"}], \"scattermapbox\": [{\"marker\": {\"colorbar\": {\"outlinewidth\": 0, \"ticks\": \"\"}}, \"type\": \"scattermapbox\"}], \"scatterpolar\": [{\"marker\": {\"colorbar\": {\"outlinewidth\": 0, \"ticks\": \"\"}}, \"type\": \"scatterpolar\"}], \"scatterpolargl\": [{\"marker\": {\"colorbar\": {\"outlinewidth\": 0, \"ticks\": \"\"}}, \"type\": \"scatterpolargl\"}], \"scatterternary\": [{\"marker\": {\"colorbar\": {\"outlinewidth\": 0, \"ticks\": \"\"}}, \"type\": \"scatterternary\"}], \"surface\": [{\"colorbar\": {\"outlinewidth\": 0, \"ticks\": \"\"}, \"colorscale\": [[0.0, \"#0d0887\"], [0.1111111111111111, \"#46039f\"], [0.2222222222222222, \"#7201a8\"], [0.3333333333333333, \"#9c179e\"], [0.4444444444444444, \"#bd3786\"], [0.5555555555555556, \"#d8576b\"], [0.6666666666666666, \"#ed7953\"], [0.7777777777777778, \"#fb9f3a\"], [0.8888888888888888, \"#fdca26\"], [1.0, \"#f0f921\"]], \"type\": \"surface\"}], \"table\": [{\"cells\": {\"fill\": {\"color\": \"#EBF0F8\"}, \"line\": {\"color\": \"white\"}}, \"header\": {\"fill\": {\"color\": \"#C8D4E3\"}, \"line\": {\"color\": \"white\"}}, \"type\": \"table\"}]}, \"layout\": {\"annotationdefaults\": {\"arrowcolor\": \"#2a3f5f\", \"arrowhead\": 0, \"arrowwidth\": 1}, \"autotypenumbers\": \"strict\", \"coloraxis\": {\"colorbar\": {\"outlinewidth\": 0, \"ticks\": \"\"}}, \"colorscale\": {\"diverging\": [[0, \"#8e0152\"], [0.1, \"#c51b7d\"], [0.2, \"#de77ae\"], [0.3, \"#f1b6da\"], [0.4, \"#fde0ef\"], [0.5, \"#f7f7f7\"], [0.6, \"#e6f5d0\"], [0.7, \"#b8e186\"], [0.8, \"#7fbc41\"], [0.9, \"#4d9221\"], [1, \"#276419\"]], \"sequential\": [[0.0, \"#0d0887\"], [0.1111111111111111, \"#46039f\"], [0.2222222222222222, \"#7201a8\"], [0.3333333333333333, \"#9c179e\"], [0.4444444444444444, \"#bd3786\"], [0.5555555555555556, \"#d8576b\"], [0.6666666666666666, \"#ed7953\"], [0.7777777777777778, \"#fb9f3a\"], [0.8888888888888888, \"#fdca26\"], [1.0, \"#f0f921\"]], \"sequentialminus\": [[0.0, \"#0d0887\"], [0.1111111111111111, \"#46039f\"], [0.2222222222222222, \"#7201a8\"], [0.3333333333333333, \"#9c179e\"], [0.4444444444444444, \"#bd3786\"], [0.5555555555555556, \"#d8576b\"], [0.6666666666666666, \"#ed7953\"], [0.7777777777777778, \"#fb9f3a\"], [0.8888888888888888, \"#fdca26\"], [1.0, \"#f0f921\"]]}, \"colorway\": [\"#636efa\", \"#EF553B\", \"#00cc96\", \"#ab63fa\", \"#FFA15A\", \"#19d3f3\", \"#FF6692\", \"#B6E880\", \"#FF97FF\", \"#FECB52\"], \"font\": {\"color\": \"#2a3f5f\"}, \"geo\": {\"bgcolor\": \"white\", \"lakecolor\": \"white\", \"landcolor\": \"#E5ECF6\", \"showlakes\": true, \"showland\": true, \"subunitcolor\": \"white\"}, \"hoverlabel\": {\"align\": \"left\"}, \"hovermode\": \"closest\", \"mapbox\": {\"style\": \"light\"}, \"paper_bgcolor\": \"white\", \"plot_bgcolor\": \"#E5ECF6\", \"polar\": {\"angularaxis\": {\"gridcolor\": \"white\", \"linecolor\": \"white\", \"ticks\": \"\"}, \"bgcolor\": \"#E5ECF6\", \"radialaxis\": {\"gridcolor\": \"white\", \"linecolor\": \"white\", \"ticks\": \"\"}}, \"scene\": {\"xaxis\": {\"backgroundcolor\": \"#E5ECF6\", \"gridcolor\": \"white\", \"gridwidth\": 2, \"linecolor\": \"white\", \"showbackground\": true, \"ticks\": \"\", \"zerolinecolor\": \"white\"}, \"yaxis\": {\"backgroundcolor\": \"#E5ECF6\", \"gridcolor\": \"white\", \"gridwidth\": 2, \"linecolor\": \"white\", \"showbackground\": true, \"ticks\": \"\", \"zerolinecolor\": \"white\"}, \"zaxis\": {\"backgroundcolor\": \"#E5ECF6\", \"gridcolor\": \"white\", \"gridwidth\": 2, \"linecolor\": \"white\", \"showbackground\": true, \"ticks\": \"\", \"zerolinecolor\": \"white\"}}, \"shapedefaults\": {\"line\": {\"color\": \"#2a3f5f\"}}, \"ternary\": {\"aaxis\": {\"gridcolor\": \"white\", \"linecolor\": \"white\", \"ticks\": \"\"}, \"baxis\": {\"gridcolor\": \"white\", \"linecolor\": \"white\", \"ticks\": \"\"}, \"bgcolor\": \"#E5ECF6\", \"caxis\": {\"gridcolor\": \"white\", \"linecolor\": \"white\", \"ticks\": \"\"}}, \"title\": {\"x\": 0.05}, \"xaxis\": {\"automargin\": true, \"gridcolor\": \"white\", \"linecolor\": \"white\", \"ticks\": \"\", \"title\": {\"standoff\": 15}, \"zerolinecolor\": \"white\", \"zerolinewidth\": 2}, \"yaxis\": {\"automargin\": true, \"gridcolor\": \"white\", \"linecolor\": \"white\", \"ticks\": \"\", \"title\": {\"standoff\": 15}, \"zerolinecolor\": \"white\", \"zerolinewidth\": 2}}}, \"title\": {\"text\": \"21\\ub144 03\\uc6d4 30 ~ 21\\ub144 03\\uc6d4 31\\uc77c SYSBOL\\ubcc4 COLSE NASDQA\\uc9c0\\uc218 \"}, \"xaxis\": {\"anchor\": \"y\", \"domain\": [0.0, 1.0], \"title\": {\"text\": \"x\"}}, \"yaxis\": {\"anchor\": \"x\", \"domain\": [0.0, 1.0], \"title\": {\"text\": \"count\"}}},                        {\"responsive\": true}                    ).then(function(){\n",
       "                            \n",
       "var gd = document.getElementById('e8c7e8e7-64e3-4812-aa61-e180f38fe8c6');\n",
       "var x = new MutationObserver(function (mutations, observer) {{\n",
       "        var display = window.getComputedStyle(gd).display;\n",
       "        if (!display || display === 'none') {{\n",
       "            console.log([gd, 'removed!']);\n",
       "            Plotly.purge(gd);\n",
       "            observer.disconnect();\n",
       "        }}\n",
       "}});\n",
       "\n",
       "// Listen for the removal of the full notebook cells\n",
       "var notebookContainer = gd.closest('#notebook-container');\n",
       "if (notebookContainer) {{\n",
       "    x.observe(notebookContainer, {childList: true});\n",
       "}}\n",
       "\n",
       "// Listen for the clearing of the current output cell\n",
       "var outputEl = gd.closest('.output');\n",
       "if (outputEl) {{\n",
       "    x.observe(outputEl, {childList: true});\n",
       "}}\n",
       "\n",
       "                        })                };                });            </script>        </div>"
      ]
     },
     "metadata": {},
     "output_type": "display_data"
    }
   ],
   "source": [
    "fig = px.histogram(x= nasd['Close'], title='21년 03월 30 ~ 21년 03월 31일 SYSBOL별 COLSE NASDQA지수 ')\n",
    "fig.show()"
   ]
  },
  {
   "cell_type": "code",
   "execution_count": 199,
   "metadata": {},
   "outputs": [],
   "source": [
    "#하나의 심볼 기간전체 데이터 가져오기\n",
    "AAPL = fdr.DataReader('AAPL', '2000-01-01','2021-03-31')\n",
    "MSFT = fdr.DataReader('MSFT', '2000-01-01','2021-03-30')\n",
    "VOD = fdr.DataReader('VOD','2000-01-01','2021-03-31')\n",
    "ERIC = fdr.DataReader('ERIC','2000-01-01','2021-03-30')\n",
    "AMGN = fdr.DataReader('AMGN','2000-01-01','2021-03-30')\n",
    "ADSK = fdr.DataReader('ADSK','2000-01-01','2021-03-31')\n",
    "len(AAPL),len(MSFT),len(VOD),len(ERIC),len(AMGN),len(ADSK)\n",
    "\n",
    "# #소프트웨어 및 IT 서비스\n",
    "GOOG = fdr.DataReader('GOOG', '2000-01-01','2021-03-31')\n",
    "GOOGL= fdr.DataReader('GOOGL', '2000-01-01','2021-03-31')\n",
    "MELI = fdr.DataReader('MELI', '2000-01-01','2021-03-31')\n",
    "#CSGP= fdr.DataReader('CSGP', '2000-01-01','2021-03-31')\n",
    "TTD = fdr.DataReader('TTD', '2000-01-01','2021-03-31')\n",
    "NFLX = fdr.DataReader('NFLX', '2000-01-01','2021-03-31')\n",
    "ADBE = fdr.DataReader('ADBE', '2000-01-01','2021-03-31')\n",
    "INTU = fdr.DataReader('INTU', '2000-01-01','2021-03-31')\n",
    "ZM = fdr.DataReader('ZM', '2000-01-01','2021-03-31')\n",
    "FB = fdr.DataReader('FB', '2000-01-01','2021-03-31')\n",
    "ADSK = fdr.DataReader('ADSK', '2000-01-01','2021-03-31')\n",
    "WDAY = fdr.DataReader('WDAY', '2000-01-01','2021-03-31')\n",
    "SNPS = fdr.DataReader('SNPS', '2000-01-01','2021-03-31')\n",
    "PYPL = fdr.DataReader('PYPL', '2000-01-01','2021-03-31')\n",
    "MSFT = fdr.DataReader('MSFT', '2000-01-01','2021-03-31')\n",
    "BIDU = fdr.DataReader('BIDU', '2000-01-01','2021-03-31')\n",
    "TEAM = fdr.DataReader('TEAM', '2000-01-01','2021-03-31')\n",
    "DOCU = fdr.DataReader('DOCU', '2000-01-01','2021-03-31')\n",
    "ADP = fdr.DataReader('ADP', '2000-01-01','2021-03-31')\n",
    "ABNB = fdr.DataReader('ABNB', '2000-01-01','2021-03-31')\n",
    "CRWD = fdr.DataReader('CRWD', '2000-01-01','2021-03-31')\n",
    "PDD = fdr.DataReader('PDD', '2000-01-01','2021-03-31')\n",
    "EA = fdr.DataReader('EA', '2000-01-01','2021-03-31')\n",
    "MTCH = fdr.DataReader('MTCH', '2000-01-01','2021-03-31')\n",
    "CDNS = fdr.DataReader('CDNS', '2000-01-01','2021-03-31')\n",
    "BILI = fdr.DataReader('BILI', '2000-01-01','2021-03-31')\n",
    "NTES = fdr.DataReader('NTES', '2000-01-01','2021-03-31')\n",
    "ATVI = fdr.DataReader('ATVI', '2000-01-01','2021-03-31')\n",
    "CTSH = fdr.DataReader('CTSH', '2000-01-01','2021-03-31')\n",
    "EBAY = fdr.DataReader('EBAY', '2000-01-01','2021-03-31')\n",
    "\n",
    "#Close 기준\n",
    "GOOG = GOOG['Close']\n",
    "GOOGL = GOOGL['Close']\n",
    "MELI = MELI['Close']\n",
    "#CSGP = CSGP['Close']\n",
    "TTD = TTD['Close']\n",
    "NFLX = NFLX['Close']\n",
    "ADBE = ADBE['Close']\n",
    "INTU = INTU['Close']\n",
    "ZM = ZM['Close']\n",
    "FB = FB['Close']\n",
    "ADSK = ADSK['Close']\n",
    "WDAY = WDAY['Close']\n",
    "SNPS = SNPS['Close']\n",
    "PYPL = PYPL['Close']\n",
    "MSFT = MSFT['Close']\n",
    "BIDU = BIDU['Close']\n",
    "TEAM = TEAM['Close']\n",
    "DOCU = DOCU['Close']\n",
    "ADP = ADP['Close']\n",
    "ABNB = ABNB['Close']\n",
    "CRWD = CRWD['Close']\n",
    "PDD = PDD['Close']\n",
    "EA = EA['Close']\n",
    "MTCH = MTCH['Close']\n",
    "CDNS = CDNS['Close']\n",
    "BILI = BILI['Close']\n",
    "NTES = NTES['Close']\n",
    "ATVI = ATVI['Close']\n",
    "CTSH = CTSH['Close']\n",
    "EBAY = EBAY['Close']\n",
    "\n"
   ]
  },
  {
   "cell_type": "code",
   "execution_count": 272,
   "metadata": {},
   "outputs": [
    {
     "data": {
      "image/png": "[encoded data removed]",
      "text/plain": [
       "<Figure size 1152x1008 with 1 Axes>"
      ]
     },
     "metadata": {
      "needs_background": "light"
     },
     "output_type": "display_data"
    }
   ],
   "source": [
    "plt.figure(figsize=(16,14))\n",
    "plt.plot(GOOG, color='blue', label='GOOG')\n",
    "plt.plot(GOOGL, color='orange', label='GOOGL')\n",
    "plt.plot(MELI, color='green', label='MELI')\n",
    "plt.plot(TTD, color='red', label='TTD')\n",
    "plt.plot(NFLX, color='purple', label='NFLX')\n",
    "plt.plot(ADBE, color='broWn', label='ADBE')\n",
    "plt.plot(INTU, color='pink', label='INTU')\n",
    "plt.plot(ZM, color='gray', label='ZM')\n",
    "plt.plot(FB, color='olive', label='FB')\n",
    "plt.plot(ADSK, color='cyan', label='ADSK')\n",
    "plt.plot(WDAY, color='aqua', label='WDAY')\n",
    "plt.plot(SNPS, color='azure', label='SNPS')\n",
    "#plt.plot(PYPL, color='beige', label='PYPL')\n",
    "#plt.plot(MSFT, color='chartreuse', label='MSFT')\n",
    "#plt.plot(BIDU, color='coral', label='BIDU')\n",
    "#plt.plot(TEAM, color='crimson', label='TEAM')\n",
    "#plt.plot(DOCU, color='fuchsia', label='DOCU')\n",
    "#plt.plot(ADP, color='gold', label='ADP')\n",
    "#plt.plot(ABNB, color='indigo', label='ABNB')\n",
    "plt.xlabel('Year')\n",
    "plt.ylabel('Close Stock')\n",
    "plt.legend(loc=2)\n",
    "plt.show()"
   ]
  },
  {
   "cell_type": "code",
   "execution_count": 24,
   "metadata": {},
   "outputs": [],
   "source": [
    "### NASDQA TOP 100 Inderstry 정보"
   ]
  },
  {
   "cell_type": "code",
   "execution_count": 27,
   "metadata": {},
   "outputs": [
    {
     "data": {
      "text/html": [
       "<div>\n",
       "<style scoped>\n",
       "    .dataframe tbody tr th:only-of-type {\n",
       "        vertical-align: middle;\n",
       "    }\n",
       "\n",
       "    .dataframe tbody tr th {\n",
       "        vertical-align: top;\n",
       "    }\n",
       "\n",
       "    .dataframe thead th {\n",
       "        text-align: right;\n",
       "    }\n",
       "</style>\n",
       "<table border=\"1\" class=\"dataframe\">\n",
       "  <thead>\n",
       "    <tr style=\"text-align: right;\">\n",
       "      <th></th>\n",
       "      <th>Industry</th>\n",
       "      <th>IndustryCode</th>\n",
       "    </tr>\n",
       "  </thead>\n",
       "  <tbody>\n",
       "    <tr>\n",
       "      <th>0</th>\n",
       "      <td>건설 장비 및대형차, 기차, 배</td>\n",
       "      <td>521020</td>\n",
       "    </tr>\n",
       "    <tr>\n",
       "      <th>1</th>\n",
       "      <td>다양한 소매업</td>\n",
       "      <td>533010</td>\n",
       "    </tr>\n",
       "    <tr>\n",
       "      <th>2</th>\n",
       "      <td>레저 상품</td>\n",
       "      <td>532050</td>\n",
       "    </tr>\n",
       "    <tr>\n",
       "      <th>3</th>\n",
       "      <td>미디어 및 출판</td>\n",
       "      <td>533020</td>\n",
       "    </tr>\n",
       "    <tr>\n",
       "      <th>4</th>\n",
       "      <td>반도체 및 반도체 장비</td>\n",
       "      <td>571010</td>\n",
       "    </tr>\n",
       "    <tr>\n",
       "      <th>5</th>\n",
       "      <td>생명과학 및 메디컬 리서치</td>\n",
       "      <td>562020</td>\n",
       "    </tr>\n",
       "    <tr>\n",
       "      <th>6</th>\n",
       "      <td>섬유 및 의류</td>\n",
       "      <td>532020</td>\n",
       "    </tr>\n",
       "    <tr>\n",
       "      <th>7</th>\n",
       "      <td>소프트웨어 및 IT 서비스</td>\n",
       "      <td>572010</td>\n",
       "    </tr>\n",
       "    <tr>\n",
       "      <th>8</th>\n",
       "      <td>식품 및 담배</td>\n",
       "      <td>541020</td>\n",
       "    </tr>\n",
       "    <tr>\n",
       "      <th>9</th>\n",
       "      <td>식품 및 약품소매</td>\n",
       "      <td>543010</td>\n",
       "    </tr>\n",
       "    <tr>\n",
       "      <th>10</th>\n",
       "      <td>은행</td>\n",
       "      <td>551010</td>\n",
       "    </tr>\n",
       "    <tr>\n",
       "      <th>11</th>\n",
       "      <td>음료</td>\n",
       "      <td>541010</td>\n",
       "    </tr>\n",
       "    <tr>\n",
       "      <th>12</th>\n",
       "      <td>자동차 및 자동차 부품</td>\n",
       "      <td>531010</td>\n",
       "    </tr>\n",
       "    <tr>\n",
       "      <th>13</th>\n",
       "      <td>전기 유틸리티</td>\n",
       "      <td>591010</td>\n",
       "    </tr>\n",
       "    <tr>\n",
       "      <th>14</th>\n",
       "      <td>전문 및 상업 서비스</td>\n",
       "      <td>522030</td>\n",
       "    </tr>\n",
       "    <tr>\n",
       "      <th>15</th>\n",
       "      <td>전문품 상점</td>\n",
       "      <td>534030</td>\n",
       "    </tr>\n",
       "    <tr>\n",
       "      <th>16</th>\n",
       "      <td>제약</td>\n",
       "      <td>562010</td>\n",
       "    </tr>\n",
       "    <tr>\n",
       "      <th>17</th>\n",
       "      <td>주택 및 상업용 리츠</td>\n",
       "      <td>601020</td>\n",
       "    </tr>\n",
       "    <tr>\n",
       "      <th>18</th>\n",
       "      <td>커뮤니케이션 및 네트워킹</td>\n",
       "      <td>571020</td>\n",
       "    </tr>\n",
       "    <tr>\n",
       "      <th>19</th>\n",
       "      <td>컴퓨터, 전화 및 가전제품</td>\n",
       "      <td>571060</td>\n",
       "    </tr>\n",
       "    <tr>\n",
       "      <th>20</th>\n",
       "      <td>통신 서비스</td>\n",
       "      <td>574010</td>\n",
       "    </tr>\n",
       "    <tr>\n",
       "      <th>21</th>\n",
       "      <td>투자은행 및 서비스</td>\n",
       "      <td>551020</td>\n",
       "    </tr>\n",
       "    <tr>\n",
       "      <th>22</th>\n",
       "      <td>헬스케어 장비 및 용품</td>\n",
       "      <td>561010</td>\n",
       "    </tr>\n",
       "    <tr>\n",
       "      <th>23</th>\n",
       "      <td>호텔 및 엔터테인먼트</td>\n",
       "      <td>533010</td>\n",
       "    </tr>\n",
       "    <tr>\n",
       "      <th>24</th>\n",
       "      <td>화물 및 물류 서비스</td>\n",
       "      <td>524050</td>\n",
       "    </tr>\n",
       "  </tbody>\n",
       "</table>\n",
       "</div>"
      ],
      "text/plain": [
       "             Industry  IndustryCode\n",
       "0   건설 장비 및대형차, 기차, 배        521020\n",
       "1             다양한 소매업        533010\n",
       "2               레저 상품        532050\n",
       "3            미디어 및 출판        533020\n",
       "4        반도체 및 반도체 장비        571010\n",
       "5      생명과학 및 메디컬 리서치        562020\n",
       "6             섬유 및 의류        532020\n",
       "7      소프트웨어 및 IT 서비스        572010\n",
       "8             식품 및 담배        541020\n",
       "9           식품 및 약품소매        543010\n",
       "10                 은행        551010\n",
       "11                 음료        541010\n",
       "12       자동차 및 자동차 부품        531010\n",
       "13            전기 유틸리티        591010\n",
       "14        전문 및 상업 서비스        522030\n",
       "15             전문품 상점        534030\n",
       "16                 제약        562010\n",
       "17        주택 및 상업용 리츠        601020\n",
       "18      커뮤니케이션 및 네트워킹        571020\n",
       "19     컴퓨터, 전화 및 가전제품        571060\n",
       "20             통신 서비스        574010\n",
       "21         투자은행 및 서비스        551020\n",
       "22       헬스케어 장비 및 용품        561010\n",
       "23        호텔 및 엔터테인먼트        533010\n",
       "24        화물 및 물류 서비스        524050"
      ]
     },
     "execution_count": 27,
     "metadata": {},
     "output_type": "execute_result"
    }
   ],
   "source": [
    "pd.read_csv(\"./edg/chdatas/SYMB_Industry.csv\")\n"
   ]
  },
  {
   "cell_type": "code",
   "execution_count": 222,
   "metadata": {},
   "outputs": [],
   "source": [
    "# 반도체 및 반도체 장비\n",
    "ASML = fdr.DataReader('ASML', '2000-01-01','2021-03-31')\n",
    "LRCX = fdr.DataReader('LRCX', '2000-01-01','2021-03-31')\n",
    "NVDA = fdr.DataReader('NVDA', '2000-01-01','2021-03-31')\n",
    "AVGO = fdr.DataReader('AVGO', '2000-01-01','2021-03-31')\n",
    "KLAC = fdr.DataReader('KLAC', '2000-01-01','2021-03-31')\n",
    "NXPI = fdr.DataReader('NXPI', '2000-01-01','2021-03-31')\n",
    "TXN = fdr.DataReader('TXN', '2000-01-01','2021-03-31')\n",
    "#ADI = fdr.DataReader('AID', '2000-01-01','2021-03-31')\n",
    "MCHP = fdr.DataReader('MCHP', '2000-01-01','2021-03-31')\n",
    "QCOM = fdr.DataReader('QCOM', '2000-01-01','2021-03-31')\n",
    "AMAT = fdr.DataReader('AMAT', '2000-01-01','2021-03-31')\n",
    "#XLNX = fdr.DataReader('XLNL', '2000-01-01','2021-03-31')\n",
    "MU = fdr.DataReader('MU', '2000-01-01','2021-03-31')\n",
    "AMD = fdr.DataReader('AMD', '2000-01-01','2021-03-31')\n",
    "INTC = fdr.DataReader('INTC', '2000-01-01','2021-03-31')\n",
    "MRVL = fdr.DataReader('MRVL', '2000-01-01','2021-03-31')"
   ]
  },
  {
   "cell_type": "code",
   "execution_count": null,
   "metadata": {},
   "outputs": [],
   "source": []
  },
  {
   "cell_type": "code",
   "execution_count": 190,
   "metadata": {},
   "outputs": [
    {
     "data": {
      "text/plain": [
       "<AxesSubplot:xlabel='Date'>"
      ]
     },
     "execution_count": 190,
     "metadata": {},
     "output_type": "execute_result"
    },
    {
     "data": {
      "image/png": "[encoded data removed]",
      "text/plain": [
       "<Figure size 1008x288 with 1 Axes>"
      ]
     },
     "metadata": {
      "needs_background": "light"
     },
     "output_type": "display_data"
    }
   ],
   "source": [
    "MSFT.plot()"
   ]
  },
  {
   "cell_type": "code",
   "execution_count": 131,
   "metadata": {},
   "outputs": [],
   "source": [
    "# CLOSE주가 상중하 2샘플\n",
    "a_AAPL = AAPL['Close']\n",
    "a_MSFT = MSFT['Close']\n",
    "b_AMGN = AMGN['Close']\n",
    "b_ADSK = ADSK['Close']\n",
    "c_ERIC = ERIC['Close']\n",
    "c_VOD = VOD['Close']\n",
    "\n",
    "#소프트웨어 및 IT 서비스\n"
   ]
  },
  {
   "cell_type": "code",
   "execution_count": 269,
   "metadata": {},
   "outputs": [
    {
     "name": "stderr",
     "output_type": "stream",
     "text": [
      "<ipython-input-269-4da97af125f7>:3: MatplotlibDeprecationWarning:\n",
      "\n",
      "Case-insensitive properties were deprecated in 3.3 and support will be removed two minor releases later\n",
      "\n",
      "<ipython-input-269-4da97af125f7>:4: MatplotlibDeprecationWarning:\n",
      "\n",
      "Case-insensitive properties were deprecated in 3.3 and support will be removed two minor releases later\n",
      "\n",
      "<ipython-input-269-4da97af125f7>:5: MatplotlibDeprecationWarning:\n",
      "\n",
      "Case-insensitive properties were deprecated in 3.3 and support will be removed two minor releases later\n",
      "\n",
      "<ipython-input-269-4da97af125f7>:6: MatplotlibDeprecationWarning:\n",
      "\n",
      "Case-insensitive properties were deprecated in 3.3 and support will be removed two minor releases later\n",
      "\n",
      "<ipython-input-269-4da97af125f7>:7: MatplotlibDeprecationWarning:\n",
      "\n",
      "Case-insensitive properties were deprecated in 3.3 and support will be removed two minor releases later\n",
      "\n",
      "<ipython-input-269-4da97af125f7>:8: MatplotlibDeprecationWarning:\n",
      "\n",
      "Case-insensitive properties were deprecated in 3.3 and support will be removed two minor releases later\n",
      "\n",
      "C:\\Users\\edgar\\anaconda3\\lib\\site-packages\\matplotlib\\backends\\backend_agg.py:238: RuntimeWarning:\n",
      "\n",
      "Glyph 51068 missing from current font.\n",
      "\n",
      "C:\\Users\\edgar\\anaconda3\\lib\\site-packages\\matplotlib\\backends\\backend_agg.py:238: RuntimeWarning:\n",
      "\n",
      "Glyph 51088 missing from current font.\n",
      "\n",
      "C:\\Users\\edgar\\anaconda3\\lib\\site-packages\\matplotlib\\backends\\backend_agg.py:238: RuntimeWarning:\n",
      "\n",
      "Glyph 44592 missing from current font.\n",
      "\n",
      "C:\\Users\\edgar\\anaconda3\\lib\\site-packages\\matplotlib\\backends\\backend_agg.py:238: RuntimeWarning:\n",
      "\n",
      "Glyph 51456 missing from current font.\n",
      "\n",
      "C:\\Users\\edgar\\anaconda3\\lib\\site-packages\\matplotlib\\backends\\backend_agg.py:238: RuntimeWarning:\n",
      "\n",
      "Glyph 51452 missing from current font.\n",
      "\n",
      "C:\\Users\\edgar\\anaconda3\\lib\\site-packages\\matplotlib\\backends\\backend_agg.py:238: RuntimeWarning:\n",
      "\n",
      "Glyph 44032 missing from current font.\n",
      "\n",
      "C:\\Users\\edgar\\anaconda3\\lib\\site-packages\\matplotlib\\backends\\backend_agg.py:201: RuntimeWarning:\n",
      "\n",
      "Glyph 51068 missing from current font.\n",
      "\n",
      "C:\\Users\\edgar\\anaconda3\\lib\\site-packages\\matplotlib\\backends\\backend_agg.py:201: RuntimeWarning:\n",
      "\n",
      "Glyph 51088 missing from current font.\n",
      "\n",
      "C:\\Users\\edgar\\anaconda3\\lib\\site-packages\\matplotlib\\backends\\backend_agg.py:201: RuntimeWarning:\n",
      "\n",
      "Glyph 44592 missing from current font.\n",
      "\n",
      "C:\\Users\\edgar\\anaconda3\\lib\\site-packages\\matplotlib\\backends\\backend_agg.py:201: RuntimeWarning:\n",
      "\n",
      "Glyph 51456 missing from current font.\n",
      "\n",
      "C:\\Users\\edgar\\anaconda3\\lib\\site-packages\\matplotlib\\backends\\backend_agg.py:201: RuntimeWarning:\n",
      "\n",
      "Glyph 51452 missing from current font.\n",
      "\n",
      "C:\\Users\\edgar\\anaconda3\\lib\\site-packages\\matplotlib\\backends\\backend_agg.py:201: RuntimeWarning:\n",
      "\n",
      "Glyph 44032 missing from current font.\n",
      "\n"
     ]
    },
    {
     "data": {
      "image/png": "[encoded data removed]",
      "text/plain": [
       "<Figure size 1296x576 with 1 Axes>"
      ]
     },
     "metadata": {
      "needs_background": "light"
     },
     "output_type": "display_data"
    }
   ],
   "source": [
    "# CLOSE주가 상중하 2샘플\n",
    "plt.figure(figsize=(18,8))\n",
    "plt.plot(a_AAPL, Color='red', label='a_AAPL')\n",
    "plt.plot(a_MSFT, Color='gray', label='a_MSFT')\n",
    "plt.plot(b_AMGN, Color='black', label='b_AMGN')\n",
    "plt.plot(b_ADSK, Color='blue', label='b_ADSK')\n",
    "plt.plot(c_ERIC, Color='yellow', label='c_ERIC')\n",
    "plt.plot(c_VOD, Color='pink', label='c_VOD')\n",
    "\n",
    "plt.legend(loc=2)\n",
    "plt.show()"
   ]
  },
  {
   "cell_type": "code",
   "execution_count": null,
   "metadata": {},
   "outputs": [],
   "source": [
    "nas_list = nas[\"Symbol\"][:3]\n",
    "todaylist=[]\n",
    "cnt=0\n",
    "for i in nas_list:\n",
    "    data = fdr.DataReader('{}'.format(i),'2021-03-25','2021-03-31').reset_index().to_dict(\"records\")[0]\n",
    "    data[\"ticker\"] = i\n",
    "    todaylist.append(data)\n",
    "    cnt+=1\n",
    "    print(cnt,\":\",i,\" \", todaylist)\n",
    "result = pd.DataFrame(todaylist)\n",
    "result"
   ]
  },
  {
   "cell_type": "code",
   "execution_count": null,
   "metadata": {},
   "outputs": [],
   "source": [
    "nas_list = nas[\"Symbol\"][:1]\n",
    "todaylist=[]\n",
    "cnt=0\n",
    "for i in nas_list:\n",
    "    x= fdr.DataReader('{}'.format(i),'2020-03-25','2021-03-31')\n",
    "    todaylist.append(x)\n",
    "todaylist"
   ]
  },
  {
   "cell_type": "code",
   "execution_count": null,
   "metadata": {},
   "outputs": [],
   "source": []
  },
  {
   "cell_type": "code",
   "execution_count": null,
   "metadata": {},
   "outputs": [],
   "source": [
    "##WAR DATA\n"
   ]
  }
 ],
 "metadata": {
  "kernelspec": {
   "display_name": "Python 3",
   "language": "python",
   "name": "python3"
  },
  "language_info": {
   "codemirror_mode": {
    "name": "ipython",
    "version": 3
   },
   "file_extension": ".py",
   "mimetype": "text/x-python",
   "name": "python",
   "nbconvert_exporter": "python",
   "pygments_lexer": "ipython3",
   "version": "3.7.10"
  }
 },
 "nbformat": 4,
 "nbformat_minor": 4
}
